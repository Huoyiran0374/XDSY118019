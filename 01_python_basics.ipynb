{
 "cells": [
  {
   "cell_type": "markdown",
   "metadata": {},
   "source": [
    "# Python Basics\n",
    "An introduction to Python programming by [Dr. Yi-Xin Liu](http://www.yxliu.group) at Fudan University (lyx@fudan.edu.cn)  \n",
    "This is a part of the course: *Road to Scientific Research: Powerful Computer Applications* (XDSY118019.01)  \n",
    "Lecture date: 2022.09.15, 2022.09.22\n",
    "\n",
    "source: https://github.com/liuyxpp/XDSY118019/blob/main/01_python_basics.ipynb\n",
    "\n",
    "#### Resources\n",
    "- [Python official tutorial](https://docs.python.org/3/tutorial/index.html)\n",
    "- [Tutorials by Dr. Milaan Parmar](https://github.com/milaan9/01_Python_Introduction)\n",
    "- [Learn Python 3 by @jerry-git](https://jerry-git.github.io/learn-python3/)"
   ]
  },
  {
   "cell_type": "markdown",
   "metadata": {},
   "source": [
    "What is the current version of Python in use?"
   ]
  },
  {
   "cell_type": "code",
   "execution_count": 3,
   "metadata": {},
   "outputs": [
    {
     "name": "stdout",
     "output_type": "stream",
     "text": [
      "Python 3.9.12\r\n"
     ]
    }
   ],
   "source": [
    "!python --version"
   ]
  },
  {
   "cell_type": "markdown",
   "metadata": {},
   "source": [
    "---"
   ]
  },
  {
   "cell_type": "markdown",
   "metadata": {},
   "source": [
    "## What is programming?\n",
    "- Let computer do what you want it to do.\n",
    "\n",
    "### Programming languages\n",
    "- A language enables human communicate with computers.\n",
    "\n",
    "- Machine/hardware (low level): Assembly\n",
    "- Compiled languages (high level): C/C++, C#, Objective-C, Rust, Fortran, etc.\n",
    "- Interpreted languages (high level): Python, Julia, Matlab, Mathematica, Ruby, Perl, PHP, Javascript, etc.\n",
    "\n",
    "#### Compiled vs interpreted languages\n",
    "\n",
    "|Compiled | Interperted|\n",
    "|---|---|\n",
    "| Fast | Slow |\n",
    "| Static | Dynamic |\n",
    "| Hard | Easy |\n",
    "| Production | Prototype |\n",
    "| Platform dependent | Platform independent |\n",
    "\n",
    "See [Interpreter_Vs_Compiler.ipynb by Dr. Milaan Parmar](https://github.com/milaan9/01_Python_Introduction/blob/main/Interpreter_Vs_Compiler.ipynb) for a more thorough comparison.\n",
    "\n",
    "**Note:** Julia tries to solve the two language problem. It is an interpreted language but its speed is close to (sometimes faster than) C/C++. "
   ]
  },
  {
   "cell_type": "markdown",
   "metadata": {},
   "source": [
    "## Tips and tricks to learn a programming language\n",
    "- Practice!\n",
    "- Practice!!\n",
    "- Practice!!!\n",
    "- Coding on a problem that is interesting to you, and try to solve any encountered problems. (Yes, you will face a lot! And yes, you will eventually find a solution through Internet if you try really hard!)"
   ]
  },
  {
   "cell_type": "markdown",
   "metadata": {},
   "source": [
    "## How to find helps?\n",
    "- Search engines: google.com > bing.com >> baidu.com\n",
    "- Programming related: [Stack Overflow](https://stackoverflow.com/)\n",
    "- Techical solutions: [StackExchanges](https://www.stackexchanges.com/) for math, physics, latex, etc.\n",
    "- Technical communities：[reddit](https://www.reddit.com/), 知乎\n",
    "- Personal/technical/academic blogs: tutorials, in-depth topics\n",
    "- Official documentations: Python, Matlab, Mathematica\n",
    "- Video: [YouTube](https://www.youtube.com/) - studying materials for all kinds of stuff.\n",
    "- [Wikipedia](https://www.wikipedia.org/)"
   ]
  },
  {
   "cell_type": "markdown",
   "metadata": {},
   "source": [
    "## Essential building blocks of a programming language\n",
    "\n",
    "- Keywords: language reserved names\n",
    "- Literals: `0, 1, 2, 1.0`\n",
    "- Variables: user defined names\n",
    "- Assignment: `=`\n",
    "- Operators: `+,-,*,/,**, ==, >, >=, <, <=`\n",
    "- Choice: `if, else, elif`\n",
    "- Loop: `for`, `while`\n",
    "- Data structures: `[1, 2, 3]`\n",
    "- Function: `def`\n",
    "- Class, method, and OOP: `class`"
   ]
  },
  {
   "cell_type": "markdown",
   "metadata": {},
   "source": [
    "## Why Python?\n",
    "\n",
    "- **Easy to learn.**\n",
    "    - Friendly to programming beginners.\n",
    "    - Syntax is concise and clean.\n",
    "    - Interactive.\n",
    "- **Popularity**\n",
    "    - Huge number of packages: available in nearly every domain.\n",
    "    - Large community: easy to find help.\n",
    "    - More job opportunities.\n",
    "\n",
    "See [001_Python_Programming.ipynb by Dr. Milaan Parmar](https://github.com/milaan9/01_Python_Introduction/blob/main/001_Python_Programming.ipynb) for a more thorough list of reasoning."
   ]
  },
  {
   "cell_type": "markdown",
   "metadata": {},
   "source": [
    "## How to use Jupyter notebooks\n",
    "- **Command Mode vs. Edit Mode**\n",
    "    - <span class='label label-default'>Enter</span>: Command to Edit\n",
    "    - <span class='label label-default'>Esc</span>: Edit to Command \n",
    "\n",
    "- **Code Cell vs. Markdown Cell**\n",
    "    - <span class='label label-default'>Y</span>: Markdown to Code\n",
    "    - <span class='label label-default'>M</span>: Code to Markdown\n",
    "\n",
    "- Most useful keyboard shortcuts\n",
    "    - <span class='label label-default'>Shift</span> + <span class='label label-default'>Enter</span>: Run cell and select the next cell\n",
    "    - <span class='label label-default'>Ctrl</span> + <span class='label label-default'>Enter</span>: Run cell and select current cell\n",
    "    - <span class='label label-default'>Alt</span> + <span class='label label-default'>Enter</span>: Run cell and create a new cell\n",
    "    - <span class='label label-default'>Ctrl</span> + <span class='label label-default'>S</span>: Save\n",
    "    - <span class='label label-default'>A</span>: new cell **A**bove\n",
    "    - <span class='label label-default'>B</span>: new cell **B**elow\n",
    "    - <span class='label label-default'>C</span>: **C**opy a cell\n",
    "    - <span class='label label-default'>V</span>: Paste a copied cell\n",
    "    - <span class='label label-default'>D</span> <span class='label label-default'>D</span>: **D**elete current cell\n",
    "\n",
    "See [003_Jupyter_Keyboard_Shortcuts_Practice.ipynb by Dr. Milaan Parmar](https://github.com/milaan9/01_Python_Introduction/blob/main/003_Jupyter_Keyboard_Shortcuts_Practice.ipynb) for more details."
   ]
  },
  {
   "cell_type": "markdown",
   "metadata": {},
   "source": [
    "---"
   ]
  },
  {
   "cell_type": "markdown",
   "metadata": {},
   "source": [
    "## Alright, enough talking. Let's Go Coding!"
   ]
  },
  {
   "cell_type": "markdown",
   "metadata": {},
   "source": [
    "Let's see a concrete example. Note that most of building blocks of a programming language are involved in the following codes. Can you figure out what is it doing?"
   ]
  },
  {
   "cell_type": "code",
   "execution_count": 33,
   "metadata": {},
   "outputs": [
    {
     "name": "stdout",
     "output_type": "stream",
     "text": [
      "2550\n"
     ]
    },
    {
     "data": {
      "text/plain": [
       "True"
      ]
     },
     "execution_count": 33,
     "metadata": {},
     "output_type": "execute_result"
    }
   ],
   "source": [
    "def iseven(n):\n",
    "    if n % 2 == 0:\n",
    "        return True\n",
    "    else:\n",
    "        return False\n",
    "    \n",
    "n = 100\n",
    "mysum = 0\n",
    "\n",
    "for i in range(1, n+1):\n",
    "    if iseven(i):\n",
    "        mysum += i\n",
    "\n",
    "print(mysum)\n",
    "\n",
    "mylist = range(2, n+1, 2)\n",
    "\n",
    "sum(mylist) == mysum"
   ]
  },
  {
   "cell_type": "markdown",
   "metadata": {},
   "source": [
    "Finding helps about language usage inside the Jupyter notebook is easy. Just type the keyword/name you want to know followed or preceded with a question mark, and hit <span class='label label-default'>Enter</span>, like:"
   ]
  },
  {
   "cell_type": "code",
   "execution_count": 4,
   "metadata": {},
   "outputs": [],
   "source": [
    "range?"
   ]
  },
  {
   "cell_type": "code",
   "execution_count": 45,
   "metadata": {},
   "outputs": [],
   "source": [
    "mylist?"
   ]
  },
  {
   "cell_type": "markdown",
   "metadata": {},
   "source": [
    "## Keywords\n",
    "Keywords are the reserved words in Python. They are used to define the syntax and structure of the Python language. All keywords can be listed by running"
   ]
  },
  {
   "cell_type": "code",
   "execution_count": 6,
   "metadata": {},
   "outputs": [
    {
     "name": "stdout",
     "output_type": "stream",
     "text": [
      "\n",
      "Here is a list of the Python keywords.  Enter any keyword to get more help.\n",
      "\n",
      "False               break               for                 not\n",
      "None                class               from                or\n",
      "True                continue            global              pass\n",
      "__peg_parser__      def                 if                  raise\n",
      "and                 del                 import              return\n",
      "as                  elif                in                  try\n",
      "assert              else                is                  while\n",
      "async               except              lambda              with\n",
      "await               finally             nonlocal            yield\n",
      "\n"
     ]
    }
   ],
   "source": [
    "help(\"keywords\")"
   ]
  },
  {
   "cell_type": "markdown",
   "metadata": {},
   "source": [
    "Most of the keywords will be introduced later in this course."
   ]
  },
  {
   "cell_type": "markdown",
   "metadata": {},
   "source": [
    "## Literals\n",
    "\n",
    "### Numeric\n",
    "- **`Integer`**: `1, 2, 100`"
   ]
  },
  {
   "cell_type": "code",
   "execution_count": 7,
   "metadata": {},
   "outputs": [
    {
     "data": {
      "text/plain": [
       "(1, 2, 100, 0, -20)"
      ]
     },
     "execution_count": 7,
     "metadata": {},
     "output_type": "execute_result"
    }
   ],
   "source": [
    "1, 2, 100, 0, -20"
   ]
  },
  {
   "cell_type": "code",
   "execution_count": 14,
   "metadata": {},
   "outputs": [
    {
     "data": {
      "text/plain": [
       "int"
      ]
     },
     "execution_count": 14,
     "metadata": {},
     "output_type": "execute_result"
    }
   ],
   "source": [
    "type(42)"
   ]
  },
  {
   "cell_type": "markdown",
   "metadata": {},
   "source": [
    "- **`Float`**: `1.0, 4.2, 1.2e-6`"
   ]
  },
  {
   "cell_type": "code",
   "execution_count": 5,
   "metadata": {},
   "outputs": [
    {
     "data": {
      "text/plain": [
       "(1.0, 4.2, 1.2e-06)"
      ]
     },
     "execution_count": 5,
     "metadata": {},
     "output_type": "execute_result"
    }
   ],
   "source": [
    "1.0, 4.2, 1.2e-6"
   ]
  },
  {
   "cell_type": "code",
   "execution_count": 15,
   "metadata": {},
   "outputs": [
    {
     "data": {
      "text/plain": [
       "float"
      ]
     },
     "execution_count": 15,
     "metadata": {},
     "output_type": "execute_result"
    }
   ],
   "source": [
    "type(4.2)"
   ]
  },
  {
   "cell_type": "markdown",
   "metadata": {},
   "source": [
    "- **`Complex`**: `1j, 2+3j, 4.1-2.2j` "
   ]
  },
  {
   "cell_type": "code",
   "execution_count": 6,
   "metadata": {},
   "outputs": [
    {
     "data": {
      "text/plain": [
       "(1j, (2+3j), (4.1-2.2j))"
      ]
     },
     "execution_count": 6,
     "metadata": {},
     "output_type": "execute_result"
    }
   ],
   "source": [
    "1j, 2+3j, 4.1-2.2j"
   ]
  },
  {
   "cell_type": "code",
   "execution_count": 16,
   "metadata": {},
   "outputs": [
    {
     "data": {
      "text/plain": [
       "complex"
      ]
     },
     "execution_count": 16,
     "metadata": {},
     "output_type": "execute_result"
    }
   ],
   "source": [
    "type(4.2+2.4j)"
   ]
  },
  {
   "cell_type": "markdown",
   "metadata": {},
   "source": [
    "### Strings\n",
    "A string literal is a sequence of characters surrounded by quotes. We can use both single, double or triple quotes for a string. And, a character literal is a single character surrounded by single or double quotes."
   ]
  },
  {
   "cell_type": "code",
   "execution_count": 9,
   "metadata": {},
   "outputs": [
    {
     "data": {
      "text/plain": [
       "('Hello World!', 'A', 'A long sentence.', 'Life is beautiful!')"
      ]
     },
     "execution_count": 9,
     "metadata": {},
     "output_type": "execute_result"
    }
   ],
   "source": [
    "\"Hello World!\", 'A', \"\"\"A long sentence.\"\"\", '''Life is beautiful!'''"
   ]
  },
  {
   "cell_type": "markdown",
   "metadata": {},
   "source": [
    "### Boolean\n",
    "There are only two boolean literals: `True` and `Flase`. They are also keywords."
   ]
  },
  {
   "cell_type": "code",
   "execution_count": 10,
   "metadata": {},
   "outputs": [
    {
     "data": {
      "text/plain": [
       "(True, False)"
      ]
     },
     "execution_count": 10,
     "metadata": {},
     "output_type": "execute_result"
    }
   ],
   "source": [
    "True, False  # Note the syntax highlighting of keywords"
   ]
  },
  {
   "cell_type": "markdown",
   "metadata": {},
   "source": [
    "Boolean literals can be implicitly converted to `int` values where `True` is `1` and `False` is `0`."
   ]
  },
  {
   "cell_type": "code",
   "execution_count": 8,
   "metadata": {},
   "outputs": [
    {
     "data": {
      "text/plain": [
       "2"
      ]
     },
     "execution_count": 8,
     "metadata": {},
     "output_type": "execute_result"
    }
   ],
   "source": [
    "True + 1"
   ]
  },
  {
   "cell_type": "code",
   "execution_count": 9,
   "metadata": {},
   "outputs": [
    {
     "data": {
      "text/plain": [
       "0"
      ]
     },
     "execution_count": 9,
     "metadata": {},
     "output_type": "execute_result"
    }
   ],
   "source": [
    "False * 100"
   ]
  },
  {
   "cell_type": "markdown",
   "metadata": {},
   "source": [
    "### `None`\n",
    "Python keyword `None` is also a literal, which specifies a field that is not yet created."
   ]
  },
  {
   "cell_type": "code",
   "execution_count": 13,
   "metadata": {},
   "outputs": [
    {
     "data": {
      "text/plain": [
       "NoneType"
      ]
     },
     "execution_count": 13,
     "metadata": {},
     "output_type": "execute_result"
    }
   ],
   "source": [
    "type(None)"
   ]
  },
  {
   "cell_type": "markdown",
   "metadata": {},
   "source": [
    "## Variables\n",
    "\n",
    "A variable is a named location used to **store data in the memory**. Variable also known as **identifier** and used to hold value. It is helpful to think of variables as a container that holds data that can be changed later in the program. For example,"
   ]
  },
  {
   "cell_type": "code",
   "execution_count": 11,
   "metadata": {},
   "outputs": [],
   "source": [
    "color = \"red\""
   ]
  },
  {
   "cell_type": "code",
   "execution_count": 12,
   "metadata": {},
   "outputs": [
    {
     "data": {
      "text/plain": [
       "'red'"
      ]
     },
     "execution_count": 12,
     "metadata": {},
     "output_type": "execute_result"
    }
   ],
   "source": [
    "color"
   ]
  },
  {
   "cell_type": "markdown",
   "metadata": {},
   "source": [
    "Here `color` is a variable whose value is \"red\" (a string). We can change its value to any valid literals, such as"
   ]
  },
  {
   "cell_type": "code",
   "execution_count": 15,
   "metadata": {},
   "outputs": [
    {
     "data": {
      "text/plain": [
       "1"
      ]
     },
     "execution_count": 15,
     "metadata": {},
     "output_type": "execute_result"
    }
   ],
   "source": [
    "color = 1\n",
    "color"
   ]
  },
  {
   "cell_type": "markdown",
   "metadata": {},
   "source": [
    "### Assignment\n",
    "The equal sign `=` in Python (and many other programming languages) has a very different meaning to that used in Math. You can simply think of its meaning as putting (associating) the object in its left hand side to the variable appearing in its right hand side. Thus `=` has another name: the assignment operator. Binding a value to a variable is called assignment. We assign a value to a variable."
   ]
  },
  {
   "cell_type": "markdown",
   "metadata": {},
   "source": [
    "### Python variable name rules\n",
    "\n",
    "- A variable name must start with a **letter** **`A`**-**`z`** or the **underscore** **`_`** character\n",
    "- A variable name cannot start with a **number** **`0`**-**`9`**\n",
    "- A variable name can only contain alpha-numeric characters and underscores (**`A`**-**`z`**, **`0`**-**`9`**, and **`_`** )\n",
    "- Variable names are case-sensitive: **`firstname`**, **`Firstname`**, **`FirstName`** and **`FIRSTNAME`** are different variables."
   ]
  },
  {
   "cell_type": "markdown",
   "metadata": {},
   "source": [
    "### Python variable name conventions\n",
    "- **Meaningful**: reflect usage rather than implementation.\n",
    "- **lowercase letters**\n",
    "- **Snake case style**: use underscore character after each word for a variable containing more than one word (eg. **`first_name`**, **`last_name`**, **`engine_rotation_speed`**). However, underscore can be ommited when readability is not reduced, such as `mysum` is better than `my_sum`, while `engine_rotation_speed` is better than `enginerotationspeed`.\n",
    "- **Names to avoid**: Never use the characters ‘l’ (lowercase letter el), ‘O’ (uppercase letter oh), or ‘I’ (uppercase letter eye) as single character variable names.\n",
    "- **Constants**: a variable whose value never changes is called a constant, which should be named use uppercase letters, e.g. `PI`, `AVOGADRO_NUMBER`, `LIGHT_SPEED`.\n",
    "- **`_single_leading_underscore`**: weak “internal use” indicator.\n",
    "- **`single_trailing_underscore_`**: used by convention to avoid conflicts with Python keyword, e.g. `if_`.\n",
    "- **`__double_leading_underscore`**: when naming a class attribute, invokes name mangling.\n",
    "- **`__double_leading_and_trailing_underscore__`**: “magic” objects or attributes that live in user-controlled namespaces. E.g. `__init__`, `__import__` or `__file__`. Never invent such names; only use them as documented.\n",
    "\n",
    "Consult [PEP 8](https://peps.python.org/pep-0008/) for a more detailed guide."
   ]
  },
  {
   "cell_type": "markdown",
   "metadata": {},
   "source": [
    "### PEP 8 - Style Guide for Python Code\n",
    "We have to write codes with a consistent style to maximize its readability and maintainability. Fortunately, in Python, we have an official style guide [PEP 8](https://peps.python.org/pep-0008/) to follow which is developed by the language creator Guido van Rossum. As stated in PEP 8:\n",
    "\n",
    "> One of Guido’s key insights is that code is read much more often than it is written. The guidelines provided here are intended to improve the readability of code and make it consistent across the wide spectrum of Python code. As PEP 20 says, “Readability counts”.\n",
    ">\n",
    "> A style guide is about consistency. Consistency with this style guide is important. Consistency within a project is more important. Consistency within one module or function is the most important.\n",
    "\n",
    "It covers:\n",
    "- Code layout\n",
    "- String quotes\n",
    "- Whitespace in Expressions and Statements\n",
    "- When to Use Trailing Commas\n",
    "- Comments\n",
    "- **Naming Conventions**\n",
    "- Programming Recommendations\n",
    "\n",
    "When in doubt, always go to [PEP 8](https://peps.python.org/pep-0008/) for some enlightenments."
   ]
  },
  {
   "cell_type": "markdown",
   "metadata": {},
   "source": [
    "### Variable type\n",
    "\n",
    "Every variable has a type which defines what kinds of data it holds. For compiled languages, the type should be **explicitly** specified when defining a variable. In Python, however, we are free to define a variable without giving any type information. Python is a **type infer language** and smart enough to get variable type. We can use `type` function to get the type information, such as"
   ]
  },
  {
   "cell_type": "code",
   "execution_count": 48,
   "metadata": {},
   "outputs": [
    {
     "data": {
      "text/plain": [
       "int"
      ]
     },
     "execution_count": 48,
     "metadata": {},
     "output_type": "execute_result"
    }
   ],
   "source": [
    "type(color)"
   ]
  },
  {
   "cell_type": "markdown",
   "metadata": {},
   "source": [
    "In Jupyter notebook, the value of color can be displayed by just type its name in the cell and run the cell:"
   ]
  },
  {
   "cell_type": "code",
   "execution_count": 49,
   "metadata": {},
   "outputs": [
    {
     "data": {
      "text/plain": [
       "1"
      ]
     },
     "execution_count": 49,
     "metadata": {},
     "output_type": "execute_result"
    }
   ],
   "source": [
    "color"
   ]
  },
  {
   "cell_type": "markdown",
   "metadata": {},
   "source": [
    "## Operators\n",
    "\n",
    "Operators are special symbols in Python that carry out arithmetic, logical, or other computations. The value that the operator operates on is called the operand."
   ]
  },
  {
   "cell_type": "markdown",
   "metadata": {},
   "source": [
    "### Arithmetic operators\n",
    "Arithmetic operators: `+, -, *, /, **, %, //`."
   ]
  },
  {
   "cell_type": "code",
   "execution_count": 17,
   "metadata": {},
   "outputs": [
    {
     "data": {
      "text/plain": [
       "16"
      ]
     },
     "execution_count": 17,
     "metadata": {},
     "output_type": "execute_result"
    }
   ],
   "source": [
    "2**4  # exponentiation"
   ]
  },
  {
   "cell_type": "code",
   "execution_count": 18,
   "metadata": {},
   "outputs": [
    {
     "data": {
      "text/plain": [
       "1"
      ]
     },
     "execution_count": 18,
     "metadata": {},
     "output_type": "execute_result"
    }
   ],
   "source": [
    "15 % 7  # modulus"
   ]
  },
  {
   "cell_type": "code",
   "execution_count": 19,
   "metadata": {},
   "outputs": [
    {
     "data": {
      "text/plain": [
       "2"
      ]
     },
     "execution_count": 19,
     "metadata": {},
     "output_type": "execute_result"
    }
   ],
   "source": [
    "13 // 5  # floor division"
   ]
  },
  {
   "cell_type": "markdown",
   "metadata": {},
   "source": [
    "### Comparison/relational operators\n",
    "\n",
    "Comparison operators: `>, >=, <, <=, ==, !=`."
   ]
  },
  {
   "cell_type": "code",
   "execution_count": 20,
   "metadata": {},
   "outputs": [
    {
     "data": {
      "text/plain": [
       "True"
      ]
     },
     "execution_count": 20,
     "metadata": {},
     "output_type": "execute_result"
    }
   ],
   "source": [
    "3 == 3"
   ]
  },
  {
   "cell_type": "code",
   "execution_count": 21,
   "metadata": {},
   "outputs": [
    {
     "data": {
      "text/plain": [
       "True"
      ]
     },
     "execution_count": 21,
     "metadata": {},
     "output_type": "execute_result"
    }
   ],
   "source": [
    "42 != 24"
   ]
  },
  {
   "cell_type": "markdown",
   "metadata": {},
   "source": [
    "### Logical/boolean operators\n",
    "\n",
    "Logical operators: `and, or, not`. They are all Python keywords."
   ]
  },
  {
   "cell_type": "code",
   "execution_count": 22,
   "metadata": {},
   "outputs": [
    {
     "data": {
      "text/plain": [
       "True"
      ]
     },
     "execution_count": 22,
     "metadata": {},
     "output_type": "execute_result"
    }
   ],
   "source": [
    "(42 > -42) and (42 < 100)"
   ]
  },
  {
   "cell_type": "code",
   "execution_count": 19,
   "metadata": {},
   "outputs": [
    {
     "data": {
      "text/plain": [
       "False"
      ]
     },
     "execution_count": 19,
     "metadata": {},
     "output_type": "execute_result"
    }
   ],
   "source": [
    "not (42 > -42)"
   ]
  },
  {
   "cell_type": "markdown",
   "metadata": {},
   "source": [
    "### Bitwise operators\n",
    "\n",
    "Bitwise operators: `&, |, ~, ^, >>, <<`. Bitwise operators act on operands as if they were string of binary digits. It operates bit by bit, hence the name.\n",
    "\n",
    "E.g. binary representation right shift 4 bits. It is a very fast way to divide $2^n$ by 2"
   ]
  },
  {
   "cell_type": "code",
   "execution_count": 31,
   "metadata": {},
   "outputs": [
    {
     "data": {
      "text/plain": [
       "16"
      ]
     },
     "execution_count": 31,
     "metadata": {},
     "output_type": "execute_result"
    }
   ],
   "source": [
    "256 >> 4  # "
   ]
  },
  {
   "cell_type": "markdown",
   "metadata": {},
   "source": [
    "### Special operators\n",
    "\n",
    "- Idendity operator: `is`\n",
    "- Membership operator: `in`.\n",
    "\n",
    "They are all Python keywords. They can be combined with the keyword `not`."
   ]
  },
  {
   "cell_type": "code",
   "execution_count": 32,
   "metadata": {},
   "outputs": [
    {
     "data": {
      "text/plain": [
       "True"
      ]
     },
     "execution_count": 32,
     "metadata": {},
     "output_type": "execute_result"
    }
   ],
   "source": [
    "2 in [1, 2, 3]"
   ]
  },
  {
   "cell_type": "code",
   "execution_count": 33,
   "metadata": {},
   "outputs": [
    {
     "data": {
      "text/plain": [
       "True"
      ]
     },
     "execution_count": 33,
     "metadata": {},
     "output_type": "execute_result"
    }
   ],
   "source": [
    "4 not in [1, 2, 3]"
   ]
  },
  {
   "cell_type": "markdown",
   "metadata": {},
   "source": [
    "## Control flow\n",
    "\n",
    "Control flow is the core of a programming language which enables computers do complicated tasks.\n",
    "\n",
    "### Choice\n",
    "\n",
    "Executing a set of statements only if some condition is met. Python supports four types of conditional statements:\n",
    "\n",
    "1. `if`\n",
    "2. `if-else`\n",
    "3. `if-elif-else`\n",
    "4. Nested `if`"
   ]
  },
  {
   "cell_type": "code",
   "execution_count": 21,
   "metadata": {},
   "outputs": [
    {
     "data": {
      "text/plain": [
       "'E'"
      ]
     },
     "execution_count": 21,
     "metadata": {},
     "output_type": "execute_result"
    }
   ],
   "source": [
    "score = -76\n",
    "\n",
    "if score >=90:\n",
    "    grade = \"A\"\n",
    "elif score >= 80:\n",
    "    grade = \"B\"\n",
    "elif score >= 70:\n",
    "    grade = \"C\"\n",
    "elif score >= 60:\n",
    "    grade = \"D\"\n",
    "else:\n",
    "    grade = \"E\"\n",
    "    \n",
    "grade"
   ]
  },
  {
   "cell_type": "markdown",
   "metadata": {},
   "source": [
    "### Loops\n",
    "\n",
    "A loop is a sequence of statements which is specified once but which may be carried out several times in succession. The code \"inside\" the loop is iterated for a specified number of times, or once for each of a collection of items, or until some condition is met, or indefinitely. Python has two types of loops:\n",
    "\n",
    "1. `for` loop\n",
    "2. `while` loop\n",
    "\n",
    "#### `for` loop\n",
    "`for` loop runs a known number of iterations."
   ]
  },
  {
   "cell_type": "code",
   "execution_count": 24,
   "metadata": {},
   "outputs": [
    {
     "name": "stdout",
     "output_type": "stream",
     "text": [
      "1\n",
      "4\n",
      "9\n",
      "Done!\n"
     ]
    }
   ],
   "source": [
    "for i in [1, 2, 3]:\n",
    "    print(i**2)\n",
    "\n",
    "print(\"Done!\")"
   ]
  },
  {
   "cell_type": "markdown",
   "metadata": {},
   "source": [
    "#### `while` loop\n",
    "\n",
    "`while` loop stops running only some condition is met."
   ]
  },
  {
   "cell_type": "code",
   "execution_count": 25,
   "metadata": {},
   "outputs": [
    {
     "name": "stdout",
     "output_type": "stream",
     "text": [
      "1\n",
      "4\n",
      "9\n"
     ]
    }
   ],
   "source": [
    "i = 1\n",
    "while i < 4:\n",
    "    print(i**2)\n",
    "    i += 1  # which is equivalent to `i = i + 1`"
   ]
  },
  {
   "cell_type": "markdown",
   "metadata": {},
   "source": [
    "## Data structures\n",
    "\n",
    "### List\n",
    "List in Python is a collection of data.\n",
    "\n",
    "#### Creating a list"
   ]
  },
  {
   "cell_type": "code",
   "execution_count": 42,
   "metadata": {},
   "outputs": [],
   "source": [
    "squares = [1, 4, 9, 16]"
   ]
  },
  {
   "cell_type": "markdown",
   "metadata": {},
   "source": [
    "#### List comprehension\n",
    "\n",
    "An elegant way to create a list."
   ]
  },
  {
   "cell_type": "code",
   "execution_count": 31,
   "metadata": {},
   "outputs": [
    {
     "data": {
      "text/plain": [
       "[1, 4, 9, 16, 25, 36, 49, 64, 81, 100]"
      ]
     },
     "execution_count": 31,
     "metadata": {},
     "output_type": "execute_result"
    }
   ],
   "source": [
    "k = 10\n",
    "squares = [(i+1)**2 for i in range(k)]\n",
    "squares"
   ]
  },
  {
   "cell_type": "markdown",
   "metadata": {},
   "source": [
    "which is equivalent to:"
   ]
  },
  {
   "cell_type": "code",
   "execution_count": 85,
   "metadata": {},
   "outputs": [
    {
     "data": {
      "text/plain": [
       "[1, 4, 9, 16]"
      ]
     },
     "execution_count": 85,
     "metadata": {},
     "output_type": "execute_result"
    }
   ],
   "source": [
    "squares = []  # create an empty list\n",
    "for i in range(4):\n",
    "    squares.append((i+1)**2)\n",
    "    \n",
    "squares"
   ]
  },
  {
   "cell_type": "markdown",
   "metadata": {},
   "source": [
    "#### Indexing a list\n",
    "\n",
    "In Python, indices start at 0."
   ]
  },
  {
   "cell_type": "code",
   "execution_count": 43,
   "metadata": {},
   "outputs": [
    {
     "data": {
      "text/plain": [
       "(1, 4, 9, 16)"
      ]
     },
     "execution_count": 43,
     "metadata": {},
     "output_type": "execute_result"
    }
   ],
   "source": [
    "squares[0], squares[1], squares[2], squares[3]"
   ]
  },
  {
   "cell_type": "code",
   "execution_count": 44,
   "metadata": {},
   "outputs": [
    {
     "ename": "IndexError",
     "evalue": "list index out of range",
     "output_type": "error",
     "traceback": [
      "\u001b[0;31m---------------------------------------------------------------------------\u001b[0m",
      "\u001b[0;31mIndexError\u001b[0m                                Traceback (most recent call last)",
      "Input \u001b[0;32mIn [44]\u001b[0m, in \u001b[0;36m<cell line: 1>\u001b[0;34m()\u001b[0m\n\u001b[0;32m----> 1\u001b[0m \u001b[43msquares\u001b[49m\u001b[43m[\u001b[49m\u001b[38;5;241;43m4\u001b[39;49m\u001b[43m]\u001b[49m\n",
      "\u001b[0;31mIndexError\u001b[0m: list index out of range"
     ]
    }
   ],
   "source": [
    "squares[4]  # Out-of-bounds error!"
   ]
  },
  {
   "cell_type": "markdown",
   "metadata": {},
   "source": [
    "#### Negative indexing"
   ]
  },
  {
   "cell_type": "code",
   "execution_count": 49,
   "metadata": {},
   "outputs": [
    {
     "data": {
      "text/plain": [
       "(16, 9, 4, 1)"
      ]
     },
     "execution_count": 49,
     "metadata": {},
     "output_type": "execute_result"
    }
   ],
   "source": [
    "squares[-1], squares[-2], squares[-3], squares[-4]"
   ]
  },
  {
   "cell_type": "markdown",
   "metadata": {},
   "source": [
    "#### Slicing"
   ]
  },
  {
   "cell_type": "code",
   "execution_count": 51,
   "metadata": {},
   "outputs": [
    {
     "data": {
      "text/plain": [
       "[4, 9]"
      ]
     },
     "execution_count": 51,
     "metadata": {},
     "output_type": "execute_result"
    }
   ],
   "source": [
    "squares[1:3]  # equivalent to [squares[1], squares[2]]"
   ]
  },
  {
   "cell_type": "code",
   "execution_count": 52,
   "metadata": {},
   "outputs": [
    {
     "data": {
      "text/plain": [
       "([1, 4, 9], [4, 9, 16], [1, 4, 9, 16])"
      ]
     },
     "execution_count": 52,
     "metadata": {},
     "output_type": "execute_result"
    }
   ],
   "source": [
    "squares[:3], squares[1:], squares[:]"
   ]
  },
  {
   "cell_type": "markdown",
   "metadata": {},
   "source": [
    "#### Mutating an element"
   ]
  },
  {
   "cell_type": "code",
   "execution_count": 32,
   "metadata": {},
   "outputs": [
    {
     "data": {
      "text/plain": [
       "['Apple', 4, 9, 16, 25, 36, 49, 64, 81, 100]"
      ]
     },
     "execution_count": 32,
     "metadata": {},
     "output_type": "execute_result"
    }
   ],
   "source": [
    "squares[0] = \"Apple\"\n",
    "squares"
   ]
  },
  {
   "cell_type": "markdown",
   "metadata": {},
   "source": [
    "#### List operations\n",
    "`append`, `extend`, `insert`, `remove`, `pop`, `copy`, `reverse`, `clear`, `sort`, `count`\n",
    "\n",
    "You can learn what each of these operations is doing by experiment. "
   ]
  },
  {
   "cell_type": "code",
   "execution_count": 79,
   "metadata": {},
   "outputs": [
    {
     "data": {
      "text/plain": [
       "[0, 4, 9, 16]"
      ]
     },
     "execution_count": 79,
     "metadata": {},
     "output_type": "execute_result"
    }
   ],
   "source": [
    "squares_copy = squares.copy()\n",
    "squares_copy"
   ]
  },
  {
   "cell_type": "code",
   "execution_count": 80,
   "metadata": {},
   "outputs": [
    {
     "data": {
      "text/plain": [
       "[16, 9, 4, 0]"
      ]
     },
     "execution_count": 80,
     "metadata": {},
     "output_type": "execute_result"
    }
   ],
   "source": [
    "squares_copy.reverse()\n",
    "squares_copy"
   ]
  },
  {
   "cell_type": "markdown",
   "metadata": {},
   "source": [
    "#### Built-in functions for lists\n",
    "\n",
    "`all()`, `any()`, `sorted()`, `min()`, `max()`, `len()`, `cmp()`, `list()`"
   ]
  },
  {
   "cell_type": "code",
   "execution_count": 70,
   "metadata": {},
   "outputs": [
    {
     "data": {
      "text/plain": [
       "(4, 1, 16)"
      ]
     },
     "execution_count": 70,
     "metadata": {},
     "output_type": "execute_result"
    }
   ],
   "source": [
    "len(squares), min(squares), max(squares)"
   ]
  },
  {
   "cell_type": "code",
   "execution_count": 71,
   "metadata": {},
   "outputs": [
    {
     "data": {
      "text/plain": [
       "[1, 2, 3, 4, 5, 6, 7, 8]"
      ]
     },
     "execution_count": 71,
     "metadata": {},
     "output_type": "execute_result"
    }
   ],
   "source": [
    "sorted([3, 7, 1, 4, 8, 6, 5, 2])"
   ]
  },
  {
   "cell_type": "markdown",
   "metadata": {},
   "source": [
    "### Tuple\n",
    "\n",
    "Lists are **mutable**, whose elements can be replaced by other data. Tuple, on the other hand, is **immutable**."
   ]
  },
  {
   "cell_type": "code",
   "execution_count": 77,
   "metadata": {},
   "outputs": [
    {
     "data": {
      "text/plain": [
       "(0, 1, 2, 3)"
      ]
     },
     "execution_count": 77,
     "metadata": {},
     "output_type": "execute_result"
    }
   ],
   "source": [
    "status = (0, 1, 2, 3)\n",
    "status"
   ]
  },
  {
   "cell_type": "code",
   "execution_count": 75,
   "metadata": {},
   "outputs": [
    {
     "ename": "TypeError",
     "evalue": "'tuple' object does not support item assignment",
     "output_type": "error",
     "traceback": [
      "\u001b[0;31m---------------------------------------------------------------------------\u001b[0m",
      "\u001b[0;31mTypeError\u001b[0m                                 Traceback (most recent call last)",
      "Input \u001b[0;32mIn [75]\u001b[0m, in \u001b[0;36m<cell line: 1>\u001b[0;34m()\u001b[0m\n\u001b[0;32m----> 1\u001b[0m status[\u001b[38;5;241m1\u001b[39m] \u001b[38;5;241m=\u001b[39m \u001b[38;5;241m99\u001b[39m\n",
      "\u001b[0;31mTypeError\u001b[0m: 'tuple' object does not support item assignment"
     ]
    }
   ],
   "source": [
    "status[1] = 99 # error!"
   ]
  },
  {
   "cell_type": "markdown",
   "metadata": {},
   "source": [
    "#### Packing"
   ]
  },
  {
   "cell_type": "code",
   "execution_count": 78,
   "metadata": {},
   "outputs": [
    {
     "data": {
      "text/plain": [
       "(0, 1, 2, 3)"
      ]
     },
     "execution_count": 78,
     "metadata": {},
     "output_type": "execute_result"
    }
   ],
   "source": [
    "status = 0, 1, 2, 3\n",
    "status"
   ]
  },
  {
   "cell_type": "markdown",
   "metadata": {},
   "source": [
    "#### Unpacking"
   ]
  },
  {
   "cell_type": "code",
   "execution_count": 86,
   "metadata": {},
   "outputs": [],
   "source": [
    "status0, status1, status2, status3 = status"
   ]
  },
  {
   "cell_type": "code",
   "execution_count": 88,
   "metadata": {},
   "outputs": [
    {
     "data": {
      "text/plain": [
       "0"
      ]
     },
     "execution_count": 88,
     "metadata": {},
     "output_type": "execute_result"
    }
   ],
   "source": [
    "status0"
   ]
  },
  {
   "cell_type": "markdown",
   "metadata": {},
   "source": [
    "### Set\n",
    "\n",
    "A set is an **unordered collection of items**. Every set element is unique (no duplicates) and must be immutable (cannot be changed).\n",
    "\n",
    "However, a **set itself is mutable. We can add or remove items from it**.\n",
    "\n",
    "Sets can also be used to perform mathematical set operations like **union**, **intersection**, **symmetric difference**, etc."
   ]
  },
  {
   "cell_type": "code",
   "execution_count": 90,
   "metadata": {},
   "outputs": [
    {
     "data": {
      "text/plain": [
       "({1, 2, 3, 4}, {3, 4, 5, 6})"
      ]
     },
     "execution_count": 90,
     "metadata": {},
     "output_type": "execute_result"
    }
   ],
   "source": [
    "A = {1, 2, 3, 4, 2, 3}  # Create by `{}`\n",
    "B = set([6, 4, 3, 5, 6, 4])  # create by `set`\n",
    "A, B"
   ]
  },
  {
   "cell_type": "code",
   "execution_count": 91,
   "metadata": {},
   "outputs": [
    {
     "data": {
      "text/plain": [
       "{1, 2, 3, 4, 5, 6}"
      ]
     },
     "execution_count": 91,
     "metadata": {},
     "output_type": "execute_result"
    }
   ],
   "source": [
    "A.union(B)"
   ]
  },
  {
   "cell_type": "code",
   "execution_count": 92,
   "metadata": {},
   "outputs": [
    {
     "data": {
      "text/plain": [
       "{3, 4}"
      ]
     },
     "execution_count": 92,
     "metadata": {},
     "output_type": "execute_result"
    }
   ],
   "source": [
    "A.intersection(B)"
   ]
  },
  {
   "cell_type": "code",
   "execution_count": 93,
   "metadata": {},
   "outputs": [
    {
     "data": {
      "text/plain": [
       "({1, 2}, {5, 6})"
      ]
     },
     "execution_count": 93,
     "metadata": {},
     "output_type": "execute_result"
    }
   ],
   "source": [
    "A - B, B-A"
   ]
  },
  {
   "cell_type": "markdown",
   "metadata": {},
   "source": [
    "### Dictionary\n",
    "\n",
    "Python dictionary is an unordered collection of items. Each item of a dictionary has a **`key/value`** pair."
   ]
  },
  {
   "cell_type": "code",
   "execution_count": 95,
   "metadata": {},
   "outputs": [
    {
     "data": {
      "text/plain": [
       "{'apple': 2.5, 'pear': 3.2, 'banana': 1.5}"
      ]
     },
     "execution_count": 95,
     "metadata": {},
     "output_type": "execute_result"
    }
   ],
   "source": [
    "fruit_price = {\"apple\":2.5, \"pear\":3.2, \"banana\":1.5}\n",
    "fruit_price"
   ]
  },
  {
   "cell_type": "markdown",
   "metadata": {},
   "source": [
    "#### Obtain value"
   ]
  },
  {
   "cell_type": "code",
   "execution_count": 97,
   "metadata": {},
   "outputs": [
    {
     "data": {
      "text/plain": [
       "2.5"
      ]
     },
     "execution_count": 97,
     "metadata": {},
     "output_type": "execute_result"
    }
   ],
   "source": [
    "apple_price = fruit_price[\"apple\"]\n",
    "apple_price"
   ]
  },
  {
   "cell_type": "markdown",
   "metadata": {},
   "source": [
    "#### All keys and values"
   ]
  },
  {
   "cell_type": "code",
   "execution_count": 99,
   "metadata": {},
   "outputs": [
    {
     "data": {
      "text/plain": [
       "(dict_keys(['apple', 'pear', 'banana']),\n",
       " dict_values([2.5, 3.2, 1.5]),\n",
       " dict_items([('apple', 2.5), ('pear', 3.2), ('banana', 1.5)]))"
      ]
     },
     "execution_count": 99,
     "metadata": {},
     "output_type": "execute_result"
    }
   ],
   "source": [
    "fruit_price.keys(), fruit_price.values(), fruit_price.items()"
   ]
  },
  {
   "cell_type": "code",
   "execution_count": 101,
   "metadata": {},
   "outputs": [
    {
     "name": "stdout",
     "output_type": "stream",
     "text": [
      "apple 2.5\n",
      "pear 3.2\n",
      "banana 1.5\n"
     ]
    }
   ],
   "source": [
    "for key in fruit_price.keys():\n",
    "    print(key, fruit_price[key])"
   ]
  },
  {
   "cell_type": "markdown",
   "metadata": {},
   "source": [
    "## Function\n",
    "\n",
    "While control flow enables you write code to solve complicated problems, functions helps you organize your code and make reuse your code easy.\n",
    "\n",
    "**\"Never re-invent the wheel!\"**\n",
    "\n",
    "Functions are the most basic building blocks towards modular programming.\n",
    "\n",
    "Functions should be small and it should only do one thing and do it well. You can think of a function as a block box machine. When you feed it with some inputs (or nothing), it will output a result.\n",
    "\n",
    "\n",
    "### Definition\n",
    "\n",
    "In Python, functions are defined using the keyword `def`. A typical function consists of following parts:\n",
    "\n",
    "1. `def`: tells Python a function is to be defined.\n",
    "2. Function name: naming rules similar to variables. Check PEP 8 for naming conventions.\n",
    "3. Parameters (optional): data/values passed to the function.\n",
    "4. `:` (colon): marks the end of the function header line.\n",
    "5. Function body: a sequence of code perform a specific task. The code should be indented.\n",
    "6. `return` (optional): returns a result to the function caller. When there is no return statement in a function, it simply return with a `None`. A return statement can be simply `return`, which is equivalent to `return None`."
   ]
  },
  {
   "cell_type": "code",
   "execution_count": 2,
   "metadata": {},
   "outputs": [],
   "source": [
    "def add(x, y):  # do not forget :\n",
    "    return x + y  # indentation is mandatory."
   ]
  },
  {
   "cell_type": "markdown",
   "metadata": {},
   "source": [
    "#### Parameters\n",
    "\n",
    "A function can have 0, 1, to many parameters. In python, it has 4 types of parameters:\n",
    "\n",
    "1. Variable: `x`\n",
    "2. Variable with default value: `y=4`\n",
    "3. Unknown number of variables: `*ys`\n",
    "4. Unknown number of key-value pairs: `**kwargs`"
   ]
  },
  {
   "cell_type": "code",
   "execution_count": 10,
   "metadata": {},
   "outputs": [],
   "source": [
    "def add2(x, y=4):\n",
    "    return x + y"
   ]
  },
  {
   "cell_type": "code",
   "execution_count": 12,
   "metadata": {},
   "outputs": [],
   "source": [
    "def add3(x, *ys):\n",
    "    mysum = x\n",
    "    for y in ys:\n",
    "        mysum += y\n",
    "    return mysum"
   ]
  },
  {
   "cell_type": "code",
   "execution_count": 17,
   "metadata": {},
   "outputs": [],
   "source": [
    "def add4(x, y, **kwargs):\n",
    "    if kwargs.get(\"is_array\", False):\n",
    "        return [a + b for a, b in zip(x, y)]\n",
    "    else:\n",
    "        return x + y"
   ]
  },
  {
   "cell_type": "code",
   "execution_count": 18,
   "metadata": {},
   "outputs": [
    {
     "data": {
      "text/plain": [
       "7"
      ]
     },
     "execution_count": 18,
     "metadata": {},
     "output_type": "execute_result"
    }
   ],
   "source": [
    "add4(3, 4)"
   ]
  },
  {
   "cell_type": "code",
   "execution_count": 19,
   "metadata": {},
   "outputs": [
    {
     "data": {
      "text/plain": [
       "[4, 6]"
      ]
     },
     "execution_count": 19,
     "metadata": {},
     "output_type": "execute_result"
    }
   ],
   "source": [
    "add4([1,2], [3,4], is_array=True)"
   ]
  },
  {
   "cell_type": "markdown",
   "metadata": {},
   "source": [
    "#### Global, local and nonlocal variables\n",
    "\n",
    "- **global** variables are defined outside of a function, which can be retrieved by using `global` keyword inside a function.\n",
    "- **local** variables are defined inside of a function, whose value is invisible outside this function.\n",
    "- **nonlocal** variables only exists in nested functions."
   ]
  },
  {
   "cell_type": "code",
   "execution_count": 24,
   "metadata": {},
   "outputs": [
    {
     "data": {
      "text/plain": [
       "7"
      ]
     },
     "execution_count": 24,
     "metadata": {},
     "output_type": "execute_result"
    }
   ],
   "source": [
    "x = 99\n",
    "add(3, 4)"
   ]
  },
  {
   "cell_type": "markdown",
   "metadata": {},
   "source": [
    "Note that here we declare a global variable `x` which does not affect the `x` inside the `add` function body. To actually use the value of the global variable, we need to declare it explicitly with a keyword `global`, e.g"
   ]
  },
  {
   "cell_type": "code",
   "execution_count": 28,
   "metadata": {},
   "outputs": [],
   "source": [
    "def add5(y):\n",
    "    global x\n",
    "    return x + y"
   ]
  },
  {
   "cell_type": "code",
   "execution_count": 29,
   "metadata": {},
   "outputs": [
    {
     "data": {
      "text/plain": [
       "100"
      ]
     },
     "execution_count": 29,
     "metadata": {},
     "output_type": "execute_result"
    }
   ],
   "source": [
    "add5(1)"
   ]
  },
  {
   "cell_type": "markdown",
   "metadata": {},
   "source": [
    "### Calling a function\n",
    "\n",
    "We actually use the function by calling it with required arguments served."
   ]
  },
  {
   "cell_type": "code",
   "execution_count": 5,
   "metadata": {},
   "outputs": [
    {
     "data": {
      "text/plain": [
       "7"
      ]
     },
     "execution_count": 5,
     "metadata": {},
     "output_type": "execute_result"
    }
   ],
   "source": [
    "add(3, 4)"
   ]
  },
  {
   "cell_type": "markdown",
   "metadata": {},
   "source": [
    "Usually, we can call a function in many legit ways, such as"
   ]
  },
  {
   "cell_type": "code",
   "execution_count": 7,
   "metadata": {},
   "outputs": [
    {
     "data": {
      "text/plain": [
       "7"
      ]
     },
     "execution_count": 7,
     "metadata": {},
     "output_type": "execute_result"
    }
   ],
   "source": [
    "add(x=3, y=4)"
   ]
  },
  {
   "cell_type": "code",
   "execution_count": 8,
   "metadata": {},
   "outputs": [
    {
     "data": {
      "text/plain": [
       "7"
      ]
     },
     "execution_count": 8,
     "metadata": {},
     "output_type": "execute_result"
    }
   ],
   "source": [
    "add(y=4, x=3)"
   ]
  },
  {
   "cell_type": "code",
   "execution_count": 6,
   "metadata": {},
   "outputs": [
    {
     "data": {
      "text/plain": [
       "7"
      ]
     },
     "execution_count": 6,
     "metadata": {},
     "output_type": "execute_result"
    }
   ],
   "source": [
    "add(3, y=4)"
   ]
  },
  {
   "cell_type": "markdown",
   "metadata": {},
   "source": [
    "Try `add(x=3, 4)` to see if it works."
   ]
  },
  {
   "cell_type": "code",
   "execution_count": null,
   "metadata": {},
   "outputs": [],
   "source": []
  },
  {
   "cell_type": "markdown",
   "metadata": {},
   "source": [
    "As can be seen, it fails. To figure out why, please visit the [Python official tutorials](https://docs.python.org/3/tutorial/controlflow.html#more-on-defining-functions)."
   ]
  },
  {
   "cell_type": "markdown",
   "metadata": {},
   "source": [
    "**Exercises:**\n",
    "- Try to call add2 in differnet ways.\n",
    "- Try to call add3 in different ways.\n",
    "- Try to call add4 in different ways."
   ]
  },
  {
   "cell_type": "markdown",
   "metadata": {},
   "source": [
    "### Lambda function\n",
    "\n",
    "Use keyword `lambda` to define a small (usually one liner) anonymous function. Lambda functions can be used wherever function objects are required. They are syntactically restricted to a single expression. Semantically, they are just syntactic sugar for a normal function definition."
   ]
  },
  {
   "cell_type": "code",
   "execution_count": 3,
   "metadata": {},
   "outputs": [],
   "source": [
    "lambda_add = lambda a, b: a + b"
   ]
  },
  {
   "cell_type": "code",
   "execution_count": 4,
   "metadata": {},
   "outputs": [
    {
     "data": {
      "text/plain": [
       "7"
      ]
     },
     "execution_count": 4,
     "metadata": {},
     "output_type": "execute_result"
    }
   ],
   "source": [
    "lambda_add(3, 4)"
   ]
  },
  {
   "cell_type": "markdown",
   "metadata": {},
   "source": [
    "### Built-in functions\n",
    "\n",
    "Functions are such useful way to reuse code that Python provides a bunch of built-in functions ready for use after Python is installed. Python built-in functions are available in:\n",
    "\n",
    "1. Python global namespace, such as `print`, `type`, `range`, `input`.\n",
    "2. Python standard modules, such as `sys.path.append`, `math.sqrt`. See a brief tour [here](https://docs.python.org/3/tutorial/stdlib.html) and [here](https://docs.python.org/3/tutorial/stdlib2.html).\n",
    "\n",
    "You can consult the official Python documentation for a complete list of these built-in functions."
   ]
  },
  {
   "cell_type": "code",
   "execution_count": 23,
   "metadata": {},
   "outputs": [
    {
     "data": {
      "text/plain": [
       "1.7320508075688772"
      ]
     },
     "execution_count": 23,
     "metadata": {},
     "output_type": "execute_result"
    }
   ],
   "source": [
    "import math\n",
    "math.sqrt(3)"
   ]
  },
  {
   "cell_type": "markdown",
   "metadata": {},
   "source": [
    "## Class"
   ]
  },
  {
   "cell_type": "markdown",
   "metadata": {},
   "source": [
    "Classes provide a means of bundling data and functionality together. Creating a new class creates a new type of object, allowing new instances of that type to be made. Each class instance can have attributes attached to it for maintaining its state. Class instances can also have methods (defined by its class) for modifying its state.\n",
    "\n",
    "Python classes provide all the standard features of Object Oriented Programming (OOP). We will not cover OOP in-depth in this course. You only have to know how to manipulate built-in classes, such as `list` and `set`. Those who interested in OOP can find learning materials in official Python documentations or elsewhere.\n",
    "\n",
    "### Class vs. instance\n",
    "\n",
    "A class is the definition of a type of object, while an instance is an actual object instantiated from the class with particular data binded."
   ]
  },
  {
   "cell_type": "code",
   "execution_count": 36,
   "metadata": {},
   "outputs": [],
   "source": [
    "even_numbers = [2, 4, 6, 8]"
   ]
  },
  {
   "cell_type": "code",
   "execution_count": 37,
   "metadata": {},
   "outputs": [
    {
     "data": {
      "text/plain": [
       "list"
      ]
     },
     "execution_count": 37,
     "metadata": {},
     "output_type": "execute_result"
    }
   ],
   "source": [
    "type(even_numbers)"
   ]
  },
  {
   "cell_type": "markdown",
   "metadata": {},
   "source": [
    "Here, `even_numbers` is an **instance** of the **`list`** class."
   ]
  },
  {
   "cell_type": "markdown",
   "metadata": {},
   "source": [
    "### Data attributes and methods\n",
    "\n",
    "Attributes or properties of an object are the state or data associated to the object. Methods are functions associated to the class. We use `.` to access attributes and methods of a class instance. To see a list of available attributes/methods of a class in the Jupyter notebook, just type `TAB` key after type `.`."
   ]
  },
  {
   "cell_type": "code",
   "execution_count": 38,
   "metadata": {},
   "outputs": [
    {
     "data": {
      "text/plain": [
       "0"
      ]
     },
     "execution_count": 38,
     "metadata": {},
     "output_type": "execute_result"
    }
   ],
   "source": [
    "even_numbers.count(1)"
   ]
  },
  {
   "cell_type": "code",
   "execution_count": null,
   "metadata": {},
   "outputs": [],
   "source": [
    "even_numbers."
   ]
  },
  {
   "cell_type": "markdown",
   "metadata": {},
   "source": [
    "## Module\n",
    "\n",
    "A module is a file containing Python definitions and statements. The file name is the module name with the suffix `.py` appended.\n",
    "\n",
    "Create a file `fibo.py` in the same directory of this notebook by putting following codes into it:\n",
    "\n",
    "```python\n",
    "# Fibonacci numbers module\n",
    "\n",
    "def fib(n):    # write Fibonacci series up to n\n",
    "    a, b = 0, 1\n",
    "    while a < n:\n",
    "        print(a, end=' ')\n",
    "        a, b = b, a+b\n",
    "    print()\n",
    "\n",
    "def fib2(n):   # return Fibonacci series up to n\n",
    "    result = []\n",
    "    a, b = 0, 1\n",
    "    while a < n:\n",
    "        result.append(a)\n",
    "        a, b = b, a+b\n",
    "    return result\n",
    "```\n",
    "\n",
    "We can now use the two functions `fib` and `fib2` by importing it using the keyword `import`."
   ]
  },
  {
   "cell_type": "code",
   "execution_count": 39,
   "metadata": {},
   "outputs": [],
   "source": [
    "import fibo"
   ]
  },
  {
   "cell_type": "code",
   "execution_count": 42,
   "metadata": {},
   "outputs": [
    {
     "name": "stdout",
     "output_type": "stream",
     "text": [
      "0 1 1 2 3 5 8 13 21 34 55 89 \n"
     ]
    }
   ],
   "source": [
    "fibo.fib(100)"
   ]
  },
  {
   "cell_type": "code",
   "execution_count": 43,
   "metadata": {},
   "outputs": [
    {
     "data": {
      "text/plain": [
       "[0, 1, 1, 2, 3, 5, 8, 13, 21, 34, 55, 89]"
      ]
     },
     "execution_count": 43,
     "metadata": {},
     "output_type": "execute_result"
    }
   ],
   "source": [
    "fibo.fib2(100)"
   ]
  },
  {
   "cell_type": "markdown",
   "metadata": {},
   "source": [
    "Alternative ways to do importing:\n",
    "\n",
    "- `import fibo as fib`: create an alias name for the original module\n",
    "- `from fibo import fib, fib2`: explicitly import specific functions/names to current namespace, now we can simply use `fib` instead of `fibo.fib` to call the function.\n",
    "- `from fibo import *`: import all exported functions/names defined in the module."
   ]
  },
  {
   "cell_type": "markdown",
   "metadata": {},
   "source": [
    "Advanced learning topics we are not covered:\n",
    "\n",
    "- [Packages](https://docs.python.org/3/tutorial/modules.html#packages)."
   ]
  },
  {
   "cell_type": "markdown",
   "metadata": {},
   "source": [
    "## In class coding session\n",
    "\n",
    "We will work on Fibonacci sequence to investigate the ratio of neighboring terms $r_n = F(n)/F(n-1)$, given the Fibonacci series $F(n+1)=F(n) + F(n-1)$ with $F(0)=0, F(1)=1$. Try to generate the sequence $\\{r_n\\}$. Check whether $r_n$ converges. And if it converges, what is the converging value?\n",
    "\n",
    "### A naive approach.\n",
    "Use `fib2` directly."
   ]
  },
  {
   "cell_type": "code",
   "execution_count": null,
   "metadata": {},
   "outputs": [],
   "source": []
  },
  {
   "cell_type": "markdown",
   "metadata": {},
   "source": [
    "### An optimized version\n",
    "Modify `fib2` to compute the ratio inside the function."
   ]
  },
  {
   "cell_type": "code",
   "execution_count": null,
   "metadata": {},
   "outputs": [],
   "source": []
  },
  {
   "cell_type": "markdown",
   "metadata": {},
   "source": [
    "## Exercises\n",
    "\n",
    "1. Rewrite the code listed in section 7 to a function `sum_of_even`.\n",
    "2. Write a function `sum_of_even`, which takes a list as a parameter and compute the sum of all even numbers in it.\n",
    "3. Write a function `sum_of_odds`, which takes a list as a parameter and compute the sum of all even numbers in it.\n",
    "4. Write a function `mysum`, which compute the sum of all elements in a given list.\n",
    "5. Write a function `factorial`, which takes a positive integer as a parameter and returns the factorial of that number.\n",
    "\n",
    "**Optional**\n",
    "1. Write a function `is_prime`, which checks whether a number is prime.\n",
    "2. Collatz conjecture. Given an integer $n$, if it is even, then divide it by 2, if it is odd, then multiply it by 3 and then add 1. Conjecture: repeat this process will eventually lead to the number 1. Wirte a function `collatz_sequence` which produces a list of Collatz sequence."
   ]
  },
  {
   "cell_type": "code",
   "execution_count": null,
   "metadata": {},
   "outputs": [],
   "source": []
  }
 ],
 "metadata": {
  "kernelspec": {
   "display_name": "Python 3 (ipykernel)",
   "language": "python",
   "name": "python3"
  },
  "language_info": {
   "codemirror_mode": {
    "name": "ipython",
    "version": 3
   },
   "file_extension": ".py",
   "mimetype": "text/x-python",
   "name": "python",
   "nbconvert_exporter": "python",
   "pygments_lexer": "ipython3",
   "version": "3.9.12"
  },
  "toc": {
   "base_numbering": 1,
   "nav_menu": {},
   "number_sections": true,
   "sideBar": true,
   "skip_h1_title": true,
   "title_cell": "Table of Contents",
   "title_sidebar": "Contents",
   "toc_cell": false,
   "toc_position": {},
   "toc_section_display": true,
   "toc_window_display": true
  },
  "vscode": {
   "interpreter": {
    "hash": "aee8b7b246df8f9039afb4144a1f6fd8d2ca17a180786b69acc140d282b71a49"
   }
  }
 },
 "nbformat": 4,
 "nbformat_minor": 2
}
