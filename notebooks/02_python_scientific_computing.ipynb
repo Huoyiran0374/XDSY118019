{
 "cells": [
  {
   "cell_type": "markdown",
   "id": "34418253",
   "metadata": {},
   "source": [
    "# Scientific Computing in Python\n",
    "An introduction to scientific computing in Python by [Dr. Yi-Xin Liu](http://www.yxliu.group) at Fudan University (lyx@fudan.edu.cn).  \n",
    "This is a part of the course: *Road to Scientific Research: Powerful Computer Applications* (XDSY118019.01).  \n",
    "Lecture date: 2023.09.28\n",
    "\n",
    "#### Resources\n",
    "- [Book: Fundamentals of Numerical Computation by Tobin A. Driscoll and Richard J. Braun](https://fncbook.github.io/v1.0/frontmatter.html)\n",
    "- [Numpy quickstart](https://numpy.org/doc/stable/user/quickstart.html)\n",
    "- [Numpy absolute beginners guide](https://numpy.org/doc/stable/user/absolute_beginners.html)\n",
    "- [Scipy official tutorial](https://docs.scipy.org/doc/scipy/tutorial/index.html)\n",
    "\n",
    "*Side note*\n",
    "\n",
    "- [Google CoLab: Online Notebook](https://colab.research.google.com/)\n",
    "- [Youtube: Playing with Data in Jupyter Notebooks with VS Code](https://www.youtube.com/watch?v=r0wLl_rfxRs)\n"
   ]
  },
  {
   "cell_type": "code",
   "execution_count": 134,
   "id": "eac4a71a",
   "metadata": {},
   "outputs": [],
   "source": [
    "import numpy as np"
   ]
  },
  {
   "cell_type": "markdown",
   "id": "6c47cc30",
   "metadata": {},
   "source": [
    "## Essential packages"
   ]
  },
  {
   "cell_type": "markdown",
   "id": "2fb26ee4",
   "metadata": {},
   "source": [
    "Python list is useful but it is not efficient as well as convenience for scientific computing which involves many linear algebra calculations. For example, if we want to multiply two vectors of same size elementwisely, using Python list, a first naive try will fail miserably as"
   ]
  },
  {
   "cell_type": "code",
   "execution_count": 135,
   "id": "a7ad35f9",
   "metadata": {},
   "outputs": [],
   "source": [
    "v1 = [1, 2, 3]\n",
    "v2 = [4, 5, 6]"
   ]
  },
  {
   "cell_type": "code",
   "execution_count": 136,
   "id": "52ee7d83",
   "metadata": {},
   "outputs": [
    {
     "ename": "TypeError",
     "evalue": "can't multiply sequence by non-int of type 'list'",
     "output_type": "error",
     "traceback": [
      "\u001b[0;31m---------------------------------------------------------------------------\u001b[0m",
      "\u001b[0;31mTypeError\u001b[0m                                 Traceback (most recent call last)",
      "Cell \u001b[0;32mIn[136], line 1\u001b[0m\n\u001b[0;32m----> 1\u001b[0m v1 \u001b[39m*\u001b[39m v2\n",
      "\u001b[0;31mTypeError\u001b[0m: can't multiply sequence by non-int of type 'list'"
     ]
    }
   ],
   "source": [
    "v1 * v2"
   ]
  },
  {
   "cell_type": "markdown",
   "id": "400cb7b3",
   "metadata": {},
   "source": [
    "Instead, we have to implement a function like:"
   ]
  },
  {
   "cell_type": "code",
   "execution_count": 137,
   "id": "67b6d6b3",
   "metadata": {},
   "outputs": [],
   "source": [
    "def vec_multiply(v1, v2):\n",
    "    v = []\n",
    "    for e1, e2 in zip(v1, v2):\n",
    "        v.append(e1 * e2)\n",
    "\n",
    "    return v"
   ]
  },
  {
   "cell_type": "code",
   "execution_count": 138,
   "id": "f4b32190",
   "metadata": {},
   "outputs": [
    {
     "data": {
      "text/plain": [
       "[4, 10, 18]"
      ]
     },
     "execution_count": 138,
     "metadata": {},
     "output_type": "execute_result"
    }
   ],
   "source": [
    "\n",
    "vec_multiply(v1, v2)"
   ]
  },
  {
   "cell_type": "markdown",
   "id": "7c0faf7a",
   "metadata": {},
   "source": [
    "Or use list comprehension like"
   ]
  },
  {
   "cell_type": "code",
   "execution_count": 139,
   "id": "17639d15",
   "metadata": {},
   "outputs": [
    {
     "data": {
      "text/plain": [
       "[4, 10, 18]"
      ]
     },
     "execution_count": 139,
     "metadata": {},
     "output_type": "execute_result"
    }
   ],
   "source": [
    "[e1 * e2 for e1, e2 in zip(v1, v2)]"
   ]
  },
  {
   "cell_type": "markdown",
   "id": "76df9cdc",
   "metadata": {},
   "source": [
    "In practice, we will use packages to facilitate us to do linear algebra calculations. In Python, there are two such prominent packages: `numpy` and `scipy`. With numpy, we can simply do"
   ]
  },
  {
   "cell_type": "code",
   "execution_count": 140,
   "id": "dd5af5c6",
   "metadata": {},
   "outputs": [
    {
     "data": {
      "text/plain": [
       "array([ 4, 10, 18])"
      ]
     },
     "execution_count": 140,
     "metadata": {},
     "output_type": "execute_result"
    }
   ],
   "source": [
    "import numpy as np\n",
    "\n",
    "# convert Python lists to numpy arrays\n",
    "v1 = np.array(v1)\n",
    "v2 = np.array(v2)\n",
    "\n",
    "v = v1 * v2\n",
    "v"
   ]
  },
  {
   "cell_type": "markdown",
   "id": "e2750d85",
   "metadata": {},
   "source": [
    "### Numpy\n",
    "\n",
    "Numpy is the fundamental package for scientific computing with Python.\n",
    "\n",
    "It is a Python library that provides a multidimensional array object, various derived objects (such as masked arrays and matrices), and an assortment of routines for fast operations on arrays, including mathematical, logical, shape manipulation, sorting, selecting, I/O, discrete Fourier transforms, basic linear algebra, basic statistical operations, random simulation and much more.\n",
    "\n",
    "Numpy comes with Anaconda by default.\n",
    "\n",
    "Tutorial to learn Numpy:\n",
    "- https://numpy.org/doc/stable/user/quickstart.html\n",
    "- https://numpy.org/doc/stable/user/absolute_beginners.html."
   ]
  },
  {
   "cell_type": "code",
   "execution_count": 141,
   "id": "46a8988a",
   "metadata": {},
   "outputs": [],
   "source": [
    "import numpy as np"
   ]
  },
  {
   "cell_type": "markdown",
   "id": "8d10f561",
   "metadata": {},
   "source": [
    "### SciPy\n",
    "\n",
    "SciPy provides fundamental algorithms for scientific computing in Python.\n",
    "\n",
    "SciPy is a collection of mathematical algorithms and convenience functions built on the NumPy extension of Python. It adds significant power to the interactive Python session by providing the user with high-level commands and classes for manipulating and visualizing data. With SciPy, an interactive Python session becomes a data-processing and system-prototyping environment rivaling systems, such as MATLAB, IDL, Octave, R-Lab, and SciLab.\n",
    "\n",
    "The additional benefit of basing SciPy on Python is that this also makes a powerful programming language available for use in developing sophisticated programs and specialized applications. Scientific applications using SciPy benefit from the development of additional modules in numerous niches of the software landscape by developers across the world. Everything from parallel programming to web and data-base subroutines and classes have been made available to the Python programmer. All of this power is available in addition to the mathematical libraries in SciPy.\n",
    "\n",
    "SciPy also comes with Anaconda by default.\n",
    "\n",
    "Tutorial to learn SciPy:\n",
    "- https://docs.scipy.org/doc/scipy/tutorial/index.html."
   ]
  },
  {
   "cell_type": "markdown",
   "id": "d8986890",
   "metadata": {},
   "source": [
    "## Numpy array\n",
    "\n",
    "### Python list vs. Numpy array\n",
    "\n",
    "NumPy gives you an enormous range of fast and efficient ways of creating arrays and manipulating numerical data inside them. While a Python list can contain different data types within a single list, all of the elements in a NumPy array should be homogeneous. The mathematical operations that are meant to be performed on arrays would be extremely inefficient if the arrays weren’t homogeneous.\n",
    "\n",
    "**Why use NumPy?** NumPy arrays are faster and more compact than Python lists. An array consumes less memory and is convenient to use. NumPy uses much less memory to store data and it provides a mechanism of specifying the data types. This allows the code to be optimized even further.\n",
    "\n",
    "### What is an array?\n",
    "An array is a central data structure of the NumPy library. An array is a grid of values and it contains information about the raw data, how to locate an element, and how to interpret an element. It has a grid of elements that can be indexed in various ways. The elements are all of the same type, referred to as the array dtype."
   ]
  },
  {
   "cell_type": "markdown",
   "id": "539140f8",
   "metadata": {},
   "source": [
    "### Dimension, shape, and size\n",
    "\n",
    "- **vector** - One-dimension (1D) array"
   ]
  },
  {
   "cell_type": "code",
   "execution_count": 142,
   "id": "c7f9d3dc",
   "metadata": {},
   "outputs": [
    {
     "data": {
      "text/plain": [
       "array([1, 2, 3])"
      ]
     },
     "execution_count": 142,
     "metadata": {},
     "output_type": "execute_result"
    }
   ],
   "source": [
    "v1 = np.array([1, 2, 3])\n",
    "v1"
   ]
  },
  {
   "cell_type": "code",
   "execution_count": 143,
   "id": "491da015",
   "metadata": {},
   "outputs": [
    {
     "data": {
      "text/plain": [
       "(1, (3,), 3)"
      ]
     },
     "execution_count": 143,
     "metadata": {},
     "output_type": "execute_result"
    }
   ],
   "source": [
    "v1.ndim, v1.shape, v1.size"
   ]
  },
  {
   "cell_type": "markdown",
   "id": "165d21ac",
   "metadata": {},
   "source": [
    "- **matrix** - Two-dimension (2D) array"
   ]
  },
  {
   "cell_type": "code",
   "execution_count": 144,
   "id": "48e3b536",
   "metadata": {},
   "outputs": [
    {
     "data": {
      "text/plain": [
       "array([[1, 2, 3],\n",
       "       [4, 5, 6]])"
      ]
     },
     "execution_count": 144,
     "metadata": {},
     "output_type": "execute_result"
    }
   ],
   "source": [
    "v2 = np.array([[1, 2, 3],\n",
    "               [4, 5, 6]])\n",
    "v2"
   ]
  },
  {
   "cell_type": "code",
   "execution_count": 145,
   "id": "b9352284",
   "metadata": {},
   "outputs": [
    {
     "data": {
      "text/plain": [
       "(2, (2, 3), 6)"
      ]
     },
     "execution_count": 145,
     "metadata": {},
     "output_type": "execute_result"
    }
   ],
   "source": [
    "v2.ndim, v2.shape, v2.size"
   ]
  },
  {
   "cell_type": "markdown",
   "id": "8d4481df",
   "metadata": {},
   "source": [
    "- **tensor** - Three-dimension (3D) array and above"
   ]
  },
  {
   "cell_type": "code",
   "execution_count": 146,
   "id": "99d87c85",
   "metadata": {},
   "outputs": [
    {
     "data": {
      "text/plain": [
       "array([[[1, 2, 3],\n",
       "        [4, 5, 6]],\n",
       "\n",
       "       [[7, 8, 9],\n",
       "        [0, 1, 2]]])"
      ]
     },
     "execution_count": 146,
     "metadata": {},
     "output_type": "execute_result"
    }
   ],
   "source": [
    "v3 = np.array([[[1, 2, 3], [4, 5, 6]],\n",
    "               [[7, 8, 9], [0, 1, 2]]])\n",
    "v3"
   ]
  },
  {
   "cell_type": "code",
   "execution_count": 147,
   "id": "09633e87",
   "metadata": {
    "scrolled": true
   },
   "outputs": [
    {
     "data": {
      "text/plain": [
       "(3, (2, 2, 3), 12)"
      ]
     },
     "execution_count": 147,
     "metadata": {},
     "output_type": "execute_result"
    }
   ],
   "source": [
    "v3.ndim, v3.shape, v3.size"
   ]
  },
  {
   "cell_type": "markdown",
   "id": "2470ac17",
   "metadata": {},
   "source": [
    "### Array creation"
   ]
  },
  {
   "cell_type": "code",
   "execution_count": 151,
   "id": "3881c29a",
   "metadata": {},
   "outputs": [
    {
     "data": {
      "text/plain": [
       "(10,)"
      ]
     },
     "execution_count": 151,
     "metadata": {},
     "output_type": "execute_result"
    }
   ],
   "source": [
    "np.arange(1.0, 10.1, dtype=float).shape  # vector"
   ]
  },
  {
   "cell_type": "code",
   "execution_count": 154,
   "id": "58bbd566",
   "metadata": {},
   "outputs": [
    {
     "data": {
      "text/plain": [
       "array([[ 1.,  2.,  3.,  4.,  5.],\n",
       "       [ 6.,  7.,  8.,  9., 10.]])"
      ]
     },
     "execution_count": 154,
     "metadata": {},
     "output_type": "execute_result"
    }
   ],
   "source": [
    "np.reshape(np.arange(1.0, 10.1, dtype=float), (2, 5))  # matrix"
   ]
  },
  {
   "cell_type": "code",
   "execution_count": 155,
   "id": "e15ce83b",
   "metadata": {},
   "outputs": [
    {
     "data": {
      "text/plain": [
       "array([0.  , 0.11, 0.22, 0.33, 0.44, 0.55, 0.66, 0.77, 0.88, 0.99, 1.1 ])"
      ]
     },
     "execution_count": 155,
     "metadata": {},
     "output_type": "execute_result"
    }
   ],
   "source": [
    "np.linspace(0, 1.1, 11)  # vector"
   ]
  },
  {
   "cell_type": "code",
   "execution_count": 159,
   "id": "2dea47d8",
   "metadata": {},
   "outputs": [
    {
     "data": {
      "text/plain": [
       "array([[0.89531407, 0.28612468, 0.27024065],\n",
       "       [0.14452759, 0.12792531, 0.94822831]])"
      ]
     },
     "execution_count": 159,
     "metadata": {},
     "output_type": "execute_result"
    }
   ],
   "source": [
    "np.random.rand(2, 3)"
   ]
  },
  {
   "cell_type": "code",
   "execution_count": 160,
   "id": "fd1bc52d",
   "metadata": {},
   "outputs": [
    {
     "data": {
      "text/plain": [
       "array([[ 0.36105191, -0.11100922, -2.17536795],\n",
       "       [-0.17608723, -1.88798157, -0.21649502]])"
      ]
     },
     "execution_count": 160,
     "metadata": {},
     "output_type": "execute_result"
    }
   ],
   "source": [
    "np.random.randn(2, 3)"
   ]
  },
  {
   "cell_type": "code",
   "execution_count": 163,
   "id": "93b148e1",
   "metadata": {},
   "outputs": [
    {
     "data": {
      "text/plain": [
       "array([[0., 0., 0.],\n",
       "       [0., 0., 0.]])"
      ]
     },
     "execution_count": 163,
     "metadata": {},
     "output_type": "execute_result"
    }
   ],
   "source": [
    "np.zeros((2, 3))"
   ]
  },
  {
   "cell_type": "code",
   "execution_count": 164,
   "id": "65d1fe8d",
   "metadata": {},
   "outputs": [
    {
     "data": {
      "text/plain": [
       "array([[1., 1., 1.],\n",
       "       [1., 1., 1.]])"
      ]
     },
     "execution_count": 164,
     "metadata": {},
     "output_type": "execute_result"
    }
   ],
   "source": [
    "np.ones((2, 3))"
   ]
  },
  {
   "cell_type": "code",
   "execution_count": 166,
   "id": "f6354040",
   "metadata": {
    "scrolled": true
   },
   "outputs": [
    {
     "data": {
      "text/plain": [
       "array([[1., 0., 0., 0., 0.],\n",
       "       [0., 1., 0., 0., 0.],\n",
       "       [0., 0., 1., 0., 0.],\n",
       "       [0., 0., 0., 1., 0.],\n",
       "       [0., 0., 0., 0., 1.]])"
      ]
     },
     "execution_count": 166,
     "metadata": {},
     "output_type": "execute_result"
    }
   ],
   "source": [
    "np.eye(5)  # matrix"
   ]
  },
  {
   "cell_type": "markdown",
   "id": "a44cac8b",
   "metadata": {},
   "source": [
    "### Array attributes and methods"
   ]
  },
  {
   "cell_type": "code",
   "execution_count": 167,
   "id": "210dba60",
   "metadata": {},
   "outputs": [
    {
     "data": {
      "text/plain": [
       "array([[1, 2, 3],\n",
       "       [4, 5, 6]])"
      ]
     },
     "execution_count": 167,
     "metadata": {},
     "output_type": "execute_result"
    }
   ],
   "source": [
    "v2 = np.array([[1, 2, 3],\n",
    "               [4, 5, 6]])\n",
    "v2"
   ]
  },
  {
   "cell_type": "code",
   "execution_count": 168,
   "id": "22ccd38c",
   "metadata": {},
   "outputs": [
    {
     "data": {
      "text/plain": [
       "(6, 5, 1, 0, 21, array([ 1,  3,  6, 10, 15, 21]))"
      ]
     },
     "execution_count": 168,
     "metadata": {},
     "output_type": "execute_result"
    }
   ],
   "source": [
    "v2.max(), v2.argmax(), v2.min(), v2.argmin(), v2.sum(), v2.cumsum()"
   ]
  },
  {
   "cell_type": "markdown",
   "id": "10b4704a",
   "metadata": {},
   "source": [
    "### Indexing and slicing\n",
    "\n",
    "Numpy offers several ways to index into arrays and accessing/changing specific elements, rows, columns, etc."
   ]
  },
  {
   "cell_type": "markdown",
   "id": "cf432528",
   "metadata": {},
   "source": [
    "#### Python list like indexing and slicing"
   ]
  },
  {
   "cell_type": "code",
   "execution_count": 169,
   "id": "e4e82ba8",
   "metadata": {},
   "outputs": [
    {
     "data": {
      "text/plain": [
       "array([0, 1, 2, 3, 4, 5, 6, 7, 8, 9])"
      ]
     },
     "execution_count": 169,
     "metadata": {},
     "output_type": "execute_result"
    }
   ],
   "source": [
    "v1 = np.arange(10)\n",
    "v1"
   ]
  },
  {
   "cell_type": "code",
   "execution_count": 170,
   "id": "6bd63182",
   "metadata": {},
   "outputs": [
    {
     "data": {
      "text/plain": [
       "4"
      ]
     },
     "execution_count": 170,
     "metadata": {},
     "output_type": "execute_result"
    }
   ],
   "source": [
    "v1[4]"
   ]
  },
  {
   "cell_type": "code",
   "execution_count": 171,
   "id": "5a63725b",
   "metadata": {},
   "outputs": [
    {
     "data": {
      "text/plain": [
       "(array([3, 4, 5]),\n",
       " array([0, 1, 2]),\n",
       " array([7, 8, 9]),\n",
       " array([0, 1, 2, 3, 4, 5, 6, 7, 8, 9]))"
      ]
     },
     "execution_count": 171,
     "metadata": {},
     "output_type": "execute_result"
    }
   ],
   "source": [
    "v1[3:6], v1[:3], v1[7:], v1[:]"
   ]
  },
  {
   "cell_type": "markdown",
   "id": "c4943365",
   "metadata": {},
   "source": [
    "_Slice is a view of orginal array._ Change the slice will change the orignial array."
   ]
  },
  {
   "cell_type": "code",
   "execution_count": 172,
   "id": "bb863a1f",
   "metadata": {},
   "outputs": [
    {
     "data": {
      "text/plain": [
       "array([ 0,  1,  2, 99, 99, 99,  6,  7,  8,  9])"
      ]
     },
     "execution_count": 172,
     "metadata": {},
     "output_type": "execute_result"
    }
   ],
   "source": [
    "slice_v1 = v1[3:6]\n",
    "slice_v1[:] = 99\n",
    "v1"
   ]
  },
  {
   "cell_type": "code",
   "execution_count": 173,
   "id": "0b57a19c",
   "metadata": {},
   "outputs": [
    {
     "data": {
      "text/plain": [
       "array([[ 0,  1,  2,  3,  4,  5],\n",
       "       [ 6,  7,  8,  9, 10, 11],\n",
       "       [12, 13, 14, 15, 16, 17],\n",
       "       [18, 19, 20, 21, 22, 23]])"
      ]
     },
     "execution_count": 173,
     "metadata": {},
     "output_type": "execute_result"
    }
   ],
   "source": [
    "v2 = np.arange(24).reshape(4, 6)\n",
    "v2"
   ]
  },
  {
   "cell_type": "code",
   "execution_count": 174,
   "id": "9bd072c5",
   "metadata": {},
   "outputs": [
    {
     "data": {
      "text/plain": [
       "array([ 6,  7,  8,  9, 10, 11])"
      ]
     },
     "execution_count": 174,
     "metadata": {},
     "output_type": "execute_result"
    }
   ],
   "source": [
    "v2[1]  # indexing a row"
   ]
  },
  {
   "cell_type": "code",
   "execution_count": 175,
   "id": "4b8badf8",
   "metadata": {},
   "outputs": [
    {
     "data": {
      "text/plain": [
       "array([ 6,  7,  8,  9, 10, 11])"
      ]
     },
     "execution_count": 175,
     "metadata": {},
     "output_type": "execute_result"
    }
   ],
   "source": [
    "v2[1,:]"
   ]
  },
  {
   "cell_type": "code",
   "execution_count": 176,
   "id": "532838ec",
   "metadata": {},
   "outputs": [
    {
     "data": {
      "text/plain": [
       "7"
      ]
     },
     "execution_count": 176,
     "metadata": {},
     "output_type": "execute_result"
    }
   ],
   "source": [
    "v2[1, 1]  # indexing a single element"
   ]
  },
  {
   "cell_type": "code",
   "execution_count": 177,
   "id": "6df0a939",
   "metadata": {},
   "outputs": [
    {
     "data": {
      "text/plain": [
       "array([ 1,  7, 13, 19])"
      ]
     },
     "execution_count": 177,
     "metadata": {},
     "output_type": "execute_result"
    }
   ],
   "source": [
    "v2[:, 1]  # the second column"
   ]
  },
  {
   "cell_type": "code",
   "execution_count": 178,
   "id": "77e340f3",
   "metadata": {},
   "outputs": [
    {
     "data": {
      "text/plain": [
       "array([[ 3,  4],\n",
       "       [ 9, 10]])"
      ]
     },
     "execution_count": 178,
     "metadata": {},
     "output_type": "execute_result"
    }
   ],
   "source": [
    "v2[:2, 3:5]  # elements in the first and second rows, the fourth and fifth colums."
   ]
  },
  {
   "cell_type": "markdown",
   "id": "b80f9a82",
   "metadata": {},
   "source": [
    "#### Integer array indexing\n",
    "\n",
    "integer array indexing allows you to construct arbitrary arrays using the data from another array."
   ]
  },
  {
   "cell_type": "code",
   "execution_count": 179,
   "id": "d47fc7e8",
   "metadata": {},
   "outputs": [
    {
     "data": {
      "text/plain": [
       "(2, 3)"
      ]
     },
     "execution_count": 179,
     "metadata": {},
     "output_type": "execute_result"
    }
   ],
   "source": [
    "A = np.array([[1, 2, 3],\n",
    "              [4, 5, 6]])\n",
    "A.shape"
   ]
  },
  {
   "cell_type": "code",
   "execution_count": 180,
   "id": "f4e4ea83",
   "metadata": {},
   "outputs": [],
   "source": [
    "I = [1, 0]  # indices for first dimension, thus should less than 2 (not included)"
   ]
  },
  {
   "cell_type": "code",
   "execution_count": 181,
   "id": "3d035a55",
   "metadata": {},
   "outputs": [],
   "source": [
    "J = [2, 1]  # indices for second dimension, thus should less than 3 (not included)"
   ]
  },
  {
   "cell_type": "code",
   "execution_count": 182,
   "id": "96d6a14d",
   "metadata": {},
   "outputs": [
    {
     "data": {
      "text/plain": [
       "array([6, 2])"
      ]
     },
     "execution_count": 182,
     "metadata": {},
     "output_type": "execute_result"
    }
   ],
   "source": [
    "A[I, J]"
   ]
  },
  {
   "cell_type": "markdown",
   "id": "8cd577dc",
   "metadata": {},
   "source": [
    "The result array is a view of the original array. Thus we can use it to mutate its content,"
   ]
  },
  {
   "cell_type": "code",
   "execution_count": 184,
   "id": "476f45a6",
   "metadata": {},
   "outputs": [
    {
     "data": {
      "text/plain": [
       "array([[ 1, 20,  3],\n",
       "       [ 4,  5, 24]])"
      ]
     },
     "execution_count": 184,
     "metadata": {},
     "output_type": "execute_result"
    }
   ],
   "source": [
    "A[I, J] += 9\n",
    "A"
   ]
  },
  {
   "cell_type": "markdown",
   "id": "0e1b7d7a",
   "metadata": {},
   "source": [
    "#### Boolean array indexing\n",
    "\n",
    "Boolean array indexing lets you pick out arbitrary elements of an array. Frequently this type of indexing is used to select the elements of an array that satisfy some condition."
   ]
  },
  {
   "cell_type": "code",
   "execution_count": 185,
   "id": "5fb0c314",
   "metadata": {},
   "outputs": [
    {
     "data": {
      "text/plain": [
       "array([ 1,  2,  3,  4,  5,  6,  7,  8,  9, 10])"
      ]
     },
     "execution_count": 185,
     "metadata": {},
     "output_type": "execute_result"
    }
   ],
   "source": [
    "a = np.arange(1, 11)\n",
    "a"
   ]
  },
  {
   "cell_type": "code",
   "execution_count": 186,
   "id": "d189847c",
   "metadata": {},
   "outputs": [
    {
     "data": {
      "text/plain": [
       "array([False, False, False, False,  True,  True,  True,  True,  True,\n",
       "        True])"
      ]
     },
     "execution_count": 186,
     "metadata": {},
     "output_type": "execute_result"
    }
   ],
   "source": [
    "a > 4"
   ]
  },
  {
   "cell_type": "code",
   "execution_count": 187,
   "id": "0d89f695",
   "metadata": {},
   "outputs": [
    {
     "data": {
      "text/plain": [
       "array([ 5,  6,  7,  8,  9, 10])"
      ]
     },
     "execution_count": 187,
     "metadata": {},
     "output_type": "execute_result"
    }
   ],
   "source": [
    "a[a>4]"
   ]
  },
  {
   "cell_type": "code",
   "execution_count": 188,
   "id": "e44cd9a1",
   "metadata": {},
   "outputs": [
    {
     "data": {
      "text/plain": [
       "array([[0.622548  , 0.41853481, 0.75556218, ..., 0.3665219 , 0.35011446,\n",
       "        0.33266589],\n",
       "       [0.17551769, 0.15331559, 0.92227968, ..., 0.63764772, 0.74062196,\n",
       "        0.35368449],\n",
       "       [0.90532553, 0.08894697, 0.40237951, ..., 0.34390661, 0.85976723,\n",
       "        0.55557264],\n",
       "       ...,\n",
       "       [0.28540968, 0.18970967, 0.25550551, ..., 0.71470108, 0.08390451,\n",
       "        0.23678101],\n",
       "       [0.00361909, 0.78181593, 0.74497961, ..., 0.22534617, 0.08641417,\n",
       "        0.75606587],\n",
       "       [0.18346586, 0.9864349 , 0.46808913, ..., 0.41282084, 0.43119998,\n",
       "        0.9560017 ]])"
      ]
     },
     "execution_count": 188,
     "metadata": {},
     "output_type": "execute_result"
    }
   ],
   "source": [
    "b = np.random.rand(400, 500)\n",
    "b"
   ]
  },
  {
   "cell_type": "code",
   "execution_count": 189,
   "id": "a23a5cbc",
   "metadata": {},
   "outputs": [
    {
     "data": {
      "text/plain": [
       "0.501895"
      ]
     },
     "execution_count": 189,
     "metadata": {},
     "output_type": "execute_result"
    }
   ],
   "source": [
    "b[b<0.5].size / (400*500)"
   ]
  },
  {
   "cell_type": "markdown",
   "id": "19cbcd85",
   "metadata": {},
   "source": [
    "#### Exercise\n",
    "- Create the following matrix and assign it to variable `B`.\n",
    "\n",
    "$$\n",
    "\\begin{bmatrix}\n",
    "    1 &2 &3 &4 &5 \\\\\n",
    "    6 &7 &8 &9 &10 \\\\\n",
    "    11 &12 &13 &14 &15 \\\\\n",
    "    16 &17 &18 &19 &20 \\\\\n",
    "    21 &22 &23 &24 &25 \\\\\n",
    "    26 &27 &28 &29 &30\n",
    "\\end{bmatrix}\n",
    "$$\n",
    "\n",
    "- Retrieve `23`.\n",
    "\n",
    "- Retrieve `[2, 8, 14, 20]`\n",
    "\n",
    "- Retrieve\n",
    "\n",
    "$$\n",
    "\\begin{bmatrix}\n",
    "    11 &12 \\\\\n",
    "    16 &17\n",
    "\\end{bmatrix}\n",
    "$$\n",
    "\n",
    "- Retrieve\n",
    "\n",
    "$$\n",
    "\\begin{bmatrix}\n",
    "    4 &5 \\\\\n",
    "    24 &25 \\\\\n",
    "    29 &30\n",
    "\\end{bmatrix}\n",
    "$$\n",
    "\n",
    "- Find all even elements.\n",
    "\n",
    "- Compute the sum of all odd elements."
   ]
  },
  {
   "cell_type": "code",
   "execution_count": 191,
   "id": "b2ffaef7",
   "metadata": {},
   "outputs": [
    {
     "data": {
      "text/plain": [
       "array([[ 1,  2,  3,  4,  5],\n",
       "       [ 6,  7,  8,  9, 10],\n",
       "       [11, 12, 13, 14, 15],\n",
       "       [16, 17, 18, 19, 20],\n",
       "       [21, 22, 23, 24, 25],\n",
       "       [26, 27, 28, 29, 30]])"
      ]
     },
     "execution_count": 191,
     "metadata": {},
     "output_type": "execute_result"
    }
   ],
   "source": [
    "# Do the exercise below\n",
    "B = np.arange(1, 31).reshape(6, 5)\n",
    "B"
   ]
  },
  {
   "cell_type": "code",
   "execution_count": 192,
   "id": "3499ed5d",
   "metadata": {},
   "outputs": [
    {
     "data": {
      "text/plain": [
       "225"
      ]
     },
     "execution_count": 192,
     "metadata": {},
     "output_type": "execute_result"
    }
   ],
   "source": [
    "B[B % 2 == 1].sum()"
   ]
  },
  {
   "cell_type": "markdown",
   "id": "df45aecd",
   "metadata": {},
   "source": [
    "### Resizing and reshaping\n",
    "\n",
    "- Adding or removing elements: `np.append`, `np.insert`, `np.delete`, `np.resize`."
   ]
  },
  {
   "cell_type": "code",
   "execution_count": 193,
   "id": "192daf0a",
   "metadata": {},
   "outputs": [
    {
     "data": {
      "text/plain": [
       "array([], dtype=float64)"
      ]
     },
     "execution_count": 193,
     "metadata": {},
     "output_type": "execute_result"
    }
   ],
   "source": [
    "u = np.array([])\n",
    "u"
   ]
  },
  {
   "cell_type": "code",
   "execution_count": 194,
   "id": "90e24d03",
   "metadata": {},
   "outputs": [
    {
     "data": {
      "text/plain": [
       "(array([], dtype=float64), array([1.]))"
      ]
     },
     "execution_count": 194,
     "metadata": {},
     "output_type": "execute_result"
    }
   ],
   "source": [
    "v = np.append(u, 1)\n",
    "u, v"
   ]
  },
  {
   "cell_type": "code",
   "execution_count": 195,
   "id": "9c88bab7",
   "metadata": {},
   "outputs": [
    {
     "data": {
      "text/plain": [
       "array([[1, 2, 3],\n",
       "       [4, 5, 6]])"
      ]
     },
     "execution_count": 195,
     "metadata": {},
     "output_type": "execute_result"
    }
   ],
   "source": [
    "v = np.array([[1, 2, 3],\n",
    "              [4, 5, 6]])\n",
    "v"
   ]
  },
  {
   "cell_type": "markdown",
   "id": "f6d4024d",
   "metadata": {},
   "source": [
    "- Flattening: `array.flatten()`"
   ]
  },
  {
   "cell_type": "code",
   "execution_count": 196,
   "id": "83bf67a3",
   "metadata": {},
   "outputs": [
    {
     "data": {
      "text/plain": [
       "array([1, 2, 3, 4, 5, 6])"
      ]
     },
     "execution_count": 196,
     "metadata": {},
     "output_type": "execute_result"
    }
   ],
   "source": [
    "v.flatten()"
   ]
  },
  {
   "cell_type": "code",
   "execution_count": 197,
   "id": "e8597ed5",
   "metadata": {},
   "outputs": [
    {
     "data": {
      "text/plain": [
       "array([[1, 2, 3],\n",
       "       [4, 5, 6]])"
      ]
     },
     "execution_count": 197,
     "metadata": {},
     "output_type": "execute_result"
    }
   ],
   "source": [
    "v"
   ]
  },
  {
   "cell_type": "markdown",
   "id": "a99dd8fb",
   "metadata": {},
   "source": [
    "- Stacking: `numpy.hstack`, `numpy.vstack`."
   ]
  },
  {
   "cell_type": "code",
   "execution_count": 198,
   "id": "d310e79d",
   "metadata": {},
   "outputs": [
    {
     "data": {
      "text/plain": [
       "array([1, 2, 3, 4, 5, 6])"
      ]
     },
     "execution_count": 198,
     "metadata": {},
     "output_type": "execute_result"
    }
   ],
   "source": [
    "f = np.array([1,2,3])\n",
    "g = np.array([4,5,6])\n",
    "\n",
    "np.hstack((f, g))"
   ]
  },
  {
   "cell_type": "code",
   "execution_count": 199,
   "id": "d2085ec0",
   "metadata": {},
   "outputs": [
    {
     "data": {
      "text/plain": [
       "array([[1, 2, 3],\n",
       "       [4, 5, 6]])"
      ]
     },
     "execution_count": 199,
     "metadata": {},
     "output_type": "execute_result"
    }
   ],
   "source": [
    "np.vstack((f, g))"
   ]
  },
  {
   "cell_type": "code",
   "execution_count": 202,
   "id": "a4db7029",
   "metadata": {},
   "outputs": [
    {
     "data": {
      "text/plain": [
       "array([[1., 1., 1., 1., 0., 0., 0., 0., 1., 1., 1., 1.],\n",
       "       [1., 1., 1., 1., 0., 0., 0., 0., 1., 1., 1., 1.]])"
      ]
     },
     "execution_count": 202,
     "metadata": {},
     "output_type": "execute_result"
    }
   ],
   "source": [
    "h1 = np.ones((2,4))\n",
    "h2 = np.zeros((2,2))\n",
    "\n",
    "np.hstack((h1, h2, h2, h1))"
   ]
  },
  {
   "cell_type": "code",
   "execution_count": 203,
   "id": "739ba71c",
   "metadata": {},
   "outputs": [
    {
     "ename": "ValueError",
     "evalue": "all the input array dimensions except for the concatenation axis must match exactly, but along dimension 1, the array at index 0 has size 4 and the array at index 1 has size 2",
     "output_type": "error",
     "traceback": [
      "\u001b[0;31m---------------------------------------------------------------------------\u001b[0m",
      "\u001b[0;31mValueError\u001b[0m                                Traceback (most recent call last)",
      "Cell \u001b[0;32mIn[203], line 1\u001b[0m\n\u001b[0;32m----> 1\u001b[0m np\u001b[39m.\u001b[39mvstack((h1, h2))\n",
      "File \u001b[0;32m<__array_function__ internals>:200\u001b[0m, in \u001b[0;36mvstack\u001b[0;34m(*args, **kwargs)\u001b[0m\n",
      "File \u001b[0;32m~/anaconda3/lib/python3.11/site-packages/numpy/core/shape_base.py:296\u001b[0m, in \u001b[0;36mvstack\u001b[0;34m(tup, dtype, casting)\u001b[0m\n\u001b[1;32m    294\u001b[0m \u001b[39mif\u001b[39;00m \u001b[39mnot\u001b[39;00m \u001b[39misinstance\u001b[39m(arrs, \u001b[39mlist\u001b[39m):\n\u001b[1;32m    295\u001b[0m     arrs \u001b[39m=\u001b[39m [arrs]\n\u001b[0;32m--> 296\u001b[0m \u001b[39mreturn\u001b[39;00m _nx\u001b[39m.\u001b[39mconcatenate(arrs, \u001b[39m0\u001b[39m, dtype\u001b[39m=\u001b[39mdtype, casting\u001b[39m=\u001b[39mcasting)\n",
      "File \u001b[0;32m<__array_function__ internals>:200\u001b[0m, in \u001b[0;36mconcatenate\u001b[0;34m(*args, **kwargs)\u001b[0m\n",
      "\u001b[0;31mValueError\u001b[0m: all the input array dimensions except for the concatenation axis must match exactly, but along dimension 1, the array at index 0 has size 4 and the array at index 1 has size 2"
     ]
    }
   ],
   "source": [
    "np.vstack((h1, h2))  # Error: dimension size not match"
   ]
  },
  {
   "cell_type": "code",
   "execution_count": 204,
   "id": "3648d0fe",
   "metadata": {},
   "outputs": [
    {
     "data": {
      "text/plain": [
       "array([[1., 1.],\n",
       "       [1., 1.],\n",
       "       [1., 1.],\n",
       "       [1., 1.],\n",
       "       [0., 0.],\n",
       "       [0., 0.]])"
      ]
     },
     "execution_count": 204,
     "metadata": {},
     "output_type": "execute_result"
    }
   ],
   "source": [
    "v1 = np.ones((4,2))  # transpose the matrix\n",
    "v2 = np.zeros((2,2))\n",
    "\n",
    "np.vstack((v1,v2))  # now it is correct to stack vertically."
   ]
  },
  {
   "cell_type": "markdown",
   "id": "c836179a",
   "metadata": {},
   "source": [
    "## Linear algebra"
   ]
  },
  {
   "cell_type": "markdown",
   "id": "9246f9a0",
   "metadata": {},
   "source": [
    "### Arithmetic and broadcasting"
   ]
  },
  {
   "cell_type": "code",
   "execution_count": 205,
   "id": "12c97e98",
   "metadata": {},
   "outputs": [],
   "source": [
    "u = np.array([1, 2, 3])\n",
    "v = np.array([4, 5, 6])"
   ]
  },
  {
   "cell_type": "code",
   "execution_count": 206,
   "id": "9259a752",
   "metadata": {},
   "outputs": [
    {
     "data": {
      "text/plain": [
       "(array([5, 7, 9]),\n",
       " array([-3, -3, -3]),\n",
       " array([ 4, 10, 18]),\n",
       " array([0.25, 0.4 , 0.5 ]))"
      ]
     },
     "execution_count": 206,
     "metadata": {},
     "output_type": "execute_result"
    }
   ],
   "source": [
    "# basic operations\n",
    "u + v, u - v, u * v, u / v"
   ]
  },
  {
   "cell_type": "code",
   "execution_count": 207,
   "id": "6591949f",
   "metadata": {},
   "outputs": [
    {
     "data": {
      "text/plain": [
       "(array([1.        , 1.41421356, 1.73205081]),\n",
       " array([0.84147098, 0.90929743, 0.14112001]),\n",
       " array([ 0.54030231, -0.41614684, -0.9899925 ]),\n",
       " array([0.        , 0.69314718, 1.09861229]),\n",
       " array([ 2.71828183,  7.3890561 , 20.08553692]))"
      ]
     },
     "execution_count": 207,
     "metadata": {},
     "output_type": "execute_result"
    }
   ],
   "source": [
    "# Math functions\n",
    "np.sqrt(u), np.sin(u), np.cos(u), np.log(u), np.exp(u)"
   ]
  },
  {
   "cell_type": "code",
   "execution_count": 208,
   "id": "884a5094",
   "metadata": {},
   "outputs": [
    {
     "data": {
      "text/plain": [
       "(2.0, 2.0, 0.816496580927726)"
      ]
     },
     "execution_count": 208,
     "metadata": {},
     "output_type": "execute_result"
    }
   ],
   "source": [
    "# basic statistics\n",
    "np.mean(u), np.median(u), np.std(u)"
   ]
  },
  {
   "cell_type": "markdown",
   "id": "9f19407f",
   "metadata": {},
   "source": [
    "**Broadcasting** is super cool and super useful. When doing elementwise operaitons, arrays expand to the \"correct\" shape.\n",
    "\n",
    "_Broadcasting is even cooler in Julia. Check it out!_"
   ]
  },
  {
   "cell_type": "code",
   "execution_count": 209,
   "id": "becde2c6",
   "metadata": {},
   "outputs": [
    {
     "data": {
      "text/plain": [
       "array([5, 6, 7])"
      ]
     },
     "execution_count": 209,
     "metadata": {},
     "output_type": "execute_result"
    }
   ],
   "source": [
    "# broadcasting a scalar over a vector\n",
    "u + 4"
   ]
  },
  {
   "cell_type": "code",
   "execution_count": 210,
   "id": "ff574be9",
   "metadata": {},
   "outputs": [
    {
     "data": {
      "text/plain": [
       "array([0, 1, 2, 3, 4])"
      ]
     },
     "execution_count": 210,
     "metadata": {},
     "output_type": "execute_result"
    }
   ],
   "source": [
    "a = np.arange(5)\n",
    "a"
   ]
  },
  {
   "cell_type": "code",
   "execution_count": 211,
   "id": "bb739166",
   "metadata": {},
   "outputs": [
    {
     "data": {
      "text/plain": [
       "array([[0.25759981, 0.33224488, 0.1495685 , 0.59312715, 0.74368648],\n",
       "       [0.55190119, 0.02311983, 0.50398427, 0.48494563, 0.19537269]])"
      ]
     },
     "execution_count": 211,
     "metadata": {},
     "output_type": "execute_result"
    }
   ],
   "source": [
    "b = np.random.rand(2, 5)\n",
    "b"
   ]
  },
  {
   "cell_type": "code",
   "execution_count": 212,
   "id": "70ec1b1b",
   "metadata": {},
   "outputs": [
    {
     "data": {
      "text/plain": [
       "array([[0.25759981, 1.33224488, 2.1495685 , 3.59312715, 4.74368648],\n",
       "       [0.55190119, 1.02311983, 2.50398427, 3.48494563, 4.19537269]])"
      ]
     },
     "execution_count": 212,
     "metadata": {},
     "output_type": "execute_result"
    }
   ],
   "source": [
    "a + b"
   ]
  },
  {
   "cell_type": "code",
   "execution_count": 213,
   "id": "b1c9316e",
   "metadata": {},
   "outputs": [
    {
     "data": {
      "text/plain": [
       "array([[0.        , 0.33224488, 0.29913699, 1.77938144, 2.97474593],\n",
       "       [0.        , 0.02311983, 1.00796855, 1.45483688, 0.78149078]])"
      ]
     },
     "execution_count": 213,
     "metadata": {},
     "output_type": "execute_result"
    }
   ],
   "source": [
    "a * b"
   ]
  },
  {
   "cell_type": "markdown",
   "id": "0083f82c",
   "metadata": {},
   "source": [
    "### Vector product\n",
    "\n",
    "Given two equal-length column vectors $\\mathbf{u}=[u_1, u_2, u_3]^T$ and $\\mathbf{v}=[v_1, v_2, v_3]^T$, we can compute their inner, cross, and outer products."
   ]
  },
  {
   "cell_type": "code",
   "execution_count": 214,
   "id": "3beae4d6",
   "metadata": {},
   "outputs": [],
   "source": [
    "u = np.array([1, 2, 3])\n",
    "v = np.array([4, 5, 6])"
   ]
  },
  {
   "cell_type": "markdown",
   "id": "76285db3",
   "metadata": {},
   "source": [
    "- Inner product\n",
    "\n",
    "$$\n",
    "    \\mathbf{u}\\cdot\\mathbf{v} = u_1v_1 + u_2v_2 + u_3v_3\n",
    "$$"
   ]
  },
  {
   "cell_type": "code",
   "execution_count": 215,
   "id": "f7b5da01",
   "metadata": {},
   "outputs": [
    {
     "data": {
      "text/plain": [
       "32"
      ]
     },
     "execution_count": 215,
     "metadata": {},
     "output_type": "execute_result"
    }
   ],
   "source": [
    "np.dot(u, v)"
   ]
  },
  {
   "cell_type": "code",
   "execution_count": 216,
   "id": "c43e7ff8",
   "metadata": {},
   "outputs": [
    {
     "data": {
      "text/plain": [
       "32"
      ]
     },
     "execution_count": 216,
     "metadata": {},
     "output_type": "execute_result"
    }
   ],
   "source": [
    "# Or\n",
    "np.inner(u, v)"
   ]
  },
  {
   "cell_type": "code",
   "execution_count": 217,
   "id": "6c5fee8f",
   "metadata": {},
   "outputs": [
    {
     "data": {
      "text/plain": [
       "32"
      ]
     },
     "execution_count": 217,
     "metadata": {},
     "output_type": "execute_result"
    }
   ],
   "source": [
    "# Or\n",
    "u @ v"
   ]
  },
  {
   "cell_type": "markdown",
   "id": "0b74c49d",
   "metadata": {},
   "source": [
    "- Cross product\n",
    "\n",
    "$$\n",
    "    \\mathbf{u} \\times \\mathbf{v} = \n",
    "    \\begin{vmatrix}\n",
    "        \\mathbf{i}\\; &\\mathbf{j}\\; &\\mathbf{k} \\\\\n",
    "        u_1\\; &u_2\\; &u_3 \\\\\n",
    "        v_1\\; &v_2\\; &v_3\n",
    "    \\end{vmatrix}\n",
    "    =\n",
    "    \\begin{bmatrix}\n",
    "        u_2v_3 - u_3v_2 \\\\\n",
    "        u_3v_1 - u_1v_3 \\\\\n",
    "        u_1v_2 - u_2v_1\n",
    "    \\end{bmatrix}\n",
    "$$"
   ]
  },
  {
   "cell_type": "code",
   "execution_count": 218,
   "id": "0a8a2103",
   "metadata": {},
   "outputs": [
    {
     "data": {
      "text/plain": [
       "array([-3,  6, -3])"
      ]
     },
     "execution_count": 218,
     "metadata": {},
     "output_type": "execute_result"
    }
   ],
   "source": [
    "np.cross(u, v)"
   ]
  },
  {
   "cell_type": "markdown",
   "id": "29f88e48",
   "metadata": {},
   "source": [
    "- Outer product\n",
    "\n",
    "$$\n",
    "\\mathbf{u} \\otimes \\mathbf{v} = \\mathbf{u}\\mathbf{v}^T =\n",
    "    \\begin{bmatrix}\n",
    "        u_1 \\\\ u_2 \\\\ u_3\n",
    "    \\end{bmatrix}\n",
    "    \\begin{bmatrix}\n",
    "        v_1\\; v_2\\; v_3\n",
    "    \\end{bmatrix}\n",
    "    =\n",
    "    \\begin{bmatrix}\n",
    "        u_1v_1\\; &u_1v_2\\; &u_1v_3 \\\\\n",
    "        u_2v_1\\; &u_2v_2\\; &u_2v_3 \\\\\n",
    "        u_3v_1\\; &u_3v_2\\; &u_3v_3\n",
    "    \\end{bmatrix}\n",
    "$$"
   ]
  },
  {
   "cell_type": "code",
   "execution_count": 219,
   "id": "3ebca7e0",
   "metadata": {},
   "outputs": [
    {
     "data": {
      "text/plain": [
       "array([[ 4,  5,  6],\n",
       "       [ 8, 10, 12],\n",
       "       [12, 15, 18]])"
      ]
     },
     "execution_count": 219,
     "metadata": {},
     "output_type": "execute_result"
    }
   ],
   "source": [
    "u.reshape(3,1) @ v.reshape(1,3)"
   ]
  },
  {
   "cell_type": "code",
   "execution_count": 220,
   "id": "f6e431a7",
   "metadata": {},
   "outputs": [
    {
     "data": {
      "text/plain": [
       "array([[ 4,  5,  6],\n",
       "       [ 8, 10, 12],\n",
       "       [12, 15, 18]])"
      ]
     },
     "execution_count": 220,
     "metadata": {},
     "output_type": "execute_result"
    }
   ],
   "source": [
    "# Or\n",
    "np.outer(u, v)"
   ]
  },
  {
   "cell_type": "markdown",
   "id": "9759a53b",
   "metadata": {},
   "source": [
    "### Matrix"
   ]
  },
  {
   "cell_type": "code",
   "execution_count": 221,
   "id": "18fa086a",
   "metadata": {},
   "outputs": [
    {
     "data": {
      "text/plain": [
       "array([[1, 2, 3],\n",
       "       [6, 5, 4]])"
      ]
     },
     "execution_count": 221,
     "metadata": {},
     "output_type": "execute_result"
    }
   ],
   "source": [
    "A = np.array([[1, 2, 3],\n",
    "              [6, 5, 4]])\n",
    "A  # is a 2x3 matrix"
   ]
  },
  {
   "cell_type": "code",
   "execution_count": 222,
   "id": "da134e01",
   "metadata": {},
   "outputs": [
    {
     "data": {
      "text/plain": [
       "(2, 3)"
      ]
     },
     "execution_count": 222,
     "metadata": {},
     "output_type": "execute_result"
    }
   ],
   "source": [
    "A.shape"
   ]
  },
  {
   "cell_type": "code",
   "execution_count": 223,
   "id": "3f2fd1d5",
   "metadata": {},
   "outputs": [
    {
     "data": {
      "text/plain": [
       "array([[1., 0., 0., 0.],\n",
       "       [0., 1., 0., 0.],\n",
       "       [0., 0., 1., 0.],\n",
       "       [0., 0., 0., 1.]])"
      ]
     },
     "execution_count": 223,
     "metadata": {},
     "output_type": "execute_result"
    }
   ],
   "source": [
    "# Identity matrix: I\n",
    "np.eye(4)"
   ]
  },
  {
   "cell_type": "code",
   "execution_count": 224,
   "id": "0ebf61ab",
   "metadata": {},
   "outputs": [
    {
     "data": {
      "text/plain": [
       "array([[1, 6],\n",
       "       [2, 5],\n",
       "       [3, 4]])"
      ]
     },
     "execution_count": 224,
     "metadata": {},
     "output_type": "execute_result"
    }
   ],
   "source": [
    "# transpose\n",
    "A.T  # 2x3 to 3x2"
   ]
  },
  {
   "cell_type": "code",
   "execution_count": 225,
   "id": "1e596fd7",
   "metadata": {},
   "outputs": [
    {
     "data": {
      "text/plain": [
       "array([[1, 2, 3],\n",
       "       [6, 5, 4]])"
      ]
     },
     "execution_count": 225,
     "metadata": {},
     "output_type": "execute_result"
    }
   ],
   "source": [
    "A  # A is not modified by `.T` operation."
   ]
  },
  {
   "cell_type": "markdown",
   "id": "dd9edda8",
   "metadata": {},
   "source": [
    "#### Matrix product\n",
    "\n",
    "Introduced in NumPy 1.10.0, the @ operator is preferable to other methods when computing the matrix product between 2d arrays. The numpy.matmul function implements the @ operator."
   ]
  },
  {
   "cell_type": "code",
   "execution_count": 226,
   "id": "5dcc3bee",
   "metadata": {},
   "outputs": [
    {
     "data": {
      "text/plain": [
       "array([2, 5])"
      ]
     },
     "execution_count": 226,
     "metadata": {},
     "output_type": "execute_result"
    }
   ],
   "source": [
    "# matrix-vector product\n",
    "A @ np.array([0, 1, 0])"
   ]
  },
  {
   "cell_type": "code",
   "execution_count": 227,
   "id": "67fff7f9",
   "metadata": {},
   "outputs": [
    {
     "data": {
      "text/plain": [
       "array([[14, 28],\n",
       "       [28, 77]])"
      ]
     },
     "execution_count": 227,
     "metadata": {},
     "output_type": "execute_result"
    }
   ],
   "source": [
    "# matrix-matrix product\n",
    "A @ A.T"
   ]
  },
  {
   "cell_type": "markdown",
   "id": "559e3c60",
   "metadata": {},
   "source": [
    "#### Linear algebra operations\n",
    "Linear algebra operations are provided in the sub-module `numpy.linalg`."
   ]
  },
  {
   "cell_type": "code",
   "execution_count": 228,
   "id": "bbc7a415",
   "metadata": {},
   "outputs": [
    {
     "data": {
      "text/plain": [
       "array([[1, 2, 3],\n",
       "       [6, 5, 4],\n",
       "       [8, 9, 7]])"
      ]
     },
     "execution_count": 228,
     "metadata": {},
     "output_type": "execute_result"
    }
   ],
   "source": [
    "M = np.array([[1, 2, 3],\n",
    "              [6, 5, 4],\n",
    "              [8, 9, 7]])\n",
    "M  # is a 3x3 matrix"
   ]
  },
  {
   "cell_type": "code",
   "execution_count": 229,
   "id": "44a84631",
   "metadata": {},
   "outputs": [
    {
     "data": {
      "text/plain": [
       "13"
      ]
     },
     "execution_count": 229,
     "metadata": {},
     "output_type": "execute_result"
    }
   ],
   "source": [
    "# trace\n",
    "np.trace(M)"
   ]
  },
  {
   "cell_type": "code",
   "execution_count": 230,
   "id": "bd3835f4",
   "metadata": {},
   "outputs": [
    {
     "data": {
      "text/plain": [
       "20.99999999999999"
      ]
     },
     "execution_count": 230,
     "metadata": {},
     "output_type": "execute_result"
    }
   ],
   "source": [
    "# determinant\n",
    "np.linalg.det(M) # requires a square matrix"
   ]
  },
  {
   "cell_type": "code",
   "execution_count": 231,
   "id": "2089bcad",
   "metadata": {},
   "outputs": [
    {
     "data": {
      "text/plain": [
       "16.881943016134134"
      ]
     },
     "execution_count": 231,
     "metadata": {},
     "output_type": "execute_result"
    }
   ],
   "source": [
    "# norms\n",
    "np.linalg.norm(M)"
   ]
  },
  {
   "cell_type": "code",
   "execution_count": 232,
   "id": "948eb1b6",
   "metadata": {},
   "outputs": [
    {
     "data": {
      "text/plain": [
       "24.845262802688694"
      ]
     },
     "execution_count": 232,
     "metadata": {},
     "output_type": "execute_result"
    }
   ],
   "source": [
    "# condition number\n",
    "np.linalg.cond(M)"
   ]
  },
  {
   "cell_type": "markdown",
   "id": "c5e949b9",
   "metadata": {},
   "source": [
    "- Matrix inversion\n",
    "\n",
    "$$\n",
    "    \\mathbf{M}\\mathbf{M}^{-1} = \\mathbf{M}^{-1}\\mathbf{M} = \\mathbf{I}\n",
    "$$"
   ]
  },
  {
   "cell_type": "code",
   "execution_count": 233,
   "id": "16ad7d09",
   "metadata": {},
   "outputs": [
    {
     "data": {
      "text/plain": [
       "array([[-0.04761905,  0.61904762, -0.33333333],\n",
       "       [-0.47619048, -0.80952381,  0.66666667],\n",
       "       [ 0.66666667,  0.33333333, -0.33333333]])"
      ]
     },
     "execution_count": 233,
     "metadata": {},
     "output_type": "execute_result"
    }
   ],
   "source": [
    "# matrix inversion\n",
    "np.linalg.inv(M)"
   ]
  },
  {
   "cell_type": "markdown",
   "id": "38d1fa2d",
   "metadata": {},
   "source": [
    "- Eigenvalue\n",
    "\n",
    "$$\n",
    "    \\mathbf{A}\\mathbf{x} = \\lambda \\mathbf{x}\n",
    "$$\n",
    "\n",
    "$\\lambda$ is called eigenvalue, and its corresponding $\\mathbf{x}$ is called eigenvector."
   ]
  },
  {
   "cell_type": "code",
   "execution_count": 234,
   "id": "5b98d7fa",
   "metadata": {},
   "outputs": [
    {
     "data": {
      "text/plain": [
       "(array([14.78674789+0.j        , -0.89337394+0.78871641j,\n",
       "        -0.89337394-0.78871641j]),\n",
       " array([[ 0.2527029 +0.j        , -0.53434387+0.31563923j,\n",
       "         -0.53434387-0.31563923j],\n",
       "        [ 0.49476275+0.j        ,  0.67841481+0.j        ,\n",
       "          0.67841481-0.j        ],\n",
       "        [ 0.83147523+0.j        , -0.19802223-0.33968963j,\n",
       "         -0.19802223+0.33968963j]]))"
      ]
     },
     "execution_count": 234,
     "metadata": {},
     "output_type": "execute_result"
    }
   ],
   "source": [
    "# eigen values and eigen vectors\n",
    "np.linalg.eig(M)"
   ]
  },
  {
   "cell_type": "markdown",
   "id": "c9273aca",
   "metadata": {},
   "source": [
    "- QR decomposition"
   ]
  },
  {
   "cell_type": "code",
   "execution_count": 236,
   "id": "03120b09",
   "metadata": {},
   "outputs": [],
   "source": [
    "# QR decomposition: M = QR\n",
    "Q, R = np.linalg.qr(M)"
   ]
  },
  {
   "cell_type": "code",
   "execution_count": 237,
   "id": "1aa258ec",
   "metadata": {},
   "outputs": [
    {
     "data": {
      "text/plain": [
       "array([[-0.09950372,  0.56871112, -0.81649658],\n",
       "       [-0.59702231, -0.69057779, -0.40824829],\n",
       "       [-0.79602975,  0.44684446,  0.40824829]])"
      ]
     },
     "execution_count": 237,
     "metadata": {},
     "output_type": "execute_result"
    }
   ],
   "source": [
    "Q"
   ]
  },
  {
   "cell_type": "code",
   "execution_count": 238,
   "id": "baa2845a",
   "metadata": {},
   "outputs": [
    {
     "data": {
      "text/plain": [
       "array([[-10.04987562, -10.34838678,  -8.25880868],\n",
       "       [  0.        ,   1.70613337,   2.07173338],\n",
       "       [  0.        ,   0.        ,  -1.22474487]])"
      ]
     },
     "execution_count": 238,
     "metadata": {},
     "output_type": "execute_result"
    }
   ],
   "source": [
    "R"
   ]
  },
  {
   "cell_type": "code",
   "execution_count": 239,
   "id": "e7a2df22",
   "metadata": {},
   "outputs": [
    {
     "data": {
      "text/plain": [
       "array([[1., 2., 3.],\n",
       "       [6., 5., 4.],\n",
       "       [8., 9., 7.]])"
      ]
     },
     "execution_count": 239,
     "metadata": {},
     "output_type": "execute_result"
    }
   ],
   "source": [
    "Q @ R"
   ]
  },
  {
   "cell_type": "code",
   "execution_count": 240,
   "id": "a80c7fda",
   "metadata": {},
   "outputs": [
    {
     "data": {
      "text/plain": [
       "array([[1, 2, 3],\n",
       "       [6, 5, 4]])"
      ]
     },
     "execution_count": 240,
     "metadata": {},
     "output_type": "execute_result"
    }
   ],
   "source": [
    "A"
   ]
  },
  {
   "cell_type": "code",
   "execution_count": 241,
   "id": "963acc01",
   "metadata": {},
   "outputs": [
    {
     "data": {
      "text/plain": [
       "(array([[-0.16439899, -0.98639392],\n",
       "        [-0.98639392,  0.16439899]]),\n",
       " array([[-6.08276253, -5.26076759, -4.43877266],\n",
       "        [ 0.        , -1.15079291, -2.30158582]]))"
      ]
     },
     "execution_count": 241,
     "metadata": {},
     "output_type": "execute_result"
    }
   ],
   "source": [
    "np.linalg.qr(A)"
   ]
  },
  {
   "cell_type": "markdown",
   "id": "c51f3efd",
   "metadata": {},
   "source": [
    "- Sigular value decompostion (SVD)"
   ]
  },
  {
   "cell_type": "code",
   "execution_count": 242,
   "id": "a849b242",
   "metadata": {},
   "outputs": [
    {
     "data": {
      "text/plain": [
       "((2, 2), (2,), (2, 3))"
      ]
     },
     "execution_count": 242,
     "metadata": {},
     "output_type": "execute_result"
    }
   ],
   "source": [
    "# Sigular value decomposition (SVD): M = UsV\n",
    "U, s, V = np.linalg.svd(A, full_matrices=False)\n",
    "U.shape, s.shape, V.shape"
   ]
  },
  {
   "cell_type": "code",
   "execution_count": 243,
   "id": "9dd24847",
   "metadata": {},
   "outputs": [
    {
     "data": {
      "text/plain": [
       "array([[1., 2., 3.],\n",
       "       [6., 5., 4.]])"
      ]
     },
     "execution_count": 243,
     "metadata": {},
     "output_type": "execute_result"
    }
   ],
   "source": [
    "U @ np.diag(s) @ V"
   ]
  },
  {
   "cell_type": "markdown",
   "id": "686cd509",
   "metadata": {},
   "source": [
    "### Solving linear systems\n",
    "\n",
    "Given a set of linear equations:\n",
    "\n",
    "$$\n",
    "\\begin{cases}\n",
    "a_{11} x_1 + a_{12} x_2 +\\dots + a_{1n} x_n = b_1 \\\\\n",
    "a_{21} x_1 + a_{22} x_2  + \\dots + a_{2n} x_n = b_2 \\\\ \n",
    "\\vdots\\\\\n",
    "a_{m1} x_1 + a_{m2} x_2 + \\dots + a_{mn} x_n = b_m,\n",
    "\\end{cases}\n",
    "$$\n",
    "\n",
    "where $x_1, x_2,\\dots,x_n$ are the unknowns, $a_{11},a_{12},\\dots,a_{mn}$ are the coefficients of the system such that $a_{11} + a_{12} + \\dots + a_{mn}\\neq 0$, and $b_1,b_2,\\dots,b_m$ are the constant terms.\n",
    "\n",
    "We can reformulate it into a matrix form,\n",
    "\n",
    "$$\n",
    "\\mathbf{A}\\mathbf{x} = \\mathbf{b}\n",
    "$$\n",
    "\n",
    "where $\\mathbf{A}$ is an $m\\times n$ matrix, $\\mathbf{x}$ is a column vector with $n$ entries, and $\\mathbf{b}$ is a column vector with $m$ entries.\n",
    "\n",
    "$$\n",
    "\\mathbf{A} =\n",
    "\\begin{bmatrix}\n",
    "a_{11} & a_{12} & \\cdots & a_{1n} \\\\\n",
    "a_{21} & a_{22} & \\cdots & a_{2n} \\\\\n",
    "\\vdots & \\vdots & \\ddots & \\vdots \\\\\n",
    "a_{m1} & a_{m2} & \\cdots & a_{mn}\n",
    "\\end{bmatrix},\\quad\n",
    "\\mathbf{x}=\n",
    "\\begin{bmatrix}\n",
    "x_1 \\\\\n",
    "x_2 \\\\\n",
    "\\vdots \\\\\n",
    "x_n\n",
    "\\end{bmatrix},\\quad\n",
    "\\mathbf{b}=\n",
    "\\begin{bmatrix}\n",
    "b_1 \\\\\n",
    "b_2 \\\\\n",
    "\\vdots \\\\\n",
    "b_m\n",
    "\\end{bmatrix}\n",
    "$$\n",
    "\n",
    "If $\\mathbf{A}$ is nonsigular, the solution is\n",
    "\n",
    "$$\n",
    "\\mathbf{x} = \\mathbf{A}^{-1}\\mathbf{b}\n",
    "$$"
   ]
  },
  {
   "cell_type": "markdown",
   "id": "c5555416",
   "metadata": {},
   "source": [
    "#### Example\n",
    "\n",
    "Can you solve the following linear system?\n",
    "\n",
    "$$\n",
    "\\begin{cases}\n",
    "x_1 - x_3 = 1 \\\\\n",
    "4x_1 + x_2  + x_3 = 2 \\\\ \n",
    "3x_1 + 2x_2  - 5x_3 = 3\n",
    "\\end{cases}\n",
    "$$"
   ]
  },
  {
   "cell_type": "code",
   "execution_count": 244,
   "id": "26551be3",
   "metadata": {},
   "outputs": [],
   "source": [
    "A = np.array([[1, 0, -1],\n",
    "              [4, 1, 1],\n",
    "              [3, 2, -5]])"
   ]
  },
  {
   "cell_type": "code",
   "execution_count": 245,
   "id": "11c44a2b",
   "metadata": {},
   "outputs": [],
   "source": [
    "b = np.array([1, 2, 3])"
   ]
  },
  {
   "cell_type": "code",
   "execution_count": 246,
   "id": "a6323947",
   "metadata": {},
   "outputs": [
    {
     "data": {
      "text/plain": [
       "array([ 0.66666667, -0.33333333, -0.33333333])"
      ]
     },
     "execution_count": 246,
     "metadata": {},
     "output_type": "execute_result"
    }
   ],
   "source": [
    "x = np.linalg.inv(A) @ b\n",
    "x"
   ]
  },
  {
   "cell_type": "markdown",
   "id": "e0c73668",
   "metadata": {},
   "source": [
    "In practice, we should use `numpy.linalg.solve` function,"
   ]
  },
  {
   "cell_type": "code",
   "execution_count": 247,
   "id": "8ec0579e",
   "metadata": {},
   "outputs": [
    {
     "data": {
      "text/plain": [
       "array([ 0.66666667, -0.33333333, -0.33333333])"
      ]
     },
     "execution_count": 247,
     "metadata": {},
     "output_type": "execute_result"
    }
   ],
   "source": [
    "x = np.linalg.solve(A, b)\n",
    "x"
   ]
  },
  {
   "cell_type": "markdown",
   "id": "b1ec9d4b",
   "metadata": {},
   "source": [
    "## Polynomials\n",
    "\n",
    "Numpy can create, manipulate, evaluate, and even fit polynomials with the form\n",
    "\n",
    "$$\n",
    "    p(x) = \\sum_{i=0}^{n} a_ix^i = a_0 + a_1x^1 + a_2x^2 + a_3x^3 + \\dots + a_nx^n\n",
    "$$\n",
    "\n",
    "Other polynomials, like **Chebyshev, Legendre, Laguerre, Hermite, HermiteE**, are also supported. And they share all APIs with the standard polynomials.\n",
    "\n",
    "Following we use the following polynomial as an example:\n",
    "\n",
    "$$\n",
    "    p(x) = 1 + 2x + 3x^2\n",
    "$$"
   ]
  },
  {
   "cell_type": "code",
   "execution_count": 248,
   "id": "6b3582b7",
   "metadata": {},
   "outputs": [],
   "source": [
    "from numpy.polynomial import Polynomial"
   ]
  },
  {
   "cell_type": "code",
   "execution_count": 249,
   "id": "45467502",
   "metadata": {},
   "outputs": [
    {
     "data": {
      "text/latex": [
       "$x \\mapsto \\text{1.0} + \\text{2.0}\\,x + \\text{3.0}\\,x^{2}$"
      ],
      "text/plain": [
       "Polynomial([1., 2., 3.], domain=[-1,  1], window=[-1,  1], symbol='x')"
      ]
     },
     "execution_count": 249,
     "metadata": {},
     "output_type": "execute_result"
    }
   ],
   "source": [
    "# Creation from coefficients\n",
    "p = Polynomial([1, 2, 3])\n",
    "p"
   ]
  },
  {
   "cell_type": "markdown",
   "id": "176b810a",
   "metadata": {},
   "source": [
    "If a polynomial's all roots are ${r_1, r_2, \\dots, r_n}$, then it can be expressed as\n",
    "\n",
    "$$\n",
    "    p(x) = (x-r_1)(x-r_2)\\cdots(x-r_n)\n",
    "$$\n",
    "\n",
    "Example:\n",
    "\n",
    "$$\n",
    "    p(x) = (x - 1)(x + 1) = -1 + x^2\n",
    "$$"
   ]
  },
  {
   "cell_type": "code",
   "execution_count": 251,
   "id": "8b546d8f",
   "metadata": {},
   "outputs": [
    {
     "data": {
      "text/latex": [
       "$x \\mapsto \\text{-36.0}\\color{LightGray}{ + \\text{0.0}\\,x} + \\text{49.0}\\,x^{2}\\color{LightGray}{ + \\text{0.0}\\,x^{3}} - \\text{14.0}\\,x^{4}\\color{LightGray}{ + \\text{0.0}\\,x^{5}} + \\text{1.0}\\,x^{6}$"
      ],
      "text/plain": [
       "Polynomial([-36.,   0.,  49.,   0., -14.,   0.,   1.], domain=[-1.,  1.], window=[-1.,  1.], symbol='x')"
      ]
     },
     "execution_count": 251,
     "metadata": {},
     "output_type": "execute_result"
    }
   ],
   "source": [
    "# Creation from roots\n",
    "Polynomial.fromroots([-1, -2, -3, 1, 2, 3])"
   ]
  },
  {
   "cell_type": "markdown",
   "id": "efecca1c",
   "metadata": {},
   "source": [
    "- Addition\n",
    "\n",
    "$$\n",
    "    p(x) + p(x) = (1 + 2x + 3x^2) + (1 + 2x + 3x^2)\n",
    "$$"
   ]
  },
  {
   "cell_type": "code",
   "execution_count": 252,
   "id": "8f72924b",
   "metadata": {},
   "outputs": [
    {
     "data": {
      "text/latex": [
       "$x \\mapsto \\text{2.0} + \\text{4.0}\\,x + \\text{6.0}\\,x^{2}$"
      ],
      "text/plain": [
       "Polynomial([2., 4., 6.], domain=[-1.,  1.], window=[-1.,  1.], symbol='x')"
      ]
     },
     "execution_count": 252,
     "metadata": {},
     "output_type": "execute_result"
    }
   ],
   "source": [
    "# Addition\n",
    "p + p"
   ]
  },
  {
   "cell_type": "markdown",
   "id": "2371a06b",
   "metadata": {},
   "source": [
    "$$\n",
    "(1 + 2x + 3x^2) + (0 + 1x + 2x^2 + 3x^3)\n",
    "$$"
   ]
  },
  {
   "cell_type": "code",
   "execution_count": 254,
   "id": "dec2808e",
   "metadata": {},
   "outputs": [
    {
     "data": {
      "text/latex": [
       "$x \\mapsto \\text{1.0} + \\text{3.0}\\,x + \\text{5.0}\\,x^{2} + \\text{3.0}\\,x^{3}$"
      ],
      "text/plain": [
       "Polynomial([1., 3., 5., 3.], domain=[-1.,  1.], window=[-1.,  1.], symbol='x')"
      ]
     },
     "execution_count": 254,
     "metadata": {},
     "output_type": "execute_result"
    }
   ],
   "source": [
    "# List and array are implicitly converted to a polynomial before manipulation.\n",
    "p + [0, 1, 2, 3]"
   ]
  },
  {
   "cell_type": "code",
   "execution_count": 253,
   "id": "4406219d",
   "metadata": {},
   "outputs": [
    {
     "data": {
      "text/latex": [
       "$x \\mapsto \\text{1.0} + \\text{3.0}\\,x + \\text{5.0}\\,x^{2} + \\text{3.0}\\,x^{3}$"
      ],
      "text/plain": [
       "Polynomial([1., 3., 5., 3.], domain=[-1.,  1.], window=[-1.,  1.], symbol='x')"
      ]
     },
     "execution_count": 253,
     "metadata": {},
     "output_type": "execute_result"
    }
   ],
   "source": [
    "p + Polynomial([0, 1, 2, 3])"
   ]
  },
  {
   "cell_type": "markdown",
   "id": "5abd7e2a",
   "metadata": {},
   "source": [
    "- Subtraction\n",
    "\n",
    "$$\n",
    "    p(x) - p(x) = (1 + 2x + 3x^2) - (1 + 2x + 3x^2)\n",
    "$$"
   ]
  },
  {
   "cell_type": "code",
   "execution_count": 255,
   "id": "5f7f2468",
   "metadata": {},
   "outputs": [
    {
     "data": {
      "text/latex": [
       "$x \\mapsto \\color{LightGray}{\\text{0.0}}$"
      ],
      "text/plain": [
       "Polynomial([0.], domain=[-1.,  1.], window=[-1.,  1.], symbol='x')"
      ]
     },
     "execution_count": 255,
     "metadata": {},
     "output_type": "execute_result"
    }
   ],
   "source": [
    "# Subtraction\n",
    "p - p"
   ]
  },
  {
   "cell_type": "markdown",
   "id": "d746ea26",
   "metadata": {},
   "source": [
    "- Multiplication\n",
    "\n",
    "$$\n",
    "    p(x)p(x) = (1 + 2x + 3x^2)(1 + 2x + 3x^2)\n",
    "$$"
   ]
  },
  {
   "cell_type": "code",
   "execution_count": 256,
   "id": "520c7977",
   "metadata": {},
   "outputs": [
    {
     "data": {
      "text/latex": [
       "$x \\mapsto \\text{1.0} + \\text{4.0}\\,x + \\text{10.0}\\,x^{2} + \\text{12.0}\\,x^{3} + \\text{9.0}\\,x^{4}$"
      ],
      "text/plain": [
       "Polynomial([ 1.,  4., 10., 12.,  9.], domain=[-1.,  1.], window=[-1.,  1.], symbol='x')"
      ]
     },
     "execution_count": 256,
     "metadata": {},
     "output_type": "execute_result"
    }
   ],
   "source": [
    "# Multiplication\n",
    "p * p"
   ]
  },
  {
   "cell_type": "markdown",
   "id": "ce7ce944",
   "metadata": {},
   "source": [
    "- Powers\n",
    "\n",
    "$$\n",
    "    p(x)^3 = (1 + 2x + 3x^2)^3\n",
    "$$"
   ]
  },
  {
   "cell_type": "code",
   "execution_count": 257,
   "id": "8d4ef1dc",
   "metadata": {},
   "outputs": [
    {
     "data": {
      "text/latex": [
       "$x \\mapsto \\text{1.0} + \\text{6.0}\\,x + \\text{21.0}\\,x^{2} + \\text{44.0}\\,x^{3} + \\text{63.0}\\,x^{4} + \\text{54.0}\\,x^{5} + \\text{27.0}\\,x^{6}$"
      ],
      "text/plain": [
       "Polynomial([ 1.,  6., 21., 44., 63., 54., 27.], domain=[-1.,  1.], window=[-1.,  1.], symbol='x')"
      ]
     },
     "execution_count": 257,
     "metadata": {},
     "output_type": "execute_result"
    }
   ],
   "source": [
    "# Powers\n",
    "p**3"
   ]
  },
  {
   "cell_type": "markdown",
   "id": "504b9e3d",
   "metadata": {},
   "source": [
    "- Division\n",
    "\n",
    "$$\n",
    "    \\frac{p(x)}{-1 + x} = \\frac{1 + 2x + 3x^2}{x-1} = 3x + 5\n",
    "$$\n",
    "\n",
    "with remainder $-6$."
   ]
  },
  {
   "cell_type": "code",
   "execution_count": 258,
   "id": "51987d96",
   "metadata": {},
   "outputs": [
    {
     "data": {
      "text/latex": [
       "$x \\mapsto \\text{5.0} + \\text{3.0}\\,x$"
      ],
      "text/plain": [
       "Polynomial([5., 3.], domain=[-1.,  1.], window=[-1.,  1.], symbol='x')"
      ]
     },
     "execution_count": 258,
     "metadata": {},
     "output_type": "execute_result"
    }
   ],
   "source": [
    "# Division\n",
    "p // [-1, 1] # other division: %, divmod"
   ]
  },
  {
   "cell_type": "code",
   "execution_count": 259,
   "id": "bdd6448c",
   "metadata": {},
   "outputs": [
    {
     "data": {
      "text/plain": [
       "17.0"
      ]
     },
     "execution_count": 259,
     "metadata": {},
     "output_type": "execute_result"
    }
   ],
   "source": [
    "# Evaluation\n",
    "p(2.0)"
   ]
  },
  {
   "cell_type": "code",
   "execution_count": 260,
   "id": "4dd00b41",
   "metadata": {},
   "outputs": [
    {
     "data": {
      "text/plain": [
       "array([ 1.,  6., 17., 34., 57., 86.])"
      ]
     },
     "execution_count": 260,
     "metadata": {},
     "output_type": "execute_result"
    }
   ],
   "source": [
    "p(np.arange(6))"
   ]
  },
  {
   "cell_type": "code",
   "execution_count": 261,
   "id": "0c9762d5",
   "metadata": {},
   "outputs": [
    {
     "data": {
      "text/plain": [
       "array([[ 1.,  6., 17.],\n",
       "       [34., 57., 86.]])"
      ]
     },
     "execution_count": 261,
     "metadata": {},
     "output_type": "execute_result"
    }
   ],
   "source": [
    "p(np.arange(6).reshape(2, 3))"
   ]
  },
  {
   "cell_type": "code",
   "execution_count": 262,
   "id": "4b187f59",
   "metadata": {},
   "outputs": [
    {
     "data": {
      "text/latex": [
       "$x \\mapsto \\text{6.0} + \\text{16.0}\\,x + \\text{36.0}\\,x^{2} + \\text{36.0}\\,x^{3} + \\text{27.0}\\,x^{4}$"
      ],
      "text/plain": [
       "Polynomial([ 6., 16., 36., 36., 27.], domain=[-1.,  1.], window=[-1.,  1.], symbol='x')"
      ]
     },
     "execution_count": 262,
     "metadata": {},
     "output_type": "execute_result"
    }
   ],
   "source": [
    "# Substitution\n",
    "p(p)"
   ]
  },
  {
   "cell_type": "code",
   "execution_count": 263,
   "id": "bf2df98c",
   "metadata": {},
   "outputs": [
    {
     "data": {
      "text/plain": [
       "array([-0.33333333-0.47140452j, -0.33333333+0.47140452j])"
      ]
     },
     "execution_count": 263,
     "metadata": {},
     "output_type": "execute_result"
    }
   ],
   "source": [
    "# Roots\n",
    "p.roots()"
   ]
  },
  {
   "cell_type": "markdown",
   "id": "3b866a2a",
   "metadata": {},
   "source": [
    "- Integration\n",
    "\n",
    "$$\n",
    "    \\int p(x)dx = \\int (1 + 2x + 3x^2) dx\n",
    "$$"
   ]
  },
  {
   "cell_type": "code",
   "execution_count": 264,
   "id": "e449d798",
   "metadata": {},
   "outputs": [
    {
     "data": {
      "text/latex": [
       "$x \\mapsto \\color{LightGray}{\\text{0.0}} + \\text{1.0}\\,x + \\text{1.0}\\,x^{2} + \\text{1.0}\\,x^{3}$"
      ],
      "text/plain": [
       "Polynomial([0., 1., 1., 1.], domain=[-1.,  1.], window=[-1.,  1.], symbol='x')"
      ]
     },
     "execution_count": 264,
     "metadata": {},
     "output_type": "execute_result"
    }
   ],
   "source": [
    "# Integration\n",
    "p.integ()"
   ]
  },
  {
   "cell_type": "code",
   "execution_count": 265,
   "id": "b8667fbf",
   "metadata": {},
   "outputs": [
    {
     "data": {
      "text/latex": [
       "$x \\mapsto \\color{LightGray}{\\text{0.0}}\\color{LightGray}{ + \\text{0.0}\\,x} + \\text{0.5}\\,x^{2} + \\text{0.33333333}\\,x^{3} + \\text{0.25}\\,x^{4}$"
      ],
      "text/plain": [
       "Polynomial([0.        , 0.        , 0.5       , 0.33333333, 0.25      ], domain=[-1.,  1.], window=[-1.,  1.], symbol='x')"
      ]
     },
     "execution_count": 265,
     "metadata": {},
     "output_type": "execute_result"
    }
   ],
   "source": [
    "# Do integration twice\n",
    "p.integ(2)"
   ]
  },
  {
   "cell_type": "markdown",
   "id": "ce44a8d1",
   "metadata": {},
   "source": [
    "- Differentiation\n",
    "\n",
    "$$\n",
    "    \\frac{dp(x)}{dx} = \\frac{d}{dx}(1 + 2x + 3x^2)\n",
    "$$"
   ]
  },
  {
   "cell_type": "code",
   "execution_count": 266,
   "id": "97a1cdfc",
   "metadata": {},
   "outputs": [
    {
     "data": {
      "text/latex": [
       "$x \\mapsto \\text{2.0} + \\text{6.0}\\,x$"
      ],
      "text/plain": [
       "Polynomial([2., 6.], domain=[-1.,  1.], window=[-1.,  1.], symbol='x')"
      ]
     },
     "execution_count": 266,
     "metadata": {},
     "output_type": "execute_result"
    }
   ],
   "source": [
    "# Differentiation\n",
    "p.deriv()"
   ]
  },
  {
   "cell_type": "code",
   "execution_count": 267,
   "id": "d4d17df7",
   "metadata": {},
   "outputs": [
    {
     "data": {
      "text/latex": [
       "$x \\mapsto \\text{6.0}$"
      ],
      "text/plain": [
       "Polynomial([6.], domain=[-1.,  1.], window=[-1.,  1.], symbol='x')"
      ]
     },
     "execution_count": 267,
     "metadata": {},
     "output_type": "execute_result"
    }
   ],
   "source": [
    "# Do differentiation twice\n",
    "p.deriv(2)"
   ]
  },
  {
   "cell_type": "markdown",
   "id": "7f5131bb",
   "metadata": {},
   "source": [
    "### Exercises\n",
    "\n",
    "1. Find the roots of the equation: $5x^3 + 2x + 7 = 0$.\n",
    "2. Factorize the polynomial: $x^3 - 7x + 6$.\n",
    "3. Expand the expression to polynomials: $(x-4)(x+5)(x-7)(x+8)$."
   ]
  },
  {
   "cell_type": "code",
   "execution_count": null,
   "id": "8513e4b0",
   "metadata": {},
   "outputs": [],
   "source": [
    "# Do exercises below\n"
   ]
  },
  {
   "cell_type": "markdown",
   "id": "f9fdff0c",
   "metadata": {},
   "source": [
    "## Interpolation\n",
    "\n",
    "**Interpolation problem:** Given $n+1$ distinct points $(t_0, y_0), (t_1, y_1), \\dots, (t_n, y_n)$, with $t_0<t_1<t_2<\\dots<t_n$, find a function $p(x)$, called the **interpolant**, such that $p(t_k)=y_k$ for $k=0, 1, 2, \\dots, n$.\n",
    "\n",
    "SciPy supports many interpolation methods, such as linear, cubic spline, cubic Hermite spline, etc. "
   ]
  },
  {
   "cell_type": "code",
   "execution_count": null,
   "id": "fe61ccf8",
   "metadata": {},
   "outputs": [],
   "source": [
    "import matplotlib.pyplot as plt\n",
    "from scipy.interpolate import interp1d"
   ]
  },
  {
   "cell_type": "code",
   "execution_count": null,
   "id": "90e2b36b",
   "metadata": {},
   "outputs": [],
   "source": [
    "def f(x):\n",
    "    return np.exp(np.sin(7*x))"
   ]
  },
  {
   "cell_type": "code",
   "execution_count": null,
   "id": "c7c58429",
   "metadata": {},
   "outputs": [],
   "source": [
    "x = np.arange(0.0, 1.01, 0.1)\n",
    "y = f(x)\n",
    "plt.plot(x, y, 'o')"
   ]
  },
  {
   "cell_type": "code",
   "execution_count": null,
   "id": "c3089c7d",
   "metadata": {},
   "outputs": [],
   "source": [
    "fp = interp1d(x, y, 'cubic')\n",
    "xp = np.arange(0.0, 1.001, 0.01)\n",
    "yp = fp(xp)\n",
    "plt.plot(x, y, 'o', xp, yp, '-')\n",
    "# plt.plot(xp, f(xp))"
   ]
  },
  {
   "cell_type": "markdown",
   "id": "4f35c408",
   "metadata": {},
   "source": [
    "### Exercises\n",
    "\n",
    "Given the following functions:\n",
    "\n",
    "(a) $\\cos(\\pi^2x^2), x\\in[0, 1], n=7.$  \n",
    "(b) $\\ln(x), x\\in[1, 3], n=5.$  \n",
    "(c) $\\sin(x^2), x\\in[0, 2.5], n=6.$\n",
    "\n",
    "1. Fit them with a linear interpoation.\n",
    "2. Fit them with a quadratic spline interpolation.\n",
    "3. Fit them with a cubic spline interpolation.\n",
    "4. (Optional) Fit them with a cubic Hermite spline interpolation."
   ]
  },
  {
   "cell_type": "markdown",
   "id": "0dab6cf4",
   "metadata": {},
   "source": [
    "## Rootfinding\n",
    "\n",
    "**Rootfinding problem:** Given a continuous scalar function $f$ of a scalar variable, find a real number $r$ such that $f(r)=0$.\n",
    "\n",
    "For roots of polynomials, we use `numpy.polynomial.Polynomial.roots`. For other nonlinear equations, we can use the methods provided in the subpackakge of SciPy, `scipy.optimize`.\n",
    "\n",
    "Example:\n",
    "\n",
    "$$\n",
    "    f(x) = x^2 - e^{-x} = 0, x\\in[-2, 2]\n",
    "$$"
   ]
  },
  {
   "cell_type": "code",
   "execution_count": null,
   "id": "68c3fd9e",
   "metadata": {},
   "outputs": [],
   "source": [
    "def f(x):\n",
    "    return x**2 - np.exp(-x)"
   ]
  },
  {
   "cell_type": "code",
   "execution_count": null,
   "id": "5184a673",
   "metadata": {},
   "outputs": [],
   "source": [
    "x = np.arange(-2, 2, 0.01)\n",
    "plt.plot(x, f(x))\n",
    "plt.plot([-2, 2], [0, 0])"
   ]
  },
  {
   "cell_type": "code",
   "execution_count": null,
   "id": "707c695e",
   "metadata": {},
   "outputs": [],
   "source": [
    "from scipy.optimize import root_scalar"
   ]
  },
  {
   "cell_type": "code",
   "execution_count": null,
   "id": "9f805a21",
   "metadata": {},
   "outputs": [],
   "source": [
    "root_scalar(f, bracket=[-2, 2], method='bisect')"
   ]
  },
  {
   "cell_type": "code",
   "execution_count": null,
   "id": "a8dbc1d0",
   "metadata": {},
   "outputs": [],
   "source": [
    "root_scalar(f, bracket=[-2,2], method='brentq')"
   ]
  },
  {
   "cell_type": "code",
   "execution_count": null,
   "id": "de88410c",
   "metadata": {},
   "outputs": [],
   "source": [
    "def df(x):\n",
    "    return 2*x + np.exp(-x)"
   ]
  },
  {
   "cell_type": "code",
   "execution_count": null,
   "id": "562534f7",
   "metadata": {},
   "outputs": [],
   "source": [
    "root_scalar(f, x0=0.0, fprime=df, method='newton')"
   ]
  },
  {
   "cell_type": "markdown",
   "id": "bf1766aa",
   "metadata": {},
   "source": [
    "### Exercises\n",
    "\n",
    "Find the roots of following equations:\n",
    "\n",
    "1. $2x = \\tan(x), x \\in [-0.2, 1.4].$\n",
    "2. $e^{x+1} = 2 + x, x\\in[-2,2].$\n",
    "3. $x^{-2} = \\sin(x), x\\in[0.5, 4\\pi].$ Hint: there are multiple roots. Plot the function to help you find the correct intial guesses."
   ]
  },
  {
   "cell_type": "markdown",
   "id": "f303cfd7",
   "metadata": {},
   "source": [
    "## Optimization\n",
    "\n",
    "**Optimization problem:** Given a continuous function $f$ of a scalar variable, find a real number $r$ such that $f(r)$ is the (global) minimum (maximum) of the function.\n",
    "\n",
    "SciPy provides functions for solving the optimization problem in the subpacakge `scipy.optimize`.\n",
    "\n",
    "Example:\n",
    "\n",
    "$$\n",
    "    f(x) = e^{-x^2}\\cos(2x)\n",
    "$$"
   ]
  },
  {
   "cell_type": "code",
   "execution_count": null,
   "id": "fea54b3a",
   "metadata": {},
   "outputs": [],
   "source": [
    "from scipy.optimize import minimize_scalar"
   ]
  },
  {
   "cell_type": "code",
   "execution_count": null,
   "id": "4524efc7",
   "metadata": {},
   "outputs": [],
   "source": [
    "def f(x):\n",
    "    return np.exp(-x**2) * np.cos(2*x)"
   ]
  },
  {
   "cell_type": "code",
   "execution_count": null,
   "id": "6b5f287a",
   "metadata": {},
   "outputs": [],
   "source": [
    "x = np.arange(0, 2, 0.01)\n",
    "plt.plot(x, f(x))"
   ]
  },
  {
   "cell_type": "code",
   "execution_count": null,
   "id": "c622ad91",
   "metadata": {},
   "outputs": [],
   "source": [
    "res = minimize_scalar(f, bracket=[0, 2])\n",
    "res"
   ]
  },
  {
   "cell_type": "code",
   "execution_count": null,
   "id": "aaaee01c",
   "metadata": {},
   "outputs": [],
   "source": [
    "res.x"
   ]
  },
  {
   "cell_type": "markdown",
   "id": "ddb6dfa8",
   "metadata": {},
   "source": [
    "In simple cases, optimization problem can be converted to the rootfinding problem. If $f(x)$ has a minimum at $x_m$, then the first order derivative at that point is 0, i.e. $f'(x_m) = 0$."
   ]
  },
  {
   "cell_type": "code",
   "execution_count": null,
   "id": "e505ac8b",
   "metadata": {},
   "outputs": [],
   "source": [
    "def fprime(x):\n",
    "    return -2 * np.exp(-x**2) * (x*np.cos(2*x) + np.sin(2*x))"
   ]
  },
  {
   "cell_type": "code",
   "execution_count": null,
   "id": "bb362c79",
   "metadata": {},
   "outputs": [],
   "source": [
    "plt.plot(x, fprime(x))\n",
    "plt.plot(x, f(x))\n",
    "plt.plot([0, 2], [0, 0])\n",
    "plt.plot([res.x, res.x], [-1.5, 1.0])"
   ]
  },
  {
   "cell_type": "code",
   "execution_count": null,
   "id": "a9f41615",
   "metadata": {},
   "outputs": [],
   "source": [
    "r = root_scalar(fprime, bracket=[0.1, 2.0])"
   ]
  },
  {
   "cell_type": "code",
   "execution_count": null,
   "id": "c38870d9",
   "metadata": {},
   "outputs": [],
   "source": [
    "res.x - r.root"
   ]
  },
  {
   "cell_type": "markdown",
   "id": "918f82fe",
   "metadata": {},
   "source": [
    "### Exercises\n",
    "\n",
    "Find the minimum/maximum of the following functions:\n",
    "\n",
    "1. $f(x) = \\sin(x) + \\sin(\\frac{10}{3}x), x\\in[2.7, 7.5]$. Hint: two maxima and three minima\n",
    "2. $f(x) = -(16x^2-24x+5)e^{-x}, x\\in[1.9, 3.9]$.\n",
    "3. $f(x) = -(x+\\sin(x))e^{-x^2}, x\\in[-10, 10]$.\n",
    "4. $f(x) = -x^{2/3} - (1-x^2)^{1/3}, x\\in[0.001, 0.99].$\n",
    "5. $f(x) = \\frac{x^2-5x+6}{x^2+1}, x\\in[-5, 5]$."
   ]
  },
  {
   "cell_type": "markdown",
   "id": "5734fb14",
   "metadata": {},
   "source": [
    "## Fitting\n",
    "\n",
    "### Linear regression"
   ]
  },
  {
   "cell_type": "code",
   "execution_count": null,
   "id": "15aa953b",
   "metadata": {},
   "outputs": [],
   "source": [
    "from scipy.stats import linregress"
   ]
  },
  {
   "cell_type": "code",
   "execution_count": null,
   "id": "7eeaa9c8",
   "metadata": {},
   "outputs": [],
   "source": [
    "x = np.random.random(10)\n",
    "y = 8*x + 5 + np.random.random(10)"
   ]
  },
  {
   "cell_type": "code",
   "execution_count": null,
   "id": "94567c28",
   "metadata": {},
   "outputs": [],
   "source": [
    "res = linregress(x, y)\n",
    "res"
   ]
  },
  {
   "cell_type": "code",
   "execution_count": null,
   "id": "471a2f21",
   "metadata": {},
   "outputs": [],
   "source": [
    "plt.plot(x, y, '+')\n",
    "plt.plot(x, res.intercept + res.slope * x)"
   ]
  },
  {
   "cell_type": "markdown",
   "id": "a06364fb",
   "metadata": {},
   "source": [
    "### Curve fitting"
   ]
  },
  {
   "cell_type": "code",
   "execution_count": null,
   "id": "4524319c",
   "metadata": {},
   "outputs": [],
   "source": [
    "from scipy.optimize import curve_fit"
   ]
  },
  {
   "cell_type": "code",
   "execution_count": null,
   "id": "96ff06aa",
   "metadata": {},
   "outputs": [],
   "source": [
    "# This is the function of curve we want to fit\n",
    "def f(t, omega, phi):\n",
    "    return np.cos(omega * t + phi)"
   ]
  },
  {
   "cell_type": "code",
   "execution_count": null,
   "id": "d79f0909",
   "metadata": {},
   "outputs": [],
   "source": [
    "# Generate some artifical measurement data\n",
    "x = np.linspace(0, 3, 50)\n",
    "y = f(x, 1.5, 1) + .1*np.random.normal(size=50)"
   ]
  },
  {
   "cell_type": "code",
   "execution_count": null,
   "id": "1b79c57b",
   "metadata": {},
   "outputs": [],
   "source": [
    "# Do curve fitting\n",
    "popt, pcov = curve_fit(f, x, y)"
   ]
  },
  {
   "cell_type": "code",
   "execution_count": null,
   "id": "bc99af73",
   "metadata": {},
   "outputs": [],
   "source": [
    "popt"
   ]
  },
  {
   "cell_type": "code",
   "execution_count": null,
   "id": "d2d3b9a1",
   "metadata": {},
   "outputs": [],
   "source": [
    "plt.plot(x, y, '+')\n",
    "plt.plot(x, f(x, *popt))"
   ]
  },
  {
   "cell_type": "markdown",
   "id": "20f7318f",
   "metadata": {},
   "source": [
    "### Exercises\n",
    "\n",
    "The total population of US from year 1790 to 1990 are\n",
    "```\n",
    "1990 248,709,873\n",
    "1980 226,545,805\n",
    "1970 203,211,926\n",
    "1960 179,323,175\n",
    "1950 150,697,361\n",
    "1940 131,669,275\n",
    "1930 122,775,046\n",
    "1920 105,710,620\n",
    "1910 91,972,266\n",
    "1900 75,994,575\n",
    "1890 62,947,714\n",
    "1880 50,155,783\n",
    "1870 38,558,371\n",
    "1860 31,443,321\n",
    "1850 23,191,876\n",
    "1840 17,063,353\n",
    "1830 12,860,702\n",
    "1820 9,638,453\n",
    "1810 7,239,881\n",
    "1800 5,308,483\n",
    "1790 3,929,214\n",
    "```\n",
    "\n",
    "Do the following fitting:\n",
    "\n",
    "1. Linear regression.\n",
    "2. Fitting with the function $f(t) = ae^{bt}$, where $a, b$ are coefficients to be found.\n",
    "3. Transform question 2 to a linear fitting problem and fit again."
   ]
  },
  {
   "cell_type": "markdown",
   "id": "6f4ee9a2",
   "metadata": {},
   "source": [
    "## Numerical integration\n",
    "\n",
    "Numerical integration is a way to integrate an definite integral numerically without knowing its antiderivative. It computes:\n",
    "\n",
    "$$\n",
    "    I = \\int_a^b f(x) dx\n",
    "$$\n",
    "\n",
    "The `scipy.integrate` sub-package provides several numerical integration techniques, such as trapezoid, Simpson,Romberg, Gaussian, etc.\n",
    "\n",
    "### 1D integral\n",
    "\n",
    "$$\n",
    "    E_n(x) = \\int_1^\\infty \\frac{e^{-xt}}{t^n} dt.\n",
    "$$"
   ]
  },
  {
   "cell_type": "code",
   "execution_count": null,
   "id": "7866bd07",
   "metadata": {},
   "outputs": [],
   "source": [
    "from scipy.integrate import quad"
   ]
  },
  {
   "cell_type": "code",
   "execution_count": null,
   "id": "e9f8202d",
   "metadata": {},
   "outputs": [],
   "source": [
    "def f(t, n, x):\n",
    "    return np.exp(-x * t) / t**n"
   ]
  },
  {
   "cell_type": "code",
   "execution_count": null,
   "id": "11184a7e",
   "metadata": {},
   "outputs": [],
   "source": [
    "plt.plot(np.arange(1, 10, 0.01), f(np.arange(1, 10, 0.01), 3, 1.0))"
   ]
  },
  {
   "cell_type": "code",
   "execution_count": null,
   "id": "3e3c2337",
   "metadata": {},
   "outputs": [],
   "source": [
    "def expint(n, x):\n",
    "    return quad(f, 1, np.inf, args=(n, x))[0]"
   ]
  },
  {
   "cell_type": "code",
   "execution_count": null,
   "id": "57a9922a",
   "metadata": {},
   "outputs": [],
   "source": [
    "[expint(3, x) for x in np.arange(1.0, 4.0, 0.5)]"
   ]
  },
  {
   "cell_type": "code",
   "execution_count": null,
   "id": "3d6f7b1e",
   "metadata": {},
   "outputs": [],
   "source": [
    "from scipy.special import expn\n",
    "expn(3, np.arange(1.0, 4.0, 0.5))"
   ]
  },
  {
   "cell_type": "markdown",
   "id": "e7250714",
   "metadata": {},
   "source": [
    "### 2D integral\n",
    "\n",
    "$$\n",
    "    I_n = \\int_0^\\infty E_n(x) dx = \\int_0^\\infty\\int_1^\\infty \\frac{e^{-xt}}{t^n} dtdx = \\frac{1}{n}\n",
    "$$"
   ]
  },
  {
   "cell_type": "code",
   "execution_count": null,
   "id": "6622dd4f",
   "metadata": {},
   "outputs": [],
   "source": [
    "from scipy.integrate import dblquad"
   ]
  },
  {
   "cell_type": "code",
   "execution_count": null,
   "id": "11596f4c",
   "metadata": {},
   "outputs": [],
   "source": [
    "def I(n):\n",
    "    return dblquad(lambda t, x: np.exp(-x*t)/t**n, 0, np.inf, lambda x: 1, lambda x: np.inf)"
   ]
  },
  {
   "cell_type": "code",
   "execution_count": null,
   "id": "656af321",
   "metadata": {},
   "outputs": [],
   "source": [
    "I(4)"
   ]
  },
  {
   "cell_type": "code",
   "execution_count": null,
   "id": "c73af717",
   "metadata": {},
   "outputs": [],
   "source": [
    "I(3)"
   ]
  },
  {
   "cell_type": "code",
   "execution_count": null,
   "id": "f8f10bed",
   "metadata": {},
   "outputs": [],
   "source": [
    "I(2)"
   ]
  },
  {
   "cell_type": "markdown",
   "id": "84b42f30",
   "metadata": {},
   "source": [
    "### Exercises\n",
    "\n",
    "Find the results of following integrals:\n",
    "\n",
    "1. $\\int_0^1 e^{\\sin(x)} dx$.\n",
    "2. $\\int_0^2 x^2e^{-2x} dx$.\n",
    "3. $\\int_0^1 x\\ln(1+x) dx$.\n",
    "4. $\\int_0^{\\pi/2}e^x\\cos(x) dx$.\n",
    "5. $\\int_0^1\\sqrt{1-x^2} dx$.\n",
    "6. $\\int_{y=0}^{1/2}\\int_{x=0}^{1-2y} xy dx dy$."
   ]
  },
  {
   "cell_type": "markdown",
   "id": "1ecb4445",
   "metadata": {},
   "source": [
    "## Ordinary differential equations\n",
    "\n",
    "SciPy provides a function `solve_ivp` to solve a first-order vector differential equation:\n",
    "\n",
    "$$\n",
    "    \\frac{d\\mathbf{u}}{dt} = \\mathbf{f}(\\mathbf{u}, t)\n",
    "$$\n",
    "\n",
    "given intial condition $\\mathbf{u} = \\mathbf{u}_0$. Higher order ordinary differential equations can always be reduced to differential equations of the type by introducing intermediate derivatives into the $\\mathbf{u}$ vector.\n",
    "\n",
    "### First order, one variable\n",
    "\n",
    "$$\n",
    "    \\frac{du}{dt} = ku - ru^2\n",
    "$$\n",
    "\n",
    "with $k=1.0$, $r=1.0$, and $u_0 = 2.0$. The exact solution is\n",
    "\n",
    "$$\n",
    "    u(t) = \\frac{k/r}{1 + \\left( \\frac{k}{ru_0} - 1 \\right)e^{-kt}}.\n",
    "$$"
   ]
  },
  {
   "cell_type": "code",
   "execution_count": null,
   "id": "fc36b18c",
   "metadata": {},
   "outputs": [],
   "source": [
    "from scipy.integrate import solve_ivp"
   ]
  },
  {
   "cell_type": "code",
   "execution_count": null,
   "id": "e7d2854b",
   "metadata": {},
   "outputs": [],
   "source": [
    "def dudt(t, u, k, r):\n",
    "    return k*u - r * u**2\n",
    "\n",
    "def u_exact(t, k, r, u0):\n",
    "    a = k/r\n",
    "    return a / (1 + (a/u0 - 1)*np.exp(-k*t))"
   ]
  },
  {
   "cell_type": "code",
   "execution_count": null,
   "id": "7236688f",
   "metadata": {},
   "outputs": [],
   "source": [
    "k, r, u0 = 1.0, 0.2, 0.8\n",
    "tmin, tmax = 0.0, 8.0\n",
    "sol = solve_ivp(dudt, [tmin, tmax], [u0], args=(k, r), dense_output=True)"
   ]
  },
  {
   "cell_type": "code",
   "execution_count": null,
   "id": "0556ce5d",
   "metadata": {},
   "outputs": [],
   "source": [
    "t = np.arange(tmin, tmax, 0.01)\n",
    "plt.plot(t, [sol.sol(ti) for ti in t])\n",
    "plt.plot(t, u_exact(t, k, r, u0))"
   ]
  },
  {
   "cell_type": "markdown",
   "id": "9509f39a",
   "metadata": {},
   "source": [
    "### First order, multiple variables\n",
    "\n",
    "We use the famous Lotka-Volterra equations for the predator-prey model:\n",
    "\n",
    "$$\n",
    "\\begin{align}\n",
    "    \\frac{dx}{dt} &= ax - bxy \\\\\n",
    "    \\frac{dy}{dt} &= -cy + dxy\n",
    "\\end{align}\n",
    "$$"
   ]
  },
  {
   "cell_type": "code",
   "execution_count": null,
   "id": "6aebdcfd",
   "metadata": {},
   "outputs": [],
   "source": [
    "def lotka_volterra(t, u, a, b, c, d):\n",
    "    x, y = u\n",
    "    return [a*x - b*x*y, -c*y + d*x*y]"
   ]
  },
  {
   "cell_type": "code",
   "execution_count": null,
   "id": "3ae5ccd2",
   "metadata": {},
   "outputs": [],
   "source": [
    "a, b, c, d = 1.5, 1, 3, 1\n",
    "tmin, tmax = 0, 15\n",
    "u0 = [10, 5]\n",
    "sol = solve_ivp(lotka_volterra, [tmin, tmax], u0, args=(a, b, c, d), dense_output=True)"
   ]
  },
  {
   "cell_type": "code",
   "execution_count": null,
   "id": "a03b1041",
   "metadata": {},
   "outputs": [],
   "source": [
    "t = np.linspace(tmin, tmax, 500)\n",
    "u = sol.sol(t)\n",
    "plt.plot(t, u.T)\n",
    "plt.xlabel('t')\n",
    "plt.legend(['x', 'y'])"
   ]
  },
  {
   "cell_type": "markdown",
   "id": "d468b9a7",
   "metadata": {},
   "source": [
    "### Exercises\n",
    "\n",
    "1. Solve the following ODEs:\n",
    "\n",
    "(a) $ \\frac{du}{dt} = \\sin[(u+t)^2], t \\in [0,4]$ with $u(0) = -1$.  \n",
    "(b) $ \\frac{du}{dt} = -2tu, t \\in [0,2]$ with $u(0) = 2$.  \n",
    "(c) $ \\frac{du}{dt} = u + t, t \\in [0,1]$ with $u(0) = 2$.  \n",
    "(d) $ \\frac{du}{dt} = 2u(1-u), t \\in [0,2]$ with $u(0) = 1/2$.  \n",
    "(e) $ \\frac{du}{dt} = 2(1+t)(1+u^2), t \\in [0,0.5]$ with $u(0) = 0$.\n",
    "\n",
    "2. A disease that is endemic to a population can be modeled by tracking the fraction of the population that is susceptible to infection, $v(t)$, and the fraction that is infectious, $w(t)$. (The rest of the population is considered to be recovered and immune.) A simple example mdoel is\n",
    "\n",
    "$$\n",
    "\\begin{align}\n",
    "    \\frac{dv}{dt} &= 0.2(1-v) - 3vw \\\\\n",
    "    \\frac{dw}{dt} &= (3v-1)w\n",
    "\\end{align}\n",
    "$$\n",
    "\n",
    "Starting with $v(0) = 0.95$ and $w(0)=0.05$, find the long-term steady values of $v(t)$ and $w(t)$. Plot both components of the solution as a functions of time."
   ]
  }
 ],
 "metadata": {
  "kernelspec": {
   "display_name": "Python 3",
   "language": "python",
   "name": "python3"
  },
  "language_info": {
   "codemirror_mode": {
    "name": "ipython",
    "version": 3
   },
   "file_extension": ".py",
   "mimetype": "text/x-python",
   "name": "python",
   "nbconvert_exporter": "python",
   "pygments_lexer": "ipython3",
   "version": "3.11.4"
  },
  "toc": {
   "base_numbering": 1,
   "nav_menu": {},
   "number_sections": true,
   "sideBar": true,
   "skip_h1_title": true,
   "title_cell": "Table of Contents",
   "title_sidebar": "Scientific Computing in Python",
   "toc_cell": false,
   "toc_position": {},
   "toc_section_display": true,
   "toc_window_display": true
  },
  "vscode": {
   "interpreter": {
    "hash": "aee8b7b246df8f9039afb4144a1f6fd8d2ca17a180786b69acc140d282b71a49"
   }
  }
 },
 "nbformat": 4,
 "nbformat_minor": 5
}
