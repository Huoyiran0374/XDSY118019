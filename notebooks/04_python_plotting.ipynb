{
 "cells": [
  {
   "cell_type": "markdown",
   "id": "e5dfd3fa",
   "metadata": {},
   "source": [
    "# Plotting in Python\n",
    "An introduction to Python plotting by [Dr. Yi-Xin Liu](http://www.yxliu.group) at Fudan University (lyx@fudan.edu.cn)<br>\n",
    "This is a part of the course: *Road to Scientific Research: Powerful Computer Applications* (XDSY118019.01)  \n",
    "Lecture date: 2023.10.19\n",
    "\n",
    "source: https://github.com/liuyxpp/XDSY118019/blob/main/04_python_plotting.ipynb\n",
    "\n",
    "This tutorial recompiles several `matplotlib` [official tutorials](https://matplotlib.org/stable/tutorials/index.html) into one coherent document. "
   ]
  },
  {
   "cell_type": "markdown",
   "id": "523a9842",
   "metadata": {},
   "source": [
    "## Matplotlib PyPlot\n",
    "\n",
    "`matplotlib.pyplot` is a collection of functions that make matplotlib work like MATLAB. Each pyplot function makes some change to a figure: e.g., creates a figure, creates a plotting area in a figure, plots some lines in a plotting area, decorates the plot with labels, etc.\n",
    "\n",
    "In `matplotlib.pyplot` various states are preserved across function calls, so that it keeps track of things like the current figure and plotting area, and the plotting functions are directed to the current axes (please note that \"axes\" here and in most places in the documentation refers to the axes part of a figure and not the strict mathematical term for more than one axis).\n",
    "\n",
    "Note that there are essentially two ways to use Matplotlib:\n",
    "\n",
    "- Explicit API: explicitly create Figures and Axes, and call methods on them (the \"object-oriented (OO) style\").\n",
    "- Implicit PyPlot: rely on pyplot to implicitly create and manage the Figures and Axes, and use pyplot functions for plotting.\n",
    "\n",
    "The implicit pyplot API is generally less verbose but also not as flexible as the explicit API. It is sometimes also possible to mix the two.\n",
    "\n",
    "In this tutorial, we will follow the implicit pyplot way in most of the time."
   ]
  },
  {
   "cell_type": "code",
   "execution_count": null,
   "id": "40156f6d",
   "metadata": {},
   "outputs": [],
   "source": [
    "import matplotlib as mpl\n",
    "import matplotlib.pyplot as plt\n",
    "import numpy as np"
   ]
  },
  {
   "cell_type": "markdown",
   "id": "786ec610",
   "metadata": {},
   "source": [
    "## Components of a Figure\n",
    "\n",
    "The components of a typcial Matplotlib Figure are shown below:\n",
    "\n",
    "![components of a matplotlib figure](anatomy.webp)"
   ]
  },
  {
   "cell_type": "markdown",
   "id": "ea05cfc0",
   "metadata": {},
   "source": [
    "## Plot Types\n",
    "\n",
    "Matplotlib supports almost all common plot types for 2D graphics, such as line plots, scatter plots, bar plots, pie plots, histograms, etc. A list of available plot types can be viewed [here](https://matplotlib.org/stable/plot_types/index.html). In this tutorial (and for most publication figures), we will focus on line plots and scatter plots.\n",
    "\n",
    "### Line plots\n",
    "\n",
    "A line plot can be drew using `plot` function."
   ]
  },
  {
   "cell_type": "code",
   "execution_count": null,
   "id": "9d1eef4a",
   "metadata": {},
   "outputs": [],
   "source": [
    "# We first a define a function curve to be plotted.\n",
    "def f(x):\n",
    "    return np.sinc(x/np.pi)\n",
    "\n",
    "def g(x, mu=0, sig=3):\n",
    "    # ignore the normalization factor 1./(np.sqrt(2.*np.pi)*sig) to have g(0) = 1.0\n",
    "    # be consistent with f(x)\n",
    "    return np.exp(-np.power((x - mu)/sig, 2.)/2)\n",
    "\n",
    "def h(x):\n",
    "    y = (np.tanh((x-1.5*np.pi)/3) + 1) / 2\n",
    "    return y / np.max(y)"
   ]
  },
  {
   "cell_type": "code",
   "execution_count": null,
   "id": "9d37731d",
   "metadata": {},
   "outputs": [],
   "source": [
    "# Generate some data to plot\n",
    "N = 100\n",
    "# x = np.linspace(0, 4*np.pi, N)\n",
    "x = np.sort(np.random.uniform(0, 4*np.pi, N))\n",
    "# x = np.random.uniform(0, 4*np.pi, N)\n",
    "y = f(x)"
   ]
  },
  {
   "cell_type": "code",
   "execution_count": null,
   "id": "6e013d5c",
   "metadata": {},
   "outputs": [],
   "source": [
    "plt.plot(x, y)"
   ]
  },
  {
   "cell_type": "markdown",
   "id": "99e65a73",
   "metadata": {},
   "source": [
    "Markers can be added to help visualize the actual locations of data."
   ]
  },
  {
   "cell_type": "code",
   "execution_count": null,
   "id": "91ef534a",
   "metadata": {},
   "outputs": [],
   "source": [
    "plt.plot(x, y, 'o')"
   ]
  },
  {
   "cell_type": "markdown",
   "id": "0471a82a",
   "metadata": {},
   "source": [
    "### Scatter plots"
   ]
  },
  {
   "cell_type": "markdown",
   "id": "62c6bcac",
   "metadata": {},
   "source": [
    "Sometimes each data points are better to be plotted as inpendent markers. Matplotlib function `scatter` can do it too."
   ]
  },
  {
   "cell_type": "code",
   "execution_count": null,
   "id": "275a61db",
   "metadata": {},
   "outputs": [],
   "source": [
    "# the array for x coordinates is not necessary sorted.\n",
    "plt.scatter(np.random.random(20), np.random.random(20))\n",
    "plt.scatter(np.random.random(20)+1.2, np.random.random(20)+1.2)"
   ]
  },
  {
   "cell_type": "markdown",
   "id": "56ada0e1",
   "metadata": {},
   "source": [
    "## Styles\n",
    "\n",
    "In `matplotlib`, the looking of a plot can be customized via several ways:\n",
    "\n",
    "- Use keyword arguments:\n",
    "\n",
    "```python\n",
    "plt.plot(x, y, linewidth=3.0)\n",
    "```\n",
    "\n",
    "- Use the setter methods of a `Line2D` or other Artist instance. `plot` returns a list of `Line2D` objects; e.g., `line1, line2 = plot(x1, y1, x2, y2)`. In the code below we will suppose that we have only one line so that the list returned is of length 1. We use tuple unpacking with line, to get the first element of that list:\n",
    "\n",
    "```python\n",
    "line, = plt.plot(x, y)\n",
    "line.set_linewidth(3.0)\n",
    "```\n",
    "\n",
    "- Use `setp`. The example below uses a MATLAB-style function to set multiple properties on a list of lines. `setp` works transparently with a list of objects or a single object. You can either use Python keyword arguments or MATLAB-style string/value pairs:\n",
    "\n",
    "```python\n",
    "lines = plt.plot(x1, y1, x2, y2)\n",
    "# use keyword arguments\n",
    "plt.setp(lines, color='r', linewidth=2.0)\n",
    "# or MATLAB style string value pairs\n",
    "plt.setp(lines, 'color', 'r', 'linewidth', 2.0)\n",
    "```"
   ]
  },
  {
   "cell_type": "markdown",
   "id": "5c4fa975",
   "metadata": {},
   "source": [
    "### Lines\n",
    "\n",
    "Lines have many attributes that you can set: linewidth, dash style, antialiased, etc. To get a list of settable line properties, call the `setp` function with a line or lines as argument"
   ]
  },
  {
   "cell_type": "code",
   "execution_count": null,
   "id": "662964ad",
   "metadata": {},
   "outputs": [],
   "source": [
    "line, = plt.plot(x, y)\n",
    "plt.setp(line)"
   ]
  },
  {
   "cell_type": "code",
   "execution_count": null,
   "id": "b41ef0a0",
   "metadata": {
    "scrolled": true
   },
   "outputs": [],
   "source": [
    "line, = plt.plot(x, y, lw=6.0)  # change linewidth 3.0.\n",
    "line.set_linestyle('--')  # change line style to dash line.\n",
    "plt.setp(line, antialiased=False)  # # turn off antialiasing"
   ]
  },
  {
   "cell_type": "markdown",
   "id": "e2568683",
   "metadata": {},
   "source": [
    "When multiple lines are plotted in the same figure, line colors are cycled from a predefined list of colors."
   ]
  },
  {
   "cell_type": "code",
   "execution_count": null,
   "id": "c1e5d1dd",
   "metadata": {},
   "outputs": [],
   "source": [
    "lines = plt.plot(x, f(x), x, g(x), x, h(x))"
   ]
  },
  {
   "cell_type": "code",
   "execution_count": null,
   "id": "d38abe1a",
   "metadata": {},
   "outputs": [],
   "source": [
    "plt.plot(x, f(x))\n",
    "plt.plot(x, g(x))\n",
    "plt.plot(x, h(x))"
   ]
  },
  {
   "cell_type": "markdown",
   "id": "ec433e89",
   "metadata": {},
   "source": [
    "### Markers\n",
    "\n",
    "Marker size depends on the method being used. `plot` specifies markersize in points, and is generally the \"diameter\" or width of the marker. `scatter` specifies markersize as approximately proportional to the visual area of the marker. There is an array of markerstyles available as string codes (see [markers](https://matplotlib.org/stable/api/markers_api.html#module-matplotlib.markers)), or users can define their own [MarkerStyle](https://matplotlib.org/stable/api/_as_gen/matplotlib.markers.MarkerStyle.html#matplotlib.markers.MarkerStyle) (see [Marker reference](https://matplotlib.org/stable/gallery/lines_bars_and_markers/marker_reference.html)).\n",
    "\n",
    "- Markers in `plot`"
   ]
  },
  {
   "cell_type": "code",
   "execution_count": null,
   "id": "4fc5c31e",
   "metadata": {},
   "outputs": [],
   "source": [
    "xs = x[0:len(x):5]\n",
    "plt.plot(xs, f(xs), 'o')\n",
    "plt.plot(xs, g(xs), 'v', ms=12, mfc='red')  # ms=markersize, mfc=makerfacecolor\n",
    "plt.plot(xs, h(xs), 's', mew=1, mfc='yellow', mec='orange')  # mew=markeredgewidth, mec=markeredgecolor"
   ]
  },
  {
   "cell_type": "markdown",
   "id": "d355ca71",
   "metadata": {},
   "source": [
    "- Markers in `scatter`"
   ]
  },
  {
   "cell_type": "code",
   "execution_count": null,
   "id": "0d021a4b",
   "metadata": {},
   "outputs": [],
   "source": [
    "# make the data\n",
    "xm = 4 + np.random.normal(0, 2, 24)\n",
    "ym = 4 + np.random.normal(0, 2, len(xm))\n",
    "# size and color:\n",
    "sizes = np.random.uniform(15, 80, len(xm))\n",
    "colors = np.random.uniform(15, 80, len(xm))\n",
    "# plot\n",
    "plt.scatter(xm, ym, s=sizes, c=colors, vmin=0, vmax=100)"
   ]
  },
  {
   "cell_type": "markdown",
   "id": "518fe26e",
   "metadata": {},
   "source": [
    "### Axes\n",
    "\n",
    "Each Axes has two (or three) Axis objects representing the x- and y-axis. These control the scale of the Axis, the tick locators and the tick formatters. Additional Axes can be attached to display further Axis objects.\n",
    "\n",
    "- Axis line width"
   ]
  },
  {
   "cell_type": "code",
   "execution_count": null,
   "id": "eb640b43",
   "metadata": {},
   "outputs": [],
   "source": [
    "# fig, ax = plt.subplots()\n",
    "line, = plt.plot(x, y)\n",
    "plt.setp(line.axes.spines.values(), linewidth=3, color='b')"
   ]
  },
  {
   "cell_type": "markdown",
   "id": "c2550528",
   "metadata": {},
   "source": [
    "- Ticks\n",
    "\n",
    "Placing ticks and ticklabels is a very tricky aspect of making a figure. Matplotlib does its best to accomplish the task automatically, but it also offers a very flexible framework for determining the choices for tick locations, and how they are labelled. A detailed tutorial can be found [here](https://matplotlib.org/stable/tutorials/text/text_intro.html#ticks-and-ticklabels) and [here](https://matplotlib.org/stable/gallery/ticks/index.html) and [here](https://e2eml.school/matplotlib_ticks.html).\n",
    "\n",
    "Here we use `plt.tick_params` to control some most important properties of ticks. `tick_params` method for `Axes` object is an alternative way (the explicit API way) to control ticks."
   ]
  },
  {
   "cell_type": "code",
   "execution_count": null,
   "id": "f152fb3c",
   "metadata": {},
   "outputs": [],
   "source": [
    "plt.tick_params?"
   ]
  },
  {
   "cell_type": "code",
   "execution_count": null,
   "id": "63ae9e83",
   "metadata": {},
   "outputs": [],
   "source": [
    "plt.plot(x, y)\n",
    "plt.xlim(0, 12)\n",
    "plt.ylim(-0.4, 1.0)\n",
    "# Ticks and tick labels visibility\n",
    "plt.tick_params(left=True, right=True, top=True, bottom=True)\n",
    "plt.tick_params(labelleft=True, labelright=False, labeltop=False, labelbottom=True)\n",
    "# major ticks\n",
    "plt.minorticks_on()\n",
    "plt.tick_params(axis='x', direction='in', length=8, width=1)\n",
    "plt.tick_params(axis='y', direction='in', length=8, width=1)\n",
    "# minor ticks\n",
    "plt.tick_params(axis='both', which='minor', direction='in', length=5)"
   ]
  },
  {
   "cell_type": "markdown",
   "id": "c76c10ac",
   "metadata": {},
   "source": [
    "### Colors\n",
    "\n",
    "Matplotlib has support for visualizing information with a wide array of colors and colormaps. Check the color tutorial by `matplotlib` [here](https://matplotlib.org/stable/tutorials/colors/index.html).\n",
    "\n",
    "Matplotlib recognizes various formats to specify a color.\n",
    "\n",
    "- RGB or RGBA tuples, in the interval [0, 1]. Examples: `(0.1, 0.2, 0.5)`, `(0.1, 0.2, 0.5, 0.3)`.\n",
    "- RGB or RGBA hex string. Examples: `'#0f0f0f'`, `'#0f0f0f80'`.\n",
    "- RGB shorthand hex string with duplicated characters. Examples: `'#fb1'` as `'#ffbb11'`.\n",
    "- Grayscale values in string representation within [0, 1]. Examples: `'0'` as black, `'1'` as white, `'0.8'` as light gray.\n",
    "- Basic colors as single charactar. Full list: `'b', 'g', 'r', 'c', 'm', 'y', 'k', 'w'`.\n",
    "- X11/CSS4 color name with no spaces. Examples: `AaquaMarine', 'RoyalBlue'`. See full list [here](https://www.w3schools.com/cssref/css_colors.asp). \n",
    "- Colors from [xkcd color survey](https://xkcd.com/color/rgb/) with `'xkcd:'` prefix. Examples: `'xkcd:sky blue', 'xkcd:eggshell'`.\n",
    "- Tableau colors from `T10` palette. Full list: `'tab:blue', 'tab:orange', 'tab:green', 'tab:red', 'tab:purple', 'tab:brown', 'tab:pink', 'tab:gray', 'tab:olive', 'tab:cyan'`.\n",
    "- \"CN\" color spec where 'C' precedes a number acting as an index into the current default property cycle. Examples: `'C0', 'C1'`. **This one is particularly useful!**"
   ]
  },
  {
   "cell_type": "code",
   "execution_count": null,
   "id": "fef41f31",
   "metadata": {},
   "outputs": [],
   "source": [
    "# Codes from https://matplotlib.org/stable/gallery/color/color_demo.html\n",
    "t = np.linspace(0.0, 2.0, 201)\n",
    "s = np.sin(2 * np.pi * t)\n",
    "\n",
    "# 1) RGB tuple:\n",
    "fig, ax = plt.subplots(facecolor=(.18, .31, .31))\n",
    "# 2) hex string:\n",
    "ax.set_facecolor('#eafff5')\n",
    "# 3) gray level string:\n",
    "ax.set_title('Voltage vs. time chart', color='0.7')\n",
    "# 4) single letter color string\n",
    "ax.set_xlabel('time (s)', color='c')\n",
    "# 5) a named color:\n",
    "ax.set_ylabel('voltage (mV)', color='peachpuff')\n",
    "# 6) a named xkcd color:\n",
    "ax.plot(t, s, 'xkcd:crimson')\n",
    "# 7) Cn notation:\n",
    "ax.plot(t, .7*s, color='C7', linestyle='--')\n",
    "# 8) tab notation:\n",
    "ax.tick_params(labelcolor='tab:orange')"
   ]
  },
  {
   "cell_type": "markdown",
   "id": "cef2f3e2",
   "metadata": {},
   "source": [
    "### Style cycler\n",
    "\n",
    "Using `cycler` package to cycling through multiple `matplotlib` properties, including colors, line styles, etc."
   ]
  },
  {
   "cell_type": "code",
   "execution_count": null,
   "id": "7ef0d0d1",
   "metadata": {},
   "outputs": [],
   "source": [
    "from cycler import cycler"
   ]
  },
  {
   "cell_type": "code",
   "execution_count": null,
   "id": "f1c6de71",
   "metadata": {},
   "outputs": [],
   "source": [
    "cc = cycler(color=list('rgb'))\n",
    "for c in cc:\n",
    "    print(c)"
   ]
  },
  {
   "cell_type": "markdown",
   "id": "2bdd0c3b",
   "metadata": {},
   "source": [
    "- Cyclers can be added"
   ]
  },
  {
   "cell_type": "code",
   "execution_count": null,
   "id": "afb60f91",
   "metadata": {},
   "outputs": [],
   "source": [
    "cc = (cycler(color=list('rgb')) +\n",
    "      cycler(linestyle=['-', '--', '-.']))\n",
    "for c in cc:\n",
    "    print(c)"
   ]
  },
  {
   "cell_type": "markdown",
   "id": "0c0ceddd",
   "metadata": {},
   "source": [
    "- Cyclers can be multiplied, like a Kronecker product"
   ]
  },
  {
   "cell_type": "code",
   "execution_count": null,
   "id": "9f1a04c5",
   "metadata": {},
   "outputs": [],
   "source": [
    "cc = (cycler(color=list('rgb')) *\n",
    "      cycler(linestyle=['-', '--', '-.']))\n",
    "for c in cc:\n",
    "    print(c)"
   ]
  },
  {
   "cell_type": "markdown",
   "id": "54b7b27f",
   "metadata": {},
   "source": [
    "- Apply to the actual plotting"
   ]
  },
  {
   "cell_type": "code",
   "execution_count": null,
   "id": "b83c9fab",
   "metadata": {},
   "outputs": [],
   "source": [
    "cc = (cycler(color=list('rgb')) +\n",
    "      cycler(linestyle=['-', '--', '-.']))\n",
    "cciter = iter(cc)  # create an iterator based on the cycler.\n",
    "\n",
    "plt.plot(x, f(x), **next(cciter))\n",
    "plt.plot(x, g(x), **next(cciter))\n",
    "plt.plot(x, h(x), **next(cciter))"
   ]
  },
  {
   "cell_type": "markdown",
   "id": "43c8fb08",
   "metadata": {},
   "source": [
    "## Labels and Texts\n",
    "\n",
    "Matplotlib has extensive text support, including support for mathematical expressions, truetype support for raster and vector outputs, newline separated text with arbitrary rotations, and Unicode support.\n",
    "\n",
    "The user has a great deal of control over text properties (font size, font weight, text location and color, etc.) with sensible defaults set in the [rc file](https://matplotlib.org/stable/tutorials/introductory/customizing.html). And significantly, for those interested in mathematical or scientific figures, Matplotlib implements a large number of TeX math symbols and commands, supporting [mathematical expressions](https://matplotlib.org/stable/tutorials/text/mathtext.html) anywhere in your figure.\n",
    "\n",
    "A more detailed tutorial for texts by `matplotlib` can be found [here](https://matplotlib.org/stable/tutorials/text/text_intro.html).\n",
    "\n",
    "### Titles and labels\n",
    "\n",
    "- Implicit pyplot way: `plt.xlabel`, `plt.ylabel`, `plt.title`.\n",
    "- Explicit API way: `set_xlabel`, `set_ylabel`, `set_title`."
   ]
  },
  {
   "cell_type": "code",
   "execution_count": null,
   "id": "dbdf8f75",
   "metadata": {},
   "outputs": [],
   "source": [
    "plt.plot(x, y)\n",
    "plt.xlabel(\"time\")\n",
    "plt.ylabel(\"intensity\")\n",
    "plt.title(\"Signal Intensity\")"
   ]
  },
  {
   "cell_type": "markdown",
   "id": "7686ae8e",
   "metadata": {},
   "source": [
    "### Texts and annotations\n",
    "\n",
    "- Texts are added by `plt.text` function or `text` method for the Axis object.\n",
    "- Annotations are added by `plt.annotate` function or `annotate` method for the Axis object. See [this tutorial](https://matplotlib.org/stable/tutorials/text/annotations.html) for more details."
   ]
  },
  {
   "cell_type": "code",
   "execution_count": null,
   "id": "28d18edf",
   "metadata": {},
   "outputs": [],
   "source": [
    "plt.plot(x, y)\n",
    "plt.xlim(0, 12)\n",
    "plt.ylim(-0.3, 1.0)\n",
    "plt.text(3, 0.4, r'$y = \\frac{\\sin(x)}{x}$', fontsize=12)\n",
    "plt.annotate(\"maximum\", xy=(7.6, 0.13), xytext=(9, 0.5),\n",
    "             arrowprops=dict(arrowstyle=\"->\",\n",
    "                             connectionstyle=\"arc3, rad=0.8\"))"
   ]
  },
  {
   "cell_type": "markdown",
   "id": "035fa2d3",
   "metadata": {},
   "source": [
    "### Mathematical expressions\n",
    "\n",
    "You can use a subset of TeX markup in any Matplotlib text string by placing it inside a pair of dollar signs ($).\n",
    "\n",
    "Any text element can use math text. You should use raw strings (precede the quotes with an `'r'`), and surround the math text with dollar signs ($), as in TeX. Regular text and mathtext can be interleaved within the same string. Mathtext can use DejaVu Sans (default), DejaVu Serif, the Computer Modern fonts (from (La)TeX), STIX fonts (which are designed to blend well with Times), or a Unicode font that you provide. The mathtext font can be selected via `rcParams[\"mathtext.fontset\"]` (default: `'dejavusans'`) (see [Customizing Matplotlib with style sheets and rcParams](https://matplotlib.org/stable/tutorials/introductory/customizing.html))\n",
    "\n",
    "A more detailed tutorial can be found [here](https://matplotlib.org/stable/tutorials/text/mathtext.html)."
   ]
  },
  {
   "cell_type": "code",
   "execution_count": null,
   "id": "bb0eceae",
   "metadata": {},
   "outputs": [],
   "source": [
    "plt.plot(x, y)\n",
    "plt.xlabel(r\"$x$\")\n",
    "plt.ylabel(r\"$f(x)$\")\n",
    "plt.title(r\"Plain text with math $(\\sqrt{x}+x^2)\\frac{\\sin(x)}{x}$\")"
   ]
  },
  {
   "cell_type": "markdown",
   "id": "aa7a512f",
   "metadata": {},
   "source": [
    "### Fonts\n",
    "\n",
    "The font properties can be set with keyword arguments or using `matplotlib.font_manager.FontProperties` or using `rcParam`.\n",
    "\n",
    "Available keyword arguments for font properties:\n",
    "\n",
    "- `family`\n",
    "- `fontsize`\n",
    "- `fontname`\n",
    "- `fontstyle`\n",
    "- `fontweight`\n",
    "- `fontproperties`\n",
    "\n",
    "A more detailed tutorial can be found [here](https://matplotlib.org/stable/tutorials/text/text_props.html)."
   ]
  },
  {
   "cell_type": "code",
   "execution_count": null,
   "id": "abe6c738",
   "metadata": {},
   "outputs": [],
   "source": [
    "from matplotlib.font_manager import FontProperties"
   ]
  },
  {
   "cell_type": "code",
   "execution_count": null,
   "id": "d1cee202",
   "metadata": {},
   "outputs": [],
   "source": [
    "plt.plot(x, y)\n",
    "plt.ylabel(\"damped oscillation [V]\", fontsize='large', fontstyle='italic')\n",
    "\n",
    "font = FontProperties()\n",
    "font.set_family('sans-serif')\n",
    "font.set_name('Helvetica')\n",
    "font.set_weight('bold')\n",
    "font.set_size('xx-large')\n",
    "plt.xlabel(\"time [s]\", fontproperties=font)"
   ]
  },
  {
   "cell_type": "markdown",
   "id": "d85ec3fc",
   "metadata": {},
   "source": [
    "## Legends\n",
    "\n",
    "Legends are most useful for multi-line plots.\n",
    "\n",
    "- Implicit pyplot way: `plt.legend`.\n",
    "- Explicit API way: `ax.legend`.\n",
    "\n",
    "See a detailed tutorial for legend [here](https://matplotlib.org/stable/tutorials/intermediate/legend_guide.html)."
   ]
  },
  {
   "cell_type": "code",
   "execution_count": null,
   "id": "49872fb1",
   "metadata": {},
   "outputs": [],
   "source": [
    "?plt.legend"
   ]
  },
  {
   "cell_type": "code",
   "execution_count": null,
   "id": "f587feed",
   "metadata": {},
   "outputs": [],
   "source": [
    "plt.plot(x, f(x), label=\"sinc\", lw=2)\n",
    "plt.plot(x, g(x), label=\"Gaussian\", lw=2)\n",
    "plt.plot(x, h(x), label=\"tanh\", lw=2)\n",
    "plt.legend(loc='center right', frameon=False)  # `loc='best'`, `frameon=False` are defaults."
   ]
  },
  {
   "cell_type": "markdown",
   "id": "e1e8d3e2",
   "metadata": {},
   "source": [
    "## Layouts\n",
    "\n",
    "In Matplotlib, a figure can have multiple `Axes`. The arrangement of these axes are called a layout. `plt.subplots` and `plt.subplot` are used to create multiple axes. One can achieve more complex layouts, with Axes objects spanning columns or rows, using `subplot_mosaic`.\n",
    "\n",
    "Matplotlib has the concept of the current figure and the current axes. All plotting functions apply to the current axes. The function `gca` returns the current axes (a `matplotlib.axes.Axes` instance), and `gcf` returns the current figure (a `matplotlib.figure.Figure` instance). Normally, you don't have to worry about this, because it is all taken care of behind the scenes. Below is a script to create two subplots.\n",
    "\n",
    "Matplotlib has quite sophisticated tools for arranging Axes: See [Arranging multiple Axes in a Figure and Complex](https://matplotlib.org/stable/tutorials/intermediate/arranging_axes.html) and [semantic figure composition](https://matplotlib.org/stable/tutorials/provisional/mosaic.html)."
   ]
  },
  {
   "cell_type": "code",
   "execution_count": null,
   "id": "c218ae5c",
   "metadata": {},
   "outputs": [],
   "source": [
    "plt.figure()\n",
    "plt.subplot(121)  # 211 means: 2 - two rows, 1 - one column, 1 - location at first row, first column\n",
    "plt.plot(x, f(x), 'o', x, f(x), 'k')\n",
    "\n",
    "plt.subplot(122)  # 212 means: # 2 - two rows, 1 - one column, 1 - location at second row, first column\n",
    "plt.plot(x, g(x), 'C1--')"
   ]
  },
  {
   "cell_type": "markdown",
   "id": "f912748d",
   "metadata": {},
   "source": [
    "## Create A Publication Quality Figure\n",
    "\n",
    "Creating a publication-quality plot is not an easy job. One needs to consider a dozen of factors:\n",
    "\n",
    "- The figure size should be set explicitly to match journal specific value. For exmaple, journals published by American Chemical Society (ACS) allows a maximum 3.25-inch width figure for single-column and a maximum 7-inch width figure for double-column.\n",
    "- The font family should be customized. Most of the time, “Times New Roman” is a safe choice. You should consult the journal author guide for more information.\n",
    "- The font size also needs to be set properly.\n",
    "- The linewdith of axis, axis ticks, line arts, the format of legend, the colors are all important factors affects the final looking of a plot.\n",
    "- The file format of a figure should be chosen carefully. For most publishers, EPS is a good choice for line arts and other simple 2D arts, such as histograms, power spectra, bar charts, errorcharts, scatterplots.\n",
    "\n",
    "The [`mpltex` package](https://github.com/liuyxpp/mpltex) can do all the above customizations for specific journal publishers (ACS, APS, RSC). For more details, visit [the tutorial](http://www.yxliu.group/2014/09/mpltex) and study [the source code](https://github.com/liuyxpp/mpltex).\n",
    "\n",
    "\n",
    "Note: you may need to install the package `mpltex` first."
   ]
  },
  {
   "cell_type": "code",
   "execution_count": null,
   "id": "adafeb64",
   "metadata": {},
   "outputs": [],
   "source": [
    "import mpltex"
   ]
  },
  {
   "cell_type": "code",
   "execution_count": null,
   "id": "96f2f425",
   "metadata": {},
   "outputs": [],
   "source": [
    "@mpltex.acs_decorator\n",
    "def my_plot(t):\n",
    "    fig, ax = plt.subplots(1)\n",
    "    linestyles = mpltex.linestyle_generator()\n",
    "    ax.plot(t, f(t), label='$sinc$', **next(linestyles))\n",
    "    ax.plot(t, g(t), label='$Gaussian$', **next(linestyles))\n",
    "    ax.plot(t, h(t), label='$tanh$', **next(linestyles))\n",
    "\n",
    "    ax.set_xlabel('$t$')\n",
    "    ax.set_ylabel('$f(t)$')\n",
    "    ax.legend(loc='best', ncol=1)\n",
    "    ax.set_xlim(0, 12)\n",
    "    ax.set_ylim(-0.4, 1.2)\n",
    "    fig.tight_layout(pad=0.1)\n",
    "    # Uncomment following line to save the resulted figure as an EPS image file.\n",
    "    fig.savefig('mpltex-acs')\n",
    "\n",
    "my_plot(x[0:len(x):5])"
   ]
  },
  {
   "cell_type": "code",
   "execution_count": null,
   "id": "2a0ce34a",
   "metadata": {},
   "outputs": [],
   "source": []
  }
 ],
 "metadata": {
  "kernelspec": {
   "display_name": "Python 3 (ipykernel)",
   "language": "python",
   "name": "python3"
  },
  "language_info": {
   "codemirror_mode": {
    "name": "ipython",
    "version": 3
   },
   "file_extension": ".py",
   "mimetype": "text/x-python",
   "name": "python",
   "nbconvert_exporter": "python",
   "pygments_lexer": "ipython3",
   "version": "3.11.4"
  },
  "toc": {
   "base_numbering": 1,
   "nav_menu": {},
   "number_sections": true,
   "sideBar": true,
   "skip_h1_title": true,
   "title_cell": "Table of Contents",
   "title_sidebar": "Contents",
   "toc_cell": false,
   "toc_position": {
    "height": "calc(100% - 180px)",
    "left": "10px",
    "top": "150px",
    "width": "256px"
   },
   "toc_section_display": true,
   "toc_window_display": true
  },
  "vscode": {
   "interpreter": {
    "hash": "aee8b7b246df8f9039afb4144a1f6fd8d2ca17a180786b69acc140d282b71a49"
   }
  }
 },
 "nbformat": 4,
 "nbformat_minor": 5
}
