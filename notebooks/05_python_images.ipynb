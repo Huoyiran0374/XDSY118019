{
 "cells": [
  {
   "cell_type": "markdown",
   "id": "5c6f05b7",
   "metadata": {},
   "source": [
    "# Images in Python\n",
    "An introduction to render images in Python by [Dr. Yi-Xin Liu](http://www.yxliu.group) at Fudan University (lyx@fudan.edu.cn)<br>\n",
    "This is a part of the course: *Road to Scientific Research: Powerful Computer Applications* (XDSY118019.01)  \n",
    "Lecture date: 2023.10.19\n",
    "\n",
    "source: https://github.com/liuyxpp/XDSY118019/blob/main/05_python_images.ipynb\n",
    "\n",
    "This tutorial is adapted from the `matplotlib` [official tutorial](https://matplotlib.org/stable/tutorials/introductory/images.html) with a few modifications."
   ]
  },
  {
   "cell_type": "markdown",
   "id": "91d6796c",
   "metadata": {},
   "source": [
    "## Load Packages\n",
    "\n",
    "To render an image with `matplotlib`, we have to import related sub-packages, i.e., `matplotlib.pyplot` and `matplotlib.image`."
   ]
  },
  {
   "cell_type": "code",
   "execution_count": null,
   "id": "275fa82c",
   "metadata": {},
   "outputs": [],
   "source": [
    "import matplotlib.pyplot as plt\n",
    "import matplotlib.image as mpimg\n",
    "import numpy as np"
   ]
  },
  {
   "cell_type": "markdown",
   "id": "eaa41006",
   "metadata": {},
   "source": [
    "## Importing image data into Numpy arrays\n",
    "\n",
    "Here's the image we're going to play with:\n",
    "\n",
    "![stinkbug.png](stinkbug.png)\n",
    "\n",
    "It's a 24-bit RGB PNG image (8 bits for each of R, G, B channels). Depending on where you get your data, the other kinds of image that you'll most likely encounter are RGBA images, which allow for transparency, or\n",
    "single-channel grayscale (luminosity) images.\n",
    "Download [stinkbug.png](https://raw.githubusercontent.com/matplotlib/matplotlib/main/doc/_static/stinkbug.png) and put it in the same folder as this Jupyter notebook file for the rest of this tutorial.\n",
    "\n",
    "And here we go..."
   ]
  },
  {
   "cell_type": "code",
   "execution_count": null,
   "id": "f2daf0ac",
   "metadata": {},
   "outputs": [],
   "source": [
    "img = mpimg.imread('stinkbug.png')\n",
    "print(img)"
   ]
  },
  {
   "cell_type": "markdown",
   "id": "145ae119",
   "metadata": {},
   "source": [
    "Note the dtype there - `float32`. Matplotlib has rescaled the 8 bit data from each channel to floating point data between 0.0 and 1.0. As a side note, the only datatype that Pillow can work with is uint8. Matplotlib plotting can handle float32 and uint8, but image reading/writing for any format other than PNG is limited to uint8 data. Why 8 bits? Most displays can only render 8 bits per channel worth of color gradation. Why can they only render 8 bits/channel? Because that's about all the human eye can see. More here (from a photography standpoint): [Luminous Landscape bit depth tutorial](https://luminous-landscape.com/bit-depth/).\n",
    "\n",
    "Each inner list represents a pixel. Here, with an RGB image, there are 3 values. Since it's a black and white image, R, G, and B are all similar. An RGBA (where A is alpha, or transparency), has 4 values per inner list, and a simple luminance image just has one value (and is thus only a 2-D array, not a 3-D array). For RGB and RGBA images, Matplotlib supports float32 and uint8 data types. For grayscale, Matplotlib supports only float32.  If your array data does not meet one of these descriptions, you need to rescale it."
   ]
  },
  {
   "cell_type": "code",
   "execution_count": null,
   "id": "f2c9e467",
   "metadata": {},
   "outputs": [],
   "source": [
    "img.shape"
   ]
  },
  {
   "cell_type": "markdown",
   "id": "208b42ca",
   "metadata": {},
   "source": [
    "## Plotting Numpy arrays as images\n",
    "\n",
    "So, you have your data in a Numpy array (either by importing it, or by\n",
    "generating it).  Let's render it.  In Matplotlib, this is performed\n",
    "using the `matplotlib.pyplot.imshow` function. Here we'll grab\n",
    "the plot object. This object gives you an easy way to manipulate the\n",
    "plot from the prompt."
   ]
  },
  {
   "cell_type": "code",
   "execution_count": null,
   "id": "d6b31267",
   "metadata": {},
   "outputs": [],
   "source": [
    "imgplot = plt.imshow(img)"
   ]
  },
  {
   "cell_type": "markdown",
   "id": "dedd4af7",
   "metadata": {},
   "source": [
    "Actually, any Numpy array with shape (M, N) or (M, N, 3) or (M, N, 4) can be rendered by `imshow`."
   ]
  },
  {
   "cell_type": "code",
   "execution_count": null,
   "id": "71b487b2",
   "metadata": {},
   "outputs": [],
   "source": [
    "plt.imshow(np.random.random(size=(128, 128, 4)))  # uniform random noise image"
   ]
  },
  {
   "cell_type": "markdown",
   "id": "d61830b3",
   "metadata": {},
   "source": [
    "### Applying pseudocolor schemes to image plots\n",
    "\n",
    "Pseudocolor can be a useful tool for enhancing contrast and visualizing your data more easily. This is especially useful when making presentations of your data using projectors - their contrast is typically quite poor.\n",
    "\n",
    "Pseudocolor is only relevant to single-channel, grayscale, luminosity images. We currently have an RGB image. Since R, G, and B are all similar (see for yourself above or in your data), we can just pick one channel of our data:"
   ]
  },
  {
   "cell_type": "code",
   "execution_count": null,
   "id": "507075c7",
   "metadata": {},
   "outputs": [],
   "source": [
    "lum_img = img[:, :, 0]"
   ]
  },
  {
   "cell_type": "code",
   "execution_count": null,
   "id": "9e74d332",
   "metadata": {},
   "outputs": [],
   "source": [
    "plt.imshow(lum_img)"
   ]
  },
  {
   "cell_type": "markdown",
   "id": "4c4acdac",
   "metadata": {},
   "source": [
    "Now, with a luminosity (2D, no color) image, the default colormap (aka lookup table, LUT), is applied. The default is called \"viridis\". There are plenty of others to choose from (see [here](https://matplotlib.org/stable/tutorials/colors/colormaps.html) for a list of available colormaps)."
   ]
  },
  {
   "cell_type": "code",
   "execution_count": null,
   "id": "256a8dd3",
   "metadata": {},
   "outputs": [],
   "source": [
    "plt.imshow(lum_img, cmap=\"hot\")"
   ]
  },
  {
   "cell_type": "markdown",
   "id": "db20c77d",
   "metadata": {},
   "source": [
    "Note that you can also change colormaps on existing plot objects using the method `set_cmap` method:"
   ]
  },
  {
   "cell_type": "code",
   "execution_count": null,
   "id": "671987d8",
   "metadata": {},
   "outputs": [],
   "source": [
    "imgplot = plt.imshow(lum_img)\n",
    "imgplot.set_cmap('nipy_spectral')"
   ]
  },
  {
   "cell_type": "markdown",
   "id": "6cac4268",
   "metadata": {},
   "source": [
    "### Color scale reference\n",
    "\n",
    "It's helpful to have an idea of what value a color represents. We can do that by adding a color bar to your figure:"
   ]
  },
  {
   "cell_type": "code",
   "execution_count": null,
   "id": "3ed3f30f",
   "metadata": {},
   "outputs": [],
   "source": [
    "imgplot = plt.imshow(lum_img)\n",
    "plt.colorbar()"
   ]
  },
  {
   "cell_type": "markdown",
   "id": "57aca3a0",
   "metadata": {},
   "source": [
    "### Examining a specific data range\n",
    "\n",
    "Sometimes you want to enhance the contrast in your image, or expand the contrast in a particular region while sacrificing the detail in colors that don't vary much, or don't matter. A good tool to find interesting regions is the histogram. To create a histogram of ourimage data, we use the function `hist` function:"
   ]
  },
  {
   "cell_type": "code",
   "execution_count": null,
   "id": "52c188b1",
   "metadata": {},
   "outputs": [],
   "source": [
    "plt.hist(lum_img.ravel(), bins=256, range=(0.0, 1.0))\n",
    "plt.show()"
   ]
  },
  {
   "cell_type": "markdown",
   "id": "230bdb6c",
   "metadata": {},
   "source": [
    "Most often, the \"interesting\" part of the image is around the peak, and you can get extra contrast by clipping the regions above and/or below the peak. In our histogram, it looks like there's not much useful information in the high end (not many white things in the image). Let's adjust the upper limit, so that we effectively \"zoom in on\" part of the histogram. We do this by passing the clim argument to `imshow`. You could also do this by calling the `set_clim` method of the image plot object, but make sure that you do so in the same cell as your plot command when working with the Jupyter Notebook - it will not change plots from earlier cells.\n",
    "\n",
    "You can specify the clim in the call to `plot`."
   ]
  },
  {
   "cell_type": "code",
   "execution_count": null,
   "id": "1b93b842",
   "metadata": {},
   "outputs": [],
   "source": [
    "imgplot = plt.imshow(lum_img, clim=(0.0, 0.7))"
   ]
  },
  {
   "cell_type": "markdown",
   "id": "8024f0ae",
   "metadata": {},
   "source": [
    "You can also specify the clim using the returned object:"
   ]
  },
  {
   "cell_type": "code",
   "execution_count": null,
   "id": "2ae6b1d5",
   "metadata": {},
   "outputs": [],
   "source": [
    "fig = plt.figure()\n",
    "ax = fig.add_subplot(1, 2, 1)\n",
    "imgplot = plt.imshow(lum_img)\n",
    "ax.set_title('Before')\n",
    "plt.colorbar(ticks=[0.1, 0.3, 0.5, 0.7], orientation='horizontal')\n",
    "ax = fig.add_subplot(1, 2, 2)\n",
    "imgplot = plt.imshow(lum_img)\n",
    "imgplot.set_clim(0.0, 0.7)\n",
    "ax.set_title('After')\n",
    "plt.colorbar(ticks=[0.1, 0.3, 0.5, 0.7], orientation='horizontal')"
   ]
  },
  {
   "cell_type": "markdown",
   "id": "0d378386",
   "metadata": {},
   "source": [
    "### Array Interpolation schemes\n",
    "\n",
    "Interpolation calculates what the color or value of a pixel \"should\" be, according to different mathematical schemes. One common place that this happens is when you resize an image. The number of pixels change, but you want the same information. Since pixels are discrete, there's missing space. Interpolation is how you fill that space. This is why your images sometimes come out looking pixelated when you blow them up. The effect is more pronounced when the difference between the original image and the expanded image is greater. Let's take our image and shrink it. We're effectively discarding pixels, only keeping a select few. Now when we plot it, that data gets blown up to the size on your screen. The old pixels aren't there anymore, and the computer has to draw in pixels to fill that space."
   ]
  },
  {
   "cell_type": "code",
   "execution_count": null,
   "id": "434766d2",
   "metadata": {},
   "outputs": [],
   "source": [
    "from PIL import Image\n",
    "\n",
    "img = Image.open('stinkbug.png')\n",
    "img.thumbnail((64, 64))  # resizes image in-place\n",
    "imgplot = plt.imshow(img)"
   ]
  },
  {
   "cell_type": "markdown",
   "id": "204acc59",
   "metadata": {},
   "source": [
    "Here we have the default interpolation, bilinear, since we did not give `imshow` any interpolation argument.\n",
    "\n",
    "Let's try some others. Here's \"nearest\", which does no interpolation."
   ]
  },
  {
   "cell_type": "code",
   "execution_count": null,
   "id": "d5b35c07",
   "metadata": {},
   "outputs": [],
   "source": [
    "imgplot = plt.imshow(img, interpolation=\"nearest\")"
   ]
  },
  {
   "cell_type": "markdown",
   "id": "c5cdcbed",
   "metadata": {},
   "source": [
    "and bicubic:"
   ]
  },
  {
   "cell_type": "code",
   "execution_count": null,
   "id": "bd47f011",
   "metadata": {},
   "outputs": [],
   "source": [
    "imgplot = plt.imshow(img, interpolation=\"bicubic\")"
   ]
  },
  {
   "cell_type": "markdown",
   "id": "9983c471",
   "metadata": {},
   "source": [
    "Bicubic interpolation is often used when blowing up photos - people tend to prefer blurry over pixelated."
   ]
  },
  {
   "cell_type": "markdown",
   "id": "52f85d7d",
   "metadata": {},
   "source": []
  }
 ],
 "metadata": {
  "kernelspec": {
   "display_name": "Python 3 (ipykernel)",
   "language": "python",
   "name": "python3"
  },
  "language_info": {
   "codemirror_mode": {
    "name": "ipython",
    "version": 3
   },
   "file_extension": ".py",
   "mimetype": "text/x-python",
   "name": "python",
   "nbconvert_exporter": "python",
   "pygments_lexer": "ipython3",
   "version": "3.11.4"
  },
  "toc": {
   "base_numbering": 1,
   "nav_menu": {},
   "number_sections": true,
   "sideBar": true,
   "skip_h1_title": true,
   "title_cell": "Table of Contents",
   "title_sidebar": "Contents",
   "toc_cell": false,
   "toc_position": {},
   "toc_section_display": true,
   "toc_window_display": true
  }
 },
 "nbformat": 4,
 "nbformat_minor": 5
}
