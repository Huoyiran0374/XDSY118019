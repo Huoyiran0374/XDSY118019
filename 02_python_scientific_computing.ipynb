{
 "cells": [
  {
   "cell_type": "markdown",
   "id": "34418253",
   "metadata": {},
   "source": [
    "# Scientific Computing in Python\n",
    "An introduction to scientific computing in Python by [Dr. Yi-Xin Liu](http://www.yxliu.group) at Fudan University (lyx@fudan.edu.cn).  \n",
    "This is a part of the course: *Road to Scientific Research: Powerful Computer Applications* (XDSY118019.01).  \n",
    "Lecture date: 2022.09.22\n",
    "\n",
    "#### Resources\n",
    "- [Numpy quickstart](https://numpy.org/doc/stable/user/quickstart.html)\n",
    "- [Numpy absolute beginners guide](https://numpy.org/doc/stable/user/absolute_beginners.html)\n",
    "- [Scipy official tutorial](https://docs.scipy.org/doc/scipy/tutorial/index.html)\n",
    "\n",
    "*Side note*\n",
    "\n",
    "- [Google CoLab: Online Notebook](https://colab.research.google.com/)\n",
    "- [Youtube: Playing with Data in Jupyter Notebooks with VS Code](https://www.youtube.com/watch?v=r0wLl_rfxRs)\n"
   ]
  },
  {
   "cell_type": "markdown",
   "id": "6c47cc30",
   "metadata": {},
   "source": [
    "## Essential packages"
   ]
  },
  {
   "cell_type": "markdown",
   "id": "2fb26ee4",
   "metadata": {},
   "source": [
    "Python list is useful but it is not efficient as well as convenience for scientific computing which involves many linear algebra calculations. For example, if we want to multiply two vectors of same size elementwisely, using Python list, a first naive try will fail miserably as"
   ]
  },
  {
   "cell_type": "code",
   "execution_count": 192,
   "id": "8969e61d",
   "metadata": {},
   "outputs": [],
   "source": [
    "v1 = [1, 2, 3]\n",
    "v2 = [4, 5, 6]"
   ]
  },
  {
   "cell_type": "code",
   "execution_count": 193,
   "id": "7bf12a6f",
   "metadata": {},
   "outputs": [
    {
     "ename": "TypeError",
     "evalue": "can't multiply sequence by non-int of type 'list'",
     "output_type": "error",
     "traceback": [
      "\u001b[0;31m---------------------------------------------------------------------------\u001b[0m",
      "\u001b[0;31mTypeError\u001b[0m                                 Traceback (most recent call last)",
      "Input \u001b[0;32mIn [193]\u001b[0m, in \u001b[0;36m<cell line: 1>\u001b[0;34m()\u001b[0m\n\u001b[0;32m----> 1\u001b[0m \u001b[43mv1\u001b[49m\u001b[43m \u001b[49m\u001b[38;5;241;43m*\u001b[39;49m\u001b[43m \u001b[49m\u001b[43mv2\u001b[49m\n",
      "\u001b[0;31mTypeError\u001b[0m: can't multiply sequence by non-int of type 'list'"
     ]
    }
   ],
   "source": [
    "v1 * v2"
   ]
  },
  {
   "cell_type": "markdown",
   "id": "4606f9d9",
   "metadata": {},
   "source": [
    "Instead, we have to implement a function like:"
   ]
  },
  {
   "cell_type": "code",
   "execution_count": 194,
   "id": "67b6d6b3",
   "metadata": {},
   "outputs": [],
   "source": [
    "def vec_multiply(v1, v2):\n",
    "    v = []\n",
    "    for e1, e2 in zip(v1, v2):\n",
    "        v.append(e1 * e2)\n",
    "\n",
    "    return v"
   ]
  },
  {
   "cell_type": "code",
   "execution_count": 195,
   "id": "f4b32190",
   "metadata": {},
   "outputs": [
    {
     "data": {
      "text/plain": [
       "[4, 10, 18]"
      ]
     },
     "execution_count": 195,
     "metadata": {},
     "output_type": "execute_result"
    }
   ],
   "source": [
    "\n",
    "vec_multiply(v1, v2)"
   ]
  },
  {
   "cell_type": "markdown",
   "id": "6732acba",
   "metadata": {},
   "source": [
    "Or use list comprehension like"
   ]
  },
  {
   "cell_type": "code",
   "execution_count": 196,
   "id": "f57d0e98",
   "metadata": {},
   "outputs": [
    {
     "data": {
      "text/plain": [
       "[4, 10, 18]"
      ]
     },
     "execution_count": 196,
     "metadata": {},
     "output_type": "execute_result"
    }
   ],
   "source": [
    "[e1 * e2 for e1, e2 in zip(v1, v2)]"
   ]
  },
  {
   "cell_type": "markdown",
   "id": "76df9cdc",
   "metadata": {},
   "source": [
    "In practice, we will use packages to facilitate us to do linear algebra calculations. In Python, there are two such prominent packages: `numpy` and `scipy`. With numpy, we can simply do"
   ]
  },
  {
   "cell_type": "code",
   "execution_count": 197,
   "id": "25492a9c",
   "metadata": {},
   "outputs": [
    {
     "data": {
      "text/plain": [
       "array([ 4, 10, 18])"
      ]
     },
     "execution_count": 197,
     "metadata": {},
     "output_type": "execute_result"
    }
   ],
   "source": [
    "import numpy as np\n",
    "\n",
    "# convert Python lists to numpy arrays\n",
    "v1 = np.array(v1)\n",
    "v2 = np.array(v2)\n",
    "\n",
    "v = v1 * v2\n",
    "v"
   ]
  },
  {
   "cell_type": "markdown",
   "id": "e2750d85",
   "metadata": {},
   "source": [
    "### Numpy\n",
    "\n",
    "Numpy is the fundamental package for scientific computing with Python.\n",
    "\n",
    "It is a Python library that provides a multidimensional array object, various derived objects (such as masked arrays and matrices), and an assortment of routines for fast operations on arrays, including mathematical, logical, shape manipulation, sorting, selecting, I/O, discrete Fourier transforms, basic linear algebra, basic statistical operations, random simulation and much more.\n",
    "\n",
    "Numpy comes with Anaconda by default.\n",
    "\n",
    "Tutorial to learn Numpy:\n",
    "- https://numpy.org/doc/stable/user/quickstart.html\n",
    "- https://numpy.org/doc/stable/user/absolute_beginners.html."
   ]
  },
  {
   "cell_type": "markdown",
   "id": "8d10f561",
   "metadata": {},
   "source": [
    "### SciPy\n",
    "\n",
    "SciPy provides fundamental algorithms for scientific computing in Python.\n",
    "\n",
    "SciPy is a collection of mathematical algorithms and convenience functions built on the NumPy extension of Python. It adds significant power to the interactive Python session by providing the user with high-level commands and classes for manipulating and visualizing data. With SciPy, an interactive Python session becomes a data-processing and system-prototyping environment rivaling systems, such as MATLAB, IDL, Octave, R-Lab, and SciLab.\n",
    "\n",
    "The additional benefit of basing SciPy on Python is that this also makes a powerful programming language available for use in developing sophisticated programs and specialized applications. Scientific applications using SciPy benefit from the development of additional modules in numerous niches of the software landscape by developers across the world. Everything from parallel programming to web and data-base subroutines and classes have been made available to the Python programmer. All of this power is available in addition to the mathematical libraries in SciPy.\n",
    "\n",
    "SciPy also comes with Anaconda by default.\n",
    "\n",
    "Tutorial to learn SciPy:\n",
    "- https://docs.scipy.org/doc/scipy/tutorial/index.html."
   ]
  },
  {
   "cell_type": "markdown",
   "id": "d8986890",
   "metadata": {},
   "source": [
    "## Numpy array\n",
    "\n",
    "### Python list vs. Numpy array\n",
    "\n",
    "NumPy gives you an enormous range of fast and efficient ways of creating arrays and manipulating numerical data inside them. While a Python list can contain different data types within a single list, all of the elements in a NumPy array should be homogeneous. The mathematical operations that are meant to be performed on arrays would be extremely inefficient if the arrays weren’t homogeneous.\n",
    "\n",
    "**Why use NumPy?** NumPy arrays are faster and more compact than Python lists. An array consumes less memory and is convenient to use. NumPy uses much less memory to store data and it provides a mechanism of specifying the data types. This allows the code to be optimized even further.\n",
    "\n",
    "### What is an array?\n",
    "An array is a central data structure of the NumPy library. An array is a grid of values and it contains information about the raw data, how to locate an element, and how to interpret an element. It has a grid of elements that can be indexed in various ways. The elements are all of the same type, referred to as the array dtype."
   ]
  },
  {
   "cell_type": "markdown",
   "id": "1f98581a",
   "metadata": {},
   "source": [
    "### Dimension, shape, and size\n",
    "\n",
    "- **vector** - One-dimension (1D) array"
   ]
  },
  {
   "cell_type": "code",
   "execution_count": 20,
   "id": "88dc9795",
   "metadata": {},
   "outputs": [
    {
     "data": {
      "text/plain": [
       "array([1, 2, 3])"
      ]
     },
     "execution_count": 20,
     "metadata": {},
     "output_type": "execute_result"
    }
   ],
   "source": [
    "v1 = np.array([1, 2, 3])\n",
    "v1"
   ]
  },
  {
   "cell_type": "code",
   "execution_count": 24,
   "id": "a698676e",
   "metadata": {},
   "outputs": [
    {
     "data": {
      "text/plain": [
       "(1, (3,), 3)"
      ]
     },
     "execution_count": 24,
     "metadata": {},
     "output_type": "execute_result"
    }
   ],
   "source": [
    "v1.ndim, v1.shape, v1.size"
   ]
  },
  {
   "cell_type": "markdown",
   "id": "770d9741",
   "metadata": {},
   "source": [
    "- **matrix** - Two-dimension (2D) array"
   ]
  },
  {
   "cell_type": "code",
   "execution_count": 19,
   "id": "d0372137",
   "metadata": {},
   "outputs": [
    {
     "data": {
      "text/plain": [
       "array([[1, 2, 3],\n",
       "       [4, 5, 6]])"
      ]
     },
     "execution_count": 19,
     "metadata": {},
     "output_type": "execute_result"
    }
   ],
   "source": [
    "v2 = np.array([[1, 2, 3],\n",
    "               [4, 5, 6]])\n",
    "v2"
   ]
  },
  {
   "cell_type": "code",
   "execution_count": 25,
   "id": "d992b2fb",
   "metadata": {},
   "outputs": [
    {
     "data": {
      "text/plain": [
       "(2, (2, 3), 6)"
      ]
     },
     "execution_count": 25,
     "metadata": {},
     "output_type": "execute_result"
    }
   ],
   "source": [
    "v2.ndim, v2.shape, v2.size"
   ]
  },
  {
   "cell_type": "markdown",
   "id": "44d76408",
   "metadata": {},
   "source": [
    "- **tensor** - Three-dimension (3D) array and above"
   ]
  },
  {
   "cell_type": "code",
   "execution_count": 198,
   "id": "26ddb6c0",
   "metadata": {},
   "outputs": [
    {
     "data": {
      "text/plain": [
       "array([[[1, 2, 3],\n",
       "        [4, 5, 6]],\n",
       "\n",
       "       [[7, 8, 9],\n",
       "        [0, 1, 2]]])"
      ]
     },
     "execution_count": 198,
     "metadata": {},
     "output_type": "execute_result"
    }
   ],
   "source": [
    "v3 = np.array([[[1, 2, 3], [4, 5, 6]],\n",
    "               [[7, 8, 9], [0, 1, 2]]])\n",
    "v3"
   ]
  },
  {
   "cell_type": "code",
   "execution_count": 199,
   "id": "7edacf65",
   "metadata": {
    "scrolled": true
   },
   "outputs": [
    {
     "data": {
      "text/plain": [
       "(3, (2, 2, 3), 12)"
      ]
     },
     "execution_count": 199,
     "metadata": {},
     "output_type": "execute_result"
    }
   ],
   "source": [
    "v3.ndim, v3.shape, v3.size"
   ]
  },
  {
   "cell_type": "markdown",
   "id": "9c1c6c81",
   "metadata": {},
   "source": [
    "### Array creation"
   ]
  },
  {
   "cell_type": "code",
   "execution_count": 200,
   "id": "b1b96696",
   "metadata": {},
   "outputs": [
    {
     "data": {
      "text/plain": [
       "array([0., 1., 2., 3., 4., 5., 6., 7., 8., 9.])"
      ]
     },
     "execution_count": 200,
     "metadata": {},
     "output_type": "execute_result"
    }
   ],
   "source": [
    "np.arange(10, dtype=float)  # vector"
   ]
  },
  {
   "cell_type": "code",
   "execution_count": 201,
   "id": "ff6d095f",
   "metadata": {},
   "outputs": [
    {
     "data": {
      "text/plain": [
       "array([0. , 0.1, 0.2, 0.3, 0.4, 0.5, 0.6, 0.7, 0.8, 0.9, 1. ])"
      ]
     },
     "execution_count": 201,
     "metadata": {},
     "output_type": "execute_result"
    }
   ],
   "source": [
    "np.linspace(0, 1, 11)  # vector"
   ]
  },
  {
   "cell_type": "code",
   "execution_count": 202,
   "id": "71eb8784",
   "metadata": {},
   "outputs": [
    {
     "data": {
      "text/plain": [
       "array([[0.28854144, 0.1798191 , 0.38464953],\n",
       "       [0.32366069, 0.4465389 , 0.6885494 ]])"
      ]
     },
     "execution_count": 202,
     "metadata": {},
     "output_type": "execute_result"
    }
   ],
   "source": [
    "np.random.rand(2, 3)"
   ]
  },
  {
   "cell_type": "code",
   "execution_count": 203,
   "id": "c9e36e8c",
   "metadata": {},
   "outputs": [
    {
     "data": {
      "text/plain": [
       "array([[ 0.41579741,  0.78876368, -1.15107587],\n",
       "       [ 0.47760424,  0.22386297,  0.14167771]])"
      ]
     },
     "execution_count": 203,
     "metadata": {},
     "output_type": "execute_result"
    }
   ],
   "source": [
    "np.random.randn(2, 3)"
   ]
  },
  {
   "cell_type": "code",
   "execution_count": 204,
   "id": "78703219",
   "metadata": {},
   "outputs": [
    {
     "data": {
      "text/plain": [
       "array([[0., 0., 0.],\n",
       "       [0., 0., 0.]])"
      ]
     },
     "execution_count": 204,
     "metadata": {},
     "output_type": "execute_result"
    }
   ],
   "source": [
    "np.zeros((2, 3))"
   ]
  },
  {
   "cell_type": "code",
   "execution_count": 205,
   "id": "afdf4845",
   "metadata": {},
   "outputs": [
    {
     "data": {
      "text/plain": [
       "array([[1., 1., 1.],\n",
       "       [1., 1., 1.]])"
      ]
     },
     "execution_count": 205,
     "metadata": {},
     "output_type": "execute_result"
    }
   ],
   "source": [
    "np.ones((2, 3))"
   ]
  },
  {
   "cell_type": "code",
   "execution_count": 206,
   "id": "baf345f9",
   "metadata": {
    "scrolled": true
   },
   "outputs": [
    {
     "data": {
      "text/plain": [
       "array([[1., 0.],\n",
       "       [0., 1.]])"
      ]
     },
     "execution_count": 206,
     "metadata": {},
     "output_type": "execute_result"
    }
   ],
   "source": [
    "np.eye(2)  # matrix"
   ]
  },
  {
   "cell_type": "markdown",
   "id": "0c279043",
   "metadata": {},
   "source": [
    "### Array attributes and methods"
   ]
  },
  {
   "cell_type": "code",
   "execution_count": 207,
   "id": "d7693cf0",
   "metadata": {},
   "outputs": [
    {
     "data": {
      "text/plain": [
       "array([[1, 2, 3],\n",
       "       [4, 5, 6]])"
      ]
     },
     "execution_count": 207,
     "metadata": {},
     "output_type": "execute_result"
    }
   ],
   "source": [
    "v2 = np.array([[1, 2, 3],\n",
    "               [4, 5, 6]])\n",
    "v2"
   ]
  },
  {
   "cell_type": "code",
   "execution_count": 208,
   "id": "9e81316b",
   "metadata": {},
   "outputs": [
    {
     "data": {
      "text/plain": [
       "(6, 5, 1, 0, 21, array([ 1,  3,  6, 10, 15, 21]))"
      ]
     },
     "execution_count": 208,
     "metadata": {},
     "output_type": "execute_result"
    }
   ],
   "source": [
    "v2.max(), v2.argmax(), v2.min(), v2.argmin(), v2.sum(), v2.cumsum()"
   ]
  },
  {
   "cell_type": "markdown",
   "id": "6fe15667",
   "metadata": {},
   "source": [
    "### Indexing and slicing\n",
    "\n",
    "Numpy offers several ways to index into arrays and accessing/changing specific elements, rows, columns, etc."
   ]
  },
  {
   "cell_type": "markdown",
   "id": "566a9749",
   "metadata": {},
   "source": [
    "#### Python list like indexing and slicing"
   ]
  },
  {
   "cell_type": "code",
   "execution_count": 284,
   "id": "c4aab54a",
   "metadata": {},
   "outputs": [
    {
     "data": {
      "text/plain": [
       "array([0, 1, 2, 3, 4, 5, 6, 7, 8, 9])"
      ]
     },
     "execution_count": 284,
     "metadata": {},
     "output_type": "execute_result"
    }
   ],
   "source": [
    "v1 = np.arange(10)\n",
    "v1"
   ]
  },
  {
   "cell_type": "code",
   "execution_count": 285,
   "id": "7afa2ef5",
   "metadata": {},
   "outputs": [
    {
     "data": {
      "text/plain": [
       "4"
      ]
     },
     "execution_count": 285,
     "metadata": {},
     "output_type": "execute_result"
    }
   ],
   "source": [
    "v1[4]"
   ]
  },
  {
   "cell_type": "code",
   "execution_count": 290,
   "id": "e36de4d8",
   "metadata": {},
   "outputs": [
    {
     "data": {
      "text/plain": [
       "(array([3, 4, 5]),\n",
       " array([0, 1, 2]),\n",
       " array([7, 8, 9]),\n",
       " array([0, 1, 2, 3, 4, 5, 6, 7, 8, 9]))"
      ]
     },
     "execution_count": 290,
     "metadata": {},
     "output_type": "execute_result"
    }
   ],
   "source": [
    "v1[3:6], v1[:3], v1[7:], v1[:]"
   ]
  },
  {
   "cell_type": "markdown",
   "id": "49266e2d",
   "metadata": {},
   "source": [
    "_Slice is a view of orginal array._ Change the slice will change the orignial array."
   ]
  },
  {
   "cell_type": "code",
   "execution_count": 291,
   "id": "135ed6c9",
   "metadata": {},
   "outputs": [
    {
     "data": {
      "text/plain": [
       "array([ 0,  1,  2, 99, 99, 99,  6,  7,  8,  9])"
      ]
     },
     "execution_count": 291,
     "metadata": {},
     "output_type": "execute_result"
    }
   ],
   "source": [
    "slice_v1 = v1[3:6]\n",
    "slice_v1[:] = 99\n",
    "v1"
   ]
  },
  {
   "cell_type": "code",
   "execution_count": 296,
   "id": "cd8335bd",
   "metadata": {},
   "outputs": [
    {
     "data": {
      "text/plain": [
       "array([[ 0,  1,  2,  3,  4,  5],\n",
       "       [ 6,  7,  8,  9, 10, 11],\n",
       "       [12, 13, 14, 15, 16, 17],\n",
       "       [18, 19, 20, 21, 22, 23]])"
      ]
     },
     "execution_count": 296,
     "metadata": {},
     "output_type": "execute_result"
    }
   ],
   "source": [
    "v2 = np.arange(24).reshape(4, 6)\n",
    "v2"
   ]
  },
  {
   "cell_type": "code",
   "execution_count": 297,
   "id": "3d1b8deb",
   "metadata": {},
   "outputs": [
    {
     "data": {
      "text/plain": [
       "array([ 6,  7,  8,  9, 10, 11])"
      ]
     },
     "execution_count": 297,
     "metadata": {},
     "output_type": "execute_result"
    }
   ],
   "source": [
    "v2[1]  # indexing a row"
   ]
  },
  {
   "cell_type": "code",
   "execution_count": 298,
   "id": "b3e9b4e7",
   "metadata": {},
   "outputs": [
    {
     "data": {
      "text/plain": [
       "array([ 6,  7,  8,  9, 10, 11])"
      ]
     },
     "execution_count": 298,
     "metadata": {},
     "output_type": "execute_result"
    }
   ],
   "source": [
    "v2[1, :]"
   ]
  },
  {
   "cell_type": "code",
   "execution_count": 299,
   "id": "64088dcb",
   "metadata": {},
   "outputs": [
    {
     "data": {
      "text/plain": [
       "7"
      ]
     },
     "execution_count": 299,
     "metadata": {},
     "output_type": "execute_result"
    }
   ],
   "source": [
    "v2[1, 1]  # indexing a single element"
   ]
  },
  {
   "cell_type": "code",
   "execution_count": 300,
   "id": "2ed0b77f",
   "metadata": {},
   "outputs": [
    {
     "data": {
      "text/plain": [
       "array([ 1,  7, 13, 19])"
      ]
     },
     "execution_count": 300,
     "metadata": {},
     "output_type": "execute_result"
    }
   ],
   "source": [
    "v2[:, 1]  # the second column"
   ]
  },
  {
   "cell_type": "code",
   "execution_count": 301,
   "id": "ab632d58",
   "metadata": {},
   "outputs": [
    {
     "data": {
      "text/plain": [
       "array([[ 3,  4],\n",
       "       [ 9, 10]])"
      ]
     },
     "execution_count": 301,
     "metadata": {},
     "output_type": "execute_result"
    }
   ],
   "source": [
    "v2[:2, 3:5]  # elements in the first and second rows, the fourth and fifth colums."
   ]
  },
  {
   "cell_type": "markdown",
   "id": "29d87f38",
   "metadata": {},
   "source": [
    "#### Integer array indexing\n",
    "\n",
    "integer array indexing allows you to construct arbitrary arrays using the data from another array."
   ]
  },
  {
   "cell_type": "code",
   "execution_count": 276,
   "id": "3900e558",
   "metadata": {},
   "outputs": [
    {
     "data": {
      "text/plain": [
       "(2, 3)"
      ]
     },
     "execution_count": 276,
     "metadata": {},
     "output_type": "execute_result"
    }
   ],
   "source": [
    "A = np.array([[1, 2, 3],\n",
    "              [4, 5, 6]])\n",
    "A.shape"
   ]
  },
  {
   "cell_type": "code",
   "execution_count": 277,
   "id": "e77dcc46",
   "metadata": {},
   "outputs": [],
   "source": [
    "I = [0, 1]  # indices for first dimension, thus should less than 2 (not included)"
   ]
  },
  {
   "cell_type": "code",
   "execution_count": 278,
   "id": "8618afa3",
   "metadata": {},
   "outputs": [],
   "source": [
    "J = [2, 0]  # indices for second dimension, thus should less than 3 (not included)"
   ]
  },
  {
   "cell_type": "code",
   "execution_count": 279,
   "id": "03fb55d2",
   "metadata": {},
   "outputs": [
    {
     "data": {
      "text/plain": [
       "array([3, 4])"
      ]
     },
     "execution_count": 279,
     "metadata": {},
     "output_type": "execute_result"
    }
   ],
   "source": [
    "A[I, J]"
   ]
  },
  {
   "cell_type": "markdown",
   "id": "9971a36b",
   "metadata": {},
   "source": [
    "The result array is a view of the original array. Thus we can use it to mutate its content,"
   ]
  },
  {
   "cell_type": "code",
   "execution_count": 280,
   "id": "d0fe3864",
   "metadata": {},
   "outputs": [
    {
     "data": {
      "text/plain": [
       "array([[ 1,  2, 12],\n",
       "       [13,  5,  6]])"
      ]
     },
     "execution_count": 280,
     "metadata": {},
     "output_type": "execute_result"
    }
   ],
   "source": [
    "A[I, J] += 9\n",
    "A"
   ]
  },
  {
   "cell_type": "markdown",
   "id": "96cabac3",
   "metadata": {},
   "source": [
    "#### Boolean array indexing\n",
    "\n",
    "Boolean array indexing lets you pick out arbitrary elements of an array. Frequently this type of indexing is used to select the elements of an array that satisfy some condition."
   ]
  },
  {
   "cell_type": "code",
   "execution_count": 260,
   "id": "80d019e8",
   "metadata": {},
   "outputs": [
    {
     "data": {
      "text/plain": [
       "array([ 1,  2,  3,  4,  5,  6,  7,  8,  9, 10])"
      ]
     },
     "execution_count": 260,
     "metadata": {},
     "output_type": "execute_result"
    }
   ],
   "source": [
    "a = np.arange(1, 11)\n",
    "a"
   ]
  },
  {
   "cell_type": "code",
   "execution_count": 261,
   "id": "6b66d042",
   "metadata": {},
   "outputs": [
    {
     "data": {
      "text/plain": [
       "array([False, False, False, False,  True,  True,  True,  True,  True,\n",
       "        True])"
      ]
     },
     "execution_count": 261,
     "metadata": {},
     "output_type": "execute_result"
    }
   ],
   "source": [
    "a > 4"
   ]
  },
  {
   "cell_type": "code",
   "execution_count": 262,
   "id": "af6fbb92",
   "metadata": {},
   "outputs": [
    {
     "data": {
      "text/plain": [
       "array([ 5,  6,  7,  8,  9, 10])"
      ]
     },
     "execution_count": 262,
     "metadata": {},
     "output_type": "execute_result"
    }
   ],
   "source": [
    "a[a>4]"
   ]
  },
  {
   "cell_type": "code",
   "execution_count": 263,
   "id": "38a5710e",
   "metadata": {},
   "outputs": [
    {
     "data": {
      "text/plain": [
       "array([[0.08902198, 0.41935228, 0.26680782, 0.74410475, 0.39257866],\n",
       "       [0.55968341, 0.61875226, 0.68150949, 0.44039012, 0.99340642],\n",
       "       [0.13688794, 0.48035128, 0.94218335, 0.3552585 , 0.85673765],\n",
       "       [0.23754581, 0.38956544, 0.19819892, 0.3499117 , 0.8062432 ]])"
      ]
     },
     "execution_count": 263,
     "metadata": {},
     "output_type": "execute_result"
    }
   ],
   "source": [
    "b = np.random.rand(4, 5)\n",
    "b"
   ]
  },
  {
   "cell_type": "code",
   "execution_count": 264,
   "id": "173721dd",
   "metadata": {},
   "outputs": [
    {
     "data": {
      "text/plain": [
       "array([0.08902198, 0.41935228, 0.26680782, 0.39257866, 0.44039012,\n",
       "       0.13688794, 0.48035128, 0.3552585 , 0.23754581, 0.38956544,\n",
       "       0.19819892, 0.3499117 ])"
      ]
     },
     "execution_count": 264,
     "metadata": {},
     "output_type": "execute_result"
    }
   ],
   "source": [
    "b[b<0.5]"
   ]
  },
  {
   "cell_type": "markdown",
   "id": "eaa008f5",
   "metadata": {},
   "source": [
    "#### Exercise\n",
    "- Create the following matrix and assign it to variable `B`.\n",
    "\n",
    "$$\n",
    "\\begin{bmatrix}\n",
    "    1 &2 &3 &4 &5 \\\\\n",
    "    6 &7 &8 &9 &10 \\\\\n",
    "    11 &12 &13 &14 &15 \\\\\n",
    "    16 &17 &18 &19 &20 \\\\\n",
    "    21 &22 &23 &24 &25 \\\\\n",
    "    26 &27 &28 &29 &30\n",
    "\\end{bmatrix}\n",
    "$$\n",
    "\n",
    "- Retrieve `23`.\n",
    "\n",
    "- Retrieve `[2, 8, 14, 20]`\n",
    "\n",
    "- Retrieve\n",
    "\n",
    "$$\n",
    "\\begin{bmatrix}\n",
    "    11 &12 \\\\\n",
    "    16 &17\n",
    "\\end{bmatrix}\n",
    "$$\n",
    "\n",
    "- Retrieve\n",
    "\n",
    "$$\n",
    "\\begin{bmatrix}\n",
    "    4 &5 \\\\\n",
    "    24 &25 \\\\\n",
    "    29 &30\n",
    "\\end{bmatrix}\n",
    "$$\n",
    "\n",
    "- Find all even elements.\n",
    "\n",
    "- Compute the sum of all odd elements."
   ]
  },
  {
   "cell_type": "code",
   "execution_count": 267,
   "id": "ad6b9582",
   "metadata": {},
   "outputs": [],
   "source": [
    "# Do the exercise below\n"
   ]
  },
  {
   "cell_type": "markdown",
   "id": "451459fc",
   "metadata": {},
   "source": [
    "### Resizing and reshaping\n",
    "\n",
    "- Adding or removing elements: `np.append`, `np.insert`, `np.delete`, `np.resize`."
   ]
  },
  {
   "cell_type": "code",
   "execution_count": 209,
   "id": "4cf1a83c",
   "metadata": {},
   "outputs": [
    {
     "data": {
      "text/plain": [
       "array([], dtype=float64)"
      ]
     },
     "execution_count": 209,
     "metadata": {},
     "output_type": "execute_result"
    }
   ],
   "source": [
    "u = np.array([])\n",
    "u"
   ]
  },
  {
   "cell_type": "code",
   "execution_count": 210,
   "id": "98400269",
   "metadata": {},
   "outputs": [
    {
     "data": {
      "text/plain": [
       "(array([], dtype=float64), array([1.]))"
      ]
     },
     "execution_count": 210,
     "metadata": {},
     "output_type": "execute_result"
    }
   ],
   "source": [
    "v = np.append(u, 1)\n",
    "u, v"
   ]
  },
  {
   "cell_type": "code",
   "execution_count": 211,
   "id": "5fff08aa",
   "metadata": {},
   "outputs": [
    {
     "data": {
      "text/plain": [
       "array([[1, 2, 3],\n",
       "       [4, 5, 6]])"
      ]
     },
     "execution_count": 211,
     "metadata": {},
     "output_type": "execute_result"
    }
   ],
   "source": [
    "v = np.array([[1, 2, 3],\n",
    "              [4, 5, 6]])\n",
    "v"
   ]
  },
  {
   "cell_type": "markdown",
   "id": "014f3b17",
   "metadata": {},
   "source": [
    "- Flattening: `array.flatten()`"
   ]
  },
  {
   "cell_type": "code",
   "execution_count": 212,
   "id": "73f2e09d",
   "metadata": {},
   "outputs": [
    {
     "data": {
      "text/plain": [
       "array([1, 2, 3, 4, 5, 6])"
      ]
     },
     "execution_count": 212,
     "metadata": {},
     "output_type": "execute_result"
    }
   ],
   "source": [
    "v.flatten()"
   ]
  },
  {
   "cell_type": "code",
   "execution_count": 213,
   "id": "23ad9a75",
   "metadata": {},
   "outputs": [
    {
     "data": {
      "text/plain": [
       "array([[1, 2, 3],\n",
       "       [4, 5, 6]])"
      ]
     },
     "execution_count": 213,
     "metadata": {},
     "output_type": "execute_result"
    }
   ],
   "source": [
    "v"
   ]
  },
  {
   "cell_type": "markdown",
   "id": "61c0c93c",
   "metadata": {},
   "source": [
    "- Stacking: `numpy.hstack`, `numpy.vstack`."
   ]
  },
  {
   "cell_type": "code",
   "execution_count": 303,
   "id": "1f167efb",
   "metadata": {},
   "outputs": [
    {
     "data": {
      "text/plain": [
       "array([1, 2, 3, 4, 5, 6])"
      ]
     },
     "execution_count": 303,
     "metadata": {},
     "output_type": "execute_result"
    }
   ],
   "source": [
    "f = np.array([1,2,3])\n",
    "g = np.array([4,5,6])\n",
    "\n",
    "np.hstack((f, g))"
   ]
  },
  {
   "cell_type": "code",
   "execution_count": 304,
   "id": "1f64bb77",
   "metadata": {},
   "outputs": [
    {
     "data": {
      "text/plain": [
       "array([[1, 2, 3],\n",
       "       [4, 5, 6]])"
      ]
     },
     "execution_count": 304,
     "metadata": {},
     "output_type": "execute_result"
    }
   ],
   "source": [
    "np.vstack((f, g))"
   ]
  },
  {
   "cell_type": "code",
   "execution_count": 309,
   "id": "24320728",
   "metadata": {},
   "outputs": [
    {
     "data": {
      "text/plain": [
       "array([[1., 1., 1., 1., 0., 0.],\n",
       "       [1., 1., 1., 1., 0., 0.]])"
      ]
     },
     "execution_count": 309,
     "metadata": {},
     "output_type": "execute_result"
    }
   ],
   "source": [
    "h1 = np.ones((2,4))\n",
    "h2 = np.zeros((2,2))\n",
    "\n",
    "np.hstack((h1,h2))"
   ]
  },
  {
   "cell_type": "code",
   "execution_count": 311,
   "id": "81957972",
   "metadata": {},
   "outputs": [
    {
     "ename": "ValueError",
     "evalue": "all the input array dimensions for the concatenation axis must match exactly, but along dimension 1, the array at index 0 has size 4 and the array at index 1 has size 2",
     "output_type": "error",
     "traceback": [
      "\u001b[0;31m---------------------------------------------------------------------------\u001b[0m",
      "\u001b[0;31mValueError\u001b[0m                                Traceback (most recent call last)",
      "Input \u001b[0;32mIn [311]\u001b[0m, in \u001b[0;36m<cell line: 1>\u001b[0;34m()\u001b[0m\n\u001b[0;32m----> 1\u001b[0m \u001b[43mnp\u001b[49m\u001b[38;5;241;43m.\u001b[39;49m\u001b[43mvstack\u001b[49m\u001b[43m(\u001b[49m\u001b[43m(\u001b[49m\u001b[43mh1\u001b[49m\u001b[43m,\u001b[49m\u001b[43m \u001b[49m\u001b[43mh2\u001b[49m\u001b[43m)\u001b[49m\u001b[43m)\u001b[49m\n",
      "File \u001b[0;32m<__array_function__ internals>:5\u001b[0m, in \u001b[0;36mvstack\u001b[0;34m(*args, **kwargs)\u001b[0m\n",
      "File \u001b[0;32m~/opt/anaconda3/lib/python3.9/site-packages/numpy/core/shape_base.py:282\u001b[0m, in \u001b[0;36mvstack\u001b[0;34m(tup)\u001b[0m\n\u001b[1;32m    280\u001b[0m \u001b[38;5;28;01mif\u001b[39;00m \u001b[38;5;129;01mnot\u001b[39;00m \u001b[38;5;28misinstance\u001b[39m(arrs, \u001b[38;5;28mlist\u001b[39m):\n\u001b[1;32m    281\u001b[0m     arrs \u001b[38;5;241m=\u001b[39m [arrs]\n\u001b[0;32m--> 282\u001b[0m \u001b[38;5;28;01mreturn\u001b[39;00m \u001b[43m_nx\u001b[49m\u001b[38;5;241;43m.\u001b[39;49m\u001b[43mconcatenate\u001b[49m\u001b[43m(\u001b[49m\u001b[43marrs\u001b[49m\u001b[43m,\u001b[49m\u001b[43m \u001b[49m\u001b[38;5;241;43m0\u001b[39;49m\u001b[43m)\u001b[49m\n",
      "File \u001b[0;32m<__array_function__ internals>:5\u001b[0m, in \u001b[0;36mconcatenate\u001b[0;34m(*args, **kwargs)\u001b[0m\n",
      "\u001b[0;31mValueError\u001b[0m: all the input array dimensions for the concatenation axis must match exactly, but along dimension 1, the array at index 0 has size 4 and the array at index 1 has size 2"
     ]
    }
   ],
   "source": [
    "np.vstack((h1, h2))  # Error: dimension size not match"
   ]
  },
  {
   "cell_type": "code",
   "execution_count": 313,
   "id": "4f0d14a5",
   "metadata": {},
   "outputs": [
    {
     "data": {
      "text/plain": [
       "array([[1., 1.],\n",
       "       [1., 1.],\n",
       "       [1., 1.],\n",
       "       [1., 1.],\n",
       "       [0., 0.],\n",
       "       [0., 0.]])"
      ]
     },
     "execution_count": 313,
     "metadata": {},
     "output_type": "execute_result"
    }
   ],
   "source": [
    "v1 = np.ones((4,2))  # transpose the matrix\n",
    "v2 = np.zeros((2,2))\n",
    "\n",
    "np.vstack((v1,v2))  # now it is correct to stack vertically."
   ]
  },
  {
   "cell_type": "markdown",
   "id": "c836179a",
   "metadata": {},
   "source": [
    "## Linear algebra"
   ]
  },
  {
   "cell_type": "markdown",
   "id": "857d04ac",
   "metadata": {},
   "source": [
    "### Arithmetic and broadcasting"
   ]
  },
  {
   "cell_type": "code",
   "execution_count": 214,
   "id": "9a9d4f6b",
   "metadata": {},
   "outputs": [],
   "source": [
    "u = np.array([1, 2, 3])\n",
    "v = np.array([4, 5, 6])"
   ]
  },
  {
   "cell_type": "code",
   "execution_count": 215,
   "id": "5ebdabc2",
   "metadata": {},
   "outputs": [
    {
     "data": {
      "text/plain": [
       "(array([5, 7, 9]),\n",
       " array([-3, -3, -3]),\n",
       " array([ 4, 10, 18]),\n",
       " array([0.25, 0.4 , 0.5 ]))"
      ]
     },
     "execution_count": 215,
     "metadata": {},
     "output_type": "execute_result"
    }
   ],
   "source": [
    "# basic operations\n",
    "u + v, u - v, u * v, u / v"
   ]
  },
  {
   "cell_type": "code",
   "execution_count": 216,
   "id": "08c6fb40",
   "metadata": {},
   "outputs": [
    {
     "data": {
      "text/plain": [
       "(array([1.        , 1.41421356, 1.73205081]),\n",
       " array([0.84147098, 0.90929743, 0.14112001]),\n",
       " array([ 0.54030231, -0.41614684, -0.9899925 ]),\n",
       " array([0.        , 0.69314718, 1.09861229]),\n",
       " array([ 2.71828183,  7.3890561 , 20.08553692]))"
      ]
     },
     "execution_count": 216,
     "metadata": {},
     "output_type": "execute_result"
    }
   ],
   "source": [
    "# Math functions\n",
    "np.sqrt(u), np.sin(u), np.cos(u), np.log(u), np.exp(u)"
   ]
  },
  {
   "cell_type": "code",
   "execution_count": 217,
   "id": "bbb6fd32",
   "metadata": {},
   "outputs": [
    {
     "data": {
      "text/plain": [
       "(2.0, 2.0, 0.816496580927726)"
      ]
     },
     "execution_count": 217,
     "metadata": {},
     "output_type": "execute_result"
    }
   ],
   "source": [
    "# basic statistics\n",
    "np.mean(u), np.median(u), np.std(u)"
   ]
  },
  {
   "cell_type": "markdown",
   "id": "92c64c8a",
   "metadata": {},
   "source": [
    "**Broadcasting** is super cool and super useful. When doing elementwise operaitons, arrays expand to the \"correct\" shape.\n",
    "\n",
    "_Broadcasting is even cooler in Julia. Check it out!_"
   ]
  },
  {
   "cell_type": "code",
   "execution_count": 218,
   "id": "b9ea904c",
   "metadata": {},
   "outputs": [
    {
     "data": {
      "text/plain": [
       "array([5, 6, 7])"
      ]
     },
     "execution_count": 218,
     "metadata": {},
     "output_type": "execute_result"
    }
   ],
   "source": [
    "# broadcasting a scalar over a vector\n",
    "u + 4"
   ]
  },
  {
   "cell_type": "code",
   "execution_count": 219,
   "id": "84ce3ac0",
   "metadata": {},
   "outputs": [
    {
     "data": {
      "text/plain": [
       "array([0, 1, 2, 3, 4])"
      ]
     },
     "execution_count": 219,
     "metadata": {},
     "output_type": "execute_result"
    }
   ],
   "source": [
    "a = np.arange(5)\n",
    "a"
   ]
  },
  {
   "cell_type": "code",
   "execution_count": 220,
   "id": "2d514306",
   "metadata": {},
   "outputs": [
    {
     "data": {
      "text/plain": [
       "array([[0.91328045, 0.52119624, 0.68368728, 0.57745181, 0.23883614],\n",
       "       [0.36910582, 0.74231474, 0.76104743, 0.54168836, 0.80033989]])"
      ]
     },
     "execution_count": 220,
     "metadata": {},
     "output_type": "execute_result"
    }
   ],
   "source": [
    "b = np.random.rand(2, 5) \n",
    "b"
   ]
  },
  {
   "cell_type": "code",
   "execution_count": 221,
   "id": "7dd68109",
   "metadata": {},
   "outputs": [
    {
     "data": {
      "text/plain": [
       "array([[0.        , 0.52119624, 1.36737457, 1.73235544, 0.95534454],\n",
       "       [0.        , 0.74231474, 1.52209486, 1.62506509, 3.20135956]])"
      ]
     },
     "execution_count": 221,
     "metadata": {},
     "output_type": "execute_result"
    }
   ],
   "source": [
    "a * b"
   ]
  },
  {
   "cell_type": "code",
   "execution_count": 222,
   "id": "2aefe086",
   "metadata": {},
   "outputs": [
    {
     "data": {
      "text/plain": [
       "array([[0.91328045, 1.52119624, 2.68368728, 3.57745181, 4.23883614],\n",
       "       [0.36910582, 1.74231474, 2.76104743, 3.54168836, 4.80033989]])"
      ]
     },
     "execution_count": 222,
     "metadata": {},
     "output_type": "execute_result"
    }
   ],
   "source": [
    "a + b"
   ]
  },
  {
   "cell_type": "markdown",
   "id": "376658be",
   "metadata": {},
   "source": [
    "### Vector product\n",
    "\n",
    "Given two equal-length column vectors $\\mathbf{u}=[u_1, u_2, u_3]$ and $\\mathbf{v}=[v_1, v_2, v_3]$, we can compute their inner, cross, and outer products."
   ]
  },
  {
   "cell_type": "code",
   "execution_count": 223,
   "id": "ea9a7751",
   "metadata": {},
   "outputs": [],
   "source": [
    "u = np.array([1, 2, 3])\n",
    "v = np.array([4, 5, 6])"
   ]
  },
  {
   "cell_type": "markdown",
   "id": "62c6c946",
   "metadata": {},
   "source": [
    "- Inner product\n",
    "\n",
    "$$\n",
    "    \\mathbf{u}\\cdot\\mathbf{v} = u_1v_1 + u_2v_2 + u_3v_3\n",
    "$$"
   ]
  },
  {
   "cell_type": "code",
   "execution_count": 224,
   "id": "1836d0bf",
   "metadata": {},
   "outputs": [
    {
     "data": {
      "text/plain": [
       "32"
      ]
     },
     "execution_count": 224,
     "metadata": {},
     "output_type": "execute_result"
    }
   ],
   "source": [
    "np.dot(u, v)"
   ]
  },
  {
   "cell_type": "markdown",
   "id": "aca5c765",
   "metadata": {},
   "source": [
    "- Cross product\n",
    "\n",
    "$$\n",
    "    \\mathbf{u} \\times \\mathbf{v} = \n",
    "    \\begin{vmatrix}\n",
    "        \\mathbf{i}\\; &\\mathbf{j}\\; &\\mathbf{k} \\\\\n",
    "        u_1\\; &u_2\\; &u_3 \\\\\n",
    "        v_1\\; &v_2\\; &v_3\n",
    "    \\end{vmatrix}\n",
    "    =\n",
    "    \\begin{bmatrix}\n",
    "        u_2v_3 - u_3v_2 \\\\\n",
    "        u_3v_1 - u_1v_3 \\\\\n",
    "        u_1v_2 - u_2v_1\n",
    "    \\end{bmatrix}\n",
    "$$"
   ]
  },
  {
   "cell_type": "code",
   "execution_count": 225,
   "id": "3a503d26",
   "metadata": {},
   "outputs": [
    {
     "data": {
      "text/plain": [
       "array([-3,  6, -3])"
      ]
     },
     "execution_count": 225,
     "metadata": {},
     "output_type": "execute_result"
    }
   ],
   "source": [
    "np.cross(u, v)"
   ]
  },
  {
   "attachments": {},
   "cell_type": "markdown",
   "id": "2925ac72",
   "metadata": {},
   "source": [
    "- Outer product\n",
    "\n",
    "$$\n",
    "\\mathbf{u} \\otimes \\mathbf{v} = \\mathbf{u}\\mathbf{v}^T =\n",
    "    \\begin{bmatrix}\n",
    "        u_1 \\\\ u_2 \\\\ u_3\n",
    "    \\end{bmatrix}\n",
    "    \\begin{bmatrix}\n",
    "        v_1\\; v_2\\; v_3\n",
    "    \\end{bmatrix}\n",
    "    =\n",
    "    \\begin{bmatrix}\n",
    "        u_1v_1\\; &u_1v_2\\; &u_1v_3 \\\\\n",
    "        u_2v_1\\; &u_2v_2\\; &u_2v_3 \\\\\n",
    "        u_3v_1\\; &u_3v_2\\; &u_3v_3\n",
    "    \\end{bmatrix}\n",
    "$$"
   ]
  },
  {
   "cell_type": "code",
   "execution_count": 226,
   "id": "7b58714b",
   "metadata": {},
   "outputs": [
    {
     "data": {
      "text/plain": [
       "array([[ 4,  5,  6],\n",
       "       [ 8, 10, 12],\n",
       "       [12, 15, 18]])"
      ]
     },
     "execution_count": 226,
     "metadata": {},
     "output_type": "execute_result"
    }
   ],
   "source": [
    "u.reshape(3,1) @ v.reshape(1,3)"
   ]
  },
  {
   "cell_type": "markdown",
   "id": "2897b353",
   "metadata": {},
   "source": [
    "### Matrix"
   ]
  },
  {
   "cell_type": "code",
   "execution_count": 227,
   "id": "d99429a4",
   "metadata": {},
   "outputs": [
    {
     "data": {
      "text/plain": [
       "array([[1, 2, 3],\n",
       "       [6, 5, 4]])"
      ]
     },
     "execution_count": 227,
     "metadata": {},
     "output_type": "execute_result"
    }
   ],
   "source": [
    "A = np.array([[1, 2, 3],\n",
    "              [6, 5, 4]])\n",
    "A  # is a 2x3 matrix"
   ]
  },
  {
   "cell_type": "code",
   "execution_count": 228,
   "id": "836d3a59",
   "metadata": {},
   "outputs": [
    {
     "data": {
      "text/plain": [
       "(2, 3)"
      ]
     },
     "execution_count": 228,
     "metadata": {},
     "output_type": "execute_result"
    }
   ],
   "source": [
    "A.shape"
   ]
  },
  {
   "cell_type": "code",
   "execution_count": 229,
   "id": "2ac6746c",
   "metadata": {},
   "outputs": [
    {
     "data": {
      "text/plain": [
       "array([[1, 6],\n",
       "       [2, 5],\n",
       "       [3, 4]])"
      ]
     },
     "execution_count": 229,
     "metadata": {},
     "output_type": "execute_result"
    }
   ],
   "source": [
    "# transpose\n",
    "A.T  # 2x3 to 3x2"
   ]
  },
  {
   "cell_type": "code",
   "execution_count": 230,
   "id": "c93ba037",
   "metadata": {},
   "outputs": [
    {
     "data": {
      "text/plain": [
       "array([[1, 2, 3],\n",
       "       [6, 5, 4]])"
      ]
     },
     "execution_count": 230,
     "metadata": {},
     "output_type": "execute_result"
    }
   ],
   "source": [
    "A  # A is not modified by `.T` operation."
   ]
  },
  {
   "cell_type": "code",
   "execution_count": 231,
   "id": "acc18b18",
   "metadata": {},
   "outputs": [
    {
     "data": {
      "text/plain": [
       "array([2, 5])"
      ]
     },
     "execution_count": 231,
     "metadata": {},
     "output_type": "execute_result"
    }
   ],
   "source": [
    "# matrix-vector product\n",
    "A @ np.array([0, 1, 0])"
   ]
  },
  {
   "cell_type": "code",
   "execution_count": 232,
   "id": "34692d5e",
   "metadata": {},
   "outputs": [
    {
     "data": {
      "text/plain": [
       "array([[14, 28],\n",
       "       [28, 77]])"
      ]
     },
     "execution_count": 232,
     "metadata": {},
     "output_type": "execute_result"
    }
   ],
   "source": [
    "# matrix-matrix product\n",
    "A @ A.T"
   ]
  },
  {
   "cell_type": "code",
   "execution_count": 233,
   "id": "264a4f9e",
   "metadata": {},
   "outputs": [
    {
     "data": {
      "text/plain": [
       "array([[1, 2, 3],\n",
       "       [6, 5, 4],\n",
       "       [8, 9, 7]])"
      ]
     },
     "execution_count": 233,
     "metadata": {},
     "output_type": "execute_result"
    }
   ],
   "source": [
    "M = np.array([[1, 2, 3],\n",
    "              [6, 5, 4],\n",
    "              [8, 9, 7]])\n",
    "M  # is a 3x3 matrix"
   ]
  },
  {
   "cell_type": "code",
   "execution_count": 234,
   "id": "881155df",
   "metadata": {},
   "outputs": [
    {
     "data": {
      "text/plain": [
       "20.99999999999999"
      ]
     },
     "execution_count": 234,
     "metadata": {},
     "output_type": "execute_result"
    }
   ],
   "source": [
    "# determinant\n",
    "np.linalg.det(M) # requires a square matrix"
   ]
  },
  {
   "cell_type": "code",
   "execution_count": 235,
   "id": "325c6276",
   "metadata": {},
   "outputs": [
    {
     "data": {
      "text/plain": [
       "array([[-0.04761905,  0.61904762, -0.33333333],\n",
       "       [-0.47619048, -0.80952381,  0.66666667],\n",
       "       [ 0.66666667,  0.33333333, -0.33333333]])"
      ]
     },
     "execution_count": 235,
     "metadata": {},
     "output_type": "execute_result"
    }
   ],
   "source": [
    "# matrix inversion\n",
    "np.linalg.inv(M)"
   ]
  },
  {
   "cell_type": "code",
   "execution_count": 236,
   "id": "44ccc16a",
   "metadata": {},
   "outputs": [
    {
     "data": {
      "text/plain": [
       "(array([14.78674789+0.j        , -0.89337394+0.78871641j,\n",
       "        -0.89337394-0.78871641j]),\n",
       " array([[ 0.2527029 +0.j        , -0.53434387+0.31563923j,\n",
       "         -0.53434387-0.31563923j],\n",
       "        [ 0.49476275+0.j        ,  0.67841481+0.j        ,\n",
       "          0.67841481-0.j        ],\n",
       "        [ 0.83147523+0.j        , -0.19802223-0.33968963j,\n",
       "         -0.19802223+0.33968963j]]))"
      ]
     },
     "execution_count": 236,
     "metadata": {},
     "output_type": "execute_result"
    }
   ],
   "source": [
    "# eigen values and eigen vectors\n",
    "np.linalg.eig(M)"
   ]
  },
  {
   "cell_type": "code",
   "execution_count": 237,
   "id": "10da9e5a",
   "metadata": {},
   "outputs": [],
   "source": [
    "# QR decomposition\n",
    "Q, R = np.linalg.qr(M)"
   ]
  },
  {
   "cell_type": "code",
   "execution_count": 238,
   "id": "dff9c8ff",
   "metadata": {},
   "outputs": [
    {
     "data": {
      "text/plain": [
       "array([[-0.09950372,  0.56871112, -0.81649658],\n",
       "       [-0.59702231, -0.69057779, -0.40824829],\n",
       "       [-0.79602975,  0.44684446,  0.40824829]])"
      ]
     },
     "execution_count": 238,
     "metadata": {},
     "output_type": "execute_result"
    }
   ],
   "source": [
    "Q"
   ]
  },
  {
   "cell_type": "code",
   "execution_count": 239,
   "id": "a7f43a55",
   "metadata": {},
   "outputs": [
    {
     "data": {
      "text/plain": [
       "array([[-10.04987562, -10.34838678,  -8.25880868],\n",
       "       [  0.        ,   1.70613337,   2.07173338],\n",
       "       [  0.        ,   0.        ,  -1.22474487]])"
      ]
     },
     "execution_count": 239,
     "metadata": {},
     "output_type": "execute_result"
    }
   ],
   "source": [
    "R"
   ]
  },
  {
   "cell_type": "code",
   "execution_count": 240,
   "id": "5cff3bdf",
   "metadata": {},
   "outputs": [
    {
     "data": {
      "text/plain": [
       "array([[1., 2., 3.],\n",
       "       [6., 5., 4.],\n",
       "       [8., 9., 7.]])"
      ]
     },
     "execution_count": 240,
     "metadata": {},
     "output_type": "execute_result"
    }
   ],
   "source": [
    "Q @ R"
   ]
  },
  {
   "cell_type": "code",
   "execution_count": 241,
   "id": "dd7aa5cf",
   "metadata": {},
   "outputs": [
    {
     "data": {
      "text/plain": [
       "array([[1, 2, 3],\n",
       "       [6, 5, 4]])"
      ]
     },
     "execution_count": 241,
     "metadata": {},
     "output_type": "execute_result"
    }
   ],
   "source": [
    "A"
   ]
  },
  {
   "cell_type": "code",
   "execution_count": 242,
   "id": "758ff940",
   "metadata": {},
   "outputs": [
    {
     "data": {
      "text/plain": [
       "(array([[-0.16439899, -0.98639392],\n",
       "        [-0.98639392,  0.16439899]]),\n",
       " array([[-6.08276253, -5.26076759, -4.43877266],\n",
       "        [ 0.        , -1.15079291, -2.30158582]]))"
      ]
     },
     "execution_count": 242,
     "metadata": {},
     "output_type": "execute_result"
    }
   ],
   "source": [
    "np.linalg.qr(A)"
   ]
  },
  {
   "cell_type": "code",
   "execution_count": 243,
   "id": "2a6db5f7",
   "metadata": {},
   "outputs": [
    {
     "data": {
      "text/plain": [
       "((2, 2), (2,), (2, 3))"
      ]
     },
     "execution_count": 243,
     "metadata": {},
     "output_type": "execute_result"
    }
   ],
   "source": [
    "U, s, V = np.linalg.svd(A, full_matrices=False)\n",
    "U.shape, s.shape, V.shape"
   ]
  },
  {
   "cell_type": "code",
   "execution_count": 244,
   "id": "ecdaa0b2",
   "metadata": {},
   "outputs": [
    {
     "data": {
      "text/plain": [
       "array([[1., 2., 3.],\n",
       "       [6., 5., 4.]])"
      ]
     },
     "execution_count": 244,
     "metadata": {},
     "output_type": "execute_result"
    }
   ],
   "source": [
    "U @ np.diag(s) @ V"
   ]
  },
  {
   "cell_type": "markdown",
   "id": "ddab653a",
   "metadata": {},
   "source": [
    "### Solving linear systems\n",
    "\n",
    "Given a set of linear equations:\n",
    "\n",
    "$$\n",
    "\\begin{cases}\n",
    "a_{11} x_1 + a_{12} x_2 +\\dots + a_{1n} x_n = b_1 \\\\\n",
    "a_{21} x_1 + a_{22} x_2  + \\dots + a_{2n} x_n = b_2 \\\\ \n",
    "\\vdots\\\\\n",
    "a_{m1} x_1 + a_{m2} x_2 + \\dots + a_{mn} x_n = b_m,\n",
    "\\end{cases}\n",
    "$$\n",
    "\n",
    "where $x_1, x_2,\\dots,x_n$ are the unknowns, $a_{11},a_{12},\\dots,a_{mn}$ are the coefficients of the system such that $a_{11} + a_{12} + \\dots + a_{mn}\\neq 0$, and $b_1,b_2,\\dots,b_m$ are the constant terms.\n",
    "\n",
    "We can reformulate it into a matrix form,\n",
    "\n",
    "$$\n",
    "\\mathbf{A}\\mathbf{x} = \\mathbf{b}\n",
    "$$\n",
    "\n",
    "where $\\mathbf{A}$ is an $m\\times n$ matrix, $\\mathbf{x}$ is a column vector with $n$ entries, and $\\mathbf{b}$ is a column vector with $m$ entries.\n",
    "\n",
    "$$\n",
    "\\mathbf{A} =\n",
    "\\begin{bmatrix}\n",
    "a_{11} & a_{12} & \\cdots & a_{1n} \\\\\n",
    "a_{21} & a_{22} & \\cdots & a_{2n} \\\\\n",
    "\\vdots & \\vdots & \\ddots & \\vdots \\\\\n",
    "a_{m1} & a_{m2} & \\cdots & a_{mn}\n",
    "\\end{bmatrix},\\quad\n",
    "\\mathbf{x}=\n",
    "\\begin{bmatrix}\n",
    "x_1 \\\\\n",
    "x_2 \\\\\n",
    "\\vdots \\\\\n",
    "x_n\n",
    "\\end{bmatrix},\\quad\n",
    "\\mathbf{b}=\n",
    "\\begin{bmatrix}\n",
    "b_1 \\\\\n",
    "b_2 \\\\\n",
    "\\vdots \\\\\n",
    "b_m\n",
    "\\end{bmatrix}\n",
    "$$\n",
    "\n",
    "If $\\mathbf{A}$ is nonsigular, the solution is\n",
    "\n",
    "$$\n",
    "\\mathbf{x} = \\mathbf{A}^{-1}\\mathbf{b}\n",
    "$$"
   ]
  },
  {
   "cell_type": "markdown",
   "id": "2a4d74c5",
   "metadata": {},
   "source": [
    "#### Example\n",
    "\n",
    "Can you solve the following linear system?\n",
    "\n",
    "$$\n",
    "\\begin{cases}\n",
    "x_1 - x_3 = 1 \\\\\n",
    "4x_1 + x_2  + x_3 = 2 \\\\ \n",
    "3x_1 + 2x_2  - 5x_3 = 3\n",
    "\\end{cases}\n",
    "$$"
   ]
  },
  {
   "cell_type": "code",
   "execution_count": 245,
   "id": "57851629",
   "metadata": {},
   "outputs": [],
   "source": [
    "# A = ?"
   ]
  },
  {
   "cell_type": "code",
   "execution_count": 246,
   "id": "3ff854cc",
   "metadata": {},
   "outputs": [],
   "source": [
    "# b = ?"
   ]
  },
  {
   "cell_type": "code",
   "execution_count": 247,
   "id": "8915d714",
   "metadata": {},
   "outputs": [],
   "source": [
    "# x = ?"
   ]
  },
  {
   "cell_type": "markdown",
   "id": "f9fdff0c",
   "metadata": {},
   "source": [
    "## Interpolation"
   ]
  },
  {
   "cell_type": "markdown",
   "id": "0dab6cf4",
   "metadata": {},
   "source": [
    "## Root finding"
   ]
  },
  {
   "cell_type": "markdown",
   "id": "f303cfd7",
   "metadata": {},
   "source": [
    "## Optimization"
   ]
  },
  {
   "cell_type": "markdown",
   "id": "6f4ee9a2",
   "metadata": {},
   "source": [
    "## Numerical integration"
   ]
  },
  {
   "cell_type": "markdown",
   "id": "1ecb4445",
   "metadata": {},
   "source": [
    "## Differential equations"
   ]
  },
  {
   "cell_type": "markdown",
   "id": "79b0e25f",
   "metadata": {},
   "source": []
  }
 ],
 "metadata": {
  "kernelspec": {
   "display_name": "Python 3 (ipykernel)",
   "language": "python",
   "name": "python3"
  },
  "language_info": {
   "codemirror_mode": {
    "name": "ipython",
    "version": 3
   },
   "file_extension": ".py",
   "mimetype": "text/x-python",
   "name": "python",
   "nbconvert_exporter": "python",
   "pygments_lexer": "ipython3",
   "version": "3.9.12"
  },
  "toc": {
   "base_numbering": 1,
   "nav_menu": {},
   "number_sections": true,
   "sideBar": true,
   "skip_h1_title": true,
   "title_cell": "Table of Contents",
   "title_sidebar": "Scientific Computing in Python",
   "toc_cell": false,
   "toc_position": {},
   "toc_section_display": true,
   "toc_window_display": true
  },
  "vscode": {
   "interpreter": {
    "hash": "aee8b7b246df8f9039afb4144a1f6fd8d2ca17a180786b69acc140d282b71a49"
   }
  }
 },
 "nbformat": 4,
 "nbformat_minor": 5
}
