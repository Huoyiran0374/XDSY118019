{
 "cells": [
  {
   "cell_type": "markdown",
   "id": "34418253",
   "metadata": {},
   "source": [
    "# Scientific Computing in Python\n",
    "An introduction to scientific computing in Python by [Dr. Yi-Xin Liu](http://www.yxliu.group) at Fudan University (lyx@fudan.edu.cn).  \n",
    "This is a part of the course: *Road to Scientific Research: Powerful Computer Applications* (XDSY118019.01).  \n",
    "Lecture date: 2022.09.29\n",
    "\n",
    "#### Resources\n",
    "- [Book: Fundamentals of Numerical Computation by Tobin A. Driscoll and Richard J. Braun](https://fncbook.github.io/v1.0/frontmatter.html)\n",
    "- [Numpy quickstart](https://numpy.org/doc/stable/user/quickstart.html)\n",
    "- [Numpy absolute beginners guide](https://numpy.org/doc/stable/user/absolute_beginners.html)\n",
    "- [Scipy official tutorial](https://docs.scipy.org/doc/scipy/tutorial/index.html)\n",
    "\n",
    "*Side note*\n",
    "\n",
    "- [Google CoLab: Online Notebook](https://colab.research.google.com/)\n",
    "- [Youtube: Playing with Data in Jupyter Notebooks with VS Code](https://www.youtube.com/watch?v=r0wLl_rfxRs)\n"
   ]
  },
  {
   "cell_type": "markdown",
   "id": "6c47cc30",
   "metadata": {},
   "source": [
    "## Essential packages"
   ]
  },
  {
   "cell_type": "markdown",
   "id": "2fb26ee4",
   "metadata": {},
   "source": [
    "Python list is useful but it is not efficient as well as convenience for scientific computing which involves many linear algebra calculations. For example, if we want to multiply two vectors of same size elementwisely, using Python list, a first naive try will fail miserably as"
   ]
  },
  {
   "cell_type": "code",
   "execution_count": null,
   "id": "0715d44c",
   "metadata": {},
   "outputs": [],
   "source": [
    "v1 = [1, 2, 3]\n",
    "v2 = [4, 5, 6]"
   ]
  },
  {
   "cell_type": "code",
   "execution_count": null,
   "id": "21f81156",
   "metadata": {},
   "outputs": [],
   "source": [
    "v1 * v2"
   ]
  },
  {
   "cell_type": "markdown",
   "id": "a7b5ce61",
   "metadata": {},
   "source": [
    "Instead, we have to implement a function like:"
   ]
  },
  {
   "cell_type": "code",
   "execution_count": null,
   "id": "67b6d6b3",
   "metadata": {},
   "outputs": [],
   "source": [
    "def vec_multiply(v1, v2):\n",
    "    v = []\n",
    "    for e1, e2 in zip(v1, v2):\n",
    "        v.append(e1 * e2)\n",
    "\n",
    "    return v"
   ]
  },
  {
   "cell_type": "code",
   "execution_count": null,
   "id": "f4b32190",
   "metadata": {},
   "outputs": [],
   "source": [
    "\n",
    "vec_multiply(v1, v2)"
   ]
  },
  {
   "cell_type": "markdown",
   "id": "80ad178b",
   "metadata": {},
   "source": [
    "Or use list comprehension like"
   ]
  },
  {
   "cell_type": "code",
   "execution_count": null,
   "id": "ae624208",
   "metadata": {},
   "outputs": [],
   "source": [
    "[e1 * e2 for e1, e2 in zip(v1, v2)]"
   ]
  },
  {
   "cell_type": "markdown",
   "id": "76df9cdc",
   "metadata": {},
   "source": [
    "In practice, we will use packages to facilitate us to do linear algebra calculations. In Python, there are two such prominent packages: `numpy` and `scipy`. With numpy, we can simply do"
   ]
  },
  {
   "cell_type": "code",
   "execution_count": null,
   "id": "8a0c59db",
   "metadata": {},
   "outputs": [],
   "source": [
    "import numpy as np\n",
    "\n",
    "# convert Python lists to numpy arrays\n",
    "v1 = np.array(v1)\n",
    "v2 = np.array(v2)\n",
    "\n",
    "v = v1 * v2\n",
    "v"
   ]
  },
  {
   "cell_type": "markdown",
   "id": "e2750d85",
   "metadata": {},
   "source": [
    "### Numpy\n",
    "\n",
    "Numpy is the fundamental package for scientific computing with Python.\n",
    "\n",
    "It is a Python library that provides a multidimensional array object, various derived objects (such as masked arrays and matrices), and an assortment of routines for fast operations on arrays, including mathematical, logical, shape manipulation, sorting, selecting, I/O, discrete Fourier transforms, basic linear algebra, basic statistical operations, random simulation and much more.\n",
    "\n",
    "Numpy comes with Anaconda by default.\n",
    "\n",
    "Tutorial to learn Numpy:\n",
    "- https://numpy.org/doc/stable/user/quickstart.html\n",
    "- https://numpy.org/doc/stable/user/absolute_beginners.html."
   ]
  },
  {
   "cell_type": "markdown",
   "id": "8d10f561",
   "metadata": {},
   "source": [
    "### SciPy\n",
    "\n",
    "SciPy provides fundamental algorithms for scientific computing in Python.\n",
    "\n",
    "SciPy is a collection of mathematical algorithms and convenience functions built on the NumPy extension of Python. It adds significant power to the interactive Python session by providing the user with high-level commands and classes for manipulating and visualizing data. With SciPy, an interactive Python session becomes a data-processing and system-prototyping environment rivaling systems, such as MATLAB, IDL, Octave, R-Lab, and SciLab.\n",
    "\n",
    "The additional benefit of basing SciPy on Python is that this also makes a powerful programming language available for use in developing sophisticated programs and specialized applications. Scientific applications using SciPy benefit from the development of additional modules in numerous niches of the software landscape by developers across the world. Everything from parallel programming to web and data-base subroutines and classes have been made available to the Python programmer. All of this power is available in addition to the mathematical libraries in SciPy.\n",
    "\n",
    "SciPy also comes with Anaconda by default.\n",
    "\n",
    "Tutorial to learn SciPy:\n",
    "- https://docs.scipy.org/doc/scipy/tutorial/index.html."
   ]
  },
  {
   "cell_type": "markdown",
   "id": "d8986890",
   "metadata": {},
   "source": [
    "## Numpy array\n",
    "\n",
    "### Python list vs. Numpy array\n",
    "\n",
    "NumPy gives you an enormous range of fast and efficient ways of creating arrays and manipulating numerical data inside them. While a Python list can contain different data types within a single list, all of the elements in a NumPy array should be homogeneous. The mathematical operations that are meant to be performed on arrays would be extremely inefficient if the arrays weren’t homogeneous.\n",
    "\n",
    "**Why use NumPy?** NumPy arrays are faster and more compact than Python lists. An array consumes less memory and is convenient to use. NumPy uses much less memory to store data and it provides a mechanism of specifying the data types. This allows the code to be optimized even further.\n",
    "\n",
    "### What is an array?\n",
    "An array is a central data structure of the NumPy library. An array is a grid of values and it contains information about the raw data, how to locate an element, and how to interpret an element. It has a grid of elements that can be indexed in various ways. The elements are all of the same type, referred to as the array dtype."
   ]
  },
  {
   "cell_type": "markdown",
   "id": "a996ed76",
   "metadata": {},
   "source": [
    "### Dimension, shape, and size\n",
    "\n",
    "- **vector** - One-dimension (1D) array"
   ]
  },
  {
   "cell_type": "code",
   "execution_count": null,
   "id": "15f0f679",
   "metadata": {},
   "outputs": [],
   "source": [
    "v1 = np.array([1, 2, 3])\n",
    "v1"
   ]
  },
  {
   "cell_type": "code",
   "execution_count": null,
   "id": "5ac064a0",
   "metadata": {},
   "outputs": [],
   "source": [
    "v1.ndim, v1.shape, v1.size"
   ]
  },
  {
   "cell_type": "markdown",
   "id": "0035ac48",
   "metadata": {},
   "source": [
    "- **matrix** - Two-dimension (2D) array"
   ]
  },
  {
   "cell_type": "code",
   "execution_count": null,
   "id": "9381408d",
   "metadata": {},
   "outputs": [],
   "source": [
    "v2 = np.array([[1, 2, 3],\n",
    "               [4, 5, 6]])\n",
    "v2"
   ]
  },
  {
   "cell_type": "code",
   "execution_count": null,
   "id": "0c6c0ec5",
   "metadata": {},
   "outputs": [],
   "source": [
    "v2.ndim, v2.shape, v2.size"
   ]
  },
  {
   "cell_type": "markdown",
   "id": "152f2595",
   "metadata": {},
   "source": [
    "- **tensor** - Three-dimension (3D) array and above"
   ]
  },
  {
   "cell_type": "code",
   "execution_count": null,
   "id": "86bc3bdb",
   "metadata": {},
   "outputs": [],
   "source": [
    "v3 = np.array([[[1, 2, 3], [4, 5, 6]],\n",
    "               [[7, 8, 9], [0, 1, 2]]])\n",
    "v3"
   ]
  },
  {
   "cell_type": "code",
   "execution_count": null,
   "id": "dd1f10d8",
   "metadata": {
    "scrolled": true
   },
   "outputs": [],
   "source": [
    "v3.ndim, v3.shape, v3.size"
   ]
  },
  {
   "cell_type": "markdown",
   "id": "1522f123",
   "metadata": {},
   "source": [
    "### Array creation"
   ]
  },
  {
   "cell_type": "code",
   "execution_count": null,
   "id": "f5301595",
   "metadata": {},
   "outputs": [],
   "source": [
    "np.arange(10, dtype=float)  # vector"
   ]
  },
  {
   "cell_type": "code",
   "execution_count": null,
   "id": "f64d31c0",
   "metadata": {},
   "outputs": [],
   "source": [
    "np.linspace(0, 1, 11)  # vector"
   ]
  },
  {
   "cell_type": "code",
   "execution_count": null,
   "id": "c6d1cd78",
   "metadata": {},
   "outputs": [],
   "source": [
    "np.random.rand(2, 3)"
   ]
  },
  {
   "cell_type": "code",
   "execution_count": null,
   "id": "5592f7f1",
   "metadata": {},
   "outputs": [],
   "source": [
    "np.random.randn(2, 3)"
   ]
  },
  {
   "cell_type": "code",
   "execution_count": null,
   "id": "741eca22",
   "metadata": {},
   "outputs": [],
   "source": [
    "np.zeros((2, 3))"
   ]
  },
  {
   "cell_type": "code",
   "execution_count": null,
   "id": "b9412951",
   "metadata": {},
   "outputs": [],
   "source": [
    "np.ones((2, 3))"
   ]
  },
  {
   "cell_type": "code",
   "execution_count": null,
   "id": "40b0d6b4",
   "metadata": {
    "scrolled": true
   },
   "outputs": [],
   "source": [
    "np.eye(2)  # matrix"
   ]
  },
  {
   "cell_type": "markdown",
   "id": "993918bf",
   "metadata": {},
   "source": [
    "### Array attributes and methods"
   ]
  },
  {
   "cell_type": "code",
   "execution_count": null,
   "id": "ad9d3414",
   "metadata": {},
   "outputs": [],
   "source": [
    "v2 = np.array([[1, 2, 3],\n",
    "               [4, 5, 6]])\n",
    "v2"
   ]
  },
  {
   "cell_type": "code",
   "execution_count": null,
   "id": "a48ec9e4",
   "metadata": {},
   "outputs": [],
   "source": [
    "v2.max(), v2.argmax(), v2.min(), v2.argmin(), v2.sum(), v2.cumsum()"
   ]
  },
  {
   "cell_type": "markdown",
   "id": "58418a56",
   "metadata": {},
   "source": [
    "### Indexing and slicing\n",
    "\n",
    "Numpy offers several ways to index into arrays and accessing/changing specific elements, rows, columns, etc."
   ]
  },
  {
   "cell_type": "markdown",
   "id": "590ca987",
   "metadata": {},
   "source": [
    "#### Python list like indexing and slicing"
   ]
  },
  {
   "cell_type": "code",
   "execution_count": null,
   "id": "f6c4f09d",
   "metadata": {},
   "outputs": [],
   "source": [
    "v1 = np.arange(10)\n",
    "v1"
   ]
  },
  {
   "cell_type": "code",
   "execution_count": null,
   "id": "6c215d41",
   "metadata": {},
   "outputs": [],
   "source": [
    "v1[4]"
   ]
  },
  {
   "cell_type": "code",
   "execution_count": null,
   "id": "19ef5548",
   "metadata": {},
   "outputs": [],
   "source": [
    "v1[3:6], v1[:3], v1[7:], v1[:]"
   ]
  },
  {
   "cell_type": "markdown",
   "id": "e91a9157",
   "metadata": {},
   "source": [
    "_Slice is a view of orginal array._ Change the slice will change the orignial array."
   ]
  },
  {
   "cell_type": "code",
   "execution_count": null,
   "id": "8d51add0",
   "metadata": {},
   "outputs": [],
   "source": [
    "slice_v1 = v1[3:6]\n",
    "slice_v1[:] = 99\n",
    "v1"
   ]
  },
  {
   "cell_type": "code",
   "execution_count": null,
   "id": "84443fc7",
   "metadata": {},
   "outputs": [],
   "source": [
    "v2 = np.arange(24).reshape(4, 6)\n",
    "v2"
   ]
  },
  {
   "cell_type": "code",
   "execution_count": null,
   "id": "2da04741",
   "metadata": {},
   "outputs": [],
   "source": [
    "v2[1]  # indexing a row"
   ]
  },
  {
   "cell_type": "code",
   "execution_count": null,
   "id": "1fd8354e",
   "metadata": {},
   "outputs": [],
   "source": [
    "v2[1, :]"
   ]
  },
  {
   "cell_type": "code",
   "execution_count": null,
   "id": "5069a909",
   "metadata": {},
   "outputs": [],
   "source": [
    "v2[1, 1]  # indexing a single element"
   ]
  },
  {
   "cell_type": "code",
   "execution_count": null,
   "id": "7f1dab6a",
   "metadata": {},
   "outputs": [],
   "source": [
    "v2[:, 1]  # the second column"
   ]
  },
  {
   "cell_type": "code",
   "execution_count": null,
   "id": "b48f7551",
   "metadata": {},
   "outputs": [],
   "source": [
    "v2[:2, 3:5]  # elements in the first and second rows, the fourth and fifth colums."
   ]
  },
  {
   "cell_type": "markdown",
   "id": "fab9843a",
   "metadata": {},
   "source": [
    "#### Integer array indexing\n",
    "\n",
    "integer array indexing allows you to construct arbitrary arrays using the data from another array."
   ]
  },
  {
   "cell_type": "code",
   "execution_count": null,
   "id": "524ec01f",
   "metadata": {},
   "outputs": [],
   "source": [
    "A = np.array([[1, 2, 3],\n",
    "              [4, 5, 6]])\n",
    "A.shape"
   ]
  },
  {
   "cell_type": "code",
   "execution_count": null,
   "id": "b6a20037",
   "metadata": {},
   "outputs": [],
   "source": [
    "I = [0, 1]  # indices for first dimension, thus should less than 2 (not included)"
   ]
  },
  {
   "cell_type": "code",
   "execution_count": null,
   "id": "c1349daa",
   "metadata": {},
   "outputs": [],
   "source": [
    "J = [2, 0]  # indices for second dimension, thus should less than 3 (not included)"
   ]
  },
  {
   "cell_type": "code",
   "execution_count": null,
   "id": "4adfb9c1",
   "metadata": {},
   "outputs": [],
   "source": [
    "A[I, J]"
   ]
  },
  {
   "cell_type": "markdown",
   "id": "175a6744",
   "metadata": {},
   "source": [
    "The result array is a view of the original array. Thus we can use it to mutate its content,"
   ]
  },
  {
   "cell_type": "code",
   "execution_count": null,
   "id": "18a9d41f",
   "metadata": {},
   "outputs": [],
   "source": [
    "A[I, J] += 9\n",
    "A"
   ]
  },
  {
   "cell_type": "markdown",
   "id": "875dbf46",
   "metadata": {},
   "source": [
    "#### Boolean array indexing\n",
    "\n",
    "Boolean array indexing lets you pick out arbitrary elements of an array. Frequently this type of indexing is used to select the elements of an array that satisfy some condition."
   ]
  },
  {
   "cell_type": "code",
   "execution_count": null,
   "id": "d2bbfba1",
   "metadata": {},
   "outputs": [],
   "source": [
    "a = np.arange(1, 11)\n",
    "a"
   ]
  },
  {
   "cell_type": "code",
   "execution_count": null,
   "id": "5d81335a",
   "metadata": {},
   "outputs": [],
   "source": [
    "a > 4"
   ]
  },
  {
   "cell_type": "code",
   "execution_count": null,
   "id": "8e02e8d7",
   "metadata": {},
   "outputs": [],
   "source": [
    "a[a>4]"
   ]
  },
  {
   "cell_type": "code",
   "execution_count": null,
   "id": "9124e3a6",
   "metadata": {},
   "outputs": [],
   "source": [
    "b = np.random.rand(4, 5)\n",
    "b"
   ]
  },
  {
   "cell_type": "code",
   "execution_count": null,
   "id": "91e07805",
   "metadata": {},
   "outputs": [],
   "source": [
    "b[b<0.5]"
   ]
  },
  {
   "cell_type": "markdown",
   "id": "f44e77f9",
   "metadata": {},
   "source": [
    "#### Exercise\n",
    "- Create the following matrix and assign it to variable `B`.\n",
    "\n",
    "$$\n",
    "\\begin{bmatrix}\n",
    "    1 &2 &3 &4 &5 \\\\\n",
    "    6 &7 &8 &9 &10 \\\\\n",
    "    11 &12 &13 &14 &15 \\\\\n",
    "    16 &17 &18 &19 &20 \\\\\n",
    "    21 &22 &23 &24 &25 \\\\\n",
    "    26 &27 &28 &29 &30\n",
    "\\end{bmatrix}\n",
    "$$\n",
    "\n",
    "- Retrieve `23`.\n",
    "\n",
    "- Retrieve `[2, 8, 14, 20]`\n",
    "\n",
    "- Retrieve\n",
    "\n",
    "$$\n",
    "\\begin{bmatrix}\n",
    "    11 &12 \\\\\n",
    "    16 &17\n",
    "\\end{bmatrix}\n",
    "$$\n",
    "\n",
    "- Retrieve\n",
    "\n",
    "$$\n",
    "\\begin{bmatrix}\n",
    "    4 &5 \\\\\n",
    "    24 &25 \\\\\n",
    "    29 &30\n",
    "\\end{bmatrix}\n",
    "$$\n",
    "\n",
    "- Find all even elements.\n",
    "\n",
    "- Compute the sum of all odd elements."
   ]
  },
  {
   "cell_type": "code",
   "execution_count": null,
   "id": "0c74f7c5",
   "metadata": {},
   "outputs": [],
   "source": [
    "# Do the exercise below\n"
   ]
  },
  {
   "cell_type": "markdown",
   "id": "a1f44cb0",
   "metadata": {},
   "source": [
    "### Resizing and reshaping\n",
    "\n",
    "- Adding or removing elements: `np.append`, `np.insert`, `np.delete`, `np.resize`."
   ]
  },
  {
   "cell_type": "code",
   "execution_count": null,
   "id": "e7742d98",
   "metadata": {},
   "outputs": [],
   "source": [
    "u = np.array([])\n",
    "u"
   ]
  },
  {
   "cell_type": "code",
   "execution_count": null,
   "id": "ec488448",
   "metadata": {},
   "outputs": [],
   "source": [
    "v = np.append(u, 1)\n",
    "u, v"
   ]
  },
  {
   "cell_type": "code",
   "execution_count": null,
   "id": "33a2a3db",
   "metadata": {},
   "outputs": [],
   "source": [
    "v = np.array([[1, 2, 3],\n",
    "              [4, 5, 6]])\n",
    "v"
   ]
  },
  {
   "cell_type": "markdown",
   "id": "69effa83",
   "metadata": {},
   "source": [
    "- Flattening: `array.flatten()`"
   ]
  },
  {
   "cell_type": "code",
   "execution_count": null,
   "id": "49f975d6",
   "metadata": {},
   "outputs": [],
   "source": [
    "v.flatten()"
   ]
  },
  {
   "cell_type": "code",
   "execution_count": null,
   "id": "ebdbd040",
   "metadata": {},
   "outputs": [],
   "source": [
    "v"
   ]
  },
  {
   "cell_type": "markdown",
   "id": "49b39ba8",
   "metadata": {},
   "source": [
    "- Stacking: `numpy.hstack`, `numpy.vstack`."
   ]
  },
  {
   "cell_type": "code",
   "execution_count": null,
   "id": "b6349a8b",
   "metadata": {},
   "outputs": [],
   "source": [
    "f = np.array([1,2,3])\n",
    "g = np.array([4,5,6])\n",
    "\n",
    "np.hstack((f, g))"
   ]
  },
  {
   "cell_type": "code",
   "execution_count": null,
   "id": "f0a3b658",
   "metadata": {},
   "outputs": [],
   "source": [
    "np.vstack((f, g))"
   ]
  },
  {
   "cell_type": "code",
   "execution_count": null,
   "id": "b0510b83",
   "metadata": {},
   "outputs": [],
   "source": [
    "h1 = np.ones((2,4))\n",
    "h2 = np.zeros((2,2))\n",
    "\n",
    "np.hstack((h1,h2))"
   ]
  },
  {
   "cell_type": "code",
   "execution_count": null,
   "id": "8949c65b",
   "metadata": {},
   "outputs": [],
   "source": [
    "np.vstack((h1, h2))  # Error: dimension size not match"
   ]
  },
  {
   "cell_type": "code",
   "execution_count": null,
   "id": "68dbadf6",
   "metadata": {},
   "outputs": [],
   "source": [
    "v1 = np.ones((4,2))  # transpose the matrix\n",
    "v2 = np.zeros((2,2))\n",
    "\n",
    "np.vstack((v1,v2))  # now it is correct to stack vertically."
   ]
  },
  {
   "cell_type": "markdown",
   "id": "c836179a",
   "metadata": {},
   "source": [
    "## Linear algebra"
   ]
  },
  {
   "cell_type": "markdown",
   "id": "a0d89508",
   "metadata": {},
   "source": [
    "### Arithmetic and broadcasting"
   ]
  },
  {
   "cell_type": "code",
   "execution_count": null,
   "id": "bde4c6d9",
   "metadata": {},
   "outputs": [],
   "source": [
    "u = np.array([1, 2, 3])\n",
    "v = np.array([4, 5, 6])"
   ]
  },
  {
   "cell_type": "code",
   "execution_count": null,
   "id": "bcce5089",
   "metadata": {},
   "outputs": [],
   "source": [
    "# basic operations\n",
    "u + v, u - v, u * v, u / v"
   ]
  },
  {
   "cell_type": "code",
   "execution_count": null,
   "id": "08ebef1b",
   "metadata": {},
   "outputs": [],
   "source": [
    "# Math functions\n",
    "np.sqrt(u), np.sin(u), np.cos(u), np.log(u), np.exp(u)"
   ]
  },
  {
   "cell_type": "code",
   "execution_count": null,
   "id": "173b9461",
   "metadata": {},
   "outputs": [],
   "source": [
    "# basic statistics\n",
    "np.mean(u), np.median(u), np.std(u)"
   ]
  },
  {
   "cell_type": "markdown",
   "id": "b2355d96",
   "metadata": {},
   "source": [
    "**Broadcasting** is super cool and super useful. When doing elementwise operaitons, arrays expand to the \"correct\" shape.\n",
    "\n",
    "_Broadcasting is even cooler in Julia. Check it out!_"
   ]
  },
  {
   "cell_type": "code",
   "execution_count": null,
   "id": "e7e6091e",
   "metadata": {},
   "outputs": [],
   "source": [
    "# broadcasting a scalar over a vector\n",
    "u + 4"
   ]
  },
  {
   "cell_type": "code",
   "execution_count": null,
   "id": "d697c452",
   "metadata": {},
   "outputs": [],
   "source": [
    "a = np.arange(5)\n",
    "a"
   ]
  },
  {
   "cell_type": "code",
   "execution_count": null,
   "id": "fdb21df1",
   "metadata": {},
   "outputs": [],
   "source": [
    "b = np.random.rand(2, 5) \n",
    "b"
   ]
  },
  {
   "cell_type": "code",
   "execution_count": null,
   "id": "45cda71c",
   "metadata": {},
   "outputs": [],
   "source": [
    "a * b"
   ]
  },
  {
   "cell_type": "code",
   "execution_count": null,
   "id": "43986a69",
   "metadata": {},
   "outputs": [],
   "source": [
    "a + b"
   ]
  },
  {
   "cell_type": "markdown",
   "id": "76b8f241",
   "metadata": {},
   "source": [
    "### Vector product\n",
    "\n",
    "Given two equal-length column vectors $\\mathbf{u}=[u_1, u_2, u_3]$ and $\\mathbf{v}=[v_1, v_2, v_3]$, we can compute their inner, cross, and outer products."
   ]
  },
  {
   "cell_type": "code",
   "execution_count": null,
   "id": "2e294e8f",
   "metadata": {},
   "outputs": [],
   "source": [
    "u = np.array([1, 2, 3])\n",
    "v = np.array([4, 5, 6])"
   ]
  },
  {
   "cell_type": "markdown",
   "id": "47fe3bbf",
   "metadata": {},
   "source": [
    "- Inner product\n",
    "\n",
    "$$\n",
    "    \\mathbf{u}\\cdot\\mathbf{v} = u_1v_1 + u_2v_2 + u_3v_3\n",
    "$$"
   ]
  },
  {
   "cell_type": "code",
   "execution_count": null,
   "id": "787c9a32",
   "metadata": {},
   "outputs": [],
   "source": [
    "np.dot(u, v)"
   ]
  },
  {
   "cell_type": "code",
   "execution_count": null,
   "id": "b1fe0d57",
   "metadata": {},
   "outputs": [],
   "source": [
    "# Or\n",
    "np.inner(u, v)"
   ]
  },
  {
   "cell_type": "code",
   "execution_count": null,
   "id": "b37a5772",
   "metadata": {},
   "outputs": [],
   "source": [
    "# Or\n",
    "u @ v"
   ]
  },
  {
   "cell_type": "markdown",
   "id": "1b75b5e5",
   "metadata": {},
   "source": [
    "- Cross product\n",
    "\n",
    "$$\n",
    "    \\mathbf{u} \\times \\mathbf{v} = \n",
    "    \\begin{vmatrix}\n",
    "        \\mathbf{i}\\; &\\mathbf{j}\\; &\\mathbf{k} \\\\\n",
    "        u_1\\; &u_2\\; &u_3 \\\\\n",
    "        v_1\\; &v_2\\; &v_3\n",
    "    \\end{vmatrix}\n",
    "    =\n",
    "    \\begin{bmatrix}\n",
    "        u_2v_3 - u_3v_2 \\\\\n",
    "        u_3v_1 - u_1v_3 \\\\\n",
    "        u_1v_2 - u_2v_1\n",
    "    \\end{bmatrix}\n",
    "$$"
   ]
  },
  {
   "cell_type": "code",
   "execution_count": null,
   "id": "8604ed51",
   "metadata": {},
   "outputs": [],
   "source": [
    "np.cross(u, v)"
   ]
  },
  {
   "attachments": {},
   "cell_type": "markdown",
   "id": "756fa898",
   "metadata": {},
   "source": [
    "- Outer product\n",
    "\n",
    "$$\n",
    "\\mathbf{u} \\otimes \\mathbf{v} = \\mathbf{u}\\mathbf{v}^T =\n",
    "    \\begin{bmatrix}\n",
    "        u_1 \\\\ u_2 \\\\ u_3\n",
    "    \\end{bmatrix}\n",
    "    \\begin{bmatrix}\n",
    "        v_1\\; v_2\\; v_3\n",
    "    \\end{bmatrix}\n",
    "    =\n",
    "    \\begin{bmatrix}\n",
    "        u_1v_1\\; &u_1v_2\\; &u_1v_3 \\\\\n",
    "        u_2v_1\\; &u_2v_2\\; &u_2v_3 \\\\\n",
    "        u_3v_1\\; &u_3v_2\\; &u_3v_3\n",
    "    \\end{bmatrix}\n",
    "$$"
   ]
  },
  {
   "cell_type": "code",
   "execution_count": null,
   "id": "7bfc8ede",
   "metadata": {},
   "outputs": [],
   "source": [
    "u.reshape(3,1) @ v.reshape(1,3)"
   ]
  },
  {
   "cell_type": "code",
   "execution_count": null,
   "id": "c7e6f5e0",
   "metadata": {},
   "outputs": [],
   "source": [
    "# Or\n",
    "np.outer(u, v)"
   ]
  },
  {
   "cell_type": "markdown",
   "id": "f8a2b9a7",
   "metadata": {},
   "source": [
    "### Matrix"
   ]
  },
  {
   "cell_type": "code",
   "execution_count": null,
   "id": "b468fa35",
   "metadata": {},
   "outputs": [],
   "source": [
    "A = np.array([[1, 2, 3],\n",
    "              [6, 5, 4]])\n",
    "A  # is a 2x3 matrix"
   ]
  },
  {
   "cell_type": "code",
   "execution_count": null,
   "id": "03e98ed9",
   "metadata": {},
   "outputs": [],
   "source": [
    "A.shape"
   ]
  },
  {
   "cell_type": "code",
   "execution_count": null,
   "id": "da23d100",
   "metadata": {},
   "outputs": [],
   "source": [
    "# Identity matrix: I\n",
    "np.eye(4)"
   ]
  },
  {
   "cell_type": "code",
   "execution_count": null,
   "id": "ab1a46db",
   "metadata": {},
   "outputs": [],
   "source": [
    "# transpose\n",
    "A.T  # 2x3 to 3x2"
   ]
  },
  {
   "cell_type": "code",
   "execution_count": null,
   "id": "f78977bc",
   "metadata": {},
   "outputs": [],
   "source": [
    "A  # A is not modified by `.T` operation."
   ]
  },
  {
   "cell_type": "markdown",
   "id": "b79fc5bf",
   "metadata": {},
   "source": [
    "#### Matrix product\n",
    "\n",
    "Introduced in NumPy 1.10.0, the @ operator is preferable to other methods when computing the matrix product between 2d arrays. The numpy.matmul function implements the @ operator."
   ]
  },
  {
   "cell_type": "code",
   "execution_count": null,
   "id": "3facb08b",
   "metadata": {},
   "outputs": [],
   "source": [
    "# matrix-vector product\n",
    "A @ np.array([0, 1, 0])"
   ]
  },
  {
   "cell_type": "code",
   "execution_count": null,
   "id": "8e623975",
   "metadata": {},
   "outputs": [],
   "source": [
    "# matrix-matrix product\n",
    "A @ A.T"
   ]
  },
  {
   "cell_type": "markdown",
   "id": "fd7c4927",
   "metadata": {},
   "source": [
    "#### Linear algebra operations\n",
    "Linear algebra operations are provided in the sub-module `numpy.linalg`."
   ]
  },
  {
   "cell_type": "code",
   "execution_count": null,
   "id": "26c1e29e",
   "metadata": {},
   "outputs": [],
   "source": [
    "M = np.array([[1, 2, 3],\n",
    "              [6, 5, 4],\n",
    "              [8, 9, 7]])\n",
    "M  # is a 3x3 matrix"
   ]
  },
  {
   "cell_type": "code",
   "execution_count": null,
   "id": "86f1dec7",
   "metadata": {},
   "outputs": [],
   "source": [
    "# trace\n",
    "np.trace(M)"
   ]
  },
  {
   "cell_type": "code",
   "execution_count": null,
   "id": "bff98d64",
   "metadata": {},
   "outputs": [],
   "source": [
    "# determinant\n",
    "np.linalg.det(M) # requires a square matrix"
   ]
  },
  {
   "cell_type": "code",
   "execution_count": null,
   "id": "dd0e2015",
   "metadata": {},
   "outputs": [],
   "source": [
    "# norms\n",
    "np.linalg.norm(M)"
   ]
  },
  {
   "cell_type": "code",
   "execution_count": null,
   "id": "89824b29",
   "metadata": {},
   "outputs": [],
   "source": [
    "# condition number\n",
    "np.linalg.cond(M)"
   ]
  },
  {
   "cell_type": "markdown",
   "id": "c47959b3",
   "metadata": {},
   "source": [
    "- Matrix inversion\n",
    "\n",
    "$$\n",
    "    \\mathbf{M}\\mathbf{M}^{-1} = \\mathbf{M}^{-1}\\mathbf{M} = \\mathbf{I}\n",
    "$$"
   ]
  },
  {
   "cell_type": "code",
   "execution_count": null,
   "id": "33215ed9",
   "metadata": {},
   "outputs": [],
   "source": [
    "# matrix inversion\n",
    "np.linalg.inv(M)"
   ]
  },
  {
   "cell_type": "markdown",
   "id": "276a7705",
   "metadata": {},
   "source": [
    "- Eigenvalue\n",
    "\n",
    "$$\n",
    "    \\mathbf{A}\\mathbf{x} = \\lambda \\mathbf{x}\n",
    "$$\n",
    "\n",
    "$\\lambda$ is called eigenvalue, and its corresponding $\\mathbf{x}$ is called eigenvector."
   ]
  },
  {
   "cell_type": "code",
   "execution_count": null,
   "id": "d7a3a7d1",
   "metadata": {},
   "outputs": [],
   "source": [
    "# eigen values and eigen vectors\n",
    "np.linalg.eig(M)"
   ]
  },
  {
   "cell_type": "markdown",
   "id": "c8f57936",
   "metadata": {},
   "source": [
    "- QR decomposition"
   ]
  },
  {
   "cell_type": "code",
   "execution_count": null,
   "id": "34a1c1d6",
   "metadata": {},
   "outputs": [],
   "source": [
    "# QR decomposition: M = QR\n",
    "Q, R = np.linalg.qr(M)"
   ]
  },
  {
   "cell_type": "code",
   "execution_count": null,
   "id": "55ff5b3d",
   "metadata": {},
   "outputs": [],
   "source": [
    "Q"
   ]
  },
  {
   "cell_type": "code",
   "execution_count": null,
   "id": "19a13651",
   "metadata": {},
   "outputs": [],
   "source": [
    "R"
   ]
  },
  {
   "cell_type": "code",
   "execution_count": null,
   "id": "c675ad79",
   "metadata": {},
   "outputs": [],
   "source": [
    "Q @ R"
   ]
  },
  {
   "cell_type": "code",
   "execution_count": null,
   "id": "e28fc05b",
   "metadata": {},
   "outputs": [],
   "source": [
    "A"
   ]
  },
  {
   "cell_type": "code",
   "execution_count": null,
   "id": "e427aa12",
   "metadata": {},
   "outputs": [],
   "source": [
    "np.linalg.qr(A)"
   ]
  },
  {
   "cell_type": "markdown",
   "id": "1523a2ab",
   "metadata": {},
   "source": [
    "- Sigular value decompostion (SVD)"
   ]
  },
  {
   "cell_type": "code",
   "execution_count": null,
   "id": "f50d013e",
   "metadata": {},
   "outputs": [],
   "source": [
    "# Sigular value decomposition (SVD): M = UsV\n",
    "U, s, V = np.linalg.svd(A, full_matrices=False)\n",
    "U.shape, s.shape, V.shape"
   ]
  },
  {
   "cell_type": "code",
   "execution_count": null,
   "id": "d0d91cfc",
   "metadata": {},
   "outputs": [],
   "source": [
    "U @ np.diag(s) @ V"
   ]
  },
  {
   "cell_type": "markdown",
   "id": "cd657362",
   "metadata": {},
   "source": [
    "### Solving linear systems\n",
    "\n",
    "Given a set of linear equations:\n",
    "\n",
    "$$\n",
    "\\begin{cases}\n",
    "a_{11} x_1 + a_{12} x_2 +\\dots + a_{1n} x_n = b_1 \\\\\n",
    "a_{21} x_1 + a_{22} x_2  + \\dots + a_{2n} x_n = b_2 \\\\ \n",
    "\\vdots\\\\\n",
    "a_{m1} x_1 + a_{m2} x_2 + \\dots + a_{mn} x_n = b_m,\n",
    "\\end{cases}\n",
    "$$\n",
    "\n",
    "where $x_1, x_2,\\dots,x_n$ are the unknowns, $a_{11},a_{12},\\dots,a_{mn}$ are the coefficients of the system such that $a_{11} + a_{12} + \\dots + a_{mn}\\neq 0$, and $b_1,b_2,\\dots,b_m$ are the constant terms.\n",
    "\n",
    "We can reformulate it into a matrix form,\n",
    "\n",
    "$$\n",
    "\\mathbf{A}\\mathbf{x} = \\mathbf{b}\n",
    "$$\n",
    "\n",
    "where $\\mathbf{A}$ is an $m\\times n$ matrix, $\\mathbf{x}$ is a column vector with $n$ entries, and $\\mathbf{b}$ is a column vector with $m$ entries.\n",
    "\n",
    "$$\n",
    "\\mathbf{A} =\n",
    "\\begin{bmatrix}\n",
    "a_{11} & a_{12} & \\cdots & a_{1n} \\\\\n",
    "a_{21} & a_{22} & \\cdots & a_{2n} \\\\\n",
    "\\vdots & \\vdots & \\ddots & \\vdots \\\\\n",
    "a_{m1} & a_{m2} & \\cdots & a_{mn}\n",
    "\\end{bmatrix},\\quad\n",
    "\\mathbf{x}=\n",
    "\\begin{bmatrix}\n",
    "x_1 \\\\\n",
    "x_2 \\\\\n",
    "\\vdots \\\\\n",
    "x_n\n",
    "\\end{bmatrix},\\quad\n",
    "\\mathbf{b}=\n",
    "\\begin{bmatrix}\n",
    "b_1 \\\\\n",
    "b_2 \\\\\n",
    "\\vdots \\\\\n",
    "b_m\n",
    "\\end{bmatrix}\n",
    "$$\n",
    "\n",
    "If $\\mathbf{A}$ is nonsigular, the solution is\n",
    "\n",
    "$$\n",
    "\\mathbf{x} = \\mathbf{A}^{-1}\\mathbf{b}\n",
    "$$"
   ]
  },
  {
   "cell_type": "markdown",
   "id": "0e881f78",
   "metadata": {},
   "source": [
    "#### Example\n",
    "\n",
    "Can you solve the following linear system?\n",
    "\n",
    "$$\n",
    "\\begin{cases}\n",
    "x_1 - x_3 = 1 \\\\\n",
    "4x_1 + x_2  + x_3 = 2 \\\\ \n",
    "3x_1 + 2x_2  - 5x_3 = 3\n",
    "\\end{cases}\n",
    "$$"
   ]
  },
  {
   "cell_type": "code",
   "execution_count": null,
   "id": "c5c4c1c2",
   "metadata": {},
   "outputs": [],
   "source": [
    "# A = ?"
   ]
  },
  {
   "cell_type": "code",
   "execution_count": null,
   "id": "8fc4819f",
   "metadata": {},
   "outputs": [],
   "source": [
    "# b = ?"
   ]
  },
  {
   "cell_type": "code",
   "execution_count": null,
   "id": "3148f85a",
   "metadata": {},
   "outputs": [],
   "source": [
    "# x = ?"
   ]
  },
  {
   "cell_type": "markdown",
   "id": "2c9eab76",
   "metadata": {},
   "source": [
    "In practice, we should use `numpy.linalg.solve` function,"
   ]
  },
  {
   "cell_type": "code",
   "execution_count": null,
   "id": "16a0b31f",
   "metadata": {},
   "outputs": [],
   "source": [
    "x = np.linalg.solve(A, b)\n",
    "x"
   ]
  },
  {
   "cell_type": "markdown",
   "id": "a692971d",
   "metadata": {},
   "source": [
    "## Polynomials\n",
    "\n",
    "Numpy can create, manipulate, evaluate, and even fit polynomials with the form\n",
    "\n",
    "$$\n",
    "    p(x) = \\sum_{i=0}^{n} a_ix^i = a_0 + a_1x^1 + a_2x^2 + a_3x^3 + \\dots + a_nx^n\n",
    "$$\n",
    "\n",
    "Other polynomials, like **Chebyshev, Legendre, Laguerre, Hermite, HermiteE**, are also supported. And they share all APIs with the standard polynomials.\n",
    "\n",
    "Following we use the following polynomial as an example:\n",
    "\n",
    "$$\n",
    "    p(x) = 1 + 2x + 3x^2\n",
    "$$"
   ]
  },
  {
   "cell_type": "code",
   "execution_count": null,
   "id": "1cd0a869",
   "metadata": {},
   "outputs": [],
   "source": [
    "from numpy.polynomial import Polynomial"
   ]
  },
  {
   "cell_type": "code",
   "execution_count": null,
   "id": "2ea32736",
   "metadata": {},
   "outputs": [],
   "source": [
    "# Creation from coefficients\n",
    "p = Polynomial([1, 2, 3])\n",
    "p"
   ]
  },
  {
   "cell_type": "markdown",
   "id": "ded189c4",
   "metadata": {},
   "source": [
    "If a polynomial's all roots are ${r_1, r_2, \\dots, r_n}$, then it can be expressed as\n",
    "\n",
    "$$\n",
    "    p(x) = (x-r_1)(x-r_2)\\cdots(x-r_n)\n",
    "$$\n",
    "\n",
    "Example:\n",
    "\n",
    "$$\n",
    "    p(x) = (x - 1)(x + 1) = -1 + x^2\n",
    "$$"
   ]
  },
  {
   "cell_type": "code",
   "execution_count": null,
   "id": "401d30ce",
   "metadata": {},
   "outputs": [],
   "source": [
    "# Creation from roots\n",
    "Polynomial.fromroots([-1, 1])"
   ]
  },
  {
   "cell_type": "markdown",
   "id": "57bf1c66",
   "metadata": {},
   "source": [
    "- Addition\n",
    "\n",
    "$$\n",
    "    p(x) + p(x) = (1 + 2x + 3x^2) + (1 + 2x + 3x^2)\n",
    "$$"
   ]
  },
  {
   "cell_type": "code",
   "execution_count": null,
   "id": "f9d7c994",
   "metadata": {},
   "outputs": [],
   "source": [
    "# Addition\n",
    "p + p"
   ]
  },
  {
   "cell_type": "markdown",
   "id": "9ee3b823",
   "metadata": {},
   "source": [
    "$$\n",
    "(1 + 2x + 3x^2) + (0 + 1x + 2x^2 + 3x^3)\n",
    "$$"
   ]
  },
  {
   "cell_type": "code",
   "execution_count": null,
   "id": "c29e8e5f",
   "metadata": {},
   "outputs": [],
   "source": [
    "# List and array are implicitly converted to a polynomial before manipulation.\n",
    "p + [0, 1, 2, 3]"
   ]
  },
  {
   "cell_type": "markdown",
   "id": "e119811a",
   "metadata": {},
   "source": [
    "- Subtraction\n",
    "\n",
    "$$\n",
    "    p(x) - p(x) = (1 + 2x + 3x^2) - (1 + 2x + 3x^2)\n",
    "$$"
   ]
  },
  {
   "cell_type": "code",
   "execution_count": null,
   "id": "fb5ca466",
   "metadata": {},
   "outputs": [],
   "source": [
    "# Subtraction\n",
    "p - p"
   ]
  },
  {
   "cell_type": "markdown",
   "id": "617bd234",
   "metadata": {},
   "source": [
    "- Multiplication\n",
    "\n",
    "$$\n",
    "    p(x)p(x) = (1 + 2x + 3x^2)(1 + 2x + 3x^2)\n",
    "$$"
   ]
  },
  {
   "cell_type": "code",
   "execution_count": null,
   "id": "34a63f08",
   "metadata": {},
   "outputs": [],
   "source": [
    "# Multiplication\n",
    "p * p"
   ]
  },
  {
   "cell_type": "markdown",
   "id": "9c65183b",
   "metadata": {},
   "source": [
    "- Powers\n",
    "\n",
    "$$\n",
    "    p(x)^3 = (1 + 2x + 3x^2)^3\n",
    "$$"
   ]
  },
  {
   "cell_type": "code",
   "execution_count": null,
   "id": "194f7fc0",
   "metadata": {},
   "outputs": [],
   "source": [
    "# Powers\n",
    "p**3"
   ]
  },
  {
   "cell_type": "markdown",
   "id": "c52339cc",
   "metadata": {},
   "source": [
    "- Division\n",
    "\n",
    "$$\n",
    "    \\frac{p(x)}{-1 + x} = \\frac{1 + 2x + 3x^2}{x-1} = 3x + 5\n",
    "$$\n",
    "\n",
    "with remainder $-6$."
   ]
  },
  {
   "cell_type": "code",
   "execution_count": null,
   "id": "91d8cadd",
   "metadata": {},
   "outputs": [],
   "source": [
    "# Division\n",
    "p // [-1, 1] # other division: %, divmod"
   ]
  },
  {
   "cell_type": "code",
   "execution_count": null,
   "id": "16082527",
   "metadata": {},
   "outputs": [],
   "source": [
    "# Evaluation\n",
    "p(2.0)"
   ]
  },
  {
   "cell_type": "code",
   "execution_count": null,
   "id": "e90e659d",
   "metadata": {},
   "outputs": [],
   "source": [
    "p(np.arange(6))"
   ]
  },
  {
   "cell_type": "code",
   "execution_count": null,
   "id": "157642bc",
   "metadata": {},
   "outputs": [],
   "source": [
    "p(np.arange(6).reshape(2, 3))"
   ]
  },
  {
   "cell_type": "code",
   "execution_count": null,
   "id": "12fc1242",
   "metadata": {},
   "outputs": [],
   "source": [
    "# Substitution\n",
    "p(p)"
   ]
  },
  {
   "cell_type": "code",
   "execution_count": null,
   "id": "987143d3",
   "metadata": {},
   "outputs": [],
   "source": [
    "# Roots\n",
    "p.roots()"
   ]
  },
  {
   "cell_type": "markdown",
   "id": "aa41e12b",
   "metadata": {},
   "source": [
    "- Integration\n",
    "\n",
    "$$\n",
    "    \\int p(x)dx = \\int (1 + 2x + 3x^2) dx\n",
    "$$"
   ]
  },
  {
   "cell_type": "code",
   "execution_count": null,
   "id": "3209cca6",
   "metadata": {},
   "outputs": [],
   "source": [
    "# Integration\n",
    "p.integ()"
   ]
  },
  {
   "cell_type": "code",
   "execution_count": null,
   "id": "cff7c70f",
   "metadata": {},
   "outputs": [],
   "source": [
    "# Do integration twice\n",
    "p.integ(2)"
   ]
  },
  {
   "cell_type": "markdown",
   "id": "a7fec84c",
   "metadata": {},
   "source": [
    "- Differentiation\n",
    "\n",
    "$$\n",
    "    \\frac{dp(x)}{dx} = \\frac{d}{dx}(1 + 2x + 3x^2)\n",
    "$$"
   ]
  },
  {
   "cell_type": "code",
   "execution_count": null,
   "id": "d3b636a0",
   "metadata": {},
   "outputs": [],
   "source": [
    "# Differentiation\n",
    "p.deriv()"
   ]
  },
  {
   "cell_type": "code",
   "execution_count": null,
   "id": "3a99abc2",
   "metadata": {},
   "outputs": [],
   "source": [
    "# Do differentiation twice\n",
    "p.deriv(2)"
   ]
  },
  {
   "cell_type": "markdown",
   "id": "68f56bdc",
   "metadata": {},
   "source": [
    "### Exercises\n",
    "\n",
    "1. Find the roots of the equation: $5x^3 + 2x + 7 = 0$.\n",
    "2. Factorize the polynomial: $x^3 - 7x + 6$.\n",
    "3. Expand the expression to polynomials: $(x-4)(x+5)(x-7)(x+8)$."
   ]
  },
  {
   "cell_type": "markdown",
   "id": "f9fdff0c",
   "metadata": {},
   "source": [
    "## Interpolation\n",
    "\n",
    "**Interpolation problem:** Given $n+1$ distinct points $(t_0, y_0), (t_1, y_1), \\dots, (t_n, y_n)$, with $t_0<t_1<t_2<\\dots<t_n$, find a function $p(x)$, called the **interpolant**, such that $p(t_k)=y_k$ for $k=0, 1, 2, \\dots, n$.\n",
    "\n",
    "SciPy supports many interpolation methods, such as linear, cubic spline, cubic Hermite spline, etc. "
   ]
  },
  {
   "cell_type": "code",
   "execution_count": null,
   "id": "3dc17ea6",
   "metadata": {},
   "outputs": [],
   "source": [
    "import matplotlib.pyplot as plt\n",
    "from scipy.interpolate import interp1d"
   ]
  },
  {
   "cell_type": "code",
   "execution_count": null,
   "id": "55192a3d",
   "metadata": {},
   "outputs": [],
   "source": [
    "def f(x):\n",
    "    return np.exp(np.sin(7*x))"
   ]
  },
  {
   "cell_type": "code",
   "execution_count": null,
   "id": "d5152fe2",
   "metadata": {},
   "outputs": [],
   "source": [
    "x = np.arange(0.0, 1.01, 0.1)\n",
    "y = f(x)\n",
    "plt.plot(x, y, 'o')"
   ]
  },
  {
   "cell_type": "code",
   "execution_count": null,
   "id": "63a45c89",
   "metadata": {},
   "outputs": [],
   "source": [
    "fp = interp1d(x, y, 'cubic')\n",
    "xp = np.arange(0.0, 1.001, 0.01)\n",
    "yp = fp(xp)\n",
    "plt.plot(x, y, 'o', xp, yp, '-')\n",
    "# plt.plot(xp, f(xp))"
   ]
  },
  {
   "cell_type": "markdown",
   "id": "db233434",
   "metadata": {},
   "source": [
    "### Exercises\n",
    "\n",
    "Given the following functions:\n",
    "\n",
    "(a) $\\cos(\\pi^2x^2), x\\in[0, 1], n=7.$  \n",
    "(b) $\\ln(x), x\\in[1, 3], n=5.$  \n",
    "(c) $\\sin(x^2), x\\in[0, 2.5], n=6.$\n",
    "\n",
    "1. Fit them with a linear interpoation.\n",
    "2. Fit them with a quadratic spline interpolation.\n",
    "3. Fit them with a cubic spline interpolation.\n",
    "4. (Optional) Fit them with a cubic Hermite spline interpolation."
   ]
  },
  {
   "cell_type": "markdown",
   "id": "0dab6cf4",
   "metadata": {},
   "source": [
    "## Rootfinding\n",
    "\n",
    "**Rootfinding problem:** Given a continuous scalar function $f$ of a scalar variable, find a real number $r$ such that $f(r)=0$.\n",
    "\n",
    "For roots of polynomials, we use `numpy.polynomial.Polynomial.roots`. For other nonlinear equations, we can use the methods provided in the subpackakge of SciPy, `scipy.optimize`.\n",
    "\n",
    "Example:\n",
    "\n",
    "$$\n",
    "    f(x) = x^2 - e^{-x} = 0, x\\in[-2, 2]\n",
    "$$"
   ]
  },
  {
   "cell_type": "code",
   "execution_count": null,
   "id": "66c92cca",
   "metadata": {},
   "outputs": [],
   "source": [
    "def f(x):\n",
    "    return x**2 - np.exp(-x)"
   ]
  },
  {
   "cell_type": "code",
   "execution_count": null,
   "id": "453f0704",
   "metadata": {},
   "outputs": [],
   "source": [
    "x = np.arange(-2, 2, 0.01)\n",
    "plt.plot(x, f(x))\n",
    "plt.plot([-2, 2], [0, 0])"
   ]
  },
  {
   "cell_type": "code",
   "execution_count": null,
   "id": "88598ebd",
   "metadata": {},
   "outputs": [],
   "source": [
    "from scipy.optimize import root_scalar"
   ]
  },
  {
   "cell_type": "code",
   "execution_count": null,
   "id": "40cdc2af",
   "metadata": {},
   "outputs": [],
   "source": [
    "root_scalar(f, bracket=[-2, 2], method='bisect')"
   ]
  },
  {
   "cell_type": "code",
   "execution_count": null,
   "id": "5224bc75",
   "metadata": {},
   "outputs": [],
   "source": [
    "root_scalar(f, bracket=[-2,2], method='brentq')"
   ]
  },
  {
   "cell_type": "code",
   "execution_count": null,
   "id": "f18a341f",
   "metadata": {},
   "outputs": [],
   "source": [
    "def df(x):\n",
    "    return 2*x + np.exp(-x)"
   ]
  },
  {
   "cell_type": "code",
   "execution_count": null,
   "id": "760ceab9",
   "metadata": {},
   "outputs": [],
   "source": [
    "root_scalar(f, x0=0.0, fprime=df, method='newton')"
   ]
  },
  {
   "cell_type": "markdown",
   "id": "1cd03f92",
   "metadata": {},
   "source": [
    "### Exercises\n",
    "\n",
    "Find the roots of following equations:\n",
    "\n",
    "1. $2x = \\tan(x), x \\in [-0.2, 1.4].$\n",
    "2. $e^{x+1} = 2 + x, x\\in[-2,2].$\n",
    "3. $x^{-2} = \\sin(x), x\\in[0.5, 4\\pi].$ Hint: there are multiple roots. Plot the function to help you find the correct intial guesses."
   ]
  },
  {
   "cell_type": "markdown",
   "id": "f303cfd7",
   "metadata": {},
   "source": [
    "## Optimization\n",
    "\n",
    "**Optimization problem:** Given a continuous function $f$ of a scalar variable, find a real number $r$ such that $f(r)$ is the (global) minimum (maximum) of the function.\n",
    "\n",
    "SciPy provides functions for solving the optimization problem in the subpacakge `scipy.optimize`.\n",
    "\n",
    "Example:\n",
    "\n",
    "$$\n",
    "    f(x) = e^{-x^2}\\cos(2x)\n",
    "$$"
   ]
  },
  {
   "cell_type": "code",
   "execution_count": null,
   "id": "e13991fd",
   "metadata": {},
   "outputs": [],
   "source": [
    "from scipy.optimize import minimize_scalar"
   ]
  },
  {
   "cell_type": "code",
   "execution_count": null,
   "id": "2b7a5168",
   "metadata": {},
   "outputs": [],
   "source": [
    "def f(x):\n",
    "    return np.exp(-x**2) * np.cos(2*x)"
   ]
  },
  {
   "cell_type": "code",
   "execution_count": null,
   "id": "b1822015",
   "metadata": {},
   "outputs": [],
   "source": [
    "x = np.arange(0, 2, 0.01)\n",
    "plt.plot(x, f(x))"
   ]
  },
  {
   "cell_type": "code",
   "execution_count": null,
   "id": "c482e2bc",
   "metadata": {},
   "outputs": [],
   "source": [
    "res = minimize_scalar(f, bracket=[0, 2])\n",
    "res"
   ]
  },
  {
   "cell_type": "code",
   "execution_count": null,
   "id": "4bfd6374",
   "metadata": {},
   "outputs": [],
   "source": [
    "res.x"
   ]
  },
  {
   "cell_type": "markdown",
   "id": "9057e7fb",
   "metadata": {},
   "source": [
    "In simple cases, optimization problem can be converted to the rootfinding problem. If $f(x)$ has a minimum at $x_m$, then the first order derivative at that point is 0, i.e. $f'(x_m) = 0$."
   ]
  },
  {
   "cell_type": "code",
   "execution_count": null,
   "id": "835e977e",
   "metadata": {},
   "outputs": [],
   "source": [
    "def fprime(x):\n",
    "    return -2 * np.exp(-x**2) * (x*np.cos(2*x) + np.sin(2*x))"
   ]
  },
  {
   "cell_type": "code",
   "execution_count": null,
   "id": "fb6e1c7f",
   "metadata": {},
   "outputs": [],
   "source": [
    "plt.plot(x, fprime(x))\n",
    "plt.plot(x, f(x))\n",
    "plt.plot([0, 2], [0, 0])\n",
    "plt.plot([res.x, res.x], [-1.5, 1.0])"
   ]
  },
  {
   "cell_type": "code",
   "execution_count": null,
   "id": "255c1e11",
   "metadata": {},
   "outputs": [],
   "source": [
    "r = root_scalar(fprime, bracket=[0.1, 2.0])"
   ]
  },
  {
   "cell_type": "code",
   "execution_count": null,
   "id": "49bedb38",
   "metadata": {},
   "outputs": [],
   "source": [
    "res.x - r.root"
   ]
  },
  {
   "cell_type": "markdown",
   "id": "0147617e",
   "metadata": {},
   "source": [
    "### Exercises\n",
    "\n",
    "Find the minimum/maximum of the following functions:\n",
    "\n",
    "1. $f(x) = \\sin(x) + \\sin(\\frac{10}{3}x), x\\in[2.7, 7.5]$. Hint: two maxima and three minima\n",
    "2. $f(x) = -(16x^2-24x+5)e^{-x}, x\\in[1.9, 3.9]$.\n",
    "3. $f(x) = -(x+\\sin(x))e^{-x^2}, x\\in[-10, 10]$.\n",
    "4. $f(x) = -x^{2/3} - (1-x^2)^{1/3}, x\\in[0.001, 0.99].$\n",
    "5. $f(x) = \\frac{x^2-5x+6}{x^2+1}, x\\in[-5, 5]$."
   ]
  },
  {
   "cell_type": "markdown",
   "id": "90956ba2",
   "metadata": {},
   "source": [
    "## Fitting\n",
    "\n",
    "### Linear regression"
   ]
  },
  {
   "cell_type": "code",
   "execution_count": null,
   "id": "cbc3aa92",
   "metadata": {},
   "outputs": [],
   "source": [
    "from scipy.stats import linregress"
   ]
  },
  {
   "cell_type": "code",
   "execution_count": null,
   "id": "d3aa52f6",
   "metadata": {},
   "outputs": [],
   "source": [
    "x = np.random.random(10)\n",
    "y = 8*x + 5 + np.random.random(10)"
   ]
  },
  {
   "cell_type": "code",
   "execution_count": null,
   "id": "de225bf6",
   "metadata": {},
   "outputs": [],
   "source": [
    "res = linregress(x, y)\n",
    "res"
   ]
  },
  {
   "cell_type": "code",
   "execution_count": null,
   "id": "0bb92785",
   "metadata": {},
   "outputs": [],
   "source": [
    "plt.plot(x, y, '+')\n",
    "plt.plot(x, res.intercept + res.slope * x)"
   ]
  },
  {
   "cell_type": "markdown",
   "id": "56363b76",
   "metadata": {},
   "source": [
    "### Curve fitting"
   ]
  },
  {
   "cell_type": "code",
   "execution_count": null,
   "id": "62a1992f",
   "metadata": {},
   "outputs": [],
   "source": [
    "from scipy.optimize import curve_fit"
   ]
  },
  {
   "cell_type": "code",
   "execution_count": null,
   "id": "903f4995",
   "metadata": {},
   "outputs": [],
   "source": [
    "# This is the function of curve we want to fit\n",
    "def f(t, omega, phi):\n",
    "    return np.cos(omega * t + phi)"
   ]
  },
  {
   "cell_type": "code",
   "execution_count": null,
   "id": "d1ae3511",
   "metadata": {},
   "outputs": [],
   "source": [
    "# Generate some artifical measurement data\n",
    "x = np.linspace(0, 3, 50)\n",
    "y = f(x, 1.5, 1) + .1*np.random.normal(size=50)"
   ]
  },
  {
   "cell_type": "code",
   "execution_count": null,
   "id": "6928eb8a",
   "metadata": {},
   "outputs": [],
   "source": [
    "# Do curve fitting\n",
    "popt, pcov = curve_fit(f, x, y)"
   ]
  },
  {
   "cell_type": "code",
   "execution_count": null,
   "id": "92fe5c93",
   "metadata": {},
   "outputs": [],
   "source": [
    "plt.plot(x, y, '+')\n",
    "plt.plot(x, f(x, *popt))"
   ]
  },
  {
   "attachments": {},
   "cell_type": "markdown",
   "id": "7fa28ad9",
   "metadata": {},
   "source": [
    "### Exercises\n",
    "\n",
    "The total population of US from year 1790 to 1990 are\n",
    "```\n",
    "1990 248,709,873\n",
    "1980 226,545,805\n",
    "1970 203,211,926\n",
    "1960 179,323,175\n",
    "1950 150,697,361\n",
    "1940 131,669,275\n",
    "1930 122,775,046\n",
    "1920 105,710,620\n",
    "1910 91,972,266\n",
    "1900 75,994,575\n",
    "1890 62,947,714\n",
    "1880 50,155,783\n",
    "1870 38,558,371\n",
    "1860 31,443,321\n",
    "1850 23,191,876\n",
    "1840 17,063,353\n",
    "1830 12,860,702\n",
    "1820 9,638,453\n",
    "1810 7,239,881\n",
    "1800 5,308,483\n",
    "1790 3,929,214\n",
    "```\n",
    "\n",
    "Do the following fitting:\n",
    "\n",
    "1. Linear regression.\n",
    "2. Fitting with the function $f(t) = ae^{bt}$, where $a, b$ are coefficients to be found.\n",
    "3. Transform question 2 to a linear fitting problem and fit again."
   ]
  },
  {
   "cell_type": "markdown",
   "id": "6f4ee9a2",
   "metadata": {},
   "source": [
    "## Numerical integration\n",
    "\n",
    "Numerical integration is a way to integrate an definite integral numerically without knowing its antiderivative. It computes:\n",
    "\n",
    "$$\n",
    "    I = \\int_a^b f(x) dx\n",
    "$$\n",
    "\n",
    "The `scipy.integrate` sub-package provides several numerical integration techniques, such as trapezoid, Simpson,Romberg, Gaussian, etc.\n",
    "\n",
    "### 1D integral\n",
    "\n",
    "$$\n",
    "    E_n(x) = \\int_1^\\infty \\frac{e^{-xt}}{t^n} dt.\n",
    "$$"
   ]
  },
  {
   "cell_type": "code",
   "execution_count": null,
   "id": "c4b5ef06",
   "metadata": {},
   "outputs": [],
   "source": [
    "from scipy.integrate import quad"
   ]
  },
  {
   "cell_type": "code",
   "execution_count": null,
   "id": "eb617dc9",
   "metadata": {},
   "outputs": [],
   "source": [
    "def f(t, n, x):\n",
    "    return np.exp(-x * t) / t**n"
   ]
  },
  {
   "cell_type": "code",
   "execution_count": null,
   "id": "08a40227",
   "metadata": {},
   "outputs": [],
   "source": [
    "plt.plot(np.arange(1, 10, 0.01), f(np.arange(1, 10, 0.01), 3, 1.0))"
   ]
  },
  {
   "cell_type": "code",
   "execution_count": null,
   "id": "9683bc7b",
   "metadata": {},
   "outputs": [],
   "source": [
    "def expint(n, x):\n",
    "    return quad(f, 1, np.inf, args=(n, x))[0]"
   ]
  },
  {
   "cell_type": "code",
   "execution_count": null,
   "id": "92aa5b11",
   "metadata": {},
   "outputs": [],
   "source": [
    "[expint(3, x) for x in np.arange(1.0, 4.0, 0.5)]"
   ]
  },
  {
   "cell_type": "code",
   "execution_count": null,
   "id": "a360e924",
   "metadata": {},
   "outputs": [],
   "source": [
    "from scipy.special import expn\n",
    "expn(3, np.arange(1.0, 4.0, 0.5))"
   ]
  },
  {
   "cell_type": "markdown",
   "id": "be5c3608",
   "metadata": {},
   "source": [
    "### 2D integral\n",
    "\n",
    "$$\n",
    "    I_n = \\int_0^\\infty E_n(x) dx = \\int_0^\\infty\\int_1^\\infty \\frac{e^{-xt}}{t^n} dtdx = \\frac{1}{n}\n",
    "$$"
   ]
  },
  {
   "cell_type": "code",
   "execution_count": null,
   "id": "fa8a5263",
   "metadata": {},
   "outputs": [],
   "source": [
    "from scipy.integrate import dblquad"
   ]
  },
  {
   "cell_type": "code",
   "execution_count": null,
   "id": "aab26a72",
   "metadata": {},
   "outputs": [],
   "source": [
    "def I(n):\n",
    "    return dblquad(lambda t, x: np.exp(-x*t)/t**n, 0, np.inf, lambda x: 1, lambda x: np.inf)"
   ]
  },
  {
   "cell_type": "code",
   "execution_count": null,
   "id": "8dad9f36",
   "metadata": {},
   "outputs": [],
   "source": [
    "I(4)"
   ]
  },
  {
   "cell_type": "code",
   "execution_count": null,
   "id": "de5dc22f",
   "metadata": {},
   "outputs": [],
   "source": [
    "I(3)"
   ]
  },
  {
   "cell_type": "code",
   "execution_count": null,
   "id": "6dddaf8b",
   "metadata": {},
   "outputs": [],
   "source": [
    "I(2)"
   ]
  },
  {
   "cell_type": "markdown",
   "id": "e4d21f28",
   "metadata": {},
   "source": [
    "### Exercises\n",
    "\n",
    "Find the results of following integrals:\n",
    "\n",
    "1. $\\int_0^1 e^{\\sin(x)} dx$.\n",
    "2. $\\int_0^2 x^2e^{-2x} dx$.\n",
    "3. $\\int_0^1 x\\ln(1+x) dx$.\n",
    "4. $\\int_0^{\\pi/2}e^x\\cos(x) dx$.\n",
    "5. $\\int_0^1\\sqrt{1-x^2} dx$.\n",
    "6. $\\int_{y=0}^{1/2}\\int_{x=0}^{1-2y} xy dx dy$."
   ]
  },
  {
   "cell_type": "markdown",
   "id": "1ecb4445",
   "metadata": {},
   "source": [
    "## Ordinary differential equations\n",
    "\n",
    "SciPy provides a function `solve_ivp` to solve a first-order vector differential equation:\n",
    "\n",
    "$$\n",
    "    \\frac{d\\mathbf{u}}{dt} = \\mathbf{f}(\\mathbf{u}, t)\n",
    "$$\n",
    "\n",
    "given intial condition $\\mathbf{u} = \\mathbf{u}_0$. Higher order ordinary differential equations can always be reduced to differential equations of the type by introducing intermediate derivatives into the $\\mathbf{u}$ vector.\n",
    "\n",
    "### First order, one variable\n",
    "\n",
    "$$\n",
    "    \\frac{du}{dt} = ku - ru^2\n",
    "$$\n",
    "\n",
    "with $k=1.0$, $r=1.0$, and $u_0 = 2.0$. The exact solution is\n",
    "\n",
    "$$\n",
    "    u(t) = \\frac{k/r}{1 + \\left( \\frac{k}{ru_0} - 1 \\right)e^{-kt}}.\n",
    "$$"
   ]
  },
  {
   "cell_type": "code",
   "execution_count": null,
   "id": "0f0bcb9b",
   "metadata": {},
   "outputs": [],
   "source": [
    "from scipy.integrate import solve_ivp"
   ]
  },
  {
   "cell_type": "code",
   "execution_count": null,
   "id": "fe3fbaf0",
   "metadata": {},
   "outputs": [],
   "source": [
    "def dudt(t, u, k, r):\n",
    "    return k*u - r * u**2\n",
    "\n",
    "def u_exact(t, k, r, u0):\n",
    "    a = k/r\n",
    "    return a / (1 + (a/u0 - 1)*np.exp(-k*t))"
   ]
  },
  {
   "cell_type": "code",
   "execution_count": null,
   "id": "f6e011b9",
   "metadata": {},
   "outputs": [],
   "source": [
    "k, r, u0 = 1.0, 0.2, 0.8\n",
    "tmin, tmax = 0.0, 8.0\n",
    "sol = solve_ivp(dudt, [tmin, tmax], [u0], args=(k, r), dense_output=True)"
   ]
  },
  {
   "cell_type": "code",
   "execution_count": null,
   "id": "a16954d3",
   "metadata": {},
   "outputs": [],
   "source": [
    "t = np.arange(tmin, tmax, 0.01)\n",
    "plt.plot(t, [sol.sol(ti) for ti in t])\n",
    "plt.plot(t, u_exact(t, k, r, u0))"
   ]
  },
  {
   "cell_type": "markdown",
   "id": "a92c3918",
   "metadata": {},
   "source": [
    "### First order, multiple variables\n",
    "\n",
    "We use the famous Lotka-Volterra equations for the predator-prey model:\n",
    "\n",
    "$$\n",
    "\\begin{align}\n",
    "    \\frac{dx}{dt} &= ax - bxy \\\\\n",
    "    \\frac{dy}{dt} &= -cy + dxy\n",
    "\\end{align}\n",
    "$$"
   ]
  },
  {
   "cell_type": "code",
   "execution_count": null,
   "id": "bc07e004",
   "metadata": {},
   "outputs": [],
   "source": [
    "def lotka_volterra(t, u, a, b, c, d):\n",
    "    x, y = u\n",
    "    return [a*x - b*x*y, -c*y + d*x*y]"
   ]
  },
  {
   "cell_type": "code",
   "execution_count": null,
   "id": "6fea2851",
   "metadata": {},
   "outputs": [],
   "source": [
    "a, b, c, d = 1.5, 1, 3, 1\n",
    "tmin, tmax = 0, 15\n",
    "u0 = [10, 5]\n",
    "sol = solve_ivp(lotka_volterra, [tmin, tmax], u0, args=(a, b, c, d), dense_output=True)"
   ]
  },
  {
   "cell_type": "code",
   "execution_count": null,
   "id": "f570bbb9",
   "metadata": {},
   "outputs": [],
   "source": [
    "t = np.linspace(tmin, tmax, 500)\n",
    "u = sol.sol(t)\n",
    "plt.plot(t, u.T)\n",
    "plt.xlabel('t')\n",
    "plt.legend(['x', 'y'])"
   ]
  },
  {
   "cell_type": "markdown",
   "id": "8c915abc",
   "metadata": {},
   "source": [
    "### Exercises\n",
    "\n",
    "1. Solve the following ODEs:\n",
    "\n",
    "(a) $ \\frac{du}{dt} = \\sin[(u+t)^2], t \\in [0,4]$ with $u(0) = -1$.  \n",
    "(b) $ \\frac{du}{dt} = -2tu, t \\in [0,2]$ with $u(0) = 2$.  \n",
    "(c) $ \\frac{du}{dt} = u + t, t \\in [0,1]$ with $u(0) = 2$.  \n",
    "(d) $ \\frac{du}{dt} = 2u(1-u), t \\in [0,2]$ with $u(0) = 1/2$.  \n",
    "(e) $ \\frac{du}{dt} = 2(1+t)(1+u^2), t \\in [0,0.5]$ with $u(0) = 0$.\n",
    "\n",
    "2. A disease that is endemic to a population can be modeled by tracking the fraction of the population that is susceptible to infection, $v(t)$, and the fraction that is infectious, $w(t)$. (The rest of the population is considered to be recovered and immune.) A simple example mdoel is\n",
    "\n",
    "$$\n",
    "\\begin{align}\n",
    "    \\frac{dv}{dt} &= 0.2(1-v) - 3vw \\\\\n",
    "    \\frac{dw}{dt} &= (3v-1)w\n",
    "\\end{align}\n",
    "$$\n",
    "\n",
    "Starting with $v(0) = 0.95$ and $w(0)=0.05$, find the long-term steady values of $v(t)$ and $w(t)$. Plot both components of the solution as a functions of time."
   ]
  }
 ],
 "metadata": {
  "kernelspec": {
   "display_name": "Python 3 (ipykernel)",
   "language": "python",
   "name": "python3"
  },
  "language_info": {
   "codemirror_mode": {
    "name": "ipython",
    "version": 3
   },
   "file_extension": ".py",
   "mimetype": "text/x-python",
   "name": "python",
   "nbconvert_exporter": "python",
   "pygments_lexer": "ipython3",
   "version": "3.9.12"
  },
  "toc": {
   "base_numbering": 1,
   "nav_menu": {},
   "number_sections": true,
   "sideBar": true,
   "skip_h1_title": true,
   "title_cell": "Table of Contents",
   "title_sidebar": "Scientific Computing in Python",
   "toc_cell": false,
   "toc_position": {},
   "toc_section_display": true,
   "toc_window_display": true
  },
  "vscode": {
   "interpreter": {
    "hash": "aee8b7b246df8f9039afb4144a1f6fd8d2ca17a180786b69acc140d282b71a49"
   }
  }
 },
 "nbformat": 4,
 "nbformat_minor": 5
}
