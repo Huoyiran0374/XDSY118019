{
 "cells": [
  {
   "cell_type": "markdown",
   "id": "34418253",
   "metadata": {},
   "source": [
    "# Scientific Computing in Python\n",
    "An introduction to scientific computing in Python by [Dr. Yi-Xin Liu](http://www.yxliu.group) at Fudan University (lyx@fudan.edu.cn).  \n",
    "This is a part of the course: *Road to Scientific Research: Powerful Computer Applications* (XDSY118019.01).  \n",
    "Lecture date: 2022.09.29\n",
    "\n",
    "#### Resources\n",
    "- [Book: Fundamentals of Numerical Computation by Tobin A. Driscoll and Richard J. Braun](https://fncbook.github.io/v1.0/frontmatter.html)\n",
    "- [Numpy quickstart](https://numpy.org/doc/stable/user/quickstart.html)\n",
    "- [Numpy absolute beginners guide](https://numpy.org/doc/stable/user/absolute_beginners.html)\n",
    "- [Scipy official tutorial](https://docs.scipy.org/doc/scipy/tutorial/index.html)\n",
    "\n",
    "*Side note*\n",
    "\n",
    "- [Google CoLab: Online Notebook](https://colab.research.google.com/)\n",
    "- [Youtube: Playing with Data in Jupyter Notebooks with VS Code](https://www.youtube.com/watch?v=r0wLl_rfxRs)\n"
   ]
  },
  {
   "cell_type": "markdown",
   "id": "6c47cc30",
   "metadata": {},
   "source": [
    "## Essential packages"
   ]
  },
  {
   "cell_type": "markdown",
   "id": "2fb26ee4",
   "metadata": {},
   "source": [
    "Python list is useful but it is not efficient as well as convenience for scientific computing which involves many linear algebra calculations. For example, if we want to multiply two vectors of same size elementwisely, using Python list, a first naive try will fail miserably as"
   ]
  },
  {
   "cell_type": "code",
   "execution_count": 1,
   "id": "e2e0f5af",
   "metadata": {},
   "outputs": [],
   "source": [
    "v1 = [1, 2, 3]\n",
    "v2 = [4, 5, 6]"
   ]
  },
  {
   "cell_type": "code",
   "execution_count": 2,
   "id": "06391e7a",
   "metadata": {},
   "outputs": [
    {
     "ename": "TypeError",
     "evalue": "can't multiply sequence by non-int of type 'list'",
     "output_type": "error",
     "traceback": [
      "\u001b[0;31m---------------------------------------------------------------------------\u001b[0m",
      "\u001b[0;31mTypeError\u001b[0m                                 Traceback (most recent call last)",
      "Input \u001b[0;32mIn [2]\u001b[0m, in \u001b[0;36m<cell line: 1>\u001b[0;34m()\u001b[0m\n\u001b[0;32m----> 1\u001b[0m \u001b[43mv1\u001b[49m\u001b[43m \u001b[49m\u001b[38;5;241;43m*\u001b[39;49m\u001b[43m \u001b[49m\u001b[43mv2\u001b[49m\n",
      "\u001b[0;31mTypeError\u001b[0m: can't multiply sequence by non-int of type 'list'"
     ]
    }
   ],
   "source": [
    "v1 * v2"
   ]
  },
  {
   "cell_type": "markdown",
   "id": "53750ff6",
   "metadata": {},
   "source": [
    "Instead, we have to implement a function like:"
   ]
  },
  {
   "cell_type": "code",
   "execution_count": 3,
   "id": "67b6d6b3",
   "metadata": {},
   "outputs": [],
   "source": [
    "def vec_multiply(v1, v2):\n",
    "    v = []\n",
    "    for e1, e2 in zip(v1, v2):\n",
    "        v.append(e1 * e2)\n",
    "\n",
    "    return v"
   ]
  },
  {
   "cell_type": "code",
   "execution_count": 4,
   "id": "f4b32190",
   "metadata": {},
   "outputs": [
    {
     "data": {
      "text/plain": [
       "[4, 10, 18]"
      ]
     },
     "execution_count": 4,
     "metadata": {},
     "output_type": "execute_result"
    }
   ],
   "source": [
    "\n",
    "vec_multiply(v1, v2)"
   ]
  },
  {
   "cell_type": "markdown",
   "id": "8c6f483a",
   "metadata": {},
   "source": [
    "Or use list comprehension like"
   ]
  },
  {
   "cell_type": "code",
   "execution_count": 5,
   "id": "ff43b487",
   "metadata": {},
   "outputs": [
    {
     "data": {
      "text/plain": [
       "[4, 10, 18]"
      ]
     },
     "execution_count": 5,
     "metadata": {},
     "output_type": "execute_result"
    }
   ],
   "source": [
    "[e1 * e2 for e1, e2 in zip(v1, v2)]"
   ]
  },
  {
   "cell_type": "markdown",
   "id": "76df9cdc",
   "metadata": {},
   "source": [
    "In practice, we will use packages to facilitate us to do linear algebra calculations. In Python, there are two such prominent packages: `numpy` and `scipy`. With numpy, we can simply do"
   ]
  },
  {
   "cell_type": "code",
   "execution_count": 6,
   "id": "727df767",
   "metadata": {},
   "outputs": [
    {
     "data": {
      "text/plain": [
       "array([ 4, 10, 18])"
      ]
     },
     "execution_count": 6,
     "metadata": {},
     "output_type": "execute_result"
    }
   ],
   "source": [
    "import numpy as np\n",
    "\n",
    "# convert Python lists to numpy arrays\n",
    "v1 = np.array(v1)\n",
    "v2 = np.array(v2)\n",
    "\n",
    "v = v1 * v2\n",
    "v"
   ]
  },
  {
   "cell_type": "markdown",
   "id": "e2750d85",
   "metadata": {},
   "source": [
    "### Numpy\n",
    "\n",
    "Numpy is the fundamental package for scientific computing with Python.\n",
    "\n",
    "It is a Python library that provides a multidimensional array object, various derived objects (such as masked arrays and matrices), and an assortment of routines for fast operations on arrays, including mathematical, logical, shape manipulation, sorting, selecting, I/O, discrete Fourier transforms, basic linear algebra, basic statistical operations, random simulation and much more.\n",
    "\n",
    "Numpy comes with Anaconda by default.\n",
    "\n",
    "Tutorial to learn Numpy:\n",
    "- https://numpy.org/doc/stable/user/quickstart.html\n",
    "- https://numpy.org/doc/stable/user/absolute_beginners.html."
   ]
  },
  {
   "cell_type": "markdown",
   "id": "8d10f561",
   "metadata": {},
   "source": [
    "### SciPy\n",
    "\n",
    "SciPy provides fundamental algorithms for scientific computing in Python.\n",
    "\n",
    "SciPy is a collection of mathematical algorithms and convenience functions built on the NumPy extension of Python. It adds significant power to the interactive Python session by providing the user with high-level commands and classes for manipulating and visualizing data. With SciPy, an interactive Python session becomes a data-processing and system-prototyping environment rivaling systems, such as MATLAB, IDL, Octave, R-Lab, and SciLab.\n",
    "\n",
    "The additional benefit of basing SciPy on Python is that this also makes a powerful programming language available for use in developing sophisticated programs and specialized applications. Scientific applications using SciPy benefit from the development of additional modules in numerous niches of the software landscape by developers across the world. Everything from parallel programming to web and data-base subroutines and classes have been made available to the Python programmer. All of this power is available in addition to the mathematical libraries in SciPy.\n",
    "\n",
    "SciPy also comes with Anaconda by default.\n",
    "\n",
    "Tutorial to learn SciPy:\n",
    "- https://docs.scipy.org/doc/scipy/tutorial/index.html."
   ]
  },
  {
   "cell_type": "markdown",
   "id": "d8986890",
   "metadata": {},
   "source": [
    "## Numpy array\n",
    "\n",
    "### Python list vs. Numpy array\n",
    "\n",
    "NumPy gives you an enormous range of fast and efficient ways of creating arrays and manipulating numerical data inside them. While a Python list can contain different data types within a single list, all of the elements in a NumPy array should be homogeneous. The mathematical operations that are meant to be performed on arrays would be extremely inefficient if the arrays weren’t homogeneous.\n",
    "\n",
    "**Why use NumPy?** NumPy arrays are faster and more compact than Python lists. An array consumes less memory and is convenient to use. NumPy uses much less memory to store data and it provides a mechanism of specifying the data types. This allows the code to be optimized even further.\n",
    "\n",
    "### What is an array?\n",
    "An array is a central data structure of the NumPy library. An array is a grid of values and it contains information about the raw data, how to locate an element, and how to interpret an element. It has a grid of elements that can be indexed in various ways. The elements are all of the same type, referred to as the array dtype."
   ]
  },
  {
   "cell_type": "markdown",
   "id": "17b41487",
   "metadata": {},
   "source": [
    "### Dimension, shape, and size\n",
    "\n",
    "- **vector** - One-dimension (1D) array"
   ]
  },
  {
   "cell_type": "code",
   "execution_count": 7,
   "id": "0a637a15",
   "metadata": {},
   "outputs": [
    {
     "data": {
      "text/plain": [
       "array([1, 2, 3])"
      ]
     },
     "execution_count": 7,
     "metadata": {},
     "output_type": "execute_result"
    }
   ],
   "source": [
    "v1 = np.array([1, 2, 3])\n",
    "v1"
   ]
  },
  {
   "cell_type": "code",
   "execution_count": 8,
   "id": "22c30eb3",
   "metadata": {},
   "outputs": [
    {
     "data": {
      "text/plain": [
       "(1, (3,), 3)"
      ]
     },
     "execution_count": 8,
     "metadata": {},
     "output_type": "execute_result"
    }
   ],
   "source": [
    "v1.ndim, v1.shape, v1.size"
   ]
  },
  {
   "cell_type": "markdown",
   "id": "61bf9e0b",
   "metadata": {},
   "source": [
    "- **matrix** - Two-dimension (2D) array"
   ]
  },
  {
   "cell_type": "code",
   "execution_count": 9,
   "id": "6fb42400",
   "metadata": {},
   "outputs": [
    {
     "data": {
      "text/plain": [
       "array([[1, 2, 3],\n",
       "       [4, 5, 6]])"
      ]
     },
     "execution_count": 9,
     "metadata": {},
     "output_type": "execute_result"
    }
   ],
   "source": [
    "v2 = np.array([[1, 2, 3],\n",
    "               [4, 5, 6]])\n",
    "v2"
   ]
  },
  {
   "cell_type": "code",
   "execution_count": 10,
   "id": "920f135d",
   "metadata": {},
   "outputs": [
    {
     "data": {
      "text/plain": [
       "(2, (2, 3), 6)"
      ]
     },
     "execution_count": 10,
     "metadata": {},
     "output_type": "execute_result"
    }
   ],
   "source": [
    "v2.ndim, v2.shape, v2.size"
   ]
  },
  {
   "cell_type": "markdown",
   "id": "f0749c15",
   "metadata": {},
   "source": [
    "- **tensor** - Three-dimension (3D) array and above"
   ]
  },
  {
   "cell_type": "code",
   "execution_count": 11,
   "id": "f92801d8",
   "metadata": {},
   "outputs": [
    {
     "data": {
      "text/plain": [
       "array([[[1, 2, 3],\n",
       "        [4, 5, 6]],\n",
       "\n",
       "       [[7, 8, 9],\n",
       "        [0, 1, 2]]])"
      ]
     },
     "execution_count": 11,
     "metadata": {},
     "output_type": "execute_result"
    }
   ],
   "source": [
    "v3 = np.array([[[1, 2, 3], [4, 5, 6]],\n",
    "               [[7, 8, 9], [0, 1, 2]]])\n",
    "v3"
   ]
  },
  {
   "cell_type": "code",
   "execution_count": 12,
   "id": "38fbc529",
   "metadata": {
    "scrolled": true
   },
   "outputs": [
    {
     "data": {
      "text/plain": [
       "(3, (2, 2, 3), 12)"
      ]
     },
     "execution_count": 12,
     "metadata": {},
     "output_type": "execute_result"
    }
   ],
   "source": [
    "v3.ndim, v3.shape, v3.size"
   ]
  },
  {
   "cell_type": "markdown",
   "id": "5cc517b0",
   "metadata": {},
   "source": [
    "### Array creation"
   ]
  },
  {
   "cell_type": "code",
   "execution_count": 16,
   "id": "f10c19f8",
   "metadata": {},
   "outputs": [
    {
     "data": {
      "text/plain": [
       "array([ 1.,  2.,  3.,  4.,  5.,  6.,  7.,  8.,  9., 10.])"
      ]
     },
     "execution_count": 16,
     "metadata": {},
     "output_type": "execute_result"
    }
   ],
   "source": [
    "np.arange(1.0, 10.1, dtype=float)  # vector"
   ]
  },
  {
   "cell_type": "code",
   "execution_count": 18,
   "id": "0ec2b965",
   "metadata": {},
   "outputs": [
    {
     "data": {
      "text/plain": [
       "array([0.  , 0.11, 0.22, 0.33, 0.44, 0.55, 0.66, 0.77, 0.88, 0.99, 1.1 ])"
      ]
     },
     "execution_count": 18,
     "metadata": {},
     "output_type": "execute_result"
    }
   ],
   "source": [
    "np.linspace(0, 1.1, 11)  # vector"
   ]
  },
  {
   "cell_type": "code",
   "execution_count": 19,
   "id": "dfa2b9e0",
   "metadata": {},
   "outputs": [
    {
     "data": {
      "text/plain": [
       "array([[0.74266842, 0.25767803, 0.61188224],\n",
       "       [0.46534826, 0.35345307, 0.75529326]])"
      ]
     },
     "execution_count": 19,
     "metadata": {},
     "output_type": "execute_result"
    }
   ],
   "source": [
    "np.random.rand(2, 3)"
   ]
  },
  {
   "cell_type": "code",
   "execution_count": 20,
   "id": "e9c0dd05",
   "metadata": {},
   "outputs": [
    {
     "data": {
      "text/plain": [
       "array([[ 1.12800293,  0.45603316,  0.55311039],\n",
       "       [ 0.0650789 ,  1.21338457, -0.90510798]])"
      ]
     },
     "execution_count": 20,
     "metadata": {},
     "output_type": "execute_result"
    }
   ],
   "source": [
    "np.random.randn(2, 3)"
   ]
  },
  {
   "cell_type": "code",
   "execution_count": 21,
   "id": "95941f4b",
   "metadata": {},
   "outputs": [
    {
     "data": {
      "text/plain": [
       "array([[0., 0., 0.],\n",
       "       [0., 0., 0.]])"
      ]
     },
     "execution_count": 21,
     "metadata": {},
     "output_type": "execute_result"
    }
   ],
   "source": [
    "np.zeros((2, 3))"
   ]
  },
  {
   "cell_type": "code",
   "execution_count": 22,
   "id": "a9957ae9",
   "metadata": {},
   "outputs": [
    {
     "data": {
      "text/plain": [
       "array([[1., 1., 1.],\n",
       "       [1., 1., 1.]])"
      ]
     },
     "execution_count": 22,
     "metadata": {},
     "output_type": "execute_result"
    }
   ],
   "source": [
    "np.ones((2, 3))"
   ]
  },
  {
   "cell_type": "code",
   "execution_count": 23,
   "id": "57797176",
   "metadata": {
    "scrolled": true
   },
   "outputs": [
    {
     "data": {
      "text/plain": [
       "array([[1., 0.],\n",
       "       [0., 1.]])"
      ]
     },
     "execution_count": 23,
     "metadata": {},
     "output_type": "execute_result"
    }
   ],
   "source": [
    "np.eye(2)  # matrix"
   ]
  },
  {
   "cell_type": "markdown",
   "id": "2d216f11",
   "metadata": {},
   "source": [
    "### Array attributes and methods"
   ]
  },
  {
   "cell_type": "code",
   "execution_count": 24,
   "id": "a085215b",
   "metadata": {},
   "outputs": [
    {
     "data": {
      "text/plain": [
       "array([[1, 2, 3],\n",
       "       [4, 5, 6]])"
      ]
     },
     "execution_count": 24,
     "metadata": {},
     "output_type": "execute_result"
    }
   ],
   "source": [
    "v2 = np.array([[1, 2, 3],\n",
    "               [4, 5, 6]])\n",
    "v2"
   ]
  },
  {
   "cell_type": "code",
   "execution_count": 25,
   "id": "06bb3aba",
   "metadata": {},
   "outputs": [
    {
     "data": {
      "text/plain": [
       "(6, 5, 1, 0, 21, array([ 1,  3,  6, 10, 15, 21]))"
      ]
     },
     "execution_count": 25,
     "metadata": {},
     "output_type": "execute_result"
    }
   ],
   "source": [
    "v2.max(), v2.argmax(), v2.min(), v2.argmin(), v2.sum(), v2.cumsum()"
   ]
  },
  {
   "cell_type": "markdown",
   "id": "92184f5f",
   "metadata": {},
   "source": [
    "### Indexing and slicing\n",
    "\n",
    "Numpy offers several ways to index into arrays and accessing/changing specific elements, rows, columns, etc."
   ]
  },
  {
   "cell_type": "markdown",
   "id": "8d89bdd0",
   "metadata": {},
   "source": [
    "#### Python list like indexing and slicing"
   ]
  },
  {
   "cell_type": "code",
   "execution_count": 26,
   "id": "a312d820",
   "metadata": {},
   "outputs": [
    {
     "data": {
      "text/plain": [
       "array([0, 1, 2, 3, 4, 5, 6, 7, 8, 9])"
      ]
     },
     "execution_count": 26,
     "metadata": {},
     "output_type": "execute_result"
    }
   ],
   "source": [
    "v1 = np.arange(10)\n",
    "v1"
   ]
  },
  {
   "cell_type": "code",
   "execution_count": 27,
   "id": "13ed12ca",
   "metadata": {},
   "outputs": [
    {
     "data": {
      "text/plain": [
       "4"
      ]
     },
     "execution_count": 27,
     "metadata": {},
     "output_type": "execute_result"
    }
   ],
   "source": [
    "v1[4]"
   ]
  },
  {
   "cell_type": "code",
   "execution_count": 28,
   "id": "fd544660",
   "metadata": {},
   "outputs": [
    {
     "data": {
      "text/plain": [
       "(array([3, 4, 5]),\n",
       " array([0, 1, 2]),\n",
       " array([7, 8, 9]),\n",
       " array([0, 1, 2, 3, 4, 5, 6, 7, 8, 9]))"
      ]
     },
     "execution_count": 28,
     "metadata": {},
     "output_type": "execute_result"
    }
   ],
   "source": [
    "v1[3:6], v1[:3], v1[7:], v1[:]"
   ]
  },
  {
   "cell_type": "markdown",
   "id": "e76c15be",
   "metadata": {},
   "source": [
    "_Slice is a view of orginal array._ Change the slice will change the orignial array."
   ]
  },
  {
   "cell_type": "code",
   "execution_count": 29,
   "id": "2c2923ef",
   "metadata": {},
   "outputs": [
    {
     "data": {
      "text/plain": [
       "array([ 0,  1,  2, 99, 99, 99,  6,  7,  8,  9])"
      ]
     },
     "execution_count": 29,
     "metadata": {},
     "output_type": "execute_result"
    }
   ],
   "source": [
    "slice_v1 = v1[3:6]\n",
    "slice_v1[:] = 99\n",
    "v1"
   ]
  },
  {
   "cell_type": "code",
   "execution_count": 30,
   "id": "c37432ad",
   "metadata": {},
   "outputs": [
    {
     "data": {
      "text/plain": [
       "array([[ 0,  1,  2,  3,  4,  5],\n",
       "       [ 6,  7,  8,  9, 10, 11],\n",
       "       [12, 13, 14, 15, 16, 17],\n",
       "       [18, 19, 20, 21, 22, 23]])"
      ]
     },
     "execution_count": 30,
     "metadata": {},
     "output_type": "execute_result"
    }
   ],
   "source": [
    "v2 = np.arange(24).reshape(4, 6)\n",
    "v2"
   ]
  },
  {
   "cell_type": "code",
   "execution_count": 31,
   "id": "b289fbee",
   "metadata": {},
   "outputs": [
    {
     "data": {
      "text/plain": [
       "array([ 6,  7,  8,  9, 10, 11])"
      ]
     },
     "execution_count": 31,
     "metadata": {},
     "output_type": "execute_result"
    }
   ],
   "source": [
    "v2[1]  # indexing a row"
   ]
  },
  {
   "cell_type": "code",
   "execution_count": 32,
   "id": "044eb3cd",
   "metadata": {},
   "outputs": [
    {
     "data": {
      "text/plain": [
       "array([ 6,  7,  8,  9, 10, 11])"
      ]
     },
     "execution_count": 32,
     "metadata": {},
     "output_type": "execute_result"
    }
   ],
   "source": [
    "v2[1, :]"
   ]
  },
  {
   "cell_type": "code",
   "execution_count": 33,
   "id": "38990874",
   "metadata": {},
   "outputs": [
    {
     "data": {
      "text/plain": [
       "7"
      ]
     },
     "execution_count": 33,
     "metadata": {},
     "output_type": "execute_result"
    }
   ],
   "source": [
    "v2[1, 1]  # indexing a single element"
   ]
  },
  {
   "cell_type": "code",
   "execution_count": 34,
   "id": "dd98754e",
   "metadata": {},
   "outputs": [
    {
     "data": {
      "text/plain": [
       "array([ 1,  7, 13, 19])"
      ]
     },
     "execution_count": 34,
     "metadata": {},
     "output_type": "execute_result"
    }
   ],
   "source": [
    "v2[:, 1]  # the second column"
   ]
  },
  {
   "cell_type": "code",
   "execution_count": 35,
   "id": "4c803744",
   "metadata": {},
   "outputs": [
    {
     "data": {
      "text/plain": [
       "array([[ 3,  4],\n",
       "       [ 9, 10]])"
      ]
     },
     "execution_count": 35,
     "metadata": {},
     "output_type": "execute_result"
    }
   ],
   "source": [
    "v2[:2, 3:5]  # elements in the first and second rows, the fourth and fifth colums."
   ]
  },
  {
   "cell_type": "markdown",
   "id": "02091c6e",
   "metadata": {},
   "source": [
    "#### Integer array indexing\n",
    "\n",
    "integer array indexing allows you to construct arbitrary arrays using the data from another array."
   ]
  },
  {
   "cell_type": "code",
   "execution_count": 36,
   "id": "410feb8c",
   "metadata": {},
   "outputs": [
    {
     "data": {
      "text/plain": [
       "(2, 3)"
      ]
     },
     "execution_count": 36,
     "metadata": {},
     "output_type": "execute_result"
    }
   ],
   "source": [
    "A = np.array([[1, 2, 3],\n",
    "              [4, 5, 6]])\n",
    "A.shape"
   ]
  },
  {
   "cell_type": "code",
   "execution_count": 40,
   "id": "8f83711b",
   "metadata": {},
   "outputs": [],
   "source": [
    "I = [1, 0]  # indices for first dimension, thus should less than 2 (not included)"
   ]
  },
  {
   "cell_type": "code",
   "execution_count": 41,
   "id": "e04e3fa4",
   "metadata": {},
   "outputs": [],
   "source": [
    "J = [2, 1]  # indices for second dimension, thus should less than 3 (not included)"
   ]
  },
  {
   "cell_type": "code",
   "execution_count": 42,
   "id": "a5bedea6",
   "metadata": {},
   "outputs": [
    {
     "data": {
      "text/plain": [
       "array([6, 2])"
      ]
     },
     "execution_count": 42,
     "metadata": {},
     "output_type": "execute_result"
    }
   ],
   "source": [
    "A[I, J]"
   ]
  },
  {
   "cell_type": "markdown",
   "id": "3a1353cb",
   "metadata": {},
   "source": [
    "The result array is a view of the original array. Thus we can use it to mutate its content,"
   ]
  },
  {
   "cell_type": "code",
   "execution_count": 43,
   "id": "adb49962",
   "metadata": {},
   "outputs": [
    {
     "data": {
      "text/plain": [
       "array([[ 1, 11,  3],\n",
       "       [ 4,  5, 15]])"
      ]
     },
     "execution_count": 43,
     "metadata": {},
     "output_type": "execute_result"
    }
   ],
   "source": [
    "A[I, J] += 9\n",
    "A"
   ]
  },
  {
   "cell_type": "markdown",
   "id": "7dc8d287",
   "metadata": {},
   "source": [
    "#### Boolean array indexing\n",
    "\n",
    "Boolean array indexing lets you pick out arbitrary elements of an array. Frequently this type of indexing is used to select the elements of an array that satisfy some condition."
   ]
  },
  {
   "cell_type": "code",
   "execution_count": 44,
   "id": "9b4921ae",
   "metadata": {},
   "outputs": [
    {
     "data": {
      "text/plain": [
       "array([ 1,  2,  3,  4,  5,  6,  7,  8,  9, 10])"
      ]
     },
     "execution_count": 44,
     "metadata": {},
     "output_type": "execute_result"
    }
   ],
   "source": [
    "a = np.arange(1, 11)\n",
    "a"
   ]
  },
  {
   "cell_type": "code",
   "execution_count": 45,
   "id": "a7df6782",
   "metadata": {},
   "outputs": [
    {
     "data": {
      "text/plain": [
       "array([False, False, False, False,  True,  True,  True,  True,  True,\n",
       "        True])"
      ]
     },
     "execution_count": 45,
     "metadata": {},
     "output_type": "execute_result"
    }
   ],
   "source": [
    "a > 4"
   ]
  },
  {
   "cell_type": "code",
   "execution_count": 46,
   "id": "8f3282f8",
   "metadata": {},
   "outputs": [
    {
     "data": {
      "text/plain": [
       "array([ 5,  6,  7,  8,  9, 10])"
      ]
     },
     "execution_count": 46,
     "metadata": {},
     "output_type": "execute_result"
    }
   ],
   "source": [
    "a[a>4]"
   ]
  },
  {
   "cell_type": "code",
   "execution_count": 52,
   "id": "cc1e6741",
   "metadata": {},
   "outputs": [
    {
     "data": {
      "text/plain": [
       "array([[0.18080938, 0.1330685 , 0.78207961, ..., 0.70625844, 0.66458595,\n",
       "        0.45021406],\n",
       "       [0.07678642, 0.44443717, 0.03908949, ..., 0.39072925, 0.99911707,\n",
       "        0.84958192],\n",
       "       [0.28697505, 0.60688319, 0.8684932 , ..., 0.03882874, 0.73123456,\n",
       "        0.45223977],\n",
       "       ...,\n",
       "       [0.24751158, 0.88277578, 0.03224471, ..., 0.52323823, 0.36374888,\n",
       "        0.0833816 ],\n",
       "       [0.02323236, 0.40224233, 0.1671783 , ..., 0.15405177, 0.27486521,\n",
       "        0.04948819],\n",
       "       [0.71457139, 0.44535758, 0.70571209, ..., 0.32889249, 0.06471071,\n",
       "        0.56960986]])"
      ]
     },
     "execution_count": 52,
     "metadata": {},
     "output_type": "execute_result"
    }
   ],
   "source": [
    "b = np.random.rand(400, 500)\n",
    "b"
   ]
  },
  {
   "cell_type": "code",
   "execution_count": 53,
   "id": "c7e7e942",
   "metadata": {},
   "outputs": [
    {
     "data": {
      "text/plain": [
       "0.502275"
      ]
     },
     "execution_count": 53,
     "metadata": {},
     "output_type": "execute_result"
    }
   ],
   "source": [
    "b[b<0.5].size / (400*500)"
   ]
  },
  {
   "cell_type": "markdown",
   "id": "7905ae5b",
   "metadata": {},
   "source": [
    "#### Exercise\n",
    "- Create the following matrix and assign it to variable `B`.\n",
    "\n",
    "$$\n",
    "\\begin{bmatrix}\n",
    "    1 &2 &3 &4 &5 \\\\\n",
    "    6 &7 &8 &9 &10 \\\\\n",
    "    11 &12 &13 &14 &15 \\\\\n",
    "    16 &17 &18 &19 &20 \\\\\n",
    "    21 &22 &23 &24 &25 \\\\\n",
    "    26 &27 &28 &29 &30\n",
    "\\end{bmatrix}\n",
    "$$\n",
    "\n",
    "- Retrieve `23`.\n",
    "\n",
    "- Retrieve `[2, 8, 14, 20]`\n",
    "\n",
    "- Retrieve\n",
    "\n",
    "$$\n",
    "\\begin{bmatrix}\n",
    "    11 &12 \\\\\n",
    "    16 &17\n",
    "\\end{bmatrix}\n",
    "$$\n",
    "\n",
    "- Retrieve\n",
    "\n",
    "$$\n",
    "\\begin{bmatrix}\n",
    "    4 &5 \\\\\n",
    "    24 &25 \\\\\n",
    "    29 &30\n",
    "\\end{bmatrix}\n",
    "$$\n",
    "\n",
    "- Find all even elements.\n",
    "\n",
    "- Compute the sum of all odd elements."
   ]
  },
  {
   "cell_type": "code",
   "execution_count": 54,
   "id": "4c936c8b",
   "metadata": {},
   "outputs": [
    {
     "data": {
      "text/plain": [
       "array([[ 1,  2,  3,  4,  5],\n",
       "       [ 6,  7,  8,  9, 10],\n",
       "       [11, 12, 13, 14, 15],\n",
       "       [16, 17, 18, 19, 20],\n",
       "       [21, 22, 23, 24, 25],\n",
       "       [26, 27, 28, 29, 30]])"
      ]
     },
     "execution_count": 54,
     "metadata": {},
     "output_type": "execute_result"
    }
   ],
   "source": [
    "# Do the exercise below\n",
    "np.arange(1, 31).reshape(6, 5)"
   ]
  },
  {
   "cell_type": "markdown",
   "id": "73203db1",
   "metadata": {},
   "source": [
    "### Resizing and reshaping\n",
    "\n",
    "- Adding or removing elements: `np.append`, `np.insert`, `np.delete`, `np.resize`."
   ]
  },
  {
   "cell_type": "code",
   "execution_count": 55,
   "id": "1b5694db",
   "metadata": {},
   "outputs": [
    {
     "data": {
      "text/plain": [
       "array([], dtype=float64)"
      ]
     },
     "execution_count": 55,
     "metadata": {},
     "output_type": "execute_result"
    }
   ],
   "source": [
    "u = np.array([])\n",
    "u"
   ]
  },
  {
   "cell_type": "code",
   "execution_count": 56,
   "id": "c7f5936c",
   "metadata": {},
   "outputs": [
    {
     "data": {
      "text/plain": [
       "(array([], dtype=float64), array([1.]))"
      ]
     },
     "execution_count": 56,
     "metadata": {},
     "output_type": "execute_result"
    }
   ],
   "source": [
    "v = np.append(u, 1)\n",
    "u, v"
   ]
  },
  {
   "cell_type": "code",
   "execution_count": 57,
   "id": "754a777e",
   "metadata": {},
   "outputs": [
    {
     "data": {
      "text/plain": [
       "array([[1, 2, 3],\n",
       "       [4, 5, 6]])"
      ]
     },
     "execution_count": 57,
     "metadata": {},
     "output_type": "execute_result"
    }
   ],
   "source": [
    "v = np.array([[1, 2, 3],\n",
    "              [4, 5, 6]])\n",
    "v"
   ]
  },
  {
   "cell_type": "markdown",
   "id": "22c405b3",
   "metadata": {},
   "source": [
    "- Flattening: `array.flatten()`"
   ]
  },
  {
   "cell_type": "code",
   "execution_count": 58,
   "id": "57bd5848",
   "metadata": {},
   "outputs": [
    {
     "data": {
      "text/plain": [
       "array([1, 2, 3, 4, 5, 6])"
      ]
     },
     "execution_count": 58,
     "metadata": {},
     "output_type": "execute_result"
    }
   ],
   "source": [
    "v.flatten()"
   ]
  },
  {
   "cell_type": "code",
   "execution_count": 59,
   "id": "5973b2e7",
   "metadata": {},
   "outputs": [
    {
     "data": {
      "text/plain": [
       "array([[1, 2, 3],\n",
       "       [4, 5, 6]])"
      ]
     },
     "execution_count": 59,
     "metadata": {},
     "output_type": "execute_result"
    }
   ],
   "source": [
    "v"
   ]
  },
  {
   "cell_type": "markdown",
   "id": "0f1ece02",
   "metadata": {},
   "source": [
    "- Stacking: `numpy.hstack`, `numpy.vstack`."
   ]
  },
  {
   "cell_type": "code",
   "execution_count": 60,
   "id": "02bc1dbe",
   "metadata": {},
   "outputs": [
    {
     "data": {
      "text/plain": [
       "array([1, 2, 3, 4, 5, 6])"
      ]
     },
     "execution_count": 60,
     "metadata": {},
     "output_type": "execute_result"
    }
   ],
   "source": [
    "f = np.array([1,2,3])\n",
    "g = np.array([4,5,6])\n",
    "\n",
    "np.hstack((f, g))"
   ]
  },
  {
   "cell_type": "code",
   "execution_count": 61,
   "id": "c8be3990",
   "metadata": {},
   "outputs": [
    {
     "data": {
      "text/plain": [
       "array([[1, 2, 3],\n",
       "       [4, 5, 6]])"
      ]
     },
     "execution_count": 61,
     "metadata": {},
     "output_type": "execute_result"
    }
   ],
   "source": [
    "np.vstack((f, g))"
   ]
  },
  {
   "cell_type": "code",
   "execution_count": 62,
   "id": "443e1b29",
   "metadata": {},
   "outputs": [
    {
     "data": {
      "text/plain": [
       "array([[1., 1., 1., 1., 0., 0.],\n",
       "       [1., 1., 1., 1., 0., 0.]])"
      ]
     },
     "execution_count": 62,
     "metadata": {},
     "output_type": "execute_result"
    }
   ],
   "source": [
    "h1 = np.ones((2,4))\n",
    "h2 = np.zeros((2,2))\n",
    "\n",
    "np.hstack((h1,h2))"
   ]
  },
  {
   "cell_type": "code",
   "execution_count": 63,
   "id": "ba9d5497",
   "metadata": {},
   "outputs": [
    {
     "ename": "ValueError",
     "evalue": "all the input array dimensions for the concatenation axis must match exactly, but along dimension 1, the array at index 0 has size 4 and the array at index 1 has size 2",
     "output_type": "error",
     "traceback": [
      "\u001b[0;31m---------------------------------------------------------------------------\u001b[0m",
      "\u001b[0;31mValueError\u001b[0m                                Traceback (most recent call last)",
      "Input \u001b[0;32mIn [63]\u001b[0m, in \u001b[0;36m<cell line: 1>\u001b[0;34m()\u001b[0m\n\u001b[0;32m----> 1\u001b[0m \u001b[43mnp\u001b[49m\u001b[38;5;241;43m.\u001b[39;49m\u001b[43mvstack\u001b[49m\u001b[43m(\u001b[49m\u001b[43m(\u001b[49m\u001b[43mh1\u001b[49m\u001b[43m,\u001b[49m\u001b[43m \u001b[49m\u001b[43mh2\u001b[49m\u001b[43m)\u001b[49m\u001b[43m)\u001b[49m\n",
      "File \u001b[0;32m<__array_function__ internals>:5\u001b[0m, in \u001b[0;36mvstack\u001b[0;34m(*args, **kwargs)\u001b[0m\n",
      "File \u001b[0;32m~/opt/anaconda3/lib/python3.9/site-packages/numpy/core/shape_base.py:282\u001b[0m, in \u001b[0;36mvstack\u001b[0;34m(tup)\u001b[0m\n\u001b[1;32m    280\u001b[0m \u001b[38;5;28;01mif\u001b[39;00m \u001b[38;5;129;01mnot\u001b[39;00m \u001b[38;5;28misinstance\u001b[39m(arrs, \u001b[38;5;28mlist\u001b[39m):\n\u001b[1;32m    281\u001b[0m     arrs \u001b[38;5;241m=\u001b[39m [arrs]\n\u001b[0;32m--> 282\u001b[0m \u001b[38;5;28;01mreturn\u001b[39;00m \u001b[43m_nx\u001b[49m\u001b[38;5;241;43m.\u001b[39;49m\u001b[43mconcatenate\u001b[49m\u001b[43m(\u001b[49m\u001b[43marrs\u001b[49m\u001b[43m,\u001b[49m\u001b[43m \u001b[49m\u001b[38;5;241;43m0\u001b[39;49m\u001b[43m)\u001b[49m\n",
      "File \u001b[0;32m<__array_function__ internals>:5\u001b[0m, in \u001b[0;36mconcatenate\u001b[0;34m(*args, **kwargs)\u001b[0m\n",
      "\u001b[0;31mValueError\u001b[0m: all the input array dimensions for the concatenation axis must match exactly, but along dimension 1, the array at index 0 has size 4 and the array at index 1 has size 2"
     ]
    }
   ],
   "source": [
    "np.vstack((h1, h2))  # Error: dimension size not match"
   ]
  },
  {
   "cell_type": "code",
   "execution_count": 64,
   "id": "9a83fd5b",
   "metadata": {},
   "outputs": [
    {
     "data": {
      "text/plain": [
       "array([[1., 1.],\n",
       "       [1., 1.],\n",
       "       [1., 1.],\n",
       "       [1., 1.],\n",
       "       [0., 0.],\n",
       "       [0., 0.]])"
      ]
     },
     "execution_count": 64,
     "metadata": {},
     "output_type": "execute_result"
    }
   ],
   "source": [
    "v1 = np.ones((4,2))  # transpose the matrix\n",
    "v2 = np.zeros((2,2))\n",
    "\n",
    "np.vstack((v1,v2))  # now it is correct to stack vertically."
   ]
  },
  {
   "cell_type": "markdown",
   "id": "c836179a",
   "metadata": {},
   "source": [
    "## Linear algebra"
   ]
  },
  {
   "cell_type": "markdown",
   "id": "4fb6bd28",
   "metadata": {},
   "source": [
    "### Arithmetic and broadcasting"
   ]
  },
  {
   "cell_type": "code",
   "execution_count": 65,
   "id": "b81c2970",
   "metadata": {},
   "outputs": [],
   "source": [
    "u = np.array([1, 2, 3])\n",
    "v = np.array([4, 5, 6])"
   ]
  },
  {
   "cell_type": "code",
   "execution_count": 66,
   "id": "35c190f1",
   "metadata": {},
   "outputs": [
    {
     "data": {
      "text/plain": [
       "(array([5, 7, 9]),\n",
       " array([-3, -3, -3]),\n",
       " array([ 4, 10, 18]),\n",
       " array([0.25, 0.4 , 0.5 ]))"
      ]
     },
     "execution_count": 66,
     "metadata": {},
     "output_type": "execute_result"
    }
   ],
   "source": [
    "# basic operations\n",
    "u + v, u - v, u * v, u / v"
   ]
  },
  {
   "cell_type": "code",
   "execution_count": 67,
   "id": "f748ded0",
   "metadata": {},
   "outputs": [
    {
     "data": {
      "text/plain": [
       "(array([1.        , 1.41421356, 1.73205081]),\n",
       " array([0.84147098, 0.90929743, 0.14112001]),\n",
       " array([ 0.54030231, -0.41614684, -0.9899925 ]),\n",
       " array([0.        , 0.69314718, 1.09861229]),\n",
       " array([ 2.71828183,  7.3890561 , 20.08553692]))"
      ]
     },
     "execution_count": 67,
     "metadata": {},
     "output_type": "execute_result"
    }
   ],
   "source": [
    "# Math functions\n",
    "np.sqrt(u), np.sin(u), np.cos(u), np.log(u), np.exp(u)"
   ]
  },
  {
   "cell_type": "code",
   "execution_count": 68,
   "id": "95842a83",
   "metadata": {},
   "outputs": [
    {
     "data": {
      "text/plain": [
       "(2.0, 2.0, 0.816496580927726)"
      ]
     },
     "execution_count": 68,
     "metadata": {},
     "output_type": "execute_result"
    }
   ],
   "source": [
    "# basic statistics\n",
    "np.mean(u), np.median(u), np.std(u)"
   ]
  },
  {
   "cell_type": "markdown",
   "id": "bd03e110",
   "metadata": {},
   "source": [
    "**Broadcasting** is super cool and super useful. When doing elementwise operaitons, arrays expand to the \"correct\" shape.\n",
    "\n",
    "_Broadcasting is even cooler in Julia. Check it out!_"
   ]
  },
  {
   "cell_type": "code",
   "execution_count": 69,
   "id": "9709adc5",
   "metadata": {},
   "outputs": [
    {
     "data": {
      "text/plain": [
       "array([5, 6, 7])"
      ]
     },
     "execution_count": 69,
     "metadata": {},
     "output_type": "execute_result"
    }
   ],
   "source": [
    "# broadcasting a scalar over a vector\n",
    "u + 4"
   ]
  },
  {
   "cell_type": "code",
   "execution_count": 70,
   "id": "63f2ec33",
   "metadata": {},
   "outputs": [
    {
     "data": {
      "text/plain": [
       "array([0, 1, 2, 3, 4])"
      ]
     },
     "execution_count": 70,
     "metadata": {},
     "output_type": "execute_result"
    }
   ],
   "source": [
    "a = np.arange(5)\n",
    "a"
   ]
  },
  {
   "cell_type": "code",
   "execution_count": 71,
   "id": "417619b5",
   "metadata": {},
   "outputs": [
    {
     "data": {
      "text/plain": [
       "array([[0.28741536, 0.16842889, 0.67826456, 0.75788862, 0.89983388],\n",
       "       [0.79593417, 0.09857451, 0.40665838, 0.41029422, 0.48233423]])"
      ]
     },
     "execution_count": 71,
     "metadata": {},
     "output_type": "execute_result"
    }
   ],
   "source": [
    "b = np.random.rand(2, 5) \n",
    "b"
   ]
  },
  {
   "cell_type": "code",
   "execution_count": 72,
   "id": "a28b3043",
   "metadata": {},
   "outputs": [
    {
     "data": {
      "text/plain": [
       "array([[0.        , 0.16842889, 1.35652912, 2.27366586, 3.5993355 ],\n",
       "       [0.        , 0.09857451, 0.81331675, 1.23088265, 1.92933693]])"
      ]
     },
     "execution_count": 72,
     "metadata": {},
     "output_type": "execute_result"
    }
   ],
   "source": [
    "a * b"
   ]
  },
  {
   "cell_type": "code",
   "execution_count": 73,
   "id": "140e3c0e",
   "metadata": {},
   "outputs": [
    {
     "data": {
      "text/plain": [
       "array([[0.28741536, 1.16842889, 2.67826456, 3.75788862, 4.89983388],\n",
       "       [0.79593417, 1.09857451, 2.40665838, 3.41029422, 4.48233423]])"
      ]
     },
     "execution_count": 73,
     "metadata": {},
     "output_type": "execute_result"
    }
   ],
   "source": [
    "a + b"
   ]
  },
  {
   "cell_type": "markdown",
   "id": "b322162d",
   "metadata": {},
   "source": [
    "### Vector product\n",
    "\n",
    "Given two equal-length column vectors $\\mathbf{u}=[u_1, u_2, u_3]$ and $\\mathbf{v}=[v_1, v_2, v_3]$, we can compute their inner, cross, and outer products."
   ]
  },
  {
   "cell_type": "code",
   "execution_count": 74,
   "id": "db7c77ce",
   "metadata": {},
   "outputs": [],
   "source": [
    "u = np.array([1, 2, 3])\n",
    "v = np.array([4, 5, 6])"
   ]
  },
  {
   "cell_type": "markdown",
   "id": "c149bdd3",
   "metadata": {},
   "source": [
    "- Inner product\n",
    "\n",
    "$$\n",
    "    \\mathbf{u}\\cdot\\mathbf{v} = u_1v_1 + u_2v_2 + u_3v_3\n",
    "$$"
   ]
  },
  {
   "cell_type": "code",
   "execution_count": 75,
   "id": "71c6487b",
   "metadata": {},
   "outputs": [
    {
     "data": {
      "text/plain": [
       "32"
      ]
     },
     "execution_count": 75,
     "metadata": {},
     "output_type": "execute_result"
    }
   ],
   "source": [
    "np.dot(u, v)"
   ]
  },
  {
   "cell_type": "code",
   "execution_count": 76,
   "id": "081ddc74",
   "metadata": {},
   "outputs": [
    {
     "data": {
      "text/plain": [
       "32"
      ]
     },
     "execution_count": 76,
     "metadata": {},
     "output_type": "execute_result"
    }
   ],
   "source": [
    "# Or\n",
    "np.inner(u, v)"
   ]
  },
  {
   "cell_type": "code",
   "execution_count": 77,
   "id": "372e6f35",
   "metadata": {},
   "outputs": [
    {
     "data": {
      "text/plain": [
       "32"
      ]
     },
     "execution_count": 77,
     "metadata": {},
     "output_type": "execute_result"
    }
   ],
   "source": [
    "# Or\n",
    "u @ v"
   ]
  },
  {
   "cell_type": "markdown",
   "id": "1defce8b",
   "metadata": {},
   "source": [
    "- Cross product\n",
    "\n",
    "$$\n",
    "    \\mathbf{u} \\times \\mathbf{v} = \n",
    "    \\begin{vmatrix}\n",
    "        \\mathbf{i}\\; &\\mathbf{j}\\; &\\mathbf{k} \\\\\n",
    "        u_1\\; &u_2\\; &u_3 \\\\\n",
    "        v_1\\; &v_2\\; &v_3\n",
    "    \\end{vmatrix}\n",
    "    =\n",
    "    \\begin{bmatrix}\n",
    "        u_2v_3 - u_3v_2 \\\\\n",
    "        u_3v_1 - u_1v_3 \\\\\n",
    "        u_1v_2 - u_2v_1\n",
    "    \\end{bmatrix}\n",
    "$$"
   ]
  },
  {
   "cell_type": "code",
   "execution_count": 78,
   "id": "3805ad36",
   "metadata": {},
   "outputs": [
    {
     "data": {
      "text/plain": [
       "array([-3,  6, -3])"
      ]
     },
     "execution_count": 78,
     "metadata": {},
     "output_type": "execute_result"
    }
   ],
   "source": [
    "np.cross(u, v)"
   ]
  },
  {
   "attachments": {},
   "cell_type": "markdown",
   "id": "95098625",
   "metadata": {},
   "source": [
    "- Outer product\n",
    "\n",
    "$$\n",
    "\\mathbf{u} \\otimes \\mathbf{v} = \\mathbf{u}\\mathbf{v}^T =\n",
    "    \\begin{bmatrix}\n",
    "        u_1 \\\\ u_2 \\\\ u_3\n",
    "    \\end{bmatrix}\n",
    "    \\begin{bmatrix}\n",
    "        v_1\\; v_2\\; v_3\n",
    "    \\end{bmatrix}\n",
    "    =\n",
    "    \\begin{bmatrix}\n",
    "        u_1v_1\\; &u_1v_2\\; &u_1v_3 \\\\\n",
    "        u_2v_1\\; &u_2v_2\\; &u_2v_3 \\\\\n",
    "        u_3v_1\\; &u_3v_2\\; &u_3v_3\n",
    "    \\end{bmatrix}\n",
    "$$"
   ]
  },
  {
   "cell_type": "code",
   "execution_count": 79,
   "id": "7944c2fa",
   "metadata": {},
   "outputs": [
    {
     "data": {
      "text/plain": [
       "array([[ 4,  5,  6],\n",
       "       [ 8, 10, 12],\n",
       "       [12, 15, 18]])"
      ]
     },
     "execution_count": 79,
     "metadata": {},
     "output_type": "execute_result"
    }
   ],
   "source": [
    "u.reshape(3,1) @ v.reshape(1,3)"
   ]
  },
  {
   "cell_type": "code",
   "execution_count": 80,
   "id": "850b448a",
   "metadata": {},
   "outputs": [
    {
     "data": {
      "text/plain": [
       "array([[ 4,  5,  6],\n",
       "       [ 8, 10, 12],\n",
       "       [12, 15, 18]])"
      ]
     },
     "execution_count": 80,
     "metadata": {},
     "output_type": "execute_result"
    }
   ],
   "source": [
    "# Or\n",
    "np.outer(u, v)"
   ]
  },
  {
   "cell_type": "markdown",
   "id": "6c1bee55",
   "metadata": {},
   "source": [
    "### Matrix"
   ]
  },
  {
   "cell_type": "code",
   "execution_count": 81,
   "id": "9f8a924d",
   "metadata": {},
   "outputs": [
    {
     "data": {
      "text/plain": [
       "array([[1, 2, 3],\n",
       "       [6, 5, 4]])"
      ]
     },
     "execution_count": 81,
     "metadata": {},
     "output_type": "execute_result"
    }
   ],
   "source": [
    "A = np.array([[1, 2, 3],\n",
    "              [6, 5, 4]])\n",
    "A  # is a 2x3 matrix"
   ]
  },
  {
   "cell_type": "code",
   "execution_count": 82,
   "id": "76b71a05",
   "metadata": {},
   "outputs": [
    {
     "data": {
      "text/plain": [
       "(2, 3)"
      ]
     },
     "execution_count": 82,
     "metadata": {},
     "output_type": "execute_result"
    }
   ],
   "source": [
    "A.shape"
   ]
  },
  {
   "cell_type": "code",
   "execution_count": 83,
   "id": "a7d7be7f",
   "metadata": {},
   "outputs": [
    {
     "data": {
      "text/plain": [
       "array([[1., 0., 0., 0.],\n",
       "       [0., 1., 0., 0.],\n",
       "       [0., 0., 1., 0.],\n",
       "       [0., 0., 0., 1.]])"
      ]
     },
     "execution_count": 83,
     "metadata": {},
     "output_type": "execute_result"
    }
   ],
   "source": [
    "# Identity matrix: I\n",
    "np.eye(4)"
   ]
  },
  {
   "cell_type": "code",
   "execution_count": 84,
   "id": "b922e61e",
   "metadata": {},
   "outputs": [
    {
     "data": {
      "text/plain": [
       "array([[1, 6],\n",
       "       [2, 5],\n",
       "       [3, 4]])"
      ]
     },
     "execution_count": 84,
     "metadata": {},
     "output_type": "execute_result"
    }
   ],
   "source": [
    "# transpose\n",
    "A.T  # 2x3 to 3x2"
   ]
  },
  {
   "cell_type": "code",
   "execution_count": 85,
   "id": "55c6b6fb",
   "metadata": {},
   "outputs": [
    {
     "data": {
      "text/plain": [
       "array([[1, 2, 3],\n",
       "       [6, 5, 4]])"
      ]
     },
     "execution_count": 85,
     "metadata": {},
     "output_type": "execute_result"
    }
   ],
   "source": [
    "A  # A is not modified by `.T` operation."
   ]
  },
  {
   "cell_type": "markdown",
   "id": "794893e7",
   "metadata": {},
   "source": [
    "#### Matrix product\n",
    "\n",
    "Introduced in NumPy 1.10.0, the @ operator is preferable to other methods when computing the matrix product between 2d arrays. The numpy.matmul function implements the @ operator."
   ]
  },
  {
   "cell_type": "code",
   "execution_count": 86,
   "id": "77d7820a",
   "metadata": {},
   "outputs": [
    {
     "data": {
      "text/plain": [
       "array([2, 5])"
      ]
     },
     "execution_count": 86,
     "metadata": {},
     "output_type": "execute_result"
    }
   ],
   "source": [
    "# matrix-vector product\n",
    "A @ np.array([0, 1, 0])"
   ]
  },
  {
   "cell_type": "code",
   "execution_count": 88,
   "id": "531f7517",
   "metadata": {},
   "outputs": [
    {
     "data": {
      "text/plain": [
       "array([[14, 28],\n",
       "       [28, 77]])"
      ]
     },
     "execution_count": 88,
     "metadata": {},
     "output_type": "execute_result"
    }
   ],
   "source": [
    "# matrix-matrix product\n",
    "A @ A.T"
   ]
  },
  {
   "cell_type": "markdown",
   "id": "a70a7877",
   "metadata": {},
   "source": [
    "#### Linear algebra operations\n",
    "Linear algebra operations are provided in the sub-module `numpy.linalg`."
   ]
  },
  {
   "cell_type": "code",
   "execution_count": 89,
   "id": "157158b9",
   "metadata": {},
   "outputs": [
    {
     "data": {
      "text/plain": [
       "array([[1, 2, 3],\n",
       "       [6, 5, 4],\n",
       "       [8, 9, 7]])"
      ]
     },
     "execution_count": 89,
     "metadata": {},
     "output_type": "execute_result"
    }
   ],
   "source": [
    "M = np.array([[1, 2, 3],\n",
    "              [6, 5, 4],\n",
    "              [8, 9, 7]])\n",
    "M  # is a 3x3 matrix"
   ]
  },
  {
   "cell_type": "code",
   "execution_count": 90,
   "id": "8af3b1cb",
   "metadata": {},
   "outputs": [
    {
     "data": {
      "text/plain": [
       "13"
      ]
     },
     "execution_count": 90,
     "metadata": {},
     "output_type": "execute_result"
    }
   ],
   "source": [
    "# trace\n",
    "np.trace(M)"
   ]
  },
  {
   "cell_type": "code",
   "execution_count": 91,
   "id": "ae818f2e",
   "metadata": {},
   "outputs": [
    {
     "data": {
      "text/plain": [
       "20.99999999999999"
      ]
     },
     "execution_count": 91,
     "metadata": {},
     "output_type": "execute_result"
    }
   ],
   "source": [
    "# determinant\n",
    "np.linalg.det(M) # requires a square matrix"
   ]
  },
  {
   "cell_type": "code",
   "execution_count": 92,
   "id": "bb1a5154",
   "metadata": {},
   "outputs": [
    {
     "data": {
      "text/plain": [
       "16.881943016134134"
      ]
     },
     "execution_count": 92,
     "metadata": {},
     "output_type": "execute_result"
    }
   ],
   "source": [
    "# norms\n",
    "np.linalg.norm(M)"
   ]
  },
  {
   "cell_type": "code",
   "execution_count": 93,
   "id": "e5a0bc27",
   "metadata": {},
   "outputs": [
    {
     "data": {
      "text/plain": [
       "24.845262802688694"
      ]
     },
     "execution_count": 93,
     "metadata": {},
     "output_type": "execute_result"
    }
   ],
   "source": [
    "# condition number\n",
    "np.linalg.cond(M)"
   ]
  },
  {
   "cell_type": "markdown",
   "id": "6bbcac96",
   "metadata": {},
   "source": [
    "- Matrix inversion\n",
    "\n",
    "$$\n",
    "    \\mathbf{M}\\mathbf{M}^{-1} = \\mathbf{M}^{-1}\\mathbf{M} = \\mathbf{I}\n",
    "$$"
   ]
  },
  {
   "cell_type": "code",
   "execution_count": 94,
   "id": "f3bf5aa0",
   "metadata": {},
   "outputs": [
    {
     "data": {
      "text/plain": [
       "array([[-0.04761905,  0.61904762, -0.33333333],\n",
       "       [-0.47619048, -0.80952381,  0.66666667],\n",
       "       [ 0.66666667,  0.33333333, -0.33333333]])"
      ]
     },
     "execution_count": 94,
     "metadata": {},
     "output_type": "execute_result"
    }
   ],
   "source": [
    "# matrix inversion\n",
    "np.linalg.inv(M)"
   ]
  },
  {
   "cell_type": "markdown",
   "id": "4e919341",
   "metadata": {},
   "source": [
    "- Eigenvalue\n",
    "\n",
    "$$\n",
    "    \\mathbf{A}\\mathbf{x} = \\lambda \\mathbf{x}\n",
    "$$\n",
    "\n",
    "$\\lambda$ is called eigenvalue, and its corresponding $\\mathbf{x}$ is called eigenvector."
   ]
  },
  {
   "cell_type": "code",
   "execution_count": 95,
   "id": "d86c0628",
   "metadata": {},
   "outputs": [
    {
     "data": {
      "text/plain": [
       "(array([14.78674789+0.j        , -0.89337394+0.78871641j,\n",
       "        -0.89337394-0.78871641j]),\n",
       " array([[ 0.2527029 +0.j        , -0.53434387+0.31563923j,\n",
       "         -0.53434387-0.31563923j],\n",
       "        [ 0.49476275+0.j        ,  0.67841481+0.j        ,\n",
       "          0.67841481-0.j        ],\n",
       "        [ 0.83147523+0.j        , -0.19802223-0.33968963j,\n",
       "         -0.19802223+0.33968963j]]))"
      ]
     },
     "execution_count": 95,
     "metadata": {},
     "output_type": "execute_result"
    }
   ],
   "source": [
    "# eigen values and eigen vectors\n",
    "np.linalg.eig(M)"
   ]
  },
  {
   "cell_type": "markdown",
   "id": "b11d4b3a",
   "metadata": {},
   "source": [
    "- QR decomposition"
   ]
  },
  {
   "cell_type": "code",
   "execution_count": 96,
   "id": "e231620f",
   "metadata": {},
   "outputs": [],
   "source": [
    "# QR decomposition: M = QR\n",
    "Q, R = np.linalg.qr(M)"
   ]
  },
  {
   "cell_type": "code",
   "execution_count": 97,
   "id": "54304e19",
   "metadata": {},
   "outputs": [
    {
     "data": {
      "text/plain": [
       "array([[-0.09950372,  0.56871112, -0.81649658],\n",
       "       [-0.59702231, -0.69057779, -0.40824829],\n",
       "       [-0.79602975,  0.44684446,  0.40824829]])"
      ]
     },
     "execution_count": 97,
     "metadata": {},
     "output_type": "execute_result"
    }
   ],
   "source": [
    "Q"
   ]
  },
  {
   "cell_type": "code",
   "execution_count": 98,
   "id": "73fd02ee",
   "metadata": {},
   "outputs": [
    {
     "data": {
      "text/plain": [
       "array([[-10.04987562, -10.34838678,  -8.25880868],\n",
       "       [  0.        ,   1.70613337,   2.07173338],\n",
       "       [  0.        ,   0.        ,  -1.22474487]])"
      ]
     },
     "execution_count": 98,
     "metadata": {},
     "output_type": "execute_result"
    }
   ],
   "source": [
    "R"
   ]
  },
  {
   "cell_type": "code",
   "execution_count": 99,
   "id": "7a266df1",
   "metadata": {},
   "outputs": [
    {
     "data": {
      "text/plain": [
       "array([[1., 2., 3.],\n",
       "       [6., 5., 4.],\n",
       "       [8., 9., 7.]])"
      ]
     },
     "execution_count": 99,
     "metadata": {},
     "output_type": "execute_result"
    }
   ],
   "source": [
    "Q @ R"
   ]
  },
  {
   "cell_type": "code",
   "execution_count": 100,
   "id": "dca73476",
   "metadata": {},
   "outputs": [
    {
     "data": {
      "text/plain": [
       "array([[1, 2, 3],\n",
       "       [6, 5, 4]])"
      ]
     },
     "execution_count": 100,
     "metadata": {},
     "output_type": "execute_result"
    }
   ],
   "source": [
    "A"
   ]
  },
  {
   "cell_type": "code",
   "execution_count": 101,
   "id": "2d1cd126",
   "metadata": {},
   "outputs": [
    {
     "data": {
      "text/plain": [
       "(array([[-0.16439899, -0.98639392],\n",
       "        [-0.98639392,  0.16439899]]),\n",
       " array([[-6.08276253, -5.26076759, -4.43877266],\n",
       "        [ 0.        , -1.15079291, -2.30158582]]))"
      ]
     },
     "execution_count": 101,
     "metadata": {},
     "output_type": "execute_result"
    }
   ],
   "source": [
    "np.linalg.qr(A)"
   ]
  },
  {
   "cell_type": "markdown",
   "id": "2e135c89",
   "metadata": {},
   "source": [
    "- Sigular value decompostion (SVD)"
   ]
  },
  {
   "cell_type": "code",
   "execution_count": 102,
   "id": "9ef15223",
   "metadata": {},
   "outputs": [
    {
     "data": {
      "text/plain": [
       "((2, 2), (2,), (2, 3))"
      ]
     },
     "execution_count": 102,
     "metadata": {},
     "output_type": "execute_result"
    }
   ],
   "source": [
    "# Sigular value decomposition (SVD): M = UsV\n",
    "U, s, V = np.linalg.svd(A, full_matrices=False)\n",
    "U.shape, s.shape, V.shape"
   ]
  },
  {
   "cell_type": "code",
   "execution_count": 103,
   "id": "745f2c76",
   "metadata": {},
   "outputs": [
    {
     "data": {
      "text/plain": [
       "array([[1., 2., 3.],\n",
       "       [6., 5., 4.]])"
      ]
     },
     "execution_count": 103,
     "metadata": {},
     "output_type": "execute_result"
    }
   ],
   "source": [
    "U @ np.diag(s) @ V"
   ]
  },
  {
   "cell_type": "markdown",
   "id": "0739cbdb",
   "metadata": {},
   "source": [
    "### Solving linear systems\n",
    "\n",
    "Given a set of linear equations:\n",
    "\n",
    "$$\n",
    "\\begin{cases}\n",
    "a_{11} x_1 + a_{12} x_2 +\\dots + a_{1n} x_n = b_1 \\\\\n",
    "a_{21} x_1 + a_{22} x_2  + \\dots + a_{2n} x_n = b_2 \\\\ \n",
    "\\vdots\\\\\n",
    "a_{m1} x_1 + a_{m2} x_2 + \\dots + a_{mn} x_n = b_m,\n",
    "\\end{cases}\n",
    "$$\n",
    "\n",
    "where $x_1, x_2,\\dots,x_n$ are the unknowns, $a_{11},a_{12},\\dots,a_{mn}$ are the coefficients of the system such that $a_{11} + a_{12} + \\dots + a_{mn}\\neq 0$, and $b_1,b_2,\\dots,b_m$ are the constant terms.\n",
    "\n",
    "We can reformulate it into a matrix form,\n",
    "\n",
    "$$\n",
    "\\mathbf{A}\\mathbf{x} = \\mathbf{b}\n",
    "$$\n",
    "\n",
    "where $\\mathbf{A}$ is an $m\\times n$ matrix, $\\mathbf{x}$ is a column vector with $n$ entries, and $\\mathbf{b}$ is a column vector with $m$ entries.\n",
    "\n",
    "$$\n",
    "\\mathbf{A} =\n",
    "\\begin{bmatrix}\n",
    "a_{11} & a_{12} & \\cdots & a_{1n} \\\\\n",
    "a_{21} & a_{22} & \\cdots & a_{2n} \\\\\n",
    "\\vdots & \\vdots & \\ddots & \\vdots \\\\\n",
    "a_{m1} & a_{m2} & \\cdots & a_{mn}\n",
    "\\end{bmatrix},\\quad\n",
    "\\mathbf{x}=\n",
    "\\begin{bmatrix}\n",
    "x_1 \\\\\n",
    "x_2 \\\\\n",
    "\\vdots \\\\\n",
    "x_n\n",
    "\\end{bmatrix},\\quad\n",
    "\\mathbf{b}=\n",
    "\\begin{bmatrix}\n",
    "b_1 \\\\\n",
    "b_2 \\\\\n",
    "\\vdots \\\\\n",
    "b_m\n",
    "\\end{bmatrix}\n",
    "$$\n",
    "\n",
    "If $\\mathbf{A}$ is nonsigular, the solution is\n",
    "\n",
    "$$\n",
    "\\mathbf{x} = \\mathbf{A}^{-1}\\mathbf{b}\n",
    "$$"
   ]
  },
  {
   "cell_type": "markdown",
   "id": "1af5601b",
   "metadata": {},
   "source": [
    "#### Example\n",
    "\n",
    "Can you solve the following linear system?\n",
    "\n",
    "$$\n",
    "\\begin{cases}\n",
    "x_1 - x_3 = 1 \\\\\n",
    "4x_1 + x_2  + x_3 = 2 \\\\ \n",
    "3x_1 + 2x_2  - 5x_3 = 3\n",
    "\\end{cases}\n",
    "$$"
   ]
  },
  {
   "cell_type": "code",
   "execution_count": 104,
   "id": "fbb34cf8",
   "metadata": {},
   "outputs": [],
   "source": [
    "A = np.array([[1, 0, -1],\n",
    "              [4, 1, 1],\n",
    "              [3, 2, -5]])"
   ]
  },
  {
   "cell_type": "code",
   "execution_count": 105,
   "id": "829e5504",
   "metadata": {},
   "outputs": [],
   "source": [
    "b = np.array([1, 2, 3])"
   ]
  },
  {
   "cell_type": "code",
   "execution_count": 108,
   "id": "eeabe0c6",
   "metadata": {},
   "outputs": [
    {
     "data": {
      "text/plain": [
       "array([ 0.66666667, -0.33333333, -0.33333333])"
      ]
     },
     "execution_count": 108,
     "metadata": {},
     "output_type": "execute_result"
    }
   ],
   "source": [
    "x = np.linalg.inv(A) @ b\n",
    "x"
   ]
  },
  {
   "cell_type": "markdown",
   "id": "5887bf9b",
   "metadata": {},
   "source": [
    "In practice, we should use `numpy.linalg.solve` function,"
   ]
  },
  {
   "cell_type": "code",
   "execution_count": 109,
   "id": "822149bf",
   "metadata": {},
   "outputs": [
    {
     "data": {
      "text/plain": [
       "array([ 0.66666667, -0.33333333, -0.33333333])"
      ]
     },
     "execution_count": 109,
     "metadata": {},
     "output_type": "execute_result"
    }
   ],
   "source": [
    "x = np.linalg.solve(A, b)\n",
    "x"
   ]
  },
  {
   "cell_type": "markdown",
   "id": "1d79dd3b",
   "metadata": {},
   "source": [
    "## Polynomials\n",
    "\n",
    "Numpy can create, manipulate, evaluate, and even fit polynomials with the form\n",
    "\n",
    "$$\n",
    "    p(x) = \\sum_{i=0}^{n} a_ix^i = a_0 + a_1x^1 + a_2x^2 + a_3x^3 + \\dots + a_nx^n\n",
    "$$\n",
    "\n",
    "Other polynomials, like **Chebyshev, Legendre, Laguerre, Hermite, HermiteE**, are also supported. And they share all APIs with the standard polynomials.\n",
    "\n",
    "Following we use the following polynomial as an example:\n",
    "\n",
    "$$\n",
    "    p(x) = 1 + 2x + 3x^2\n",
    "$$"
   ]
  },
  {
   "cell_type": "code",
   "execution_count": 110,
   "id": "4dc772a8",
   "metadata": {},
   "outputs": [],
   "source": [
    "from numpy.polynomial import Polynomial"
   ]
  },
  {
   "cell_type": "code",
   "execution_count": 111,
   "id": "521719dc",
   "metadata": {},
   "outputs": [
    {
     "data": {
      "text/latex": [
       "$x \\mapsto \\text{1.0} + \\text{2.0}\\,x + \\text{3.0}\\,x^{2}$"
      ],
      "text/plain": [
       "Polynomial([1., 2., 3.], domain=[-1,  1], window=[-1,  1])"
      ]
     },
     "execution_count": 111,
     "metadata": {},
     "output_type": "execute_result"
    }
   ],
   "source": [
    "# Creation from coefficients\n",
    "p = Polynomial([1, 2, 3])\n",
    "p"
   ]
  },
  {
   "cell_type": "markdown",
   "id": "675aba63",
   "metadata": {},
   "source": [
    "If a polynomial's all roots are ${r_1, r_2, \\dots, r_n}$, then it can be expressed as\n",
    "\n",
    "$$\n",
    "    p(x) = (x-r_1)(x-r_2)\\cdots(x-r_n)\n",
    "$$\n",
    "\n",
    "Example:\n",
    "\n",
    "$$\n",
    "    p(x) = (x - 1)(x + 1) = -1 + x^2\n",
    "$$"
   ]
  },
  {
   "cell_type": "code",
   "execution_count": 112,
   "id": "ac3c1a30",
   "metadata": {},
   "outputs": [
    {
     "data": {
      "text/latex": [
       "$x \\mapsto \\text{-1.0}\\color{LightGray}{ + \\text{0.0}\\,x} + \\text{1.0}\\,x^{2}$"
      ],
      "text/plain": [
       "Polynomial([-1.,  0.,  1.], domain=[-1.,  1.], window=[-1.,  1.])"
      ]
     },
     "execution_count": 112,
     "metadata": {},
     "output_type": "execute_result"
    }
   ],
   "source": [
    "# Creation from roots\n",
    "Polynomial.fromroots([-1, 1])"
   ]
  },
  {
   "cell_type": "markdown",
   "id": "11a5560f",
   "metadata": {},
   "source": [
    "- Addition\n",
    "\n",
    "$$\n",
    "    p(x) + p(x) = (1 + 2x + 3x^2) + (1 + 2x + 3x^2)\n",
    "$$"
   ]
  },
  {
   "cell_type": "code",
   "execution_count": 113,
   "id": "8c4bb7be",
   "metadata": {},
   "outputs": [
    {
     "data": {
      "text/latex": [
       "$x \\mapsto \\text{2.0} + \\text{4.0}\\,x + \\text{6.0}\\,x^{2}$"
      ],
      "text/plain": [
       "Polynomial([2., 4., 6.], domain=[-1.,  1.], window=[-1.,  1.])"
      ]
     },
     "execution_count": 113,
     "metadata": {},
     "output_type": "execute_result"
    }
   ],
   "source": [
    "# Addition\n",
    "p + p"
   ]
  },
  {
   "cell_type": "markdown",
   "id": "2390fefb",
   "metadata": {},
   "source": [
    "$$\n",
    "(1 + 2x + 3x^2) + (0 + 1x + 2x^2 + 3x^3)\n",
    "$$"
   ]
  },
  {
   "cell_type": "code",
   "execution_count": 114,
   "id": "dfc53139",
   "metadata": {},
   "outputs": [
    {
     "data": {
      "text/latex": [
       "$x \\mapsto \\text{1.0} + \\text{3.0}\\,x + \\text{5.0}\\,x^{2} + \\text{3.0}\\,x^{3}$"
      ],
      "text/plain": [
       "Polynomial([1., 3., 5., 3.], domain=[-1.,  1.], window=[-1.,  1.])"
      ]
     },
     "execution_count": 114,
     "metadata": {},
     "output_type": "execute_result"
    }
   ],
   "source": [
    "# List and array are implicitly converted to a polynomial before manipulation.\n",
    "p + [0, 1, 2, 3]"
   ]
  },
  {
   "cell_type": "markdown",
   "id": "c9fde579",
   "metadata": {},
   "source": [
    "- Subtraction\n",
    "\n",
    "$$\n",
    "    p(x) - p(x) = (1 + 2x + 3x^2) - (1 + 2x + 3x^2)\n",
    "$$"
   ]
  },
  {
   "cell_type": "code",
   "execution_count": 115,
   "id": "7074307c",
   "metadata": {},
   "outputs": [
    {
     "data": {
      "text/latex": [
       "$x \\mapsto \\color{LightGray}{\\text{0.0}}$"
      ],
      "text/plain": [
       "Polynomial([0.], domain=[-1.,  1.], window=[-1.,  1.])"
      ]
     },
     "execution_count": 115,
     "metadata": {},
     "output_type": "execute_result"
    }
   ],
   "source": [
    "# Subtraction\n",
    "p - p"
   ]
  },
  {
   "cell_type": "markdown",
   "id": "b4ecaf1d",
   "metadata": {},
   "source": [
    "- Multiplication\n",
    "\n",
    "$$\n",
    "    p(x)p(x) = (1 + 2x + 3x^2)(1 + 2x + 3x^2)\n",
    "$$"
   ]
  },
  {
   "cell_type": "code",
   "execution_count": 116,
   "id": "4d44a775",
   "metadata": {},
   "outputs": [
    {
     "data": {
      "text/latex": [
       "$x \\mapsto \\text{1.0} + \\text{4.0}\\,x + \\text{10.0}\\,x^{2} + \\text{12.0}\\,x^{3} + \\text{9.0}\\,x^{4}$"
      ],
      "text/plain": [
       "Polynomial([ 1.,  4., 10., 12.,  9.], domain=[-1.,  1.], window=[-1.,  1.])"
      ]
     },
     "execution_count": 116,
     "metadata": {},
     "output_type": "execute_result"
    }
   ],
   "source": [
    "# Multiplication\n",
    "p * p"
   ]
  },
  {
   "cell_type": "markdown",
   "id": "3cf55f02",
   "metadata": {},
   "source": [
    "- Powers\n",
    "\n",
    "$$\n",
    "    p(x)^3 = (1 + 2x + 3x^2)^3\n",
    "$$"
   ]
  },
  {
   "cell_type": "code",
   "execution_count": 117,
   "id": "0ab0ccf5",
   "metadata": {},
   "outputs": [
    {
     "data": {
      "text/latex": [
       "$x \\mapsto \\text{1.0} + \\text{6.0}\\,x + \\text{21.0}\\,x^{2} + \\text{44.0}\\,x^{3} + \\text{63.0}\\,x^{4} + \\text{54.0}\\,x^{5} + \\text{27.0}\\,x^{6}$"
      ],
      "text/plain": [
       "Polynomial([ 1.,  6., 21., 44., 63., 54., 27.], domain=[-1.,  1.], window=[-1.,  1.])"
      ]
     },
     "execution_count": 117,
     "metadata": {},
     "output_type": "execute_result"
    }
   ],
   "source": [
    "# Powers\n",
    "p**3"
   ]
  },
  {
   "cell_type": "markdown",
   "id": "58e6ab50",
   "metadata": {},
   "source": [
    "- Division\n",
    "\n",
    "$$\n",
    "    \\frac{p(x)}{-1 + x} = \\frac{1 + 2x + 3x^2}{x-1} = 3x + 5\n",
    "$$\n",
    "\n",
    "with remainder $-6$."
   ]
  },
  {
   "cell_type": "code",
   "execution_count": 118,
   "id": "f50cf09c",
   "metadata": {},
   "outputs": [
    {
     "data": {
      "text/latex": [
       "$x \\mapsto \\text{5.0} + \\text{3.0}\\,x$"
      ],
      "text/plain": [
       "Polynomial([5., 3.], domain=[-1.,  1.], window=[-1.,  1.])"
      ]
     },
     "execution_count": 118,
     "metadata": {},
     "output_type": "execute_result"
    }
   ],
   "source": [
    "# Division\n",
    "p // [-1, 1] # other division: %, divmod"
   ]
  },
  {
   "cell_type": "code",
   "execution_count": 119,
   "id": "a67f3aee",
   "metadata": {},
   "outputs": [
    {
     "data": {
      "text/plain": [
       "17.0"
      ]
     },
     "execution_count": 119,
     "metadata": {},
     "output_type": "execute_result"
    }
   ],
   "source": [
    "# Evaluation\n",
    "p(2.0)"
   ]
  },
  {
   "cell_type": "code",
   "execution_count": 120,
   "id": "20044dd5",
   "metadata": {},
   "outputs": [
    {
     "data": {
      "text/plain": [
       "array([ 1.,  6., 17., 34., 57., 86.])"
      ]
     },
     "execution_count": 120,
     "metadata": {},
     "output_type": "execute_result"
    }
   ],
   "source": [
    "p(np.arange(6))"
   ]
  },
  {
   "cell_type": "code",
   "execution_count": 121,
   "id": "aeffbe78",
   "metadata": {},
   "outputs": [
    {
     "data": {
      "text/plain": [
       "array([[ 1.,  6., 17.],\n",
       "       [34., 57., 86.]])"
      ]
     },
     "execution_count": 121,
     "metadata": {},
     "output_type": "execute_result"
    }
   ],
   "source": [
    "p(np.arange(6).reshape(2, 3))"
   ]
  },
  {
   "cell_type": "code",
   "execution_count": 122,
   "id": "f57d3d75",
   "metadata": {},
   "outputs": [
    {
     "data": {
      "text/latex": [
       "$x \\mapsto \\text{6.0} + \\text{16.0}\\,x + \\text{36.0}\\,x^{2} + \\text{36.0}\\,x^{3} + \\text{27.0}\\,x^{4}$"
      ],
      "text/plain": [
       "Polynomial([ 6., 16., 36., 36., 27.], domain=[-1.,  1.], window=[-1.,  1.])"
      ]
     },
     "execution_count": 122,
     "metadata": {},
     "output_type": "execute_result"
    }
   ],
   "source": [
    "# Substitution\n",
    "p(p)"
   ]
  },
  {
   "cell_type": "code",
   "execution_count": 123,
   "id": "0db58a96",
   "metadata": {},
   "outputs": [
    {
     "data": {
      "text/plain": [
       "array([-0.33333333-0.47140452j, -0.33333333+0.47140452j])"
      ]
     },
     "execution_count": 123,
     "metadata": {},
     "output_type": "execute_result"
    }
   ],
   "source": [
    "# Roots\n",
    "p.roots()"
   ]
  },
  {
   "cell_type": "markdown",
   "id": "bf09d29b",
   "metadata": {},
   "source": [
    "- Integration\n",
    "\n",
    "$$\n",
    "    \\int p(x)dx = \\int (1 + 2x + 3x^2) dx\n",
    "$$"
   ]
  },
  {
   "cell_type": "code",
   "execution_count": 124,
   "id": "12f526cb",
   "metadata": {},
   "outputs": [
    {
     "data": {
      "text/latex": [
       "$x \\mapsto \\color{LightGray}{\\text{0.0}} + \\text{1.0}\\,x + \\text{1.0}\\,x^{2} + \\text{1.0}\\,x^{3}$"
      ],
      "text/plain": [
       "Polynomial([0., 1., 1., 1.], domain=[-1.,  1.], window=[-1.,  1.])"
      ]
     },
     "execution_count": 124,
     "metadata": {},
     "output_type": "execute_result"
    }
   ],
   "source": [
    "# Integration\n",
    "p.integ()"
   ]
  },
  {
   "cell_type": "code",
   "execution_count": 125,
   "id": "73ade9f6",
   "metadata": {},
   "outputs": [
    {
     "data": {
      "text/latex": [
       "$x \\mapsto \\color{LightGray}{\\text{0.0}}\\color{LightGray}{ + \\text{0.0}\\,x} + \\text{0.5}\\,x^{2} + \\text{0.3333333333333333}\\,x^{3} + \\text{0.25}\\,x^{4}$"
      ],
      "text/plain": [
       "Polynomial([0.        , 0.        , 0.5       , 0.33333333, 0.25      ], domain=[-1.,  1.], window=[-1.,  1.])"
      ]
     },
     "execution_count": 125,
     "metadata": {},
     "output_type": "execute_result"
    }
   ],
   "source": [
    "# Do integration twice\n",
    "p.integ(2)"
   ]
  },
  {
   "cell_type": "markdown",
   "id": "6ffb1350",
   "metadata": {},
   "source": [
    "- Differentiation\n",
    "\n",
    "$$\n",
    "    \\frac{dp(x)}{dx} = \\frac{d}{dx}(1 + 2x + 3x^2)\n",
    "$$"
   ]
  },
  {
   "cell_type": "code",
   "execution_count": 126,
   "id": "b8647146",
   "metadata": {},
   "outputs": [
    {
     "data": {
      "text/latex": [
       "$x \\mapsto \\text{2.0} + \\text{6.0}\\,x$"
      ],
      "text/plain": [
       "Polynomial([2., 6.], domain=[-1.,  1.], window=[-1.,  1.])"
      ]
     },
     "execution_count": 126,
     "metadata": {},
     "output_type": "execute_result"
    }
   ],
   "source": [
    "# Differentiation\n",
    "p.deriv()"
   ]
  },
  {
   "cell_type": "code",
   "execution_count": 127,
   "id": "efe2533c",
   "metadata": {},
   "outputs": [
    {
     "data": {
      "text/latex": [
       "$x \\mapsto \\text{6.0}$"
      ],
      "text/plain": [
       "Polynomial([6.], domain=[-1.,  1.], window=[-1.,  1.])"
      ]
     },
     "execution_count": 127,
     "metadata": {},
     "output_type": "execute_result"
    }
   ],
   "source": [
    "# Do differentiation twice\n",
    "p.deriv(2)"
   ]
  },
  {
   "cell_type": "markdown",
   "id": "53ca8272",
   "metadata": {},
   "source": [
    "### Exercises\n",
    "\n",
    "1. Find the roots of the equation: $5x^3 + 2x + 7 = 0$.\n",
    "2. Factorize the polynomial: $x^3 - 7x + 6$.\n",
    "3. Expand the expression to polynomials: $(x-4)(x+5)(x-7)(x+8)$."
   ]
  },
  {
   "cell_type": "markdown",
   "id": "f9fdff0c",
   "metadata": {},
   "source": [
    "## Interpolation\n",
    "\n",
    "**Interpolation problem:** Given $n+1$ distinct points $(t_0, y_0), (t_1, y_1), \\dots, (t_n, y_n)$, with $t_0<t_1<t_2<\\dots<t_n$, find a function $p(x)$, called the **interpolant**, such that $p(t_k)=y_k$ for $k=0, 1, 2, \\dots, n$.\n",
    "\n",
    "SciPy supports many interpolation methods, such as linear, cubic spline, cubic Hermite spline, etc. "
   ]
  },
  {
   "cell_type": "code",
   "execution_count": 128,
   "id": "51123c46",
   "metadata": {},
   "outputs": [],
   "source": [
    "import matplotlib.pyplot as plt\n",
    "from scipy.interpolate import interp1d"
   ]
  },
  {
   "cell_type": "code",
   "execution_count": 129,
   "id": "f4820625",
   "metadata": {},
   "outputs": [],
   "source": [
    "def f(x):\n",
    "    return np.exp(np.sin(7*x))"
   ]
  },
  {
   "cell_type": "code",
   "execution_count": 130,
   "id": "de2b7c17",
   "metadata": {},
   "outputs": [
    {
     "data": {
      "text/plain": [
       "[<matplotlib.lines.Line2D at 0x7f90c24ddee0>]"
      ]
     },
     "execution_count": 130,
     "metadata": {},
     "output_type": "execute_result"
    },
    {
     "data": {
      "image/png": "[encoded data removed]",
      "text/plain": [
       "<Figure size 432x288 with 1 Axes>"
      ]
     },
     "metadata": {
      "needs_background": "light"
     },
     "output_type": "display_data"
    }
   ],
   "source": [
    "x = np.arange(0.0, 1.01, 0.1)\n",
    "y = f(x)\n",
    "plt.plot(x, y, 'o')"
   ]
  },
  {
   "cell_type": "code",
   "execution_count": 131,
   "id": "e614b372",
   "metadata": {},
   "outputs": [
    {
     "data": {
      "text/plain": [
       "[<matplotlib.lines.Line2D at 0x7f90c25b5910>,\n",
       " <matplotlib.lines.Line2D at 0x7f90c25b5a00>]"
      ]
     },
     "execution_count": 131,
     "metadata": {},
     "output_type": "execute_result"
    },
    {
     "data": {
      "image/png": "[encoded data removed]",
      "text/plain": [
       "<Figure size 432x288 with 1 Axes>"
      ]
     },
     "metadata": {
      "needs_background": "light"
     },
     "output_type": "display_data"
    }
   ],
   "source": [
    "fp = interp1d(x, y, 'cubic')\n",
    "xp = np.arange(0.0, 1.001, 0.01)\n",
    "yp = fp(xp)\n",
    "plt.plot(x, y, 'o', xp, yp, '-')\n",
    "# plt.plot(xp, f(xp))"
   ]
  },
  {
   "cell_type": "markdown",
   "id": "c4e0639e",
   "metadata": {},
   "source": [
    "### Exercises\n",
    "\n",
    "Given the following functions:\n",
    "\n",
    "(a) $\\cos(\\pi^2x^2), x\\in[0, 1], n=7.$  \n",
    "(b) $\\ln(x), x\\in[1, 3], n=5.$  \n",
    "(c) $\\sin(x^2), x\\in[0, 2.5], n=6.$\n",
    "\n",
    "1. Fit them with a linear interpoation.\n",
    "2. Fit them with a quadratic spline interpolation.\n",
    "3. Fit them with a cubic spline interpolation.\n",
    "4. (Optional) Fit them with a cubic Hermite spline interpolation."
   ]
  },
  {
   "cell_type": "markdown",
   "id": "0dab6cf4",
   "metadata": {},
   "source": [
    "## Rootfinding\n",
    "\n",
    "**Rootfinding problem:** Given a continuous scalar function $f$ of a scalar variable, find a real number $r$ such that $f(r)=0$.\n",
    "\n",
    "For roots of polynomials, we use `numpy.polynomial.Polynomial.roots`. For other nonlinear equations, we can use the methods provided in the subpackakge of SciPy, `scipy.optimize`.\n",
    "\n",
    "Example:\n",
    "\n",
    "$$\n",
    "    f(x) = x^2 - e^{-x} = 0, x\\in[-2, 2]\n",
    "$$"
   ]
  },
  {
   "cell_type": "code",
   "execution_count": 132,
   "id": "7bcf180a",
   "metadata": {},
   "outputs": [],
   "source": [
    "def f(x):\n",
    "    return x**2 - np.exp(-x)"
   ]
  },
  {
   "cell_type": "code",
   "execution_count": 133,
   "id": "9202d90f",
   "metadata": {},
   "outputs": [
    {
     "data": {
      "text/plain": [
       "[<matplotlib.lines.Line2D at 0x7f90909cc1c0>]"
      ]
     },
     "execution_count": 133,
     "metadata": {},
     "output_type": "execute_result"
    },
    {
     "data": {
      "image/png": "[encoded data removed]",
      "text/plain": [
       "<Figure size 432x288 with 1 Axes>"
      ]
     },
     "metadata": {
      "needs_background": "light"
     },
     "output_type": "display_data"
    }
   ],
   "source": [
    "x = np.arange(-2, 2, 0.01)\n",
    "plt.plot(x, f(x))\n",
    "plt.plot([-2, 2], [0, 0])"
   ]
  },
  {
   "cell_type": "code",
   "execution_count": 134,
   "id": "f53dfcfc",
   "metadata": {},
   "outputs": [],
   "source": [
    "from scipy.optimize import root_scalar"
   ]
  },
  {
   "cell_type": "code",
   "execution_count": 135,
   "id": "25111ae4",
   "metadata": {},
   "outputs": [
    {
     "data": {
      "text/plain": [
       "      converged: True\n",
       "           flag: 'converged'\n",
       " function_calls: 43\n",
       "     iterations: 41\n",
       "           root: 0.7034674224978517"
      ]
     },
     "execution_count": 135,
     "metadata": {},
     "output_type": "execute_result"
    }
   ],
   "source": [
    "root_scalar(f, bracket=[-2, 2], method='bisect')"
   ]
  },
  {
   "cell_type": "code",
   "execution_count": 136,
   "id": "eeff61ad",
   "metadata": {},
   "outputs": [
    {
     "data": {
      "text/plain": [
       "      converged: True\n",
       "           flag: 'converged'\n",
       " function_calls: 10\n",
       "     iterations: 9\n",
       "           root: 0.7034674224983906"
      ]
     },
     "execution_count": 136,
     "metadata": {},
     "output_type": "execute_result"
    }
   ],
   "source": [
    "root_scalar(f, bracket=[-2,2], method='brentq')"
   ]
  },
  {
   "cell_type": "code",
   "execution_count": 137,
   "id": "33f2d3ab",
   "metadata": {},
   "outputs": [],
   "source": [
    "def df(x):\n",
    "    return 2*x + np.exp(-x)"
   ]
  },
  {
   "cell_type": "code",
   "execution_count": 138,
   "id": "6d90362c",
   "metadata": {},
   "outputs": [
    {
     "data": {
      "text/plain": [
       "      converged: True\n",
       "           flag: 'converged'\n",
       " function_calls: 12\n",
       "     iterations: 6\n",
       "           root: 0.7034674224983917"
      ]
     },
     "execution_count": 138,
     "metadata": {},
     "output_type": "execute_result"
    }
   ],
   "source": [
    "root_scalar(f, x0=0.0, fprime=df, method='newton')"
   ]
  },
  {
   "cell_type": "markdown",
   "id": "2be65164",
   "metadata": {},
   "source": [
    "### Exercises\n",
    "\n",
    "Find the roots of following equations:\n",
    "\n",
    "1. $2x = \\tan(x), x \\in [-0.2, 1.4].$\n",
    "2. $e^{x+1} = 2 + x, x\\in[-2,2].$\n",
    "3. $x^{-2} = \\sin(x), x\\in[0.5, 4\\pi].$ Hint: there are multiple roots. Plot the function to help you find the correct intial guesses."
   ]
  },
  {
   "cell_type": "markdown",
   "id": "f303cfd7",
   "metadata": {},
   "source": [
    "## Optimization\n",
    "\n",
    "**Optimization problem:** Given a continuous function $f$ of a scalar variable, find a real number $r$ such that $f(r)$ is the (global) minimum (maximum) of the function.\n",
    "\n",
    "SciPy provides functions for solving the optimization problem in the subpacakge `scipy.optimize`.\n",
    "\n",
    "Example:\n",
    "\n",
    "$$\n",
    "    f(x) = e^{-x^2}\\cos(2x)\n",
    "$$"
   ]
  },
  {
   "cell_type": "code",
   "execution_count": 139,
   "id": "b9dcf4ce",
   "metadata": {},
   "outputs": [],
   "source": [
    "from scipy.optimize import minimize_scalar"
   ]
  },
  {
   "cell_type": "code",
   "execution_count": 140,
   "id": "255d704f",
   "metadata": {},
   "outputs": [],
   "source": [
    "def f(x):\n",
    "    return np.exp(-x**2) * np.cos(2*x)"
   ]
  },
  {
   "cell_type": "code",
   "execution_count": 141,
   "id": "2cfa7b11",
   "metadata": {},
   "outputs": [
    {
     "data": {
      "text/plain": [
       "[<matplotlib.lines.Line2D at 0x7f9090a807f0>]"
      ]
     },
     "execution_count": 141,
     "metadata": {},
     "output_type": "execute_result"
    },
    {
     "data": {
      "image/png": "[encoded data removed]",
      "text/plain": [
       "<Figure size 432x288 with 1 Axes>"
      ]
     },
     "metadata": {
      "needs_background": "light"
     },
     "output_type": "display_data"
    }
   ],
   "source": [
    "x = np.arange(0, 2, 0.01)\n",
    "plt.plot(x, f(x))"
   ]
  },
  {
   "cell_type": "code",
   "execution_count": 142,
   "id": "defc84ba",
   "metadata": {},
   "outputs": [
    {
     "data": {
      "text/plain": [
       "     fun: -0.17757179774279824\n",
       "    nfev: 17\n",
       "     nit: 13\n",
       " success: True\n",
       "       x: 1.1444648721623274"
      ]
     },
     "execution_count": 142,
     "metadata": {},
     "output_type": "execute_result"
    }
   ],
   "source": [
    "res = minimize_scalar(f, bracket=[0, 2])\n",
    "res"
   ]
  },
  {
   "cell_type": "code",
   "execution_count": 143,
   "id": "358f2267",
   "metadata": {},
   "outputs": [
    {
     "data": {
      "text/plain": [
       "1.1444648721623274"
      ]
     },
     "execution_count": 143,
     "metadata": {},
     "output_type": "execute_result"
    }
   ],
   "source": [
    "res.x"
   ]
  },
  {
   "cell_type": "markdown",
   "id": "ba737db3",
   "metadata": {},
   "source": [
    "In simple cases, optimization problem can be converted to the rootfinding problem. If $f(x)$ has a minimum at $x_m$, then the first order derivative at that point is 0, i.e. $f'(x_m) = 0$."
   ]
  },
  {
   "cell_type": "code",
   "execution_count": 144,
   "id": "596f4cea",
   "metadata": {},
   "outputs": [],
   "source": [
    "def fprime(x):\n",
    "    return -2 * np.exp(-x**2) * (x*np.cos(2*x) + np.sin(2*x))"
   ]
  },
  {
   "cell_type": "code",
   "execution_count": 145,
   "id": "5f53f5b8",
   "metadata": {},
   "outputs": [
    {
     "data": {
      "text/plain": [
       "[<matplotlib.lines.Line2D at 0x7f90b092faf0>]"
      ]
     },
     "execution_count": 145,
     "metadata": {},
     "output_type": "execute_result"
    },
    {
     "data": {
      "image/png": "[encoded data removed]",
      "text/plain": [
       "<Figure size 432x288 with 1 Axes>"
      ]
     },
     "metadata": {
      "needs_background": "light"
     },
     "output_type": "display_data"
    }
   ],
   "source": [
    "plt.plot(x, fprime(x))\n",
    "plt.plot(x, f(x))\n",
    "plt.plot([0, 2], [0, 0])\n",
    "plt.plot([res.x, res.x], [-1.5, 1.0])"
   ]
  },
  {
   "cell_type": "code",
   "execution_count": 146,
   "id": "1e993c39",
   "metadata": {},
   "outputs": [],
   "source": [
    "r = root_scalar(fprime, bracket=[0.1, 2.0])"
   ]
  },
  {
   "cell_type": "code",
   "execution_count": 147,
   "id": "b8d18d1c",
   "metadata": {},
   "outputs": [
    {
     "data": {
      "text/plain": [
       "8.11060663075125e-09"
      ]
     },
     "execution_count": 147,
     "metadata": {},
     "output_type": "execute_result"
    }
   ],
   "source": [
    "res.x - r.root"
   ]
  },
  {
   "cell_type": "markdown",
   "id": "d095ee9b",
   "metadata": {},
   "source": [
    "### Exercises\n",
    "\n",
    "Find the minimum/maximum of the following functions:\n",
    "\n",
    "1. $f(x) = \\sin(x) + \\sin(\\frac{10}{3}x), x\\in[2.7, 7.5]$. Hint: two maxima and three minima\n",
    "2. $f(x) = -(16x^2-24x+5)e^{-x}, x\\in[1.9, 3.9]$.\n",
    "3. $f(x) = -(x+\\sin(x))e^{-x^2}, x\\in[-10, 10]$.\n",
    "4. $f(x) = -x^{2/3} - (1-x^2)^{1/3}, x\\in[0.001, 0.99].$\n",
    "5. $f(x) = \\frac{x^2-5x+6}{x^2+1}, x\\in[-5, 5]$."
   ]
  },
  {
   "cell_type": "markdown",
   "id": "9df98bfe",
   "metadata": {},
   "source": [
    "## Fitting\n",
    "\n",
    "### Linear regression"
   ]
  },
  {
   "cell_type": "code",
   "execution_count": 148,
   "id": "4efc3f18",
   "metadata": {},
   "outputs": [],
   "source": [
    "from scipy.stats import linregress"
   ]
  },
  {
   "cell_type": "code",
   "execution_count": 149,
   "id": "a6c21c31",
   "metadata": {},
   "outputs": [],
   "source": [
    "x = np.random.random(10)\n",
    "y = 8*x + 5 + np.random.random(10)"
   ]
  },
  {
   "cell_type": "code",
   "execution_count": 150,
   "id": "77a6c3ee",
   "metadata": {},
   "outputs": [
    {
     "data": {
      "text/plain": [
       "LinregressResult(slope=7.829117248910431, intercept=5.481202852038045, rvalue=0.9943271085471657, pvalue=4.50024778727613e-09, stderr=0.2961003746660303, intercept_stderr=0.18006671073603422)"
      ]
     },
     "execution_count": 150,
     "metadata": {},
     "output_type": "execute_result"
    }
   ],
   "source": [
    "res = linregress(x, y)\n",
    "res"
   ]
  },
  {
   "cell_type": "code",
   "execution_count": 151,
   "id": "c754e56c",
   "metadata": {},
   "outputs": [
    {
     "data": {
      "text/plain": [
       "[<matplotlib.lines.Line2D at 0x7f90c293df10>]"
      ]
     },
     "execution_count": 151,
     "metadata": {},
     "output_type": "execute_result"
    },
    {
     "data": {
      "image/png": "[encoded data removed]",
      "text/plain": [
       "<Figure size 432x288 with 1 Axes>"
      ]
     },
     "metadata": {
      "needs_background": "light"
     },
     "output_type": "display_data"
    }
   ],
   "source": [
    "plt.plot(x, y, '+')\n",
    "plt.plot(x, res.intercept + res.slope * x)"
   ]
  },
  {
   "cell_type": "markdown",
   "id": "f8fffa4e",
   "metadata": {},
   "source": [
    "### Curve fitting"
   ]
  },
  {
   "cell_type": "code",
   "execution_count": 152,
   "id": "e9e24003",
   "metadata": {},
   "outputs": [],
   "source": [
    "from scipy.optimize import curve_fit"
   ]
  },
  {
   "cell_type": "code",
   "execution_count": 153,
   "id": "4b4ed731",
   "metadata": {},
   "outputs": [],
   "source": [
    "# This is the function of curve we want to fit\n",
    "def f(t, omega, phi):\n",
    "    return np.cos(omega * t + phi)"
   ]
  },
  {
   "cell_type": "code",
   "execution_count": 154,
   "id": "d37c7bb0",
   "metadata": {},
   "outputs": [],
   "source": [
    "# Generate some artifical measurement data\n",
    "x = np.linspace(0, 3, 50)\n",
    "y = f(x, 1.5, 1) + .1*np.random.normal(size=50)"
   ]
  },
  {
   "cell_type": "code",
   "execution_count": 155,
   "id": "47c3220a",
   "metadata": {},
   "outputs": [],
   "source": [
    "# Do curve fitting\n",
    "popt, pcov = curve_fit(f, x, y)"
   ]
  },
  {
   "cell_type": "code",
   "execution_count": 157,
   "id": "73c298c3",
   "metadata": {},
   "outputs": [
    {
     "data": {
      "text/plain": [
       "array([1.52022486, 0.9774208 ])"
      ]
     },
     "execution_count": 157,
     "metadata": {},
     "output_type": "execute_result"
    }
   ],
   "source": [
    "popt"
   ]
  },
  {
   "cell_type": "code",
   "execution_count": 156,
   "id": "bb0f5ac7",
   "metadata": {},
   "outputs": [
    {
     "data": {
      "text/plain": [
       "[<matplotlib.lines.Line2D at 0x7f90e0a34ca0>]"
      ]
     },
     "execution_count": 156,
     "metadata": {},
     "output_type": "execute_result"
    },
    {
     "data": {
      "image/png": "[encoded data removed]",
      "text/plain": [
       "<Figure size 432x288 with 1 Axes>"
      ]
     },
     "metadata": {
      "needs_background": "light"
     },
     "output_type": "display_data"
    }
   ],
   "source": [
    "plt.plot(x, y, '+')\n",
    "plt.plot(x, f(x, *popt))"
   ]
  },
  {
   "attachments": {},
   "cell_type": "markdown",
   "id": "5529429b",
   "metadata": {},
   "source": [
    "### Exercises\n",
    "\n",
    "The total population of US from year 1790 to 1990 are\n",
    "```\n",
    "1990 248,709,873\n",
    "1980 226,545,805\n",
    "1970 203,211,926\n",
    "1960 179,323,175\n",
    "1950 150,697,361\n",
    "1940 131,669,275\n",
    "1930 122,775,046\n",
    "1920 105,710,620\n",
    "1910 91,972,266\n",
    "1900 75,994,575\n",
    "1890 62,947,714\n",
    "1880 50,155,783\n",
    "1870 38,558,371\n",
    "1860 31,443,321\n",
    "1850 23,191,876\n",
    "1840 17,063,353\n",
    "1830 12,860,702\n",
    "1820 9,638,453\n",
    "1810 7,239,881\n",
    "1800 5,308,483\n",
    "1790 3,929,214\n",
    "```\n",
    "\n",
    "Do the following fitting:\n",
    "\n",
    "1. Linear regression.\n",
    "2. Fitting with the function $f(t) = ae^{bt}$, where $a, b$ are coefficients to be found.\n",
    "3. Transform question 2 to a linear fitting problem and fit again."
   ]
  },
  {
   "cell_type": "markdown",
   "id": "6f4ee9a2",
   "metadata": {},
   "source": [
    "## Numerical integration\n",
    "\n",
    "Numerical integration is a way to integrate an definite integral numerically without knowing its antiderivative. It computes:\n",
    "\n",
    "$$\n",
    "    I = \\int_a^b f(x) dx\n",
    "$$\n",
    "\n",
    "The `scipy.integrate` sub-package provides several numerical integration techniques, such as trapezoid, Simpson,Romberg, Gaussian, etc.\n",
    "\n",
    "### 1D integral\n",
    "\n",
    "$$\n",
    "    E_n(x) = \\int_1^\\infty \\frac{e^{-xt}}{t^n} dt.\n",
    "$$"
   ]
  },
  {
   "cell_type": "code",
   "execution_count": 158,
   "id": "f95d58c8",
   "metadata": {},
   "outputs": [],
   "source": [
    "from scipy.integrate import quad"
   ]
  },
  {
   "cell_type": "code",
   "execution_count": 159,
   "id": "6d0d5957",
   "metadata": {},
   "outputs": [],
   "source": [
    "def f(t, n, x):\n",
    "    return np.exp(-x * t) / t**n"
   ]
  },
  {
   "cell_type": "code",
   "execution_count": 160,
   "id": "cceb7253",
   "metadata": {},
   "outputs": [
    {
     "data": {
      "text/plain": [
       "[<matplotlib.lines.Line2D at 0x7f90d0afcb80>]"
      ]
     },
     "execution_count": 160,
     "metadata": {},
     "output_type": "execute_result"
    },
    {
     "data": {
      "image/png": "[encoded data removed]",
      "text/plain": [
       "<Figure size 432x288 with 1 Axes>"
      ]
     },
     "metadata": {
      "needs_background": "light"
     },
     "output_type": "display_data"
    }
   ],
   "source": [
    "plt.plot(np.arange(1, 10, 0.01), f(np.arange(1, 10, 0.01), 3, 1.0))"
   ]
  },
  {
   "cell_type": "code",
   "execution_count": 161,
   "id": "e67fb466",
   "metadata": {},
   "outputs": [],
   "source": [
    "def expint(n, x):\n",
    "    return quad(f, 1, np.inf, args=(n, x))[0]"
   ]
  },
  {
   "cell_type": "code",
   "execution_count": 162,
   "id": "728e1306",
   "metadata": {},
   "outputs": [
    {
     "data": {
      "text/plain": [
       "[0.10969196719780967,\n",
       " 0.056739490167307574,\n",
       " 0.03013337979781598,\n",
       " 0.016295369376644612,\n",
       " 0.008930646543835897,\n",
       " 0.004945377349584634]"
      ]
     },
     "execution_count": 162,
     "metadata": {},
     "output_type": "execute_result"
    }
   ],
   "source": [
    "[expint(3, x) for x in np.arange(1.0, 4.0, 0.5)]"
   ]
  },
  {
   "cell_type": "code",
   "execution_count": 163,
   "id": "ebeae45d",
   "metadata": {},
   "outputs": [
    {
     "data": {
      "text/plain": [
       "array([0.10969197, 0.05673949, 0.03013338, 0.01629537, 0.00893065,\n",
       "       0.00494538])"
      ]
     },
     "execution_count": 163,
     "metadata": {},
     "output_type": "execute_result"
    }
   ],
   "source": [
    "from scipy.special import expn\n",
    "expn(3, np.arange(1.0, 4.0, 0.5))"
   ]
  },
  {
   "cell_type": "markdown",
   "id": "cc8908f3",
   "metadata": {},
   "source": [
    "### 2D integral\n",
    "\n",
    "$$\n",
    "    I_n = \\int_0^\\infty E_n(x) dx = \\int_0^\\infty\\int_1^\\infty \\frac{e^{-xt}}{t^n} dtdx = \\frac{1}{n}\n",
    "$$"
   ]
  },
  {
   "cell_type": "code",
   "execution_count": 164,
   "id": "e2bb8b03",
   "metadata": {},
   "outputs": [],
   "source": [
    "from scipy.integrate import dblquad"
   ]
  },
  {
   "cell_type": "code",
   "execution_count": 165,
   "id": "a0334495",
   "metadata": {},
   "outputs": [],
   "source": [
    "def I(n):\n",
    "    return dblquad(lambda t, x: np.exp(-x*t)/t**n, 0, np.inf, lambda x: 1, lambda x: np.inf)"
   ]
  },
  {
   "cell_type": "code",
   "execution_count": 166,
   "id": "dcaf41fd",
   "metadata": {},
   "outputs": [
    {
     "data": {
      "text/plain": [
       "(0.2500000000043577, 1.2983033469368098e-08)"
      ]
     },
     "execution_count": 166,
     "metadata": {},
     "output_type": "execute_result"
    }
   ],
   "source": [
    "I(4)"
   ]
  },
  {
   "cell_type": "code",
   "execution_count": 167,
   "id": "5215d1c6",
   "metadata": {},
   "outputs": [
    {
     "data": {
      "text/plain": [
       "(0.33333333325010883, 1.3888461883425516e-08)"
      ]
     },
     "execution_count": 167,
     "metadata": {},
     "output_type": "execute_result"
    }
   ],
   "source": [
    "I(3)"
   ]
  },
  {
   "cell_type": "code",
   "execution_count": 168,
   "id": "650b1fb0",
   "metadata": {},
   "outputs": [
    {
     "data": {
      "text/plain": [
       "(0.4999999999985751, 1.3894083651858995e-08)"
      ]
     },
     "execution_count": 168,
     "metadata": {},
     "output_type": "execute_result"
    }
   ],
   "source": [
    "I(2)"
   ]
  },
  {
   "cell_type": "markdown",
   "id": "5587ae2c",
   "metadata": {},
   "source": [
    "### Exercises\n",
    "\n",
    "Find the results of following integrals:\n",
    "\n",
    "1. $\\int_0^1 e^{\\sin(x)} dx$.\n",
    "2. $\\int_0^2 x^2e^{-2x} dx$.\n",
    "3. $\\int_0^1 x\\ln(1+x) dx$.\n",
    "4. $\\int_0^{\\pi/2}e^x\\cos(x) dx$.\n",
    "5. $\\int_0^1\\sqrt{1-x^2} dx$.\n",
    "6. $\\int_{y=0}^{1/2}\\int_{x=0}^{1-2y} xy dx dy$."
   ]
  },
  {
   "cell_type": "markdown",
   "id": "1ecb4445",
   "metadata": {},
   "source": [
    "## Ordinary differential equations\n",
    "\n",
    "SciPy provides a function `solve_ivp` to solve a first-order vector differential equation:\n",
    "\n",
    "$$\n",
    "    \\frac{d\\mathbf{u}}{dt} = \\mathbf{f}(\\mathbf{u}, t)\n",
    "$$\n",
    "\n",
    "given intial condition $\\mathbf{u} = \\mathbf{u}_0$. Higher order ordinary differential equations can always be reduced to differential equations of the type by introducing intermediate derivatives into the $\\mathbf{u}$ vector.\n",
    "\n",
    "### First order, one variable\n",
    "\n",
    "$$\n",
    "    \\frac{du}{dt} = ku - ru^2\n",
    "$$\n",
    "\n",
    "with $k=1.0$, $r=1.0$, and $u_0 = 2.0$. The exact solution is\n",
    "\n",
    "$$\n",
    "    u(t) = \\frac{k/r}{1 + \\left( \\frac{k}{ru_0} - 1 \\right)e^{-kt}}.\n",
    "$$"
   ]
  },
  {
   "cell_type": "code",
   "execution_count": 169,
   "id": "ef64678f",
   "metadata": {},
   "outputs": [],
   "source": [
    "from scipy.integrate import solve_ivp"
   ]
  },
  {
   "cell_type": "code",
   "execution_count": 170,
   "id": "2844346a",
   "metadata": {},
   "outputs": [],
   "source": [
    "def dudt(t, u, k, r):\n",
    "    return k*u - r * u**2\n",
    "\n",
    "def u_exact(t, k, r, u0):\n",
    "    a = k/r\n",
    "    return a / (1 + (a/u0 - 1)*np.exp(-k*t))"
   ]
  },
  {
   "cell_type": "code",
   "execution_count": 171,
   "id": "4981969c",
   "metadata": {},
   "outputs": [],
   "source": [
    "k, r, u0 = 1.0, 0.2, 0.8\n",
    "tmin, tmax = 0.0, 8.0\n",
    "sol = solve_ivp(dudt, [tmin, tmax], [u0], args=(k, r), dense_output=True)"
   ]
  },
  {
   "cell_type": "code",
   "execution_count": 174,
   "id": "26edb9ee",
   "metadata": {},
   "outputs": [
    {
     "data": {
      "text/plain": [
       "[<matplotlib.lines.Line2D at 0x7f9090b96e50>]"
      ]
     },
     "execution_count": 174,
     "metadata": {},
     "output_type": "execute_result"
    },
    {
     "data": {
      "image/png": "[encoded data removed]",
      "text/plain": [
       "<Figure size 432x288 with 1 Axes>"
      ]
     },
     "metadata": {
      "needs_background": "light"
     },
     "output_type": "display_data"
    }
   ],
   "source": [
    "t = np.arange(tmin, tmax, 0.01)\n",
    "plt.plot(t, [sol.sol(ti) for ti in t])\n",
    "plt.plot(t, u_exact(t, k, r, u0))"
   ]
  },
  {
   "cell_type": "markdown",
   "id": "17a0b7bd",
   "metadata": {},
   "source": [
    "### First order, multiple variables\n",
    "\n",
    "We use the famous Lotka-Volterra equations for the predator-prey model:\n",
    "\n",
    "$$\n",
    "\\begin{align}\n",
    "    \\frac{dx}{dt} &= ax - bxy \\\\\n",
    "    \\frac{dy}{dt} &= -cy + dxy\n",
    "\\end{align}\n",
    "$$"
   ]
  },
  {
   "cell_type": "code",
   "execution_count": 175,
   "id": "b471e5e3",
   "metadata": {},
   "outputs": [],
   "source": [
    "def lotka_volterra(t, u, a, b, c, d):\n",
    "    x, y = u\n",
    "    return [a*x - b*x*y, -c*y + d*x*y]"
   ]
  },
  {
   "cell_type": "code",
   "execution_count": 176,
   "id": "fbde0950",
   "metadata": {},
   "outputs": [],
   "source": [
    "a, b, c, d = 1.5, 1, 3, 1\n",
    "tmin, tmax = 0, 15\n",
    "u0 = [10, 5]\n",
    "sol = solve_ivp(lotka_volterra, [tmin, tmax], u0, args=(a, b, c, d), dense_output=True)"
   ]
  },
  {
   "cell_type": "code",
   "execution_count": 177,
   "id": "5e6b4d43",
   "metadata": {},
   "outputs": [
    {
     "data": {
      "text/plain": [
       "<matplotlib.legend.Legend at 0x7f90e0abfd60>"
      ]
     },
     "execution_count": 177,
     "metadata": {},
     "output_type": "execute_result"
    },
    {
     "data": {
      "image/png": "[encoded data removed]",
      "text/plain": [
       "<Figure size 432x288 with 1 Axes>"
      ]
     },
     "metadata": {
      "needs_background": "light"
     },
     "output_type": "display_data"
    }
   ],
   "source": [
    "t = np.linspace(tmin, tmax, 500)\n",
    "u = sol.sol(t)\n",
    "plt.plot(t, u.T)\n",
    "plt.xlabel('t')\n",
    "plt.legend(['x', 'y'])"
   ]
  },
  {
   "cell_type": "markdown",
   "id": "b5d59bcc",
   "metadata": {},
   "source": [
    "### Exercises\n",
    "\n",
    "1. Solve the following ODEs:\n",
    "\n",
    "(a) $ \\frac{du}{dt} = \\sin[(u+t)^2], t \\in [0,4]$ with $u(0) = -1$.  \n",
    "(b) $ \\frac{du}{dt} = -2tu, t \\in [0,2]$ with $u(0) = 2$.  \n",
    "(c) $ \\frac{du}{dt} = u + t, t \\in [0,1]$ with $u(0) = 2$.  \n",
    "(d) $ \\frac{du}{dt} = 2u(1-u), t \\in [0,2]$ with $u(0) = 1/2$.  \n",
    "(e) $ \\frac{du}{dt} = 2(1+t)(1+u^2), t \\in [0,0.5]$ with $u(0) = 0$.\n",
    "\n",
    "2. A disease that is endemic to a population can be modeled by tracking the fraction of the population that is susceptible to infection, $v(t)$, and the fraction that is infectious, $w(t)$. (The rest of the population is considered to be recovered and immune.) A simple example mdoel is\n",
    "\n",
    "$$\n",
    "\\begin{align}\n",
    "    \\frac{dv}{dt} &= 0.2(1-v) - 3vw \\\\\n",
    "    \\frac{dw}{dt} &= (3v-1)w\n",
    "\\end{align}\n",
    "$$\n",
    "\n",
    "Starting with $v(0) = 0.95$ and $w(0)=0.05$, find the long-term steady values of $v(t)$ and $w(t)$. Plot both components of the solution as a functions of time."
   ]
  }
 ],
 "metadata": {
  "kernelspec": {
   "display_name": "Python 3 (ipykernel)",
   "language": "python",
   "name": "python3"
  },
  "language_info": {
   "codemirror_mode": {
    "name": "ipython",
    "version": 3
   },
   "file_extension": ".py",
   "mimetype": "text/x-python",
   "name": "python",
   "nbconvert_exporter": "python",
   "pygments_lexer": "ipython3",
   "version": "3.9.12"
  },
  "toc": {
   "base_numbering": 1,
   "nav_menu": {},
   "number_sections": true,
   "sideBar": true,
   "skip_h1_title": true,
   "title_cell": "Table of Contents",
   "title_sidebar": "Scientific Computing in Python",
   "toc_cell": false,
   "toc_position": {},
   "toc_section_display": true,
   "toc_window_display": false
  },
  "vscode": {
   "interpreter": {
    "hash": "aee8b7b246df8f9039afb4144a1f6fd8d2ca17a180786b69acc140d282b71a49"
   }
  }
 },
 "nbformat": 4,
 "nbformat_minor": 5
}
